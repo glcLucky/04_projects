{
 "cells": [
  {
   "cell_type": "code",
   "execution_count": 1,
   "metadata": {},
   "outputs": [
    {
     "name": "stdout",
     "output_type": "stream",
     "text": [
      "Populating the interactive namespace from numpy and matplotlib\n"
     ]
    }
   ],
   "source": [
    "%pylab inline\n",
    "%load_ext autoreload\n",
    "%autoreload 2\n",
    "import pandas as pd\n",
    "import os\n",
    "import mysql.connector\n",
    "import devkit.api as dk"
   ]
  },
  {
   "cell_type": "code",
   "execution_count": 2,
   "metadata": {},
   "outputs": [
    {
     "data": {
      "text/plain": [
       "'E:\\\\04_project'"
      ]
     },
     "execution_count": 2,
     "metadata": {},
     "output_type": "execute_result"
    }
   ],
   "source": [
    "os.getcwd()"
   ]
  },
  {
   "cell_type": "code",
   "execution_count": 39,
   "metadata": {},
   "outputs": [
    {
     "name": "stdout",
     "output_type": "stream",
     "text": [
      "\u001b[32m[INFO] 2018-03-25 19:42:42 orders is connected.\u001b[0m\n",
      "  prod_id  vend_id     prod_name  prod_price  \\\n",
      "0   ANV01     1001  .5 ton anvil        5.99   \n",
      "1   ANV02     1001   1 ton anvil        9.99   \n",
      "2   ANV03     1001   2 ton anvil       14.99   \n",
      "3   DTNTR     1003     Detonator       13.00   \n",
      "4      FB     1003     Bird seed       10.00   \n",
      "\n",
      "                                           prod_desc  \n",
      "0      .5 ton anvil, black, complete with handy hook  \n",
      "1  1 ton anvil, black, complete with handy hook a...  \n",
      "2  2 ton anvil, black, complete with handy hook a...  \n",
      "3    Detonator (plunger powered), fuses not included  \n",
      "4              Large bag (suitable for road runners)  \n",
      "\u001b[32m[INFO] 2018-03-25 19:42:42 orders is disconnected.\u001b[0m\n"
     ]
    }
   ],
   "source": [
    "with dk.MySQLProxy() as proxy:\n",
    "    proxy.connect(user='root', password='123888', database='orders')\n",
    "    proxy.show_sample('products')"
   ]
  },
  {
   "cell_type": "code",
   "execution_count": 21,
   "metadata": {
    "collapsed": true
   },
   "outputs": [],
   "source": [
    "sql=dk.MySQLProxy()"
   ]
  },
  {
   "cell_type": "code",
   "execution_count": 22,
   "metadata": {},
   "outputs": [
    {
     "name": "stdout",
     "output_type": "stream",
     "text": [
      "\u001b[32m[INFO] 2018-03-25 19:28:03 orders is connected.\u001b[0m\n"
     ]
    }
   ],
   "source": [
    "sql.connect(user='root', password='123888', database='orders')"
   ]
  },
  {
   "cell_type": "code",
   "execution_count": 116,
   "metadata": {},
   "outputs": [
    {
     "name": "stdout",
     "output_type": "stream",
     "text": [
      "['mat', 'cat', 'hat']\n"
     ]
    }
   ],
   "source": [
    "import re\n",
    "key = r\"mat cat hat pat\"\n",
    "r1 = '[^a|p]at'\n",
    "pattern = re.compile(r1)\n",
    "print(pattern.findall(key))"
   ]
  },
  {
   "cell_type": "code",
   "execution_count": 269,
   "metadata": {},
   "outputs": [
    {
     "ename": "AttributeError",
     "evalue": "module 'copy' has no attribute 'hardcopy'",
     "output_type": "error",
     "traceback": [
      "\u001b[1;31m---------------------------------------------------------------------------\u001b[0m",
      "\u001b[1;31mAttributeError\u001b[0m                            Traceback (most recent call last)",
      "\u001b[1;32m<ipython-input-269-91b4127f188d>\u001b[0m in \u001b[0;36m<module>\u001b[1;34m()\u001b[0m\n\u001b[0;32m     19\u001b[0m         \u001b[0mprint\u001b[0m\u001b[1;33m(\u001b[0m\u001b[1;34m' '\u001b[0m\u001b[1;33m.\u001b[0m\u001b[0mjoin\u001b[0m\u001b[1;33m(\u001b[0m\u001b[0moutput\u001b[0m\u001b[1;33m)\u001b[0m\u001b[1;33m)\u001b[0m\u001b[1;33m\u001b[0m\u001b[0m\n\u001b[0;32m     20\u001b[0m \u001b[0minputs\u001b[0m\u001b[1;33m=\u001b[0m\u001b[1;33m[\u001b[0m\u001b[1;33m[\u001b[0m\u001b[1;36m5\u001b[0m\u001b[1;33m,\u001b[0m\u001b[1;36m9\u001b[0m\u001b[1;33m]\u001b[0m\u001b[1;33m,\u001b[0m\u001b[1;33m[\u001b[0m\u001b[1;34m'A'\u001b[0m\u001b[1;33m,\u001b[0m\u001b[1;34m'B'\u001b[0m\u001b[1;33m,\u001b[0m\u001b[1;34m'C'\u001b[0m\u001b[1;33m]\u001b[0m\u001b[1;33m,\u001b[0m\u001b[1;33m[\u001b[0m\u001b[1;34m'C'\u001b[0m\u001b[1;33m,\u001b[0m\u001b[1;34m'F'\u001b[0m\u001b[1;33m,\u001b[0m\u001b[1;34m'*'\u001b[0m\u001b[1;33m]\u001b[0m\u001b[1;33m,\u001b[0m\u001b[1;33m[\u001b[0m\u001b[1;34m'B'\u001b[0m\u001b[1;33m,\u001b[0m\u001b[1;34m'D'\u001b[0m\u001b[1;33m,\u001b[0m\u001b[1;34m'E'\u001b[0m\u001b[1;33m]\u001b[0m\u001b[1;33m,\u001b[0m\u001b[1;33m[\u001b[0m\u001b[1;34m'D'\u001b[0m\u001b[1;33m,\u001b[0m\u001b[1;34m'G'\u001b[0m\u001b[1;33m,\u001b[0m\u001b[1;34m'*'\u001b[0m\u001b[1;33m]\u001b[0m\u001b[1;33m,\u001b[0m\u001b[1;33m[\u001b[0m\u001b[1;34m'E'\u001b[0m\u001b[1;33m,\u001b[0m\u001b[1;34m'H'\u001b[0m\u001b[1;33m,\u001b[0m\u001b[1;34m'I'\u001b[0m\u001b[1;33m]\u001b[0m\u001b[1;33m]\u001b[0m\u001b[1;33m\u001b[0m\u001b[0m\n\u001b[1;32m---> 21\u001b[1;33m \u001b[0mtest\u001b[0m\u001b[1;33m(\u001b[0m\u001b[0minputs\u001b[0m\u001b[1;33m)\u001b[0m\u001b[1;33m\u001b[0m\u001b[0m\n\u001b[0m",
      "\u001b[1;32m<ipython-input-269-91b4127f188d>\u001b[0m in \u001b[0;36mtest\u001b[1;34m(inputs)\u001b[0m\n\u001b[0;32m      7\u001b[0m     \u001b[1;32mfor\u001b[0m \u001b[0mkey\u001b[0m\u001b[1;33m,\u001b[0m\u001b[0mvalue\u001b[0m \u001b[1;32min\u001b[0m \u001b[0mlst_old\u001b[0m\u001b[1;33m.\u001b[0m\u001b[0mitems\u001b[0m\u001b[1;33m(\u001b[0m\u001b[1;33m)\u001b[0m\u001b[1;33m:\u001b[0m\u001b[1;33m\u001b[0m\u001b[0m\n\u001b[0;32m      8\u001b[0m         \u001b[0mlst_old\u001b[0m\u001b[1;33m[\u001b[0m\u001b[0mkey\u001b[0m\u001b[1;33m]\u001b[0m \u001b[1;33m=\u001b[0m \u001b[1;33m[\u001b[0m\u001b[0mins\u001b[0m \u001b[1;32mfor\u001b[0m \u001b[0mins\u001b[0m \u001b[1;32min\u001b[0m \u001b[0mvalue\u001b[0m \u001b[1;32mif\u001b[0m \u001b[0mins\u001b[0m \u001b[1;33m!=\u001b[0m \u001b[1;34m'*'\u001b[0m\u001b[1;33m]\u001b[0m\u001b[1;33m\u001b[0m\u001b[0m\n\u001b[1;32m----> 9\u001b[1;33m     \u001b[0mlst_new\u001b[0m \u001b[1;33m=\u001b[0m \u001b[0mcopy\u001b[0m\u001b[1;33m.\u001b[0m\u001b[0mhardcopy\u001b[0m\u001b[1;33m(\u001b[0m\u001b[0mlst_old\u001b[0m\u001b[1;33m)\u001b[0m\u001b[1;33m\u001b[0m\u001b[0m\n\u001b[0m\u001b[0;32m     10\u001b[0m     \u001b[0mnames\u001b[0m \u001b[1;33m=\u001b[0m \u001b[1;33m[\u001b[0m\u001b[0mins\u001b[0m\u001b[1;33m[\u001b[0m\u001b[1;36m0\u001b[0m\u001b[1;33m]\u001b[0m \u001b[1;32mfor\u001b[0m \u001b[0mins\u001b[0m \u001b[1;32min\u001b[0m \u001b[0mlst_old\u001b[0m\u001b[1;33m]\u001b[0m\u001b[1;33m\u001b[0m\u001b[0m\n\u001b[0;32m     11\u001b[0m     \u001b[1;32mfor\u001b[0m \u001b[0mname\u001b[0m \u001b[1;32min\u001b[0m \u001b[0mnames\u001b[0m\u001b[1;33m:\u001b[0m\u001b[1;33m\u001b[0m\u001b[0m\n",
      "\u001b[1;31mAttributeError\u001b[0m: module 'copy' has no attribute 'hardcopy'"
     ]
    }
   ],
   "source": [
    "import copy\n",
    "def test(inputs):\n",
    "    m = inputs[0][0]\n",
    "    n = inputs[0][1]\n",
    "    lst_old = []\n",
    "    lst_old = {ins[0]: ins[1:] for ins in inputs[1:]}\n",
    "    for key,value in lst_old.items():\n",
    "        lst_old[key] = [ins for ins in value if ins != '*']\n",
    "    lst_new = copy.hardcopy(lst_old)\n",
    "    names = [ins[0] for ins in lst_old]\n",
    "    for name in names:\n",
    "        for i in lst_old[name]:\n",
    "            if i in names:\n",
    "                lst_new[name].extend(lst_new[i])\n",
    "    output = [key for key,value in lst_new.items() if len(value) >= n ]\n",
    "    if len(output) == 0:\n",
    "        print('None')\n",
    "    else:\n",
    "        print(' '.join(output))\n",
    "inputs=[[5,9],['A','B','C'],['C','F','*'],['B','D','E'],['D','G','*'],['E','H','I']]\n",
    "test(inputs)"
   ]
  },
  {
   "cell_type": "code",
   "execution_count": 306,
   "metadata": {},
   "outputs": [
    {
     "name": "stdout",
     "output_type": "stream",
     "text": [
      "3 9\n",
      "sum= 9 n= 9 k= 3\n",
      "sum= 0 n= 8 k= 2\n",
      "sum= 9 n= 8 k= 3\n",
      "sum= 1 n= 7 k= 2\n",
      "sum= -6 n= 6 k= 1\n",
      "sum= 1 n= 6 k= 2\n",
      "sum= -5 n= 5 k= 1\n",
      "sum= 1 n= 5 k= 2\n",
      "sum= -4 n= 4 k= 1\n",
      "sum= 1 n= 4 k= 2\n",
      "sum= -3 n= 3 k= 1\n",
      "sum= 1 n= 3 k= 2\n",
      "sum= -2 n= 2 k= 1\n",
      "sum= 1 n= 2 k= 2\n",
      "sum= -1 n= 1 k= 1\n",
      "sum= 1 n= 1 k= 2\n",
      "sum= 0 n= 0 k= 1\n",
      "sum= 1 n= 0 k= 2\n",
      "sum= 9 n= 7 k= 3\n",
      "sum= 2 n= 6 k= 2\n",
      "sum= -4 n= 5 k= 1\n",
      "sum= 2 n= 5 k= 2\n",
      "sum= -3 n= 4 k= 1\n",
      "sum= 2 n= 4 k= 2\n",
      "sum= -2 n= 3 k= 1\n",
      "sum= 2 n= 3 k= 2\n",
      "sum= -1 n= 2 k= 1\n",
      "sum= 2 n= 2 k= 2\n",
      "sum= 0 n= 1 k= 1\n",
      "sum= 2 n= 1 k= 2\n",
      "sum= 1 n= 0 k= 1\n",
      "sum= 2 n= 0 k= 2\n",
      "sum= 9 n= 6 k= 3\n",
      "sum= 3 n= 5 k= 2\n",
      "sum= -2 n= 4 k= 1\n",
      "sum= 3 n= 4 k= 2\n",
      "sum= -1 n= 3 k= 1\n",
      "sum= 3 n= 3 k= 2\n",
      "sum= 0 n= 2 k= 1\n",
      "sum= 3 n= 2 k= 2\n",
      "sum= 1 n= 1 k= 1\n",
      "1 6 2 \n",
      "sum= 0 n= 0 k= 0\n",
      "sum= 1 n= 0 k= 1\n",
      "sum= 3 n= 1 k= 2\n",
      "sum= 2 n= 0 k= 1\n",
      "sum= 3 n= 0 k= 2\n",
      "sum= 9 n= 5 k= 3\n",
      "sum= 4 n= 4 k= 2\n",
      "sum= 0 n= 3 k= 1\n",
      "sum= 4 n= 3 k= 2\n",
      "sum= 1 n= 2 k= 1\n",
      "sum= -1 n= 1 k= 0\n",
      "sum= 1 n= 1 k= 1\n",
      "1 5 3 \n",
      "sum= 0 n= 0 k= 0\n",
      "sum= 1 n= 0 k= 1\n",
      "sum= 4 n= 2 k= 2\n",
      "sum= 2 n= 1 k= 1\n",
      "sum= 1 n= 0 k= 0\n",
      "sum= 2 n= 0 k= 1\n",
      "sum= 4 n= 1 k= 2\n",
      "sum= 3 n= 0 k= 1\n",
      "sum= 4 n= 0 k= 2\n",
      "sum= 9 n= 4 k= 3\n",
      "sum= 5 n= 3 k= 2\n",
      "sum= 2 n= 2 k= 1\n",
      "2 4 3 \n",
      "sum= 0 n= 1 k= 0\n",
      "sum= 2 n= 1 k= 1\n",
      "sum= 1 n= 0 k= 0\n",
      "sum= 2 n= 0 k= 1\n",
      "sum= 5 n= 2 k= 2\n",
      "sum= 3 n= 1 k= 1\n",
      "sum= 2 n= 0 k= 0\n",
      "sum= 3 n= 0 k= 1\n",
      "sum= 5 n= 1 k= 2\n",
      "sum= 4 n= 0 k= 1\n",
      "sum= 5 n= 0 k= 2\n",
      "sum= 9 n= 3 k= 3\n",
      "sum= 6 n= 2 k= 2\n",
      "sum= 4 n= 1 k= 1\n",
      "sum= 3 n= 0 k= 0\n",
      "sum= 4 n= 0 k= 1\n",
      "sum= 6 n= 1 k= 2\n",
      "sum= 5 n= 0 k= 1\n",
      "sum= 6 n= 0 k= 2\n",
      "sum= 9 n= 2 k= 3\n",
      "sum= 7 n= 1 k= 2\n",
      "sum= 6 n= 0 k= 1\n",
      "sum= 7 n= 0 k= 2\n",
      "sum= 9 n= 1 k= 3\n",
      "sum= 8 n= 0 k= 2\n",
      "sum= 9 n= 0 k= 3\n"
     ]
    }
   ],
   "source": [
    "\n",
    "s = input().split(\" \")\n",
    "#s = \"3 15\".split(\" \")\n",
    "k = int(s[0])\n",
    "n = int(s[1])\n",
    "test = 1\n",
    "answer = []\n",
    "def sumOfNumber(sum,n,k):\n",
    "    print('sum=',sum,'n=',n,'k=',k)\n",
    "    if sum<=0 or n<=0 : \n",
    "        return # 找不到值或者已经找到\n",
    "    if sum==n and k == 1: # 找到了最后一个元素的情况\n",
    "        global test\n",
    "        test = 2\n",
    "        print(n,end=\" \") # 打印最后一个找到的元素\n",
    "        for i in answer:\n",
    "            print(i,end=\" \")  # 打印之前找到的因素\n",
    "        print()\n",
    "    answer.append(n) # 假设最大的编号为正确组合的一个元素\n",
    "    sumOfNumber(sum-n,n-1,k-1) # 寻找去掉最大元素的集合中能使和为sum-n\n",
    "    answer.remove(n) # 如果执行到这一步说明没有匹配到存在当前元素下可能的有效组合 故删除\n",
    "    sumOfNumber(sum,n-1,k)\n",
    "sumOfNumber(n,9,k) # sum是给定的数字之和 n是编号个数 k是人数\n",
    "if test == 1:\n",
    "    print('None')"
   ]
  },
  {
   "cell_type": "code",
   "execution_count": 233,
   "metadata": {
    "collapsed": true
   },
   "outputs": [],
   "source": [
    "inputs=[[5,4],['A','B','C'],['C','F','*'],['B','D','E'],['D','G','*'],['E','H','I']]"
   ]
  },
  {
   "cell_type": "code",
   "execution_count": 237,
   "metadata": {},
   "outputs": [],
   "source": [
    "lst_old = {ins[0]: ins[1:] for ins in inputs[1:]}"
   ]
  },
  {
   "cell_type": "code",
   "execution_count": 285,
   "metadata": {},
   "outputs": [
    {
     "data": {
      "text/plain": [
       "[3, 2, 1]"
      ]
     },
     "execution_count": 285,
     "metadata": {},
     "output_type": "execute_result"
    }
   ],
   "source": [
    "a=[1,2,3]\n",
    "a.reverse()\n",
    "a"
   ]
  },
  {
   "cell_type": "code",
   "execution_count": 229,
   "metadata": {},
   "outputs": [],
   "source": [
    "a[3]='www'"
   ]
  },
  {
   "cell_type": "code",
   "execution_count": 230,
   "metadata": {},
   "outputs": [
    {
     "data": {
      "text/plain": [
       "{1: 'd', 2: 'sw'}"
      ]
     },
     "execution_count": 230,
     "metadata": {},
     "output_type": "execute_result"
    }
   ],
   "source": [
    "b"
   ]
  },
  {
   "cell_type": "code",
   "execution_count": 69,
   "metadata": {},
   "outputs": [],
   "source": [
    "assert is_valid_email('someone@gmail.com')\n",
    "# assert is_valid_email('bill.gates@microsoft.com')\n",
    "# assert not is_valid_email('bob#example.com')\n",
    "# assert not is_valid_email('mr-bob@example.com')"
   ]
  },
  {
   "cell_type": "code",
   "execution_count": 99,
   "metadata": {},
   "outputs": [
    {
     "data": {
      "text/plain": [
       "('1239000', '')"
      ]
     },
     "execution_count": 99,
     "metadata": {},
     "output_type": "execute_result"
    }
   ],
   "source": [
    "re.match(r'(\\d+)(0*)$','1239000').groups()"
   ]
  },
  {
   "cell_type": "code",
   "execution_count": 97,
   "metadata": {},
   "outputs": [
    {
     "data": {
      "text/plain": [
       "('102300', '')"
      ]
     },
     "execution_count": 97,
     "metadata": {},
     "output_type": "execute_result"
    }
   ],
   "source": [
    "re.match(r'^(\\d+)(0*)$', '102300').groups()"
   ]
  },
  {
   "cell_type": "code",
   "execution_count": 102,
   "metadata": {},
   "outputs": [
    {
     "data": {
      "text/plain": [
       "('bil@1l.gaes', '@', 'microsoft.com')"
      ]
     },
     "execution_count": 102,
     "metadata": {},
     "output_type": "execute_result"
    }
   ],
   "source": [
    "is_valid_email('bil@1l.gaes@microsoft.com')"
   ]
  },
  {
   "cell_type": "code",
   "execution_count": 23,
   "metadata": {},
   "outputs": [
    {
     "name": "stdout",
     "output_type": "stream",
     "text": [
      "show tables;\n"
     ]
    },
    {
     "data": {
      "text/plain": [
       "[('customers',),\n",
       " ('orderitems',),\n",
       " ('orders',),\n",
       " ('productnotes',),\n",
       " ('products',),\n",
       " ('vendors',)]"
      ]
     },
     "execution_count": 23,
     "metadata": {},
     "output_type": "execute_result"
    }
   ],
   "source": [
    "sql.execute(\"show tables;\")"
   ]
  },
  {
   "cell_type": "code",
   "execution_count": 20,
   "metadata": {},
   "outputs": [
    {
     "data": {
      "text/plain": [
       "[('customers',),\n",
       " ('orderitems',),\n",
       " ('orders',),\n",
       " ('productnotes',),\n",
       " ('products',),\n",
       " ('vendors',)]"
      ]
     },
     "execution_count": 20,
     "metadata": {},
     "output_type": "execute_result"
    }
   ],
   "source": [
    "a"
   ]
  },
  {
   "cell_type": "code",
   "execution_count": null,
   "metadata": {
    "collapsed": true
   },
   "outputs": [],
   "source": []
  },
  {
   "cell_type": "code",
   "execution_count": 26,
   "metadata": {},
   "outputs": [],
   "source": [
    "b=a.execute(\"show tables;\")"
   ]
  },
  {
   "cell_type": "code",
   "execution_count": 27,
   "metadata": {},
   "outputs": [
    {
     "ename": "AttributeError",
     "evalue": "'NoneType' object has no attribute 'fetchall'",
     "output_type": "error",
     "traceback": [
      "\u001b[1;31m---------------------------------------------------------------------------\u001b[0m",
      "\u001b[1;31mAttributeError\u001b[0m                            Traceback (most recent call last)",
      "\u001b[1;32m<ipython-input-27-9126dd33abf2>\u001b[0m in \u001b[0;36m<module>\u001b[1;34m()\u001b[0m\n\u001b[1;32m----> 1\u001b[1;33m \u001b[0mb\u001b[0m\u001b[1;33m.\u001b[0m\u001b[0mfetchall\u001b[0m\u001b[1;33m(\u001b[0m\u001b[1;33m)\u001b[0m\u001b[1;33m\u001b[0m\u001b[0m\n\u001b[0m",
      "\u001b[1;31mAttributeError\u001b[0m: 'NoneType' object has no attribute 'fetchall'"
     ]
    }
   ],
   "source": [
    "b.fetchall()"
   ]
  },
  {
   "cell_type": "code",
   "execution_count": 7,
   "metadata": {},
   "outputs": [
    {
     "data": {
      "text/plain": [
       "[('customers',),\n",
       " ('orderitems',),\n",
       " ('orders',),\n",
       " ('productnotes',),\n",
       " ('products',),\n",
       " ('vendors',)]"
      ]
     },
     "execution_count": 7,
     "metadata": {},
     "output_type": "execute_result"
    }
   ],
   "source": [
    "sql.cursor.fetchall()"
   ]
  },
  {
   "cell_type": "code",
   "execution_count": 7,
   "metadata": {},
   "outputs": [],
   "source": [
    "conn = mysql.connector.connect(user='root', password='123888', database='orders')"
   ]
  },
  {
   "cell_type": "code",
   "execution_count": 8,
   "metadata": {
    "collapsed": true
   },
   "outputs": [],
   "source": [
    "cursor=conn.cursor()"
   ]
  },
  {
   "cell_type": "code",
   "execution_count": 35,
   "metadata": {},
   "outputs": [
    {
     "ename": "AttributeError",
     "evalue": "'MySQLCursor' object has no attribute 'commit'",
     "output_type": "error",
     "traceback": [
      "\u001b[1;31m---------------------------------------------------------------------------\u001b[0m",
      "\u001b[1;31mAttributeError\u001b[0m                            Traceback (most recent call last)",
      "\u001b[1;32m<ipython-input-35-62435a20824e>\u001b[0m in \u001b[0;36m<module>\u001b[1;34m()\u001b[0m\n\u001b[1;32m----> 1\u001b[1;33m \u001b[0mcursor\u001b[0m\u001b[1;33m.\u001b[0m\u001b[0mcommit\u001b[0m\u001b[1;33m(\u001b[0m\u001b[1;33m)\u001b[0m\u001b[1;33m\u001b[0m\u001b[0m\n\u001b[0m",
      "\u001b[1;31mAttributeError\u001b[0m: 'MySQLCursor' object has no attribute 'commit'"
     ]
    }
   ],
   "source": [
    "cursor.commit()"
   ]
  },
  {
   "cell_type": "code",
   "execution_count": 38,
   "metadata": {},
   "outputs": [],
   "source": [
    "def test():\n",
    "    conn = mysql.connector.connect(user='root', password='123888', database='orders')\n",
    "    cursor=conn.cursor()\n",
    "    cursor.execute(\"select * from products\")\n",
    "    print(cursor.fetchall())"
   ]
  },
  {
   "cell_type": "code",
   "execution_count": 39,
   "metadata": {},
   "outputs": [
    {
     "name": "stdout",
     "output_type": "stream",
     "text": [
      "[('ANV01', 1001, '.5 ton anvil', Decimal('5.99'), '.5 ton anvil, black, complete with handy hook'), ('ANV02', 1001, '1 ton anvil', Decimal('9.99'), '1 ton anvil, black, complete with handy hook and carrying case'), ('ANV03', 1001, '2 ton anvil', Decimal('14.99'), '2 ton anvil, black, complete with handy hook and carrying case'), ('DTNTR', 1003, 'Detonator', Decimal('13.00'), 'Detonator (plunger powered), fuses not included'), ('FB', 1003, 'Bird seed', Decimal('10.00'), 'Large bag (suitable for road runners)'), ('FC', 1003, 'Carrots', Decimal('2.50'), 'Carrots (rabbit hunting season only)'), ('FU1', 1002, 'Fuses', Decimal('3.42'), '1 dozen, extra long'), ('JP1000', 1005, 'JetPack 1000', Decimal('35.00'), 'JetPack 1000, intended for single use'), ('JP2000', 1005, 'JetPack 2000', Decimal('55.00'), 'JetPack 2000, multi-use'), ('OL1', 1002, 'Oil can', Decimal('8.99'), 'Oil can, red'), ('SAFE', 1003, 'Safe', Decimal('50.00'), 'Safe with combination lock'), ('SLING', 1003, 'Sling', Decimal('4.49'), 'Sling, one size fits all'), ('TNT1', 1003, 'TNT (1 stick)', Decimal('2.50'), 'TNT, red, single stick'), ('TNT2', 1003, 'TNT (5 sticks)', Decimal('10.00'), 'TNT, red, pack of 10 sticks')]\n"
     ]
    }
   ],
   "source": [
    "test()"
   ]
  },
  {
   "cell_type": "code",
   "execution_count": 68,
   "metadata": {},
   "outputs": [
    {
     "ename": "AssertionError",
     "evalue": "6 columns passed, passed data had 1 columns",
     "output_type": "error",
     "traceback": [
      "\u001b[1;31m---------------------------------------------------------------------------\u001b[0m",
      "\u001b[1;31mAssertionError\u001b[0m                            Traceback (most recent call last)",
      "\u001b[1;32m<ipython-input-68-016caed94740>\u001b[0m in \u001b[0;36m<module>\u001b[1;34m()\u001b[0m\n\u001b[1;32m----> 1\u001b[1;33m \u001b[0mpd\u001b[0m\u001b[1;33m.\u001b[0m\u001b[0mDataFrame\u001b[0m\u001b[1;33m(\u001b[0m\u001b[0ma\u001b[0m\u001b[1;33m,\u001b[0m\u001b[0mcolumns\u001b[0m\u001b[1;33m=\u001b[0m\u001b[1;33m[\u001b[0m\u001b[1;34m'var_name'\u001b[0m\u001b[1;33m,\u001b[0m \u001b[1;34m'type'\u001b[0m\u001b[1;33m,\u001b[0m \u001b[1;34m'Null'\u001b[0m\u001b[1;33m,\u001b[0m \u001b[1;34m'Key'\u001b[0m\u001b[1;33m,\u001b[0m \u001b[1;34m'Default'\u001b[0m\u001b[1;33m,\u001b[0m \u001b[1;34m'Extra'\u001b[0m\u001b[1;33m]\u001b[0m\u001b[1;33m)\u001b[0m\u001b[1;33m.\u001b[0m\u001b[0mset_index\u001b[0m\u001b[1;33m(\u001b[0m\u001b[1;33m[\u001b[0m\u001b[1;34m'var_name'\u001b[0m\u001b[1;33m]\u001b[0m\u001b[1;33m)\u001b[0m\u001b[1;33m\u001b[0m\u001b[0m\n\u001b[0m",
      "\u001b[1;32mE:\\06_software\\Anoconda\\lib\\site-packages\\pandas\\core\\frame.py\u001b[0m in \u001b[0;36m__init__\u001b[1;34m(self, data, index, columns, dtype, copy)\u001b[0m\n\u001b[0;32m    312\u001b[0m                     \u001b[1;32mif\u001b[0m \u001b[0mis_named_tuple\u001b[0m\u001b[1;33m(\u001b[0m\u001b[0mdata\u001b[0m\u001b[1;33m[\u001b[0m\u001b[1;36m0\u001b[0m\u001b[1;33m]\u001b[0m\u001b[1;33m)\u001b[0m \u001b[1;32mand\u001b[0m \u001b[0mcolumns\u001b[0m \u001b[1;32mis\u001b[0m \u001b[1;32mNone\u001b[0m\u001b[1;33m:\u001b[0m\u001b[1;33m\u001b[0m\u001b[0m\n\u001b[0;32m    313\u001b[0m                         \u001b[0mcolumns\u001b[0m \u001b[1;33m=\u001b[0m \u001b[0mdata\u001b[0m\u001b[1;33m[\u001b[0m\u001b[1;36m0\u001b[0m\u001b[1;33m]\u001b[0m\u001b[1;33m.\u001b[0m\u001b[0m_fields\u001b[0m\u001b[1;33m\u001b[0m\u001b[0m\n\u001b[1;32m--> 314\u001b[1;33m                     \u001b[0marrays\u001b[0m\u001b[1;33m,\u001b[0m \u001b[0mcolumns\u001b[0m \u001b[1;33m=\u001b[0m \u001b[0m_to_arrays\u001b[0m\u001b[1;33m(\u001b[0m\u001b[0mdata\u001b[0m\u001b[1;33m,\u001b[0m \u001b[0mcolumns\u001b[0m\u001b[1;33m,\u001b[0m \u001b[0mdtype\u001b[0m\u001b[1;33m=\u001b[0m\u001b[0mdtype\u001b[0m\u001b[1;33m)\u001b[0m\u001b[1;33m\u001b[0m\u001b[0m\n\u001b[0m\u001b[0;32m    315\u001b[0m                     \u001b[0mcolumns\u001b[0m \u001b[1;33m=\u001b[0m \u001b[0m_ensure_index\u001b[0m\u001b[1;33m(\u001b[0m\u001b[0mcolumns\u001b[0m\u001b[1;33m)\u001b[0m\u001b[1;33m\u001b[0m\u001b[0m\n\u001b[0;32m    316\u001b[0m \u001b[1;33m\u001b[0m\u001b[0m\n",
      "\u001b[1;32mE:\\06_software\\Anoconda\\lib\\site-packages\\pandas\\core\\frame.py\u001b[0m in \u001b[0;36m_to_arrays\u001b[1;34m(data, columns, coerce_float, dtype)\u001b[0m\n\u001b[0;32m   5615\u001b[0m     \u001b[1;32mif\u001b[0m \u001b[0misinstance\u001b[0m\u001b[1;33m(\u001b[0m\u001b[0mdata\u001b[0m\u001b[1;33m[\u001b[0m\u001b[1;36m0\u001b[0m\u001b[1;33m]\u001b[0m\u001b[1;33m,\u001b[0m \u001b[1;33m(\u001b[0m\u001b[0mlist\u001b[0m\u001b[1;33m,\u001b[0m \u001b[0mtuple\u001b[0m\u001b[1;33m)\u001b[0m\u001b[1;33m)\u001b[0m\u001b[1;33m:\u001b[0m\u001b[1;33m\u001b[0m\u001b[0m\n\u001b[0;32m   5616\u001b[0m         return _list_to_arrays(data, columns, coerce_float=coerce_float,\n\u001b[1;32m-> 5617\u001b[1;33m                                dtype=dtype)\n\u001b[0m\u001b[0;32m   5618\u001b[0m     \u001b[1;32melif\u001b[0m \u001b[0misinstance\u001b[0m\u001b[1;33m(\u001b[0m\u001b[0mdata\u001b[0m\u001b[1;33m[\u001b[0m\u001b[1;36m0\u001b[0m\u001b[1;33m]\u001b[0m\u001b[1;33m,\u001b[0m \u001b[0mcollections\u001b[0m\u001b[1;33m.\u001b[0m\u001b[0mMapping\u001b[0m\u001b[1;33m)\u001b[0m\u001b[1;33m:\u001b[0m\u001b[1;33m\u001b[0m\u001b[0m\n\u001b[0;32m   5619\u001b[0m         return _list_of_dict_to_arrays(data, columns,\n",
      "\u001b[1;32mE:\\06_software\\Anoconda\\lib\\site-packages\\pandas\\core\\frame.py\u001b[0m in \u001b[0;36m_list_to_arrays\u001b[1;34m(data, columns, coerce_float, dtype)\u001b[0m\n\u001b[0;32m   5694\u001b[0m         \u001b[0mcontent\u001b[0m \u001b[1;33m=\u001b[0m \u001b[0mlist\u001b[0m\u001b[1;33m(\u001b[0m\u001b[0mlib\u001b[0m\u001b[1;33m.\u001b[0m\u001b[0mto_object_array\u001b[0m\u001b[1;33m(\u001b[0m\u001b[0mdata\u001b[0m\u001b[1;33m)\u001b[0m\u001b[1;33m.\u001b[0m\u001b[0mT\u001b[0m\u001b[1;33m)\u001b[0m\u001b[1;33m\u001b[0m\u001b[0m\n\u001b[0;32m   5695\u001b[0m     return _convert_object_array(content, columns, dtype=dtype,\n\u001b[1;32m-> 5696\u001b[1;33m                                  coerce_float=coerce_float)\n\u001b[0m\u001b[0;32m   5697\u001b[0m \u001b[1;33m\u001b[0m\u001b[0m\n\u001b[0;32m   5698\u001b[0m \u001b[1;33m\u001b[0m\u001b[0m\n",
      "\u001b[1;32mE:\\06_software\\Anoconda\\lib\\site-packages\\pandas\\core\\frame.py\u001b[0m in \u001b[0;36m_convert_object_array\u001b[1;34m(content, columns, coerce_float, dtype)\u001b[0m\n\u001b[0;32m   5753\u001b[0m             \u001b[1;31m# caller's responsibility to check for this...\u001b[0m\u001b[1;33m\u001b[0m\u001b[1;33m\u001b[0m\u001b[0m\n\u001b[0;32m   5754\u001b[0m             raise AssertionError('%d columns passed, passed data had %s '\n\u001b[1;32m-> 5755\u001b[1;33m                                  'columns' % (len(columns), len(content)))\n\u001b[0m\u001b[0;32m   5756\u001b[0m \u001b[1;33m\u001b[0m\u001b[0m\n\u001b[0;32m   5757\u001b[0m     \u001b[1;31m# provide soft conversion of object dtypes\u001b[0m\u001b[1;33m\u001b[0m\u001b[1;33m\u001b[0m\u001b[0m\n",
      "\u001b[1;31mAssertionError\u001b[0m: 6 columns passed, passed data had 1 columns"
     ]
    }
   ],
   "source": [
    "pd.DataFrame(a,columns=['var_name', 'type', 'Null', 'Key', 'Default', 'Extra']).set_index(['var_name'])"
   ]
  },
  {
   "cell_type": "code",
   "execution_count": 26,
   "metadata": {},
   "outputs": [],
   "source": [
    "fields = [a[i][0] for i in range(len(a))]"
   ]
  },
  {
   "cell_type": "code",
   "execution_count": 34,
   "metadata": {},
   "outputs": [
    {
     "data": {
      "text/plain": [
       "['prod_id', 'vend_id', 'prod_name', 'prod_price', 'prod_desc']"
      ]
     },
     "execution_count": 34,
     "metadata": {},
     "output_type": "execute_result"
    }
   ],
   "source": [
    "[entry[0] for entry in cursor.fetchall()]"
   ]
  },
  {
   "cell_type": "code",
   "execution_count": 6,
   "metadata": {
    "collapsed": true
   },
   "outputs": [],
   "source": [
    "df = pd.DataFrame({'代码':['600000.SH','600001.SH'],'名称':['浦发银行','中国银行'],'价格':[10,20],'成交量':[10000,20000]})\n",
    "df = df.reindex(columns=['代码','名称','价格','成交量'])"
   ]
  },
  {
   "cell_type": "code",
   "execution_count": 9,
   "metadata": {
    "collapsed": true
   },
   "outputs": [],
   "source": [
    "df.to_excel(r\"C:\\Users\\youlin\\Desktop\\df.xls\")"
   ]
  },
  {
   "cell_type": "code",
   "execution_count": 7,
   "metadata": {},
   "outputs": [
    {
     "data": {
      "text/html": [
       "<div>\n",
       "<style>\n",
       "    .dataframe thead tr:only-child th {\n",
       "        text-align: right;\n",
       "    }\n",
       "\n",
       "    .dataframe thead th {\n",
       "        text-align: left;\n",
       "    }\n",
       "\n",
       "    .dataframe tbody tr th {\n",
       "        vertical-align: top;\n",
       "    }\n",
       "</style>\n",
       "<table border=\"1\" class=\"dataframe\">\n",
       "  <thead>\n",
       "    <tr style=\"text-align: right;\">\n",
       "      <th></th>\n",
       "      <th>代码</th>\n",
       "      <th>名称</th>\n",
       "      <th>价格</th>\n",
       "      <th>成交量</th>\n",
       "    </tr>\n",
       "  </thead>\n",
       "  <tbody>\n",
       "    <tr>\n",
       "      <th>0</th>\n",
       "      <td>600000.SH</td>\n",
       "      <td>浦发银行</td>\n",
       "      <td>10</td>\n",
       "      <td>10000</td>\n",
       "    </tr>\n",
       "    <tr>\n",
       "      <th>1</th>\n",
       "      <td>600001.SH</td>\n",
       "      <td>中国银行</td>\n",
       "      <td>20</td>\n",
       "      <td>20000</td>\n",
       "    </tr>\n",
       "  </tbody>\n",
       "</table>\n",
       "</div>"
      ],
      "text/plain": [
       "          代码    名称  价格    成交量\n",
       "0  600000.SH  浦发银行  10  10000\n",
       "1  600001.SH  中国银行  20  20000"
      ]
     },
     "execution_count": 7,
     "metadata": {},
     "output_type": "execute_result"
    }
   ],
   "source": [
    "df"
   ]
  },
  {
   "cell_type": "code",
   "execution_count": null,
   "metadata": {
    "collapsed": true
   },
   "outputs": [],
   "source": []
  }
 ],
 "metadata": {
  "kernelspec": {
   "display_name": "Python 3",
   "language": "python",
   "name": "python3"
  },
  "language_info": {
   "codemirror_mode": {
    "name": "ipython",
    "version": 3
   },
   "file_extension": ".py",
   "mimetype": "text/x-python",
   "name": "python",
   "nbconvert_exporter": "python",
   "pygments_lexer": "ipython3",
   "version": "3.6.3"
  },
  "toc": {
   "nav_menu": {},
   "number_sections": true,
   "sideBar": true,
   "skip_h1_title": false,
   "title_cell": "Table of Contents",
   "title_sidebar": "Contents",
   "toc_cell": false,
   "toc_position": {},
   "toc_section_display": true,
   "toc_window_display": false
  }
 },
 "nbformat": 4,
 "nbformat_minor": 2
}
