{
 "cells": [
  {
   "cell_type": "code",
   "execution_count": null,
   "metadata": {
    "collapsed": true
   },
   "outputs": [],
   "source": [
    "import pandas as pd\n",
    "import datetime"
   ]
  },
  {
   "cell_type": "markdown",
   "metadata": {},
   "source": [
    "# 问题1：求7744平方根"
   ]
  },
  {
   "cell_type": "code",
   "execution_count": 2,
   "metadata": {},
   "outputs": [
    {
     "data": {
      "text/plain": [
       "88.0"
      ]
     },
     "execution_count": 2,
     "metadata": {},
     "output_type": "execute_result"
    }
   ],
   "source": [
    "def sqrt_solve(num, precision=0.000001):\n",
    "    \"\"\"\n",
    "    利用牛顿迭代法计算一个数的平方根\n",
    "    @num <numeric> : 被计算的数字\n",
    "    @precision <float> : 用正小数表示的精确度 默认为0.000001\n",
    "    \"\"\"\n",
    "    init0 = 2\n",
    "    init1 = (init0 + num / init0) / 2\n",
    "    while (abs(init1 - init0) > precision):\n",
    "        init1, init0 = (init1 + num / init1) / 2, init1\n",
    "    return init1\n",
    "\n",
    "\n",
    "sqrt_solve(7744)"
   ]
  },
  {
   "cell_type": "markdown",
   "metadata": {},
   "source": [
    "# 问题2：求sharp ratio"
   ]
  },
  {
   "cell_type": "code",
   "execution_count": 3,
   "metadata": {},
   "outputs": [
    {
     "name": "stdout",
     "output_type": "stream",
     "text": [
      "sharp ratio = : 1.8412104691886246\n"
     ]
    }
   ],
   "source": [
    "df = pd.read_csv(r\"C:\\Users\\youlin\\Desktop\\sharp ratio dataset.csv\", index_col=0).rename(columns={'0':'ret'})\n",
    "sharp_ratio = df['ret'].mean()/df['ret'].std()\n",
    "print(\"sharp ratio = :\", sharp_ratio)"
   ]
  },
  {
   "cell_type": "markdown",
   "metadata": {},
   "source": [
    "# 问题3 处理close"
   ]
  },
  {
   "cell_type": "code",
   "execution_count": 4,
   "metadata": {},
   "outputs": [
    {
     "name": "stdout",
     "output_type": "stream",
     "text": [
      "Q1 close: {'01-13': 7.31, '01-14': 7.28, '01-15': 7.4, '01-16': 7.43, '01-17': 7.41}\n",
      "Q2 添加01-21号的值后的close: {'01-13': 7.31, '01-14': 7.28, '01-15': 7.4, '01-16': 7.43, '01-17': 7.41, '01-21': 7.44}\n",
      "Q3 现在是01-21, 4天前的价格为: 7.41\n",
      "Q4 修改01-16价格后的close: {'01-13': 7.31, '01-14': 7.28, '01-15': 7.4, '01-16': 7.5, '01-17': 7.41, '01-21': 7.44}\n"
     ]
    }
   ],
   "source": [
    "# Q1\n",
    "close = {'01-13': 7.31, '01-14': 7.28,\n",
    "         '01-15': 7.40, '01-16': 7.43, '01-17': 7.41}\n",
    "print(\"Q1 close:\", close)\n",
    "# Q2\n",
    "close['01-21'] = 7.44\n",
    "print(\"Q2 添加01-21号的值后的close:\", close)\n",
    "# Q3\n",
    "\n",
    "\n",
    "def get_price_before_days(date, days):\n",
    "    \"\"\"\n",
    "    获取指定间隔之前的股票价格\n",
    "    @date <%m-%d>: 给定日期\n",
    "    @days <int>: 给定天数间隔\n",
    "    \"\"\"\n",
    "    delta = datetime.timedelta(days=days)\n",
    "    date = datetime.datetime.strptime(date, '%m-%d')\n",
    "    date_before_days = datetime.datetime.strftime(date - delta, \"%m-%d\")\n",
    "    return close[date_before_days]\n",
    "\n",
    "date_before_4_days = get_price_before_days(date='01-21', days=4)\n",
    "print(\"Q3 现在是01-21, 4天前的价格为:\", date_before_4_days)\n",
    "# Q4\n",
    "new = {'01-16': 7.5}\n",
    "close.update(new)\n",
    "print(\"Q4 修改01-16价格后的close:\", close)"
   ]
  },
  {
   "cell_type": "markdown",
   "metadata": {},
   "source": [
    "# 问题4 计算一个策略的每天持仓数"
   ]
  },
  {
   "cell_type": "code",
   "execution_count": 5,
   "metadata": {
    "collapsed": true
   },
   "outputs": [],
   "source": [
    "class Strategy():\n",
    "\n",
    "    def __init__(self, capital, delta):\n",
    "        \"\"\"\n",
    "        @capital <numeric>: 资金量\n",
    "        @delta <int>: 天数间隔\n",
    "        \"\"\"\n",
    "        self.vol_records = {}\n",
    "        self.capital = capital\n",
    "        self.delta = delta\n",
    "\n",
    "    def get_date_before_days(self, date):\n",
    "        \"\"\"\n",
    "        获取指顶间隔之前的日期\n",
    "        @date <%m-%d>: 给定日期\n",
    "        \"\"\"\n",
    "\n",
    "        delta = datetime.timedelta(days=self.delta)\n",
    "        date = datetime.datetime.strptime(date, '%m-%d')\n",
    "        date_before_days = datetime.datetime.strftime(date - delta, \"%m-%d\")\n",
    "        return date_before_days\n",
    "\n",
    "    def get_nearest_date(self, date_list, date):\n",
    "        \"\"\"\n",
    "        获取给定日期列表中距离给定date日期最近的日期\n",
    "        :param date_list: <str> 给定日期列表\n",
    "        :param date: <%Y-%m-%d> 给定日期名称\n",
    "        :return: last_day <%m-%d>\n",
    "        \"\"\"\n",
    "\n",
    "        date_list = sorted(date_list)\n",
    "\n",
    "        i = -1\n",
    "\n",
    "        for i, d in enumerate(date_list):\n",
    "            if d >= date:\n",
    "                break\n",
    "        if i > 0:\n",
    "            last_day = date_list[i - 1]\n",
    "        else:\n",
    "            last_day = \"\"\n",
    "\n",
    "        return last_day\n",
    "\n",
    "    def signal(self, date_now):\n",
    "        \"\"\"\n",
    "        根据给定的日期计算当前买入信号\n",
    "        @date_now <%m-%d>: 当前给定日期\n",
    "        \"\"\"\n",
    "        date_pre = self.get_date_before_days(date_now)\n",
    "        if date_now not in close:\n",
    "            date_now = self.get_nearest_date(list(close.keys()), date_now)\n",
    "        if date_pre not in close:\n",
    "            date_pre = self.get_nearest_date(list(close.keys()), date_pre)\n",
    "        close_now = close[date_now]\n",
    "        close_pre = close[date_pre]\n",
    "        if close_now > close_pre:\n",
    "            signal = 1\n",
    "        else:\n",
    "            signal = 0\n",
    "        return signal\n"
   ]
  },
  {
   "cell_type": "code",
   "execution_count": 6,
   "metadata": {},
   "outputs": [
    {
     "name": "stdout",
     "output_type": "stream",
     "text": [
      "每天股票的数量: {'01-15': 675.6756756756756, '01-16': 333.3333333333333, '01-21': 168.01075268817203}\n"
     ]
    }
   ],
   "source": [
    "strategy = Strategy(capital=10000, delta=1)\n",
    "for date in  sorted(list(close.keys()))[1:]:\n",
    "    sign = strategy.signal(date_now=date)\n",
    "    if sign == 1:\n",
    "        num_buy = int(strategy.capital * 0.5 / )\n",
    "        \n",
    "        strategy.vol_records[date] = strategy.capital * 0.5 / close[date]\n",
    "        strategy.capital -= strategy.capital * 0.5\n",
    "        \n",
    "        \n",
    "print(\"每天股票的数量:\",strategy.vol_records )"
   ]
  },
  {
   "cell_type": "code",
   "execution_count": null,
   "metadata": {
    "collapsed": true
   },
   "outputs": [],
   "source": []
  }
 ],
 "metadata": {
  "kernelspec": {
   "display_name": "Python 3",
   "language": "python",
   "name": "python3"
  },
  "language_info": {
   "codemirror_mode": {
    "name": "ipython",
    "version": 3
   },
   "file_extension": ".py",
   "mimetype": "text/x-python",
   "name": "python",
   "nbconvert_exporter": "python",
   "pygments_lexer": "ipython3",
   "version": "3.6.3"
  },
  "toc": {
   "nav_menu": {},
   "number_sections": true,
   "sideBar": true,
   "skip_h1_title": false,
   "title_cell": "Table of Contents",
   "title_sidebar": "Contents",
   "toc_cell": false,
   "toc_position": {},
   "toc_section_display": true,
   "toc_window_display": false
  }
 },
 "nbformat": 4,
 "nbformat_minor": 2
}
