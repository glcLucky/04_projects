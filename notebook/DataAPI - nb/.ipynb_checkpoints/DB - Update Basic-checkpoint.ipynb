{
 "cells": [
  {
   "cell_type": "code",
   "execution_count": 1,
   "metadata": {
    "scrolled": false
   },
   "outputs": [
    {
     "name": "stdout",
     "output_type": "stream",
     "text": [
      "Populating the interactive namespace from numpy and matplotlib\n"
     ]
    }
   ],
   "source": [
    "%pylab inline\n",
    "%load_ext autoreload\n",
    "%autoreload 2\n",
    "\n",
    "import os   \n",
    "import numpy as np\n",
    "import pandas as pd\n",
    "\n",
    "import devkit.api as dk\n",
    "from finkit import api as fk\n",
    "import DataAPI \n",
    "import WindAPI"
   ]
  },
  {
   "cell_type": "markdown",
   "metadata": {},
   "source": [
    "---\n",
    "\n",
    "# 数据库架构"
   ]
  },
  {
   "cell_type": "code",
   "execution_count": 2,
   "metadata": {},
   "outputs": [
    {
     "name": "stdout",
     "output_type": "stream",
     "text": [
      "数据库 [index_contents] 架构信息：\n",
      "\n",
      "子数据库 [000016.SH]\n",
      "    说明：上证50成分股编号、简称和权重信息\n",
      "    开始时间：2016-01-04\n",
      "    结束时间：2018-01-30\n",
      "    最后更新：2018-01-30 19:58:42\n",
      "\n",
      "子数据库 [000300.SH]\n",
      "    说明：沪深300成分股编号、简称和权重信息\n",
      "    开始时间：2010-01-04\n",
      "    结束时间：2018-02-28\n",
      "    最后更新：2018-03-03 09:57:29\n",
      "\n",
      "子数据库 [000905.SH]\n",
      "    说明：中证500成分股编号、简称和权重信息\n",
      "    开始时间：2016-01-04\n",
      "    结束时间：2018-01-30\n",
      "    最后更新：2018-01-30 19:58:42\n",
      "\n",
      "子数据库 [A]\n",
      "    说明：全A股编号和简称信息\n",
      "    开始时间：2010-01-04\n",
      "    结束时间：2018-01-31\n",
      "    最后更新：2018-03-03 13:37:37\n",
      "\n",
      "子数据库 [H]\n",
      "    说明：全H股编号和简称信息\n",
      "    开始时间：XX\n",
      "    结束时间：XX\n",
      "    最后更新：XX\n",
      "\n",
      "子数据库 [HSI.HI]\n",
      "    说明：恒生指数成分股编号和简称信息\n",
      "    开始时间：2016-01-04\n",
      "    结束时间：2018-01-30\n",
      "    最后更新：2018-01-30 19:58:42\n",
      "\n",
      "数据库 [industry] 架构信息：\n",
      "\n",
      "子数据库 [A_SWL1]\n",
      "    说明：全A股申万一级行业分类\n",
      "    开始时间：2016-01-08\n",
      "    结束时间：2019-01-24\n",
      "    最后更新：2018-01-30 17:25:19\n",
      "\n",
      "子数据库 [H_GICSL1]\n",
      "    说明：全H股GICS一级行业分类\n",
      "    开始时间：2018-01-24\n",
      "    结束时间：2018-01-24\n",
      "    最后更新：2018-01-30 15:51:37\n",
      "\n",
      "子数据库 [H_SWL1]\n",
      "    说明：全H股申万一级行业分类\n",
      "    开始时间：2015-01-05\n",
      "    结束时间：2018-02-14\n",
      "    最后更新：2018-02-26 11:17:38\n",
      "\n"
     ]
    }
   ],
   "source": [
    "db_names = [\"index_contents\", \"industry\"]\n",
    "\n",
    "for db_name in db_names:\n",
    "    DataAPI.show_db_info(db_name)"
   ]
  },
  {
   "cell_type": "markdown",
   "metadata": {},
   "source": [
    "---\n",
    "\n",
    "# 待更新日期"
   ]
  },
  {
   "cell_type": "code",
   "execution_count": 3,
   "metadata": {
    "collapsed": true
   },
   "outputs": [],
   "source": [
    "start = \"2018-01-01\"\n",
    "end = \"2018-01-03\"\n",
    "trading_days = fk.get_trading_days(start=start, end=end)\n",
    "# trading_days = list(set(fk.get_trading_days(start=start, end=end)).union(set(fk.get_report_days(start=start, end=end))))\n",
    "# trading_days = sorted(trading_days)"
   ]
  },
  {
   "cell_type": "code",
   "execution_count": 15,
   "metadata": {},
   "outputs": [
    {
     "name": "stdout",
     "output_type": "stream",
     "text": [
      "\u001b[32m[INFO] 2018-03-07 13:51:01 Updating index_contents A...\u001b[0m\n",
      "\u001b[34m[INFO] 2018-03-07 13:51:01 E:\\02_work\\sw\\db\\index_contents\\2018.db is connected.\u001b[0m\n",
      "E:\\02_work\\sw\\db\\index_contents\\2018.db is disconnected.\n",
      "\u001b[34m[INFO] 2018-03-07 13:51:01 schema updated: A\u001b[0m\n",
      "\u001b[34m[INFO] 2018-03-07 13:51:01 传入日期数：2  已经存在个数：2  实际写入次数：0\u001b[0m\n",
      "\u001b[34m[INFO] 2018-03-07 13:51:01 ------------------------------------------\u001b[0m\n",
      "\u001b[32m[INFO] 2018-03-07 13:51:01 index_contents-A updated.\u001b[0m\n",
      "\u001b[34m[INFO] 2018-03-07 13:51:01 ------------------------------------------\u001b[0m\n"
     ]
    }
   ],
   "source": [
    "# A: 全A股\n",
    "DataAPI.write.update_index_contents(index_code=\"A\", trading_days=trading_days, override=False)"
   ]
  },
  {
   "cell_type": "markdown",
   "metadata": {},
   "source": [
    "---\n",
    "\n",
    "# 更新 index_contents"
   ]
  },
  {
   "cell_type": "code",
   "execution_count": 5,
   "metadata": {
    "scrolled": true
   },
   "outputs": [
    {
     "name": "stdout",
     "output_type": "stream",
     "text": [
      "\u001b[32m[INFO] 2018-03-05 09:21:00 Updating index_contents A...\u001b[0m\n",
      "\u001b[34m[INFO] 2018-03-05 09:21:00 E:\\02_work\\sw\\db\\index_contents\\2018.db is connected.\u001b[0m\n",
      "\u001b[31m[WARN] 2018-03-05 09:21:00 Records meeting the following conds are already existed: index_code=A date=2018-01-02\u001b[0m\n",
      "\u001b[31m[WARN] 2018-03-05 09:21:00 Records meeting the following conds are already existed: index_code=A date=2018-01-03\u001b[0m\n",
      "\u001b[31m[WARN] 2018-03-05 09:21:00 Records meeting the following conds are already existed: index_code=A date=2018-01-04\u001b[0m\n",
      "\u001b[31m[WARN] 2018-03-05 09:21:00 Records meeting the following conds are already existed: index_code=A date=2018-01-05\u001b[0m\n",
      "\u001b[31m[WARN] 2018-03-05 09:21:00 Records meeting the following conds are already existed: index_code=A date=2018-01-08\u001b[0m\n",
      "\u001b[31m[WARN] 2018-03-05 09:21:00 Records meeting the following conds are already existed: index_code=A date=2018-01-09\u001b[0m\n",
      "\u001b[31m[WARN] 2018-03-05 09:21:00 Records meeting the following conds are already existed: index_code=A date=2018-01-10\u001b[0m\n",
      "\u001b[31m[WARN] 2018-03-05 09:21:00 Records meeting the following conds are already existed: index_code=A date=2018-01-11\u001b[0m\n",
      "\u001b[31m[WARN] 2018-03-05 09:21:00 Records meeting the following conds are already existed: index_code=A date=2018-01-12\u001b[0m\n",
      "\u001b[31m[WARN] 2018-03-05 09:21:00 Records meeting the following conds are already existed: index_code=A date=2018-01-15\u001b[0m\n",
      "\u001b[31m[WARN] 2018-03-05 09:21:00 Records meeting the following conds are already existed: index_code=A date=2018-01-16\u001b[0m\n",
      "\u001b[31m[WARN] 2018-03-05 09:21:00 Records meeting the following conds are already existed: index_code=A date=2018-01-17\u001b[0m\n",
      "\u001b[31m[WARN] 2018-03-05 09:21:00 Records meeting the following conds are already existed: index_code=A date=2018-01-18\u001b[0m\n",
      "\u001b[31m[WARN] 2018-03-05 09:21:00 Records meeting the following conds are already existed: index_code=A date=2018-01-19\u001b[0m\n",
      "\u001b[31m[WARN] 2018-03-05 09:21:00 Records meeting the following conds are already existed: index_code=A date=2018-01-22\u001b[0m\n",
      "\u001b[31m[WARN] 2018-03-05 09:21:00 Records meeting the following conds are already existed: index_code=A date=2018-01-23\u001b[0m\n",
      "\u001b[31m[WARN] 2018-03-05 09:21:00 Records meeting the following conds are already existed: index_code=A date=2018-01-24\u001b[0m\n",
      "\u001b[31m[WARN] 2018-03-05 09:21:00 Records meeting the following conds are already existed: index_code=A date=2018-01-25\u001b[0m\n",
      "\u001b[31m[WARN] 2018-03-05 09:21:00 Records meeting the following conds are already existed: index_code=A date=2018-01-26\u001b[0m\n",
      "\u001b[31m[WARN] 2018-03-05 09:21:00 Records meeting the following conds are already existed: index_code=A date=2018-01-29\u001b[0m\n",
      "\u001b[31m[WARN] 2018-03-05 09:21:00 Records meeting the following conds are already existed: index_code=A date=2018-01-30\u001b[0m\n",
      "\u001b[31m[WARN] 2018-03-05 09:21:00 Records meeting the following conds are already existed: index_code=A date=2018-01-31\u001b[0m\n",
      "\u001b[31m[WARN] 2018-03-05 09:21:00 Records meeting the following conds are already existed: index_code=A date=2018-02-01\u001b[0m\n",
      "\u001b[31m[WARN] 2018-03-05 09:21:00 Records meeting the following conds are already existed: index_code=A date=2018-02-02\u001b[0m\n",
      "\u001b[31m[WARN] 2018-03-05 09:21:00 Records meeting the following conds are already existed: index_code=A date=2018-02-05\u001b[0m\n",
      "\u001b[31m[WARN] 2018-03-05 09:21:00 Records meeting the following conds are already existed: index_code=A date=2018-02-06\u001b[0m\n",
      "\u001b[31m[WARN] 2018-03-05 09:21:00 Records meeting the following conds are already existed: index_code=A date=2018-02-07\u001b[0m\n",
      "\u001b[31m[WARN] 2018-03-05 09:21:00 Records meeting the following conds are already existed: index_code=A date=2018-02-08\u001b[0m\n",
      "\u001b[31m[WARN] 2018-03-05 09:21:00 Records meeting the following conds are already existed: index_code=A date=2018-02-09\u001b[0m\n",
      "\u001b[31m[WARN] 2018-03-05 09:21:00 Records meeting the following conds are already existed: index_code=A date=2018-02-12\u001b[0m\n",
      "\u001b[31m[WARN] 2018-03-05 09:21:00 Records meeting the following conds are already existed: index_code=A date=2018-02-13\u001b[0m\n",
      "\u001b[31m[WARN] 2018-03-05 09:21:00 Records meeting the following conds are already existed: index_code=A date=2018-02-14\u001b[0m\n",
      "\u001b[31m[WARN] 2018-03-05 09:21:00 Records meeting the following conds are already existed: index_code=A date=2018-02-22\u001b[0m\n",
      "\u001b[31m[WARN] 2018-03-05 09:21:00 Records meeting the following conds are already existed: index_code=A date=2018-02-23\u001b[0m\n",
      "\u001b[31m[WARN] 2018-03-05 09:21:00 Records meeting the following conds are already existed: index_code=A date=2018-02-26\u001b[0m\n",
      "\u001b[31m[WARN] 2018-03-05 09:21:00 Records meeting the following conds are already existed: index_code=A date=2018-02-27\u001b[0m\n",
      "\u001b[31m[WARN] 2018-03-05 09:21:00 Records meeting the following conds are already existed: index_code=A date=2018-02-28\u001b[0m\n",
      "\u001b[31m[WARN] 2018-03-05 09:21:00 Records meeting the following conds are already existed: index_code=A date=2018-03-01\u001b[0m\n",
      "\u001b[31m[WARN] 2018-03-05 09:21:00 Records meeting the following conds are already existed: index_code=A date=2018-03-02\u001b[0m\n",
      "\u001b[34m[INFO] 2018-03-05 09:21:00 E:\\02_work\\sw\\db\\index_contents\\2018.db is disconnected.\u001b[0m\n",
      "\u001b[34m[INFO] 2018-03-05 09:21:01 schema updated: A\u001b[0m\n",
      "\u001b[34m[INFO] 2018-03-05 09:21:01 传入日期数：39  已经存在个数：39  实际写入次数：0\u001b[0m\n",
      "\u001b[34m[INFO] 2018-03-05 09:21:01 ------------------------------------------\u001b[0m\n",
      "\u001b[32m[INFO] 2018-03-05 09:21:01 index_contents-A updated.\u001b[0m\n",
      "\u001b[34m[INFO] 2018-03-05 09:21:01 ------------------------------------------\u001b[0m\n",
      "\u001b[32m[INFO] 2018-03-05 09:21:01 Updating index_contents 000300.SH...\u001b[0m\n",
      "\u001b[34m[INFO] 2018-03-05 09:21:01 E:\\02_work\\sw\\db\\index_contents\\2018.db is connected.\u001b[0m\n",
      "\u001b[31m[WARN] 2018-03-05 09:21:01 Records meeting the following conds are already existed: index_code=000300.SH date=2018-01-02\u001b[0m\n",
      "\u001b[31m[WARN] 2018-03-05 09:21:01 Records meeting the following conds are already existed: index_code=000300.SH date=2018-01-03\u001b[0m\n",
      "\u001b[31m[WARN] 2018-03-05 09:21:01 Records meeting the following conds are already existed: index_code=000300.SH date=2018-01-04\u001b[0m\n",
      "\u001b[31m[WARN] 2018-03-05 09:21:01 Records meeting the following conds are already existed: index_code=000300.SH date=2018-01-05\u001b[0m\n",
      "\u001b[31m[WARN] 2018-03-05 09:21:01 Records meeting the following conds are already existed: index_code=000300.SH date=2018-01-08\u001b[0m\n",
      "\u001b[31m[WARN] 2018-03-05 09:21:01 Records meeting the following conds are already existed: index_code=000300.SH date=2018-01-09\u001b[0m\n",
      "\u001b[31m[WARN] 2018-03-05 09:21:01 Records meeting the following conds are already existed: index_code=000300.SH date=2018-01-10\u001b[0m\n",
      "\u001b[31m[WARN] 2018-03-05 09:21:01 Records meeting the following conds are already existed: index_code=000300.SH date=2018-01-11\u001b[0m\n",
      "\u001b[31m[WARN] 2018-03-05 09:21:01 Records meeting the following conds are already existed: index_code=000300.SH date=2018-01-12\u001b[0m\n",
      "\u001b[31m[WARN] 2018-03-05 09:21:01 Records meeting the following conds are already existed: index_code=000300.SH date=2018-01-15\u001b[0m\n",
      "\u001b[31m[WARN] 2018-03-05 09:21:01 Records meeting the following conds are already existed: index_code=000300.SH date=2018-01-16\u001b[0m\n",
      "\u001b[31m[WARN] 2018-03-05 09:21:01 Records meeting the following conds are already existed: index_code=000300.SH date=2018-01-17\u001b[0m\n",
      "\u001b[31m[WARN] 2018-03-05 09:21:01 Records meeting the following conds are already existed: index_code=000300.SH date=2018-01-18\u001b[0m\n",
      "\u001b[31m[WARN] 2018-03-05 09:21:01 Records meeting the following conds are already existed: index_code=000300.SH date=2018-01-19\u001b[0m\n",
      "\u001b[31m[WARN] 2018-03-05 09:21:01 Records meeting the following conds are already existed: index_code=000300.SH date=2018-01-22\u001b[0m\n",
      "\u001b[31m[WARN] 2018-03-05 09:21:01 Records meeting the following conds are already existed: index_code=000300.SH date=2018-01-23\u001b[0m\n",
      "\u001b[31m[WARN] 2018-03-05 09:21:01 Records meeting the following conds are already existed: index_code=000300.SH date=2018-01-24\u001b[0m\n",
      "\u001b[31m[WARN] 2018-03-05 09:21:01 Records meeting the following conds are already existed: index_code=000300.SH date=2018-01-25\u001b[0m\n",
      "\u001b[31m[WARN] 2018-03-05 09:21:01 Records meeting the following conds are already existed: index_code=000300.SH date=2018-01-26\u001b[0m\n",
      "\u001b[31m[WARN] 2018-03-05 09:21:01 Records meeting the following conds are already existed: index_code=000300.SH date=2018-01-29\u001b[0m\n",
      "\u001b[31m[WARN] 2018-03-05 09:21:01 Records meeting the following conds are already existed: index_code=000300.SH date=2018-01-30\u001b[0m\n",
      "\u001b[31m[WARN] 2018-03-05 09:21:01 Records meeting the following conds are already existed: index_code=000300.SH date=2018-01-31\u001b[0m\n",
      "\u001b[31m[WARN] 2018-03-05 09:21:01 Records meeting the following conds are already existed: index_code=000300.SH date=2018-02-01\u001b[0m\n",
      "\u001b[31m[WARN] 2018-03-05 09:21:01 Records meeting the following conds are already existed: index_code=000300.SH date=2018-02-02\u001b[0m\n",
      "\u001b[31m[WARN] 2018-03-05 09:21:01 Records meeting the following conds are already existed: index_code=000300.SH date=2018-02-05\u001b[0m\n",
      "\u001b[31m[WARN] 2018-03-05 09:21:01 Records meeting the following conds are already existed: index_code=000300.SH date=2018-02-06\u001b[0m\n",
      "\u001b[31m[WARN] 2018-03-05 09:21:01 Records meeting the following conds are already existed: index_code=000300.SH date=2018-02-07\u001b[0m\n",
      "\u001b[31m[WARN] 2018-03-05 09:21:01 Records meeting the following conds are already existed: index_code=000300.SH date=2018-02-08\u001b[0m\n",
      "\u001b[31m[WARN] 2018-03-05 09:21:01 Records meeting the following conds are already existed: index_code=000300.SH date=2018-02-09\u001b[0m\n",
      "\u001b[31m[WARN] 2018-03-05 09:21:01 Records meeting the following conds are already existed: index_code=000300.SH date=2018-02-12\u001b[0m\n",
      "\u001b[31m[WARN] 2018-03-05 09:21:01 Records meeting the following conds are already existed: index_code=000300.SH date=2018-02-13\u001b[0m\n",
      "\u001b[31m[WARN] 2018-03-05 09:21:01 Records meeting the following conds are already existed: index_code=000300.SH date=2018-02-14\u001b[0m\n",
      "\u001b[31m[WARN] 2018-03-05 09:21:01 Records meeting the following conds are already existed: index_code=000300.SH date=2018-02-22\u001b[0m\n",
      "\u001b[31m[WARN] 2018-03-05 09:21:01 Records meeting the following conds are already existed: index_code=000300.SH date=2018-02-23\u001b[0m\n",
      "\u001b[31m[WARN] 2018-03-05 09:21:01 Records meeting the following conds are already existed: index_code=000300.SH date=2018-02-26\u001b[0m\n",
      "\u001b[31m[WARN] 2018-03-05 09:21:01 Records meeting the following conds are already existed: index_code=000300.SH date=2018-02-27\u001b[0m\n",
      "\u001b[31m[WARN] 2018-03-05 09:21:01 Records meeting the following conds are already existed: index_code=000300.SH date=2018-02-28\u001b[0m\n"
     ]
    },
    {
     "name": "stdout",
     "output_type": "stream",
     "text": [
      "\u001b[34m[INFO] 2018-03-05 09:21:02 Data is inserted to 000300.SH successfully!\u001b[0m\n",
      "\u001b[34m[INFO] 2018-03-05 09:21:02 SAVED successfully:index=000300.SH date=2018-03-01 \u001b[0m\n",
      "\u001b[34m[INFO] 2018-03-05 09:21:02 Data is inserted to 000300.SH successfully!\u001b[0m\n",
      "\u001b[34m[INFO] 2018-03-05 09:21:02 SAVED successfully:index=000300.SH date=2018-03-02 \u001b[0m\n",
      "\u001b[34m[INFO] 2018-03-05 09:21:02 E:\\02_work\\sw\\db\\index_contents\\2018.db is disconnected.\u001b[0m\n",
      "\u001b[34m[INFO] 2018-03-05 09:21:11 schema updated: 000300.SH\u001b[0m\n",
      "\u001b[34m[INFO] 2018-03-05 09:21:11 传入日期数：39  已经存在个数：37  实际写入次数：2\u001b[0m\n",
      "\u001b[34m[INFO] 2018-03-05 09:21:11 ------------------------------------------\u001b[0m\n",
      "\u001b[32m[INFO] 2018-03-05 09:21:11 index_contents-000300.SH updated.\u001b[0m\n",
      "\u001b[34m[INFO] 2018-03-05 09:21:11 ------------------------------------------\u001b[0m\n",
      "\u001b[32m[INFO] 2018-03-05 09:21:11 Updating index_contents 000016.SH...\u001b[0m\n",
      "\u001b[34m[INFO] 2018-03-05 09:21:11 E:\\02_work\\sw\\db\\index_contents\\2018.db is connected.\u001b[0m\n",
      "\u001b[31m[WARN] 2018-03-05 09:21:11 Records meeting the following conds are already existed: index_code=000016.SH date=2018-01-02\u001b[0m\n",
      "\u001b[31m[WARN] 2018-03-05 09:21:11 Records meeting the following conds are already existed: index_code=000016.SH date=2018-01-03\u001b[0m\n",
      "\u001b[31m[WARN] 2018-03-05 09:21:11 Records meeting the following conds are already existed: index_code=000016.SH date=2018-01-04\u001b[0m\n",
      "\u001b[31m[WARN] 2018-03-05 09:21:11 Records meeting the following conds are already existed: index_code=000016.SH date=2018-01-05\u001b[0m\n",
      "\u001b[31m[WARN] 2018-03-05 09:21:11 Records meeting the following conds are already existed: index_code=000016.SH date=2018-01-08\u001b[0m\n",
      "\u001b[31m[WARN] 2018-03-05 09:21:11 Records meeting the following conds are already existed: index_code=000016.SH date=2018-01-09\u001b[0m\n",
      "\u001b[31m[WARN] 2018-03-05 09:21:11 Records meeting the following conds are already existed: index_code=000016.SH date=2018-01-10\u001b[0m\n",
      "\u001b[31m[WARN] 2018-03-05 09:21:11 Records meeting the following conds are already existed: index_code=000016.SH date=2018-01-11\u001b[0m\n",
      "\u001b[31m[WARN] 2018-03-05 09:21:11 Records meeting the following conds are already existed: index_code=000016.SH date=2018-01-12\u001b[0m\n",
      "\u001b[31m[WARN] 2018-03-05 09:21:11 Records meeting the following conds are already existed: index_code=000016.SH date=2018-01-15\u001b[0m\n",
      "\u001b[31m[WARN] 2018-03-05 09:21:11 Records meeting the following conds are already existed: index_code=000016.SH date=2018-01-16\u001b[0m\n",
      "\u001b[31m[WARN] 2018-03-05 09:21:11 Records meeting the following conds are already existed: index_code=000016.SH date=2018-01-17\u001b[0m\n",
      "\u001b[31m[WARN] 2018-03-05 09:21:11 Records meeting the following conds are already existed: index_code=000016.SH date=2018-01-18\u001b[0m\n",
      "\u001b[31m[WARN] 2018-03-05 09:21:11 Records meeting the following conds are already existed: index_code=000016.SH date=2018-01-19\u001b[0m\n",
      "\u001b[31m[WARN] 2018-03-05 09:21:11 Records meeting the following conds are already existed: index_code=000016.SH date=2018-01-22\u001b[0m\n",
      "\u001b[31m[WARN] 2018-03-05 09:21:11 Records meeting the following conds are already existed: index_code=000016.SH date=2018-01-23\u001b[0m\n",
      "\u001b[31m[WARN] 2018-03-05 09:21:11 Records meeting the following conds are already existed: index_code=000016.SH date=2018-01-24\u001b[0m\n",
      "\u001b[31m[WARN] 2018-03-05 09:21:11 Records meeting the following conds are already existed: index_code=000016.SH date=2018-01-25\u001b[0m\n",
      "\u001b[31m[WARN] 2018-03-05 09:21:11 Records meeting the following conds are already existed: index_code=000016.SH date=2018-01-26\u001b[0m\n",
      "\u001b[31m[WARN] 2018-03-05 09:21:11 Records meeting the following conds are already existed: index_code=000016.SH date=2018-01-29\u001b[0m\n",
      "\u001b[31m[WARN] 2018-03-05 09:21:11 Records meeting the following conds are already existed: index_code=000016.SH date=2018-01-30\u001b[0m\n",
      "\u001b[34m[INFO] 2018-03-05 09:21:12 Data is inserted to 000016.SH successfully!\u001b[0m\n",
      "\u001b[34m[INFO] 2018-03-05 09:21:12 SAVED successfully:index=000016.SH date=2018-01-31 \u001b[0m\n",
      "\u001b[34m[INFO] 2018-03-05 09:21:12 Data is inserted to 000016.SH successfully!\u001b[0m\n",
      "\u001b[34m[INFO] 2018-03-05 09:21:12 SAVED successfully:index=000016.SH date=2018-02-01 \u001b[0m\n",
      "\u001b[34m[INFO] 2018-03-05 09:21:13 Data is inserted to 000016.SH successfully!\u001b[0m\n",
      "\u001b[34m[INFO] 2018-03-05 09:21:13 SAVED successfully:index=000016.SH date=2018-02-02 \u001b[0m\n",
      "\u001b[34m[INFO] 2018-03-05 09:21:13 Data is inserted to 000016.SH successfully!\u001b[0m\n",
      "\u001b[34m[INFO] 2018-03-05 09:21:13 SAVED successfully:index=000016.SH date=2018-02-05 \u001b[0m\n",
      "\u001b[34m[INFO] 2018-03-05 09:21:13 Data is inserted to 000016.SH successfully!\u001b[0m\n",
      "\u001b[34m[INFO] 2018-03-05 09:21:13 SAVED successfully:index=000016.SH date=2018-02-06 \u001b[0m\n",
      "\u001b[34m[INFO] 2018-03-05 09:21:14 Data is inserted to 000016.SH successfully!\u001b[0m\n",
      "\u001b[34m[INFO] 2018-03-05 09:21:14 SAVED successfully:index=000016.SH date=2018-02-07 \u001b[0m\n",
      "\u001b[34m[INFO] 2018-03-05 09:21:14 Data is inserted to 000016.SH successfully!\u001b[0m\n",
      "\u001b[34m[INFO] 2018-03-05 09:21:14 SAVED successfully:index=000016.SH date=2018-02-08 \u001b[0m\n",
      "\u001b[34m[INFO] 2018-03-05 09:21:15 Data is inserted to 000016.SH successfully!\u001b[0m\n",
      "\u001b[34m[INFO] 2018-03-05 09:21:15 SAVED successfully:index=000016.SH date=2018-02-09 \u001b[0m\n",
      "\u001b[34m[INFO] 2018-03-05 09:21:15 Data is inserted to 000016.SH successfully!\u001b[0m\n",
      "\u001b[34m[INFO] 2018-03-05 09:21:15 SAVED successfully:index=000016.SH date=2018-02-12 \u001b[0m\n",
      "\u001b[34m[INFO] 2018-03-05 09:21:15 Data is inserted to 000016.SH successfully!\u001b[0m\n",
      "\u001b[34m[INFO] 2018-03-05 09:21:15 SAVED successfully:index=000016.SH date=2018-02-13 \u001b[0m\n",
      "\u001b[34m[INFO] 2018-03-05 09:21:16 Data is inserted to 000016.SH successfully!\u001b[0m\n",
      "\u001b[34m[INFO] 2018-03-05 09:21:16 SAVED successfully:index=000016.SH date=2018-02-14 \u001b[0m\n",
      "\u001b[34m[INFO] 2018-03-05 09:21:16 Data is inserted to 000016.SH successfully!\u001b[0m\n",
      "\u001b[34m[INFO] 2018-03-05 09:21:16 SAVED successfully:index=000016.SH date=2018-02-22 \u001b[0m\n",
      "\u001b[34m[INFO] 2018-03-05 09:21:19 Data is inserted to 000016.SH successfully!\u001b[0m\n",
      "\u001b[34m[INFO] 2018-03-05 09:21:19 SAVED successfully:index=000016.SH date=2018-02-23 \u001b[0m\n",
      "\u001b[34m[INFO] 2018-03-05 09:21:19 Data is inserted to 000016.SH successfully!\u001b[0m\n",
      "\u001b[34m[INFO] 2018-03-05 09:21:19 SAVED successfully:index=000016.SH date=2018-02-26 \u001b[0m\n",
      "\u001b[34m[INFO] 2018-03-05 09:21:20 Data is inserted to 000016.SH successfully!\u001b[0m\n",
      "\u001b[34m[INFO] 2018-03-05 09:21:20 SAVED successfully:index=000016.SH date=2018-02-27 \u001b[0m\n",
      "\u001b[34m[INFO] 2018-03-05 09:21:20 Data is inserted to 000016.SH successfully!\u001b[0m\n",
      "\u001b[34m[INFO] 2018-03-05 09:21:20 SAVED successfully:index=000016.SH date=2018-02-28 \u001b[0m\n",
      "\u001b[34m[INFO] 2018-03-05 09:21:21 Data is inserted to 000016.SH successfully!\u001b[0m\n",
      "\u001b[34m[INFO] 2018-03-05 09:21:21 SAVED successfully:index=000016.SH date=2018-03-01 \u001b[0m\n",
      "\u001b[34m[INFO] 2018-03-05 09:21:21 Data is inserted to 000016.SH successfully!\u001b[0m\n",
      "\u001b[34m[INFO] 2018-03-05 09:21:21 SAVED successfully:index=000016.SH date=2018-03-02 \u001b[0m\n",
      "\u001b[34m[INFO] 2018-03-05 09:21:21 E:\\02_work\\sw\\db\\index_contents\\2018.db is disconnected.\u001b[0m\n",
      "\u001b[34m[INFO] 2018-03-05 09:21:22 schema updated: 000016.SH\u001b[0m\n",
      "\u001b[34m[INFO] 2018-03-05 09:21:22 传入日期数：39  已经存在个数：21  实际写入次数：18\u001b[0m\n",
      "\u001b[34m[INFO] 2018-03-05 09:21:22 ------------------------------------------\u001b[0m\n",
      "\u001b[32m[INFO] 2018-03-05 09:21:22 index_contents-000016.SH updated.\u001b[0m\n",
      "\u001b[34m[INFO] 2018-03-05 09:21:22 ------------------------------------------\u001b[0m\n",
      "\u001b[32m[INFO] 2018-03-05 09:21:22 Updating index_contents 000905.SH...\u001b[0m\n",
      "\u001b[34m[INFO] 2018-03-05 09:21:22 E:\\02_work\\sw\\db\\index_contents\\2018.db is connected.\u001b[0m\n",
      "\u001b[31m[WARN] 2018-03-05 09:21:22 Records meeting the following conds are already existed: index_code=000905.SH date=2018-01-02\u001b[0m\n",
      "\u001b[31m[WARN] 2018-03-05 09:21:22 Records meeting the following conds are already existed: index_code=000905.SH date=2018-01-03\u001b[0m\n",
      "\u001b[31m[WARN] 2018-03-05 09:21:22 Records meeting the following conds are already existed: index_code=000905.SH date=2018-01-04\u001b[0m\n",
      "\u001b[31m[WARN] 2018-03-05 09:21:22 Records meeting the following conds are already existed: index_code=000905.SH date=2018-01-05\u001b[0m\n",
      "\u001b[31m[WARN] 2018-03-05 09:21:22 Records meeting the following conds are already existed: index_code=000905.SH date=2018-01-08\u001b[0m\n",
      "\u001b[31m[WARN] 2018-03-05 09:21:22 Records meeting the following conds are already existed: index_code=000905.SH date=2018-01-09\u001b[0m\n",
      "\u001b[31m[WARN] 2018-03-05 09:21:22 Records meeting the following conds are already existed: index_code=000905.SH date=2018-01-10\u001b[0m\n",
      "\u001b[31m[WARN] 2018-03-05 09:21:22 Records meeting the following conds are already existed: index_code=000905.SH date=2018-01-11\u001b[0m\n",
      "\u001b[31m[WARN] 2018-03-05 09:21:22 Records meeting the following conds are already existed: index_code=000905.SH date=2018-01-12\u001b[0m\n",
      "\u001b[31m[WARN] 2018-03-05 09:21:22 Records meeting the following conds are already existed: index_code=000905.SH date=2018-01-15\u001b[0m\n",
      "\u001b[31m[WARN] 2018-03-05 09:21:22 Records meeting the following conds are already existed: index_code=000905.SH date=2018-01-16\u001b[0m\n",
      "\u001b[31m[WARN] 2018-03-05 09:21:22 Records meeting the following conds are already existed: index_code=000905.SH date=2018-01-17\u001b[0m\n",
      "\u001b[31m[WARN] 2018-03-05 09:21:22 Records meeting the following conds are already existed: index_code=000905.SH date=2018-01-18\u001b[0m\n",
      "\u001b[31m[WARN] 2018-03-05 09:21:22 Records meeting the following conds are already existed: index_code=000905.SH date=2018-01-19\u001b[0m\n",
      "\u001b[31m[WARN] 2018-03-05 09:21:22 Records meeting the following conds are already existed: index_code=000905.SH date=2018-01-22\u001b[0m\n",
      "\u001b[31m[WARN] 2018-03-05 09:21:22 Records meeting the following conds are already existed: index_code=000905.SH date=2018-01-23\u001b[0m\n",
      "\u001b[31m[WARN] 2018-03-05 09:21:22 Records meeting the following conds are already existed: index_code=000905.SH date=2018-01-24\u001b[0m\n",
      "\u001b[31m[WARN] 2018-03-05 09:21:22 Records meeting the following conds are already existed: index_code=000905.SH date=2018-01-25\u001b[0m\n",
      "\u001b[31m[WARN] 2018-03-05 09:21:22 Records meeting the following conds are already existed: index_code=000905.SH date=2018-01-26\u001b[0m\n",
      "\u001b[31m[WARN] 2018-03-05 09:21:22 Records meeting the following conds are already existed: index_code=000905.SH date=2018-01-29\u001b[0m\n",
      "\u001b[31m[WARN] 2018-03-05 09:21:22 Records meeting the following conds are already existed: index_code=000905.SH date=2018-01-30\u001b[0m\n"
     ]
    },
    {
     "name": "stdout",
     "output_type": "stream",
     "text": [
      "\u001b[34m[INFO] 2018-03-05 09:21:23 Data is inserted to 000905.SH successfully!\u001b[0m\n",
      "\u001b[34m[INFO] 2018-03-05 09:21:23 SAVED successfully:index=000905.SH date=2018-01-31 \u001b[0m\n",
      "\u001b[34m[INFO] 2018-03-05 09:21:23 Data is inserted to 000905.SH successfully!\u001b[0m\n",
      "\u001b[34m[INFO] 2018-03-05 09:21:23 SAVED successfully:index=000905.SH date=2018-02-01 \u001b[0m\n",
      "\u001b[34m[INFO] 2018-03-05 09:21:24 Data is inserted to 000905.SH successfully!\u001b[0m\n",
      "\u001b[34m[INFO] 2018-03-05 09:21:24 SAVED successfully:index=000905.SH date=2018-02-02 \u001b[0m\n",
      "\u001b[34m[INFO] 2018-03-05 09:21:24 Data is inserted to 000905.SH successfully!\u001b[0m\n",
      "\u001b[34m[INFO] 2018-03-05 09:21:24 SAVED successfully:index=000905.SH date=2018-02-05 \u001b[0m\n",
      "\u001b[34m[INFO] 2018-03-05 09:21:25 Data is inserted to 000905.SH successfully!\u001b[0m\n",
      "\u001b[34m[INFO] 2018-03-05 09:21:25 SAVED successfully:index=000905.SH date=2018-02-06 \u001b[0m\n",
      "\u001b[34m[INFO] 2018-03-05 09:21:25 Data is inserted to 000905.SH successfully!\u001b[0m\n",
      "\u001b[34m[INFO] 2018-03-05 09:21:25 SAVED successfully:index=000905.SH date=2018-02-07 \u001b[0m\n",
      "\u001b[34m[INFO] 2018-03-05 09:21:25 Data is inserted to 000905.SH successfully!\u001b[0m\n",
      "\u001b[34m[INFO] 2018-03-05 09:21:25 SAVED successfully:index=000905.SH date=2018-02-08 \u001b[0m\n",
      "\u001b[34m[INFO] 2018-03-05 09:21:26 Data is inserted to 000905.SH successfully!\u001b[0m\n",
      "\u001b[34m[INFO] 2018-03-05 09:21:26 SAVED successfully:index=000905.SH date=2018-02-09 \u001b[0m\n",
      "\u001b[34m[INFO] 2018-03-05 09:21:26 Data is inserted to 000905.SH successfully!\u001b[0m\n",
      "\u001b[34m[INFO] 2018-03-05 09:21:26 SAVED successfully:index=000905.SH date=2018-02-12 \u001b[0m\n",
      "\u001b[34m[INFO] 2018-03-05 09:21:26 Data is inserted to 000905.SH successfully!\u001b[0m\n",
      "\u001b[34m[INFO] 2018-03-05 09:21:26 SAVED successfully:index=000905.SH date=2018-02-13 \u001b[0m\n",
      "\u001b[34m[INFO] 2018-03-05 09:21:27 Data is inserted to 000905.SH successfully!\u001b[0m\n",
      "\u001b[34m[INFO] 2018-03-05 09:21:27 SAVED successfully:index=000905.SH date=2018-02-14 \u001b[0m\n",
      "\u001b[34m[INFO] 2018-03-05 09:21:28 Data is inserted to 000905.SH successfully!\u001b[0m\n",
      "\u001b[34m[INFO] 2018-03-05 09:21:28 SAVED successfully:index=000905.SH date=2018-02-22 \u001b[0m\n",
      "\u001b[34m[INFO] 2018-03-05 09:21:28 Data is inserted to 000905.SH successfully!\u001b[0m\n",
      "\u001b[34m[INFO] 2018-03-05 09:21:28 SAVED successfully:index=000905.SH date=2018-02-23 \u001b[0m\n",
      "\u001b[34m[INFO] 2018-03-05 09:21:28 Data is inserted to 000905.SH successfully!\u001b[0m\n",
      "\u001b[34m[INFO] 2018-03-05 09:21:28 SAVED successfully:index=000905.SH date=2018-02-26 \u001b[0m\n",
      "\u001b[34m[INFO] 2018-03-05 09:21:29 Data is inserted to 000905.SH successfully!\u001b[0m\n",
      "\u001b[34m[INFO] 2018-03-05 09:21:29 SAVED successfully:index=000905.SH date=2018-02-27 \u001b[0m\n",
      "\u001b[34m[INFO] 2018-03-05 09:21:29 Data is inserted to 000905.SH successfully!\u001b[0m\n",
      "\u001b[34m[INFO] 2018-03-05 09:21:29 SAVED successfully:index=000905.SH date=2018-02-28 \u001b[0m\n",
      "\u001b[34m[INFO] 2018-03-05 09:21:30 Data is inserted to 000905.SH successfully!\u001b[0m\n",
      "\u001b[34m[INFO] 2018-03-05 09:21:30 SAVED successfully:index=000905.SH date=2018-03-01 \u001b[0m\n",
      "\u001b[34m[INFO] 2018-03-05 09:21:30 Data is inserted to 000905.SH successfully!\u001b[0m\n",
      "\u001b[34m[INFO] 2018-03-05 09:21:30 SAVED successfully:index=000905.SH date=2018-03-02 \u001b[0m\n",
      "\u001b[34m[INFO] 2018-03-05 09:21:30 E:\\02_work\\sw\\db\\index_contents\\2018.db is disconnected.\u001b[0m\n",
      "\u001b[34m[INFO] 2018-03-05 09:21:32 schema updated: 000905.SH\u001b[0m\n",
      "\u001b[34m[INFO] 2018-03-05 09:21:32 传入日期数：39  已经存在个数：21  实际写入次数：18\u001b[0m\n",
      "\u001b[34m[INFO] 2018-03-05 09:21:32 ------------------------------------------\u001b[0m\n",
      "\u001b[32m[INFO] 2018-03-05 09:21:32 index_contents-000905.SH updated.\u001b[0m\n",
      "\u001b[34m[INFO] 2018-03-05 09:21:32 ------------------------------------------\u001b[0m\n"
     ]
    }
   ],
   "source": [
    "# A: 全A股\n",
    "DataAPI.update_index_contents(index_code=\"A\", trading_days=trading_days, override=False)\n",
    "\n",
    "# 000300.SH: 沪深300\n",
    "DataAPI.update_index_contents(index_code=\"000300.SH\", trading_days=trading_days, override=False)\n",
    "\n",
    "# HSI.HI 恒生指数\n",
    "# DataAPI.update_index_contents(index_code=\"HSI.HI\", trading_days=trading_days, override=False)\n",
    "\n",
    "# 000016.SH 上证50\n",
    "DataAPI.update_index_contents(index_code=\"000016.SH\", trading_days=trading_days, override=False)\n",
    "\n",
    "# 000905.SH 中证500\n",
    "DataAPI.update_index_contents(index_code=\"000905.SH\", trading_days=trading_days, override=False)"
   ]
  },
  {
   "cell_type": "markdown",
   "metadata": {},
   "source": [
    "# 更新 industry"
   ]
  },
  {
   "cell_type": "code",
   "execution_count": 18,
   "metadata": {
    "scrolled": true
   },
   "outputs": [
    {
     "name": "stdout",
     "output_type": "stream",
     "text": [
      "\u001b[32m[INFO] 2018-03-07 13:51:26 Updating sw_industry-A_SWL1...\u001b[0m\n",
      "\u001b[32m[INFO] 2018-03-07 13:51:26 Reading index contents of A on 2018-01-02\u001b[0m\n",
      "\u001b[34m[INFO] 2018-03-07 13:51:26 Dict is saved to E:\\02_work\\sw\\db\\industry\\A_SWL1\\2018-01-02.json.\u001b[0m\n",
      "\u001b[34m[INFO] 2018-03-07 13:51:26 E:\\02_work\\sw\\db\\industry\\A_SWL1\\2018-01-02.json is saved\u001b[0m\n",
      "\u001b[32m[INFO] 2018-03-07 13:51:26 Reading index contents of A on 2018-01-03\u001b[0m\n",
      "\u001b[34m[INFO] 2018-03-07 13:51:27 Dict is saved to E:\\02_work\\sw\\db\\industry\\A_SWL1\\2018-01-03.json.\u001b[0m\n",
      "\u001b[34m[INFO] 2018-03-07 13:51:27 E:\\02_work\\sw\\db\\industry\\A_SWL1\\2018-01-03.json is saved\u001b[0m\n",
      "\u001b[34m[INFO] 2018-03-07 13:51:27 schema updated: A_SWL1\u001b[0m\n",
      "\u001b[34m[INFO] 2018-03-07 13:51:27 传入日期数：2  已经存在个数：0  实际写入次数：2\u001b[0m\n",
      "\u001b[34m[INFO] 2018-03-07 13:51:27 sw_industry-A updated completely.\u001b[0m\n",
      "\u001b[34m[INFO] 2018-03-07 13:51:27 ------------------------------------------\u001b[0m\n"
     ]
    }
   ],
   "source": [
    "#  - 申万一级 A股\n",
    "DataAPI.write.update_secs_industry_sw(industry=\"A_SWL1\", trading_days=trading_days, override=False)"
   ]
  },
  {
   "cell_type": "code",
   "execution_count": 23,
   "metadata": {},
   "outputs": [
    {
     "name": "stdout",
     "output_type": "stream",
     "text": [
      "\u001b[32m[INFO] 2018-03-07 13:55:33 Updating sw_industry-A_SWL1...\u001b[0m\n",
      "\u001b[34m[INFO] 2018-03-07 13:55:33 E:\\02_work\\sw\\db\\industry\\A_SWL1\\2018-01-02.json already exists\u001b[0m\n",
      "\u001b[34m[INFO] 2018-03-07 13:55:33 E:\\02_work\\sw\\db\\industry\\A_SWL1\\2018-01-03.json already exists\u001b[0m\n",
      "\u001b[34m[INFO] 2018-03-07 13:55:33 schema updated: A_SWL1\u001b[0m\n",
      "\u001b[34m[INFO] 2018-03-07 13:55:33 传入日期数：2  已经存在个数：2  实际写入次数：0\u001b[0m\n",
      "\u001b[34m[INFO] 2018-03-07 13:55:33 sw_industry-A updated completely.\u001b[0m\n",
      "\u001b[34m[INFO] 2018-03-07 13:55:33 ------------------------------------------\u001b[0m\n"
     ]
    }
   ],
   "source": [
    "#  - 申万一级 H 股\n",
    "DataAPI.write.update_secs_industry_sw(industry=\"A_SWL1\", trading_days=trading_days, override=False)"
   ]
  },
  {
   "cell_type": "markdown",
   "metadata": {},
   "source": [
    "---"
   ]
  },
  {
   "cell_type": "code",
   "execution_count": 25,
   "metadata": {},
   "outputs": [
    {
     "name": "stdout",
     "output_type": "stream",
     "text": [
      "\u001b[32m[INFO] 2018-03-07 13:55:53 Updating gics_industry-H_GICSL1...\u001b[0m\n",
      "\u001b[32m[INFO] 2018-03-07 13:55:53 Reading index contents of H on 2018-01-02\u001b[0m\n",
      "\u001b[34m[INFO] 2018-03-07 13:55:53 Dict is saved to E:\\02_work\\sw\\db\\industry\\H_GICSL1\\2018-01-02.json.\u001b[0m\n",
      "\u001b[34m[INFO] 2018-03-07 13:55:53 E:\\02_work\\sw\\db\\industry\\H_GICSL1\\2018-01-02.json is saved\u001b[0m\n",
      "\u001b[32m[INFO] 2018-03-07 13:55:53 Reading index contents of H on 2018-01-03\u001b[0m\n",
      "\u001b[34m[INFO] 2018-03-07 13:55:53 Dict is saved to E:\\02_work\\sw\\db\\industry\\H_GICSL1\\2018-01-03.json.\u001b[0m\n",
      "\u001b[34m[INFO] 2018-03-07 13:55:53 E:\\02_work\\sw\\db\\industry\\H_GICSL1\\2018-01-03.json is saved\u001b[0m\n",
      "\u001b[34m[INFO] 2018-03-07 13:55:53 schema updated: H_GICSL1\u001b[0m\n",
      "\u001b[34m[INFO] 2018-03-07 13:55:53 传入日期数：2  已经存在个数：0  实际写入次数：2\u001b[0m\n",
      "\u001b[34m[INFO] 2018-03-07 13:55:53 gics_industry-H updated completely.\u001b[0m\n",
      "\u001b[34m[INFO] 2018-03-07 13:55:53 ------------------------------------------\u001b[0m\n"
     ]
    }
   ],
   "source": [
    "# - GICS\n",
    "DataAPI.write.update_secs_industry_gics(industry='A_GICSL1', trading_days=trading_days, override=False)"
   ]
  },
  {
   "cell_type": "code",
   "execution_count": null,
   "metadata": {
    "collapsed": true
   },
   "outputs": [],
   "source": []
  }
 ],
 "metadata": {
  "kernelspec": {
   "display_name": "Python 3",
   "language": "python",
   "name": "python3"
  },
  "language_info": {
   "codemirror_mode": {
    "name": "ipython",
    "version": 3
   },
   "file_extension": ".py",
   "mimetype": "text/x-python",
   "name": "python",
   "nbconvert_exporter": "python",
   "pygments_lexer": "ipython3",
   "version": "3.6.3"
  },
  "toc": {
   "nav_menu": {},
   "number_sections": true,
   "sideBar": true,
   "skip_h1_title": false,
   "title_cell": "Table of Contents",
   "title_sidebar": "Contents",
   "toc_cell": false,
   "toc_position": {},
   "toc_section_display": true,
   "toc_window_display": false
  }
 },
 "nbformat": 4,
 "nbformat_minor": 2
}
