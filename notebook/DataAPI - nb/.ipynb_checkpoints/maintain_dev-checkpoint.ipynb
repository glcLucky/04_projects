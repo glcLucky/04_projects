{
 "cells": [
  {
   "cell_type": "code",
   "execution_count": 1,
   "metadata": {},
   "outputs": [
    {
     "name": "stdout",
     "output_type": "stream",
     "text": [
      "Populating the interactive namespace from numpy and matplotlib\n"
     ]
    }
   ],
   "source": [
    "%pylab inline\n",
    "%load_ext autoreload\n",
    "%autoreload 2"
   ]
  },
  {
   "cell_type": "code",
   "execution_count": 2,
   "metadata": {},
   "outputs": [
    {
     "ename": "ModuleNotFoundError",
     "evalue": "No module named 'devkit'",
     "output_type": "error",
     "traceback": [
      "\u001b[1;31m---------------------------------------------------------------------------\u001b[0m",
      "\u001b[1;31mModuleNotFoundError\u001b[0m                       Traceback (most recent call last)",
      "\u001b[1;32m<ipython-input-2-f5a036ceaae5>\u001b[0m in \u001b[0;36m<module>\u001b[1;34m()\u001b[0m\n\u001b[1;32m----> 1\u001b[1;33m \u001b[1;32mimport\u001b[0m \u001b[0mdevkit\u001b[0m\u001b[1;33m.\u001b[0m\u001b[0mapi\u001b[0m \u001b[1;32mas\u001b[0m \u001b[0mdk\u001b[0m\u001b[1;33m\u001b[0m\u001b[0m\n\u001b[0m\u001b[0;32m      2\u001b[0m \u001b[1;32mimport\u001b[0m \u001b[0mDataAPI\u001b[0m\u001b[1;33m.\u001b[0m\u001b[0mapi\u001b[0m \u001b[1;32mas\u001b[0m \u001b[0mDataAPI\u001b[0m\u001b[1;33m\u001b[0m\u001b[0m\n\u001b[0;32m      3\u001b[0m \u001b[1;32mimport\u001b[0m \u001b[0mfinkit\u001b[0m\u001b[1;33m.\u001b[0m\u001b[0mapi\u001b[0m \u001b[1;32mas\u001b[0m \u001b[0mfk\u001b[0m\u001b[1;33m\u001b[0m\u001b[0m\n\u001b[0;32m      4\u001b[0m \u001b[1;32mimport\u001b[0m \u001b[0mos\u001b[0m\u001b[1;33m\u001b[0m\u001b[0m\n\u001b[0;32m      5\u001b[0m \u001b[1;32mimport\u001b[0m \u001b[0mpandas\u001b[0m \u001b[1;32mas\u001b[0m \u001b[0mpd\u001b[0m\u001b[1;33m\u001b[0m\u001b[0m\n",
      "\u001b[1;31mModuleNotFoundError\u001b[0m: No module named 'devkit'"
     ]
    }
   ],
   "source": [
    "import devkit.api as dk\n",
    "import DataAPI.api as DataAPI\n",
    "import finkit.api as fk\n",
    "import os\n",
    "import pandas as pd\n",
    "import WindAPI\n",
    "import sqlite3\n",
    "from sqlite3 import Error"
   ]
  },
  {
   "cell_type": "code",
   "execution_count": 3,
   "metadata": {},
   "outputs": [
    {
     "data": {
      "text/plain": [
       "'E:\\\\04_project\\\\sw\\\\DataAPI'"
      ]
     },
     "execution_count": 3,
     "metadata": {},
     "output_type": "execute_result"
    }
   ],
   "source": [
    "import os \n",
    "os.getcwd()"
   ]
  },
  {
   "cell_type": "code",
   "execution_count": null,
   "metadata": {
    "collapsed": true
   },
   "outputs": [],
   "source": [
    "start = \"2017-01-01\"\n",
    "end = \"2017-05-31\"\n",
    "\n",
    "trading_days = fk.get_trading_days(start=start, end=end)"
   ]
  },
  {
   "cell_type": "code",
   "execution_count": null,
   "metadata": {
    "collapsed": true
   },
   "outputs": [],
   "source": [
    "from csv_to_db import csv_to_db_by_years, csv_to_db_by_years_single,create_db_for_IC,create_db,delete_some_records"
   ]
  },
  {
   "cell_type": "code",
   "execution_count": null,
   "metadata": {
    "collapsed": true
   },
   "outputs": [],
   "source": [
    "DataAPI.get_secs_indicator(\"CLOSE\",['000001.SZ', '000008.SZ'],['2016-03-21', '2017-03-24'])"
   ]
  },
  {
   "cell_type": "code",
   "execution_count": null,
   "metadata": {},
   "outputs": [],
   "source": [
    "DataAPI.get_db_schema(\"indicator\")"
   ]
  },
  {
   "cell_type": "code",
   "execution_count": null,
   "metadata": {},
   "outputs": [],
   "source": [
    "\n",
    "create_db(r\"C:\\Users\\youlin\\Desktop\\test\",year,\"date,sec_id\",\"A\")"
   ]
  },
  {
   "cell_type": "code",
   "execution_count": null,
   "metadata": {},
   "outputs": [],
   "source": [
    "for year in ['2005','2006','2007','2008','2009','2010','2011','2012','2013','2014']:\n",
    "    print(year)\n",
    "    for table_name in DataAPI.get_db_schema(\"factor\"):\n",
    "    #for table_names in [ \"A\"]:\n",
    "        create_db(r\"E:\\02_work\\sw\\db\\factor\",year,\"date,sec_id\",table_name)"
   ]
  },
  {
   "cell_type": "code",
   "execution_count": null,
   "metadata": {},
   "outputs": [],
   "source": [
    "delete_some_records(\"sec_id='ErrorReport'\")"
   ]
  },
  {
   "cell_type": "code",
   "execution_count": null,
   "metadata": {},
   "outputs": [],
   "source": [
    "for year in ['2005','2006','2007','2008','2009']:\n",
    "    print(year)\n",
    "    for table_names in [\"A\", \"H\", \"000300.SH\", \"000905.SH\", \"000016.SH\"]:\n",
    "    #for table_names in [ \"A\"]:\n",
    "        create_db_for_IC(r\"E:\\02_work\\sw\\db\\index_contents\",year,\"date,sec_id\",table_names)"
   ]
  },
  {
   "cell_type": "code",
   "execution_count": null,
   "metadata": {},
   "outputs": [],
   "source": [
    "sql=dk.SqliteProxy()\n",
    "sql.connect(r\"E:\\02_work\\sw\\db\\index_contents\\2016.db\")\n",
    "#print(sql.query_as_dataframe(\"SELECT max(date) FROM VALUE\"))\n",
    "#print(sql.describe_table(\"000300.SH\"))\n",
    "print(sql.list_tables)\n",
    "sql.close()"
   ]
  },
  {
   "cell_type": "code",
   "execution_count": null,
   "metadata": {},
   "outputs": [],
   "source": [
    "sql.execute(\"CREATE TABLE [000300.SH]   (date CHAR(10) NOT NULL, sec_id TEXT NOT NULL,sec_name TEXT)\")"
   ]
  },
  {
   "cell_type": "code",
   "execution_count": null,
   "metadata": {},
   "outputs": [],
   "source": [
    "datelist=[]\n",
    "for db in [ins for ins in os.listdir(r\"E:\\02_work\\sw\\db\\factor\") if ins[-2:] =='db']:\n",
    "    path = os.path.join(r\"E:\\02_work\\sw\\db\\factor\",db)\n",
    "    sql = dk.SqliteProxy()\n",
    "    sql.connect(path)\n",
    "    query = \"SELECT distinct(date) FROM {}\".format(\"VALUE\")\n",
    "    df = sql.query_as_dataframe(query).loc[:, 'date'].tolist()\n",
    "    if df :\n",
    "        datelist.append((df))\n",
    "    "
   ]
  },
  {
   "cell_type": "code",
   "execution_count": null,
   "metadata": {},
   "outputs": [],
   "source": [
    "DataAPI.update_schema(\"index_contents\", 'A')"
   ]
  },
  {
   "cell_type": "code",
   "execution_count": null,
   "metadata": {},
   "outputs": [],
   "source": [
    "DataAPI.DB_PATH_LIB"
   ]
  },
  {
   "cell_type": "code",
   "execution_count": null,
   "metadata": {},
   "outputs": [],
   "source": [
    "sql = dk.SqliteProxy()\n",
    "path = os.path.join(r\"E:\\02_work\\sw\\db\\indicator\\2011.db\")\n",
    "sql.connect(path)\n",
    "print(sql.describe_table('BETA_100W'))\n",
    "#print(sql.query_as_dataframe(\"SELECT * FROM 'BETA_100W'\"))\n",
    "sql.close()"
   ]
  },
  {
   "cell_type": "code",
   "execution_count": null,
   "metadata": {},
   "outputs": [],
   "source": [
    "DataAPI.get_A_secs_name(['300575.SZ'])"
   ]
  },
  {
   "cell_type": "code",
   "execution_count": null,
   "metadata": {},
   "outputs": [],
   "source": [
    "sql.close()"
   ]
  },
  {
   "cell_type": "code",
   "execution_count": null,
   "metadata": {
    "collapsed": true
   },
   "outputs": [],
   "source": [
    "import traceback\n",
    "def test(a,b):\n",
    "    try:\n",
    "        c=a/b\n",
    "    except Exception:\n",
    "        print(traceback.print_exc())\n",
    "        c=\"ERROR\"\n",
    "        return \"ERORR berak\"\n",
    "    return c\n",
    "    "
   ]
  },
  {
   "cell_type": "code",
   "execution_count": null,
   "metadata": {},
   "outputs": [],
   "source": [
    "test(6,0)"
   ]
  },
  {
   "cell_type": "code",
   "execution_count": null,
   "metadata": {},
   "outputs": [],
   "source": [
    "csv_to_db_by_years_single('index_contents', 'A')"
   ]
  },
  {
   "cell_type": "code",
   "execution_count": null,
   "metadata": {},
   "outputs": [],
   "source": [
    "for table_name in ['000300.SH', '000905.SH', '000016.SH']:\n",
    "    csv_to_db_by_years_single('index_contents', table_name)"
   ]
  },
  {
   "cell_type": "code",
   "execution_count": null,
   "metadata": {},
   "outputs": [],
   "source": [
    "csv_to_db_by_years('indicator')"
   ]
  },
  {
   "cell_type": "code",
   "execution_count": null,
   "metadata": {},
   "outputs": [],
   "source": [
    "csv_to_db_by_years_single('index_contents', 'A')"
   ]
  },
  {
   "cell_type": "code",
   "execution_count": null,
   "metadata": {},
   "outputs": [],
   "source": [
    "for db_name in ['factor']:\n",
    "    csv_to_db_by_years(db_name)"
   ]
  },
  {
   "cell_type": "code",
   "execution_count": null,
   "metadata": {},
   "outputs": [],
   "source": [
    "DataAPI.get_db_schema('INDEX_CONTENTS')"
   ]
  },
  {
   "cell_type": "code",
   "execution_count": null,
   "metadata": {},
   "outputs": [],
   "source": [
    "sql = dk.SqliteProxy()\n",
    "sql.connect(r\"E:\\02_work\\sw\\db\\index_contents\\2017.db\")\n",
    "sql.describe_table(\"A\")\n",
    "sql.close()"
   ]
  },
  {
   "cell_type": "code",
   "execution_count": null,
   "metadata": {},
   "outputs": [],
   "source": [
    "sql.close()"
   ]
  },
  {
   "cell_type": "code",
   "execution_count": null,
   "metadata": {},
   "outputs": [],
   "source": [
    "DataAPI.calculate_VALUE('2017-01-09')"
   ]
  },
  {
   "cell_type": "code",
   "execution_count": null,
   "metadata": {},
   "outputs": [],
   "source": [
    "df.reindex(columns=['sec_id','PROFIT'])"
   ]
  },
  {
   "cell_type": "markdown",
   "metadata": {},
   "source": [
    "# 用SqliteProxy查询某个数据库"
   ]
  },
  {
   "cell_type": "code",
   "execution_count": null,
   "metadata": {
    "collapsed": true
   },
   "outputs": [],
   "source": [
    "from devkit.api import SqliteProxy"
   ]
  },
  {
   "cell_type": "code",
   "execution_count": null,
   "metadata": {},
   "outputs": [],
   "source": [
    "sql = dk.SqliteProxy()\n",
    "sql.connect(r\"E:\\02_work\\sw\\db\\factor\\2017.db\")\n",
    "table_name = \"PROFIT\"\n",
    "date = '2017-07-25'\n",
    "# print(sql.list_vars('CLOSE'))\n",
    "df = sql.query_as_dataframe(\"SELECT * from {} WHERE date='{}'\".format(table_name, date))\n",
    "# sql.close()\n",
    "# df.head(3)"
   ]
  },
  {
   "cell_type": "code",
   "execution_count": null,
   "metadata": {},
   "outputs": [],
   "source": [
    "sql.describe_table(\"PROFIT\")"
   ]
  },
  {
   "cell_type": "code",
   "execution_count": null,
   "metadata": {
    "collapsed": true
   },
   "outputs": [],
   "source": [
    "sql.close()"
   ]
  },
  {
   "cell_type": "code",
   "execution_count": null,
   "metadata": {},
   "outputs": [],
   "source": [
    "sql = dk.SqliteProxy()\n",
    "sql.connect(r\"E:\\02_work\\sw\\db\\factor\\2017.db\")\n",
    "table_name = \"PROFIT\"\n",
    "date = '2017-07-25'\n",
    "# print(sql.list_vars('CLOSE'))\n",
    "df = sql.query_as_dataframe(\"SELECT * from {} WHERE date='{}'\".format(table_name, date))\n",
    "sql.close()\n",
    "df.head(3)"
   ]
  },
  {
   "cell_type": "code",
   "execution_count": null,
   "metadata": {},
   "outputs": [],
   "source": [
    "import WindPy\n",
    "WindPy.w.start()"
   ]
  },
  {
   "cell_type": "code",
   "execution_count": null,
   "metadata": {
    "collapsed": true
   },
   "outputs": [],
   "source": [
    "a=WindPy.w.wss(\"000006.SZ,000016.SZ,000027.SZ\", \"open,low\",\"tradeDate=20180302;priceAdj=U;cycle=D\")"
   ]
  },
  {
   "cell_type": "code",
   "execution_count": null,
   "metadata": {},
   "outputs": [],
   "source": [
    "a.ErrorCode"
   ]
  },
  {
   "cell_type": "code",
   "execution_count": null,
   "metadata": {},
   "outputs": [],
   "source": [
    "WindPy.w.wset(\"indexconstituent\",\"date=2018-03-03;windcode=000300.SH\")"
   ]
  },
  {
   "cell_type": "markdown",
   "metadata": {},
   "source": [
    "# 用原生sqlite3查询某个数据库"
   ]
  },
  {
   "cell_type": "code",
   "execution_count": null,
   "metadata": {
    "collapsed": true
   },
   "outputs": [],
   "source": [
    "a=sqlite3.connect(r\"E:\\02_work\\sw\\db\\indicator\\2018.db\")"
   ]
  },
  {
   "cell_type": "code",
   "execution_count": null,
   "metadata": {
    "collapsed": true
   },
   "outputs": [],
   "source": [
    "c=a.cursor()"
   ]
  },
  {
   "cell_type": "code",
   "execution_count": null,
   "metadata": {
    "collapsed": true
   },
   "outputs": [],
   "source": [
    "c.close()"
   ]
  },
  {
   "cell_type": "code",
   "execution_count": null,
   "metadata": {},
   "outputs": [],
   "source": [
    "c.execute(\"SELECT date,sec_id FROM {}\".format(table_name))"
   ]
  },
  {
   "cell_type": "code",
   "execution_count": null,
   "metadata": {},
   "outputs": [],
   "source": [
    "table_name = \"CLOSE\"\n",
    "c.execute(\"SELECT date,sec_id FROM (?);\",(table_name,))"
   ]
  },
  {
   "cell_type": "markdown",
   "metadata": {},
   "source": [
    "# 删除一个table的满足条件的records"
   ]
  },
  {
   "cell_type": "code",
   "execution_count": null,
   "metadata": {},
   "outputs": [],
   "source": [
    "sql = dk.SqliteProxy()\n",
    "sql.connect(r\"E:\\02_work\\sw\\db\\factor\\2017.db\")\n",
    "table_name = \"PROFIT\"\n",
    "date = '2017-07-25'\n",
    "# print(sql.list_vars('CLOSE'))\n",
    "sql.execute(\"DELETE FROM {} WHERE date='{}'\".format(table_name, date))\n",
    "sql.close()"
   ]
  },
  {
   "cell_type": "code",
   "execution_count": null,
   "metadata": {
    "collapsed": true
   },
   "outputs": [],
   "source": []
  },
  {
   "cell_type": "code",
   "execution_count": null,
   "metadata": {},
   "outputs": [],
   "source": [
    "table_name = \"CLOSE\"\n",
    "date = '2018-01-31'\n",
    "sql.query_as_dataframe(\"SELECT sec_id, CLOSE FROM CLOSE WHERE date='{}'\".format(date))"
   ]
  },
  {
   "cell_type": "code",
   "execution_count": null,
   "metadata": {
    "collapsed": true
   },
   "outputs": [],
   "source": [
    "conn = sqlite3.connect(r\"E:\\02_work\\sw\\db\\indicator\\2016.db\")"
   ]
  },
  {
   "cell_type": "code",
   "execution_count": null,
   "metadata": {
    "collapsed": true
   },
   "outputs": [],
   "source": [
    "cursor = conn.cursor()"
   ]
  },
  {
   "cell_type": "code",
   "execution_count": null,
   "metadata": {
    "collapsed": true
   },
   "outputs": [],
   "source": []
  },
  {
   "cell_type": "code",
   "execution_count": null,
   "metadata": {
    "collapsed": true
   },
   "outputs": [],
   "source": []
  },
  {
   "cell_type": "code",
   "execution_count": null,
   "metadata": {},
   "outputs": [],
   "source": [
    "cursor.execute('''CREATE TABLE TEST \n",
    "    (DATE CHAR(10),\n",
    "     SEC_ID TEXT, \n",
    "     PRIMARY KEY(DATE,SEC_ID));''')"
   ]
  },
  {
   "cell_type": "code",
   "execution_count": null,
   "metadata": {
    "collapsed": true
   },
   "outputs": [],
   "source": [
    "res = cursor.execute(\"SELECT sql FROM sqlite_master WHERE type='table' and name ='TEST';\")"
   ]
  },
  {
   "cell_type": "code",
   "execution_count": null,
   "metadata": {},
   "outputs": [],
   "source": [
    "res.fetchall()"
   ]
  },
  {
   "cell_type": "code",
   "execution_count": null,
   "metadata": {},
   "outputs": [],
   "source": [
    "cursor.execute(\"INSERT INTO AMT (date,sec_id,AMT) VALUES ('2016-01-19', '000008.SZ' ,90)\")"
   ]
  },
  {
   "cell_type": "code",
   "execution_count": null,
   "metadata": {},
   "outputs": [],
   "source": [
    "cursor.execute(\"INSERT INTO TEST (DATE,SEC_ID) VALUES ('2018-01-02','900')\")"
   ]
  },
  {
   "cell_type": "code",
   "execution_count": null,
   "metadata": {
    "collapsed": true
   },
   "outputs": [],
   "source": [
    "conn.commit()\n",
    "conn.close()"
   ]
  },
  {
   "cell_type": "code",
   "execution_count": null,
   "metadata": {},
   "outputs": [],
   "source": [
    "try:\n",
    "    cursor.execute(\"INSERT INTO TEST (DATE,SEC_ID) VALUES ('2018-01-02','900')\")\n",
    "except Error:\n",
    "    traceback.print_exc()\n",
    "    "
   ]
  },
  {
   "cell_type": "code",
   "execution_count": null,
   "metadata": {},
   "outputs": [],
   "source": [
    "from "
   ]
  },
  {
   "cell_type": "code",
   "execution_count": null,
   "metadata": {
    "collapsed": true
   },
   "outputs": [],
   "source": [
    "import traceback"
   ]
  },
  {
   "cell_type": "code",
   "execution_count": null,
   "metadata": {},
   "outputs": [],
   "source": [
    "sql.create_table('test1', [('date','text','True','False'),(('sec_id','char(10)','True','False'))])"
   ]
  },
  {
   "cell_type": "code",
   "execution_count": null,
   "metadata": {
    "collapsed": true
   },
   "outputs": [],
   "source": []
  },
  {
   "cell_type": "code",
   "execution_count": null,
   "metadata": {
    "collapsed": true
   },
   "outputs": [],
   "source": []
  },
  {
   "cell_type": "code",
   "execution_count": null,
   "metadata": {
    "collapsed": true
   },
   "outputs": [],
   "source": [
    "df = DataAPI.get_secs_indicator('CLOSE', date='2017-01-09')\n",
    "df['date'] =\"2017-01-09\""
   ]
  },
  {
   "cell_type": "code",
   "execution_count": null,
   "metadata": {},
   "outputs": [],
   "source": [
    "sql.write_from_dataframe(df,'CLOSE')"
   ]
  },
  {
   "cell_type": "code",
   "execution_count": null,
   "metadata": {},
   "outputs": [],
   "source": [
    "sql.close()"
   ]
  },
  {
   "cell_type": "code",
   "execution_count": null,
   "metadata": {
    "collapsed": true
   },
   "outputs": [],
   "source": [
    "import csv_to_db as c2d"
   ]
  },
  {
   "cell_type": "code",
   "execution_count": null,
   "metadata": {},
   "outputs": [],
   "source": [
    "c2d.csv_to_db_by_years('2016-01-01', '2016-01-31', 'INDICATOR')"
   ]
  },
  {
   "cell_type": "code",
   "execution_count": null,
   "metadata": {},
   "outputs": [],
   "source": [
    "db_indicator.write_from_dataframe(df, \"CLOSE\")"
   ]
  },
  {
   "cell_type": "code",
   "execution_count": null,
   "metadata": {},
   "outputs": [],
   "source": [
    "db_indicator.close()"
   ]
  },
  {
   "cell_type": "code",
   "execution_count": null,
   "metadata": {},
   "outputs": [],
   "source": [
    "sql.describe_table(\"CLOSE\")"
   ]
  },
  {
   "cell_type": "code",
   "execution_count": null,
   "metadata": {},
   "outputs": [],
   "source": [
    "df=DataAPI.get_secs_indicator(indicator='CLOSE', sec_ids=[], date='2016-04-12')\n",
    "df['date'] = '2016-04-12'\n",
    "df.merge(a,le)"
   ]
  },
  {
   "cell_type": "code",
   "execution_count": null,
   "metadata": {
    "collapsed": true
   },
   "outputs": [],
   "source": [
    "sql.write_from_dataframe(df_all,r\"C:\\Users\\youlin\\Desktop\\test\\ind.db\")"
   ]
  },
  {
   "cell_type": "code",
   "execution_count": null,
   "metadata": {
    "collapsed": true
   },
   "outputs": [],
   "source": [
    "conn = sqlite3.connect(r\"C:\\Users\\youlin\\Desktop\\test\\ind.db\")"
   ]
  },
  {
   "cell_type": "code",
   "execution_count": null,
   "metadata": {
    "collapsed": true
   },
   "outputs": [],
   "source": [
    "res = conn.execute(\"SELECT CLOSE FROM CLOSE WHERE DATE='2017-06-22' \")"
   ]
  },
  {
   "cell_type": "code",
   "execution_count": null,
   "metadata": {},
   "outputs": [],
   "source": [
    "DataAPI.load_single_factor_return_during_period('VALUE',['2016-03-07', '2016-03-08', '2016-03-09'])"
   ]
  },
  {
   "cell_type": "code",
   "execution_count": null,
   "metadata": {
    "collapsed": true
   },
   "outputs": [],
   "source": []
  },
  {
   "cell_type": "code",
   "execution_count": null,
   "metadata": {
    "collapsed": true
   },
   "outputs": [],
   "source": [
    "pd.read_sql_query(\"SELECT SEC_ID,CLOSE FROM CLOSE WHERE DATE='2017-06-22' \", conn)"
   ]
  },
  {
   "cell_type": "code",
   "execution_count": null,
   "metadata": {
    "collapsed": true
   },
   "outputs": [],
   "source": [
    "df_all.to_sql(\"CLOSE\", conn)"
   ]
  },
  {
   "cell_type": "code",
   "execution_count": null,
   "metadata": {},
   "outputs": [],
   "source": [
    "conn.commit\n",
    "conn.close"
   ]
  },
  {
   "cell_type": "code",
   "execution_count": null,
   "metadata": {},
   "outputs": [],
   "source": [
    "conn.cursor()"
   ]
  },
  {
   "cell_type": "code",
   "execution_count": null,
   "metadata": {
    "collapsed": true
   },
   "outputs": [],
   "source": [
    "conn.cursor().close()"
   ]
  },
  {
   "cell_type": "code",
   "execution_count": null,
   "metadata": {
    "collapsed": true
   },
   "outputs": [],
   "source": [
    "conn.commit()"
   ]
  },
  {
   "cell_type": "code",
   "execution_count": null,
   "metadata": {},
   "outputs": [],
   "source": [
    "conn.close"
   ]
  },
  {
   "cell_type": "code",
   "execution_count": null,
   "metadata": {
    "collapsed": true
   },
   "outputs": [],
   "source": [
    "from csv_to_db import create_db"
   ]
  },
  {
   "cell_type": "code",
   "execution_count": null,
   "metadata": {},
   "outputs": [],
   "source": [
    "for year in ['2013','2014', '2015', '2016', '2017','2018']:\n",
    "    for table in DataAPI.get_db_schema('INDICATOR'):\n",
    "        create_db(r\"E:\\02_work\\sw\\db\\indicator\",year,\"date,sec_id\",table)"
   ]
  },
  {
   "cell_type": "code",
   "execution_count": null,
   "metadata": {},
   "outputs": [],
   "source": [
    "sql=dk.SqliteProxy()\n",
    "sql.connect(r\"E:\\02_work\\sw\\db\\indicator\\2013.db\")"
   ]
  },
  {
   "cell_type": "code",
   "execution_count": null,
   "metadata": {},
   "outputs": [],
   "source": [
    "sql.describe_table('ANNUALSTDEVR_100W')"
   ]
  },
  {
   "cell_type": "code",
   "execution_count": null,
   "metadata": {
    "collapsed": true
   },
   "outputs": [],
   "source": [
    "aa = pd.read_csv(r\"C:\\Users\\youlin\\Desktop\\test.csv\")"
   ]
  },
  {
   "cell_type": "code",
   "execution_count": null,
   "metadata": {
    "collapsed": true
   },
   "outputs": [],
   "source": [
    "aa['date']='2017-09-09'"
   ]
  },
  {
   "cell_type": "code",
   "execution_count": null,
   "metadata": {},
   "outputs": [],
   "source": [
    "sql.write_from_dataframe(aa,'close')"
   ]
  },
  {
   "cell_type": "code",
   "execution_count": null,
   "metadata": {},
   "outputs": [],
   "source": [
    "sql.close()"
   ]
  },
  {
   "cell_type": "code",
   "execution_count": null,
   "metadata": {},
   "outputs": [],
   "source": [
    "sql.query_as_dataframe(\"SELECT * FROM close\")"
   ]
  },
  {
   "cell_type": "code",
   "execution_count": null,
   "metadata": {
    "collapsed": true
   },
   "outputs": [],
   "source": [
    "trading_days=['2017-01-03','2016-02-01','2017-04-05','2016-05-12','2016-09-09']"
   ]
  },
  {
   "cell_type": "code",
   "execution_count": null,
   "metadata": {},
   "outputs": [],
   "source": [
    "DataAPI.get_index_contents(\"000300.SH\", trading_days)['2016-05-12']"
   ]
  },
  {
   "cell_type": "code",
   "execution_count": null,
   "metadata": {
    "collapsed": true
   },
   "outputs": [],
   "source": [
    "a={date[:4]+'.db': [ins for ins in trading_days if ins[:4]==date[:4] ] for date in trading_days}"
   ]
  },
  {
   "cell_type": "code",
   "execution_count": null,
   "metadata": {},
   "outputs": [],
   "source": [
    "a"
   ]
  },
  {
   "cell_type": "code",
   "execution_count": null,
   "metadata": {},
   "outputs": [],
   "source": [
    "output=pd.DataFrame()\n",
    "sql = dk.SqliteProxy()\n",
    "for key,value in a.items():\n",
    "    path=os.path.join(DataAPI.DB_PATH,'index_contents',key)\n",
    "    sql.connect(path)\n",
    "    if len(value) == 1:\n",
    "        df=sql.query_as_dataframe(\"SELECT * FROM A WHERE date = '{}'\".format(value[0]))\n",
    "        output=output.append(df)\n",
    "    else:\n",
    "        df = sql.query_as_dataframe(\"SELECT * FROM A WHERE date in {}\".format(tuple(value)))\n",
    "        print(df)\n",
    "        output=output.append(df)\n",
    "sql.close()"
   ]
  },
  {
   "cell_type": "code",
   "execution_count": null,
   "metadata": {},
   "outputs": [],
   "source": [
    "set(output['date'])"
   ]
  },
  {
   "cell_type": "code",
   "execution_count": null,
   "metadata": {},
   "outputs": [],
   "source": [
    "sql = dk.SqliteProxy()\n",
    "sql.connect(r\"E:\\02_work\\sw\\db\\indicator\\2018.db\")\n",
    "#print(sql.query_as_dataframe(\"SELECT * FROM A WHERE date='2018-01-12'\"))\n",
    "#print(sql.list_tables)\n",
    "sql.execute(\"DELETE FROM close WHERE date ='2018-01-29'\")\n",
    "sql.close()"
   ]
  },
  {
   "cell_type": "code",
   "execution_count": null,
   "metadata": {},
   "outputs": [],
   "source": [
    "sql.close()"
   ]
  },
  {
   "cell_type": "code",
   "execution_count": null,
   "metadata": {
    "collapsed": true
   },
   "outputs": [],
   "source": []
  }
 ],
 "metadata": {
  "kernelspec": {
   "display_name": "Python 3",
   "language": "python",
   "name": "python3"
  },
  "language_info": {
   "codemirror_mode": {
    "name": "ipython",
    "version": 3
   },
   "file_extension": ".py",
   "mimetype": "text/x-python",
   "name": "python",
   "nbconvert_exporter": "python",
   "pygments_lexer": "ipython3",
   "version": "3.6.3"
  },
  "toc": {
   "nav_menu": {},
   "number_sections": true,
   "sideBar": true,
   "skip_h1_title": false,
   "title_cell": "Table of Contents",
   "title_sidebar": "Contents",
   "toc_cell": false,
   "toc_position": {},
   "toc_section_display": true,
   "toc_window_display": false
  }
 },
 "nbformat": 4,
 "nbformat_minor": 2
}
