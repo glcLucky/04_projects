{
 "cells": [
  {
   "cell_type": "code",
   "execution_count": 1,
   "metadata": {},
   "outputs": [
    {
     "name": "stdout",
     "output_type": "stream",
     "text": [
      "Populating the interactive namespace from numpy and matplotlib\n"
     ]
    }
   ],
   "source": [
    "%pylab inline\n",
    "%load_ext autoreload\n",
    "%autoreload 2\n",
    "\n",
    "import os\n",
    "import numpy as np\n",
    "import pandas as pd\n",
    "\n",
    "import devkit.api as dk\n",
    "import finkit.api as fk\n",
    "import DataAPI"
   ]
  },
  {
   "cell_type": "markdown",
   "metadata": {},
   "source": [
    "---\n",
    "\n",
    "# 数据库架构"
   ]
  },
  {
   "cell_type": "code",
   "execution_count": 2,
   "metadata": {},
   "outputs": [
    {
     "ename": "AttributeError",
     "evalue": "module 'DataAPI' has no attribute 'show_db_info'",
     "output_type": "error",
     "traceback": [
      "\u001b[1;31m---------------------------------------------------------------------------\u001b[0m",
      "\u001b[1;31mAttributeError\u001b[0m                            Traceback (most recent call last)",
      "\u001b[1;32m<ipython-input-2-f81089a55725>\u001b[0m in \u001b[0;36m<module>\u001b[1;34m()\u001b[0m\n\u001b[0;32m      9\u001b[0m \u001b[1;31m# db_name = \"INDICATOR\"\u001b[0m\u001b[1;33m\u001b[0m\u001b[1;33m\u001b[0m\u001b[0m\n\u001b[0;32m     10\u001b[0m \u001b[1;32mfor\u001b[0m \u001b[0mdb_name\u001b[0m \u001b[1;32min\u001b[0m \u001b[0mdb_names\u001b[0m\u001b[1;33m:\u001b[0m\u001b[1;33m\u001b[0m\u001b[0m\n\u001b[1;32m---> 11\u001b[1;33m     \u001b[0mDataAPI\u001b[0m\u001b[1;33m.\u001b[0m\u001b[0mshow_db_info\u001b[0m\u001b[1;33m(\u001b[0m\u001b[0mdb_name\u001b[0m\u001b[1;33m)\u001b[0m\u001b[1;33m\u001b[0m\u001b[0m\n\u001b[0m",
      "\u001b[1;31mAttributeError\u001b[0m: module 'DataAPI' has no attribute 'show_db_info'"
     ]
    }
   ],
   "source": [
    "db_names = [\n",
    "    \"index_contents\",  # 股票列表\n",
    "    \"industry\",  # 行业分类\n",
    "    \"indicator\",  # 基础指标\n",
    "    \"factor\",  # 因子\n",
    "    \"factor_return\",  # 因子收益\n",
    "]\n",
    "\n",
    "# db_name = \"INDICATOR\"\n",
    "for db_name in db_names:\n",
    "    DataAPI.show_db_info(db_name)"
   ]
  },
  {
   "cell_type": "markdown",
   "metadata": {},
   "source": [
    "---\n",
    "\n",
    "# 待更新日期"
   ]
  },
  {
   "cell_type": "code",
   "execution_count": 4,
   "metadata": {
    "collapsed": true
   },
   "outputs": [],
   "source": [
    "start = \"2005-01-01\"\n",
    "end = \"2018-03-01\"\n",
    "trading_days = fk.get_trading_days(start=start, end=end)\n",
    "#trading_days = list(set(fk.get_trading_days(start=start, end=end)).union(set(fk.get_report_days(start=start, end=end))))\n",
    "trading_days = sorted(trading_days)"
   ]
  },
  {
   "cell_type": "markdown",
   "metadata": {},
   "source": [
    "---\n",
    "\n",
    "# indicator"
   ]
  },
  {
   "cell_type": "code",
   "execution_count": 5,
   "metadata": {
    "scrolled": false
   },
   "outputs": [
    {
     "name": "stdout",
     "output_type": "stream",
     "text": [
      "\u001b[34m[INFO] 2018-04-22 10:44:51 TABLE WEST_AVGROE_YOY is created in E:\\02_work\\sw\\db\\indicator\\2005.db.\u001b[0m\n",
      "\u001b[34m[INFO] 2018-04-22 10:44:51 INDEX WEST_AVGROE_YOY_index is created on TABLE WEST_AVGROE_YOY of E:\\02_work\\sw\\db\\indicator\\2005.db.\u001b[0m\n",
      "\u001b[34m[INFO] 2018-04-22 10:46:31 TABLE WEST_AVGROE_YOY is created in E:\\02_work\\sw\\db\\indicator\\2006.db.\u001b[0m\n",
      "\u001b[34m[INFO] 2018-04-22 10:46:31 INDEX WEST_AVGROE_YOY_index is created on TABLE WEST_AVGROE_YOY of E:\\02_work\\sw\\db\\indicator\\2006.db.\u001b[0m\n",
      "\u001b[34m[INFO] 2018-04-22 10:48:12 TABLE WEST_AVGROE_YOY is created in E:\\02_work\\sw\\db\\indicator\\2007.db.\u001b[0m\n",
      "\u001b[34m[INFO] 2018-04-22 10:48:12 INDEX WEST_AVGROE_YOY_index is created on TABLE WEST_AVGROE_YOY of E:\\02_work\\sw\\db\\indicator\\2007.db.\u001b[0m\n",
      "\u001b[34m[INFO] 2018-04-22 10:49:55 TABLE WEST_AVGROE_YOY is created in E:\\02_work\\sw\\db\\indicator\\2008.db.\u001b[0m\n",
      "\u001b[34m[INFO] 2018-04-22 10:49:55 INDEX WEST_AVGROE_YOY_index is created on TABLE WEST_AVGROE_YOY of E:\\02_work\\sw\\db\\indicator\\2008.db.\u001b[0m\n",
      "\u001b[34m[INFO] 2018-04-22 10:51:38 TABLE WEST_AVGROE_YOY is created in E:\\02_work\\sw\\db\\indicator\\2009.db.\u001b[0m\n",
      "\u001b[34m[INFO] 2018-04-22 10:51:39 INDEX WEST_AVGROE_YOY_index is created on TABLE WEST_AVGROE_YOY of E:\\02_work\\sw\\db\\indicator\\2009.db.\u001b[0m\n",
      "\u001b[34m[INFO] 2018-04-22 10:53:24 TABLE WEST_AVGROE_YOY is created in E:\\02_work\\sw\\db\\indicator\\2010.db.\u001b[0m\n",
      "\u001b[34m[INFO] 2018-04-22 10:53:24 INDEX WEST_AVGROE_YOY_index is created on TABLE WEST_AVGROE_YOY of E:\\02_work\\sw\\db\\indicator\\2010.db.\u001b[0m\n",
      "\u001b[34m[INFO] 2018-04-22 10:55:05 TABLE WEST_AVGROE_YOY is created in E:\\02_work\\sw\\db\\indicator\\2011.db.\u001b[0m\n",
      "\u001b[34m[INFO] 2018-04-22 10:55:06 INDEX WEST_AVGROE_YOY_index is created on TABLE WEST_AVGROE_YOY of E:\\02_work\\sw\\db\\indicator\\2011.db.\u001b[0m\n",
      "\u001b[34m[INFO] 2018-04-22 10:57:58 TABLE WEST_AVGROE_YOY is created in E:\\02_work\\sw\\db\\indicator\\2012.db.\u001b[0m\n",
      "\u001b[34m[INFO] 2018-04-22 10:57:58 INDEX WEST_AVGROE_YOY_index is created on TABLE WEST_AVGROE_YOY of E:\\02_work\\sw\\db\\indicator\\2012.db.\u001b[0m\n",
      "\u001b[31m[ERROR] 2018-04-22 10:59:00 Error occurred when loading WEST_AVGROE_YOY on 2012-05-24\u001b[0m\n"
     ]
    },
    {
     "ename": "ValueError",
     "evalue": "",
     "output_type": "error",
     "traceback": [
      "\u001b[1;31m---------------------------------------------------------------------------\u001b[0m",
      "\u001b[1;31mValueError\u001b[0m                                Traceback (most recent call last)",
      "\u001b[1;32mE:\\04_project\\DataAPI\\write\\indicator.py\u001b[0m in \u001b[0;36mupdate_single_indicator\u001b[1;34m(indicator, trading_days, override, log)\u001b[0m\n\u001b[0;32m     78\u001b[0m                 \u001b[1;32mtry\u001b[0m\u001b[1;33m:\u001b[0m\u001b[1;33m\u001b[0m\u001b[0m\n\u001b[1;32m---> 79\u001b[1;33m                     \u001b[0mdf\u001b[0m \u001b[1;33m=\u001b[0m \u001b[0mload_single_indicator_on_single_day_from_wind\u001b[0m\u001b[1;33m(\u001b[0m\u001b[0mindicator\u001b[0m\u001b[1;33m=\u001b[0m\u001b[0mindicator\u001b[0m\u001b[1;33m,\u001b[0m \u001b[0mdate\u001b[0m\u001b[1;33m=\u001b[0m\u001b[0mdate\u001b[0m\u001b[1;33m)\u001b[0m\u001b[1;33m\u001b[0m\u001b[0m\n\u001b[0m\u001b[0;32m     80\u001b[0m                 \u001b[1;32mexcept\u001b[0m \u001b[0mException\u001b[0m\u001b[1;33m:\u001b[0m\u001b[1;33m\u001b[0m\u001b[0m\n",
      "\u001b[1;32mE:\\04_project\\DataAPI\\load\\indicator.py\u001b[0m in \u001b[0;36mload_single_indicator_on_single_day_from_wind\u001b[1;34m(indicator, date, log)\u001b[0m\n\u001b[0;32m     64\u001b[0m     )\n\u001b[1;32m---> 65\u001b[1;33m     \u001b[0mWindAPI\u001b[0m\u001b[1;33m.\u001b[0m\u001b[0mtest_error\u001b[0m\u001b[1;33m(\u001b[0m\u001b[0mresponse\u001b[0m\u001b[1;33m)\u001b[0m\u001b[1;33m\u001b[0m\u001b[0m\n\u001b[0m\u001b[0;32m     66\u001b[0m     \u001b[0mdf\u001b[0m \u001b[1;33m=\u001b[0m \u001b[1;33m{\u001b[0m\u001b[0mfield\u001b[0m\u001b[1;33m:\u001b[0m \u001b[0mresponse\u001b[0m\u001b[1;33m.\u001b[0m\u001b[0mData\u001b[0m\u001b[1;33m[\u001b[0m\u001b[0mi\u001b[0m\u001b[1;33m]\u001b[0m \u001b[1;32mfor\u001b[0m \u001b[0mi\u001b[0m\u001b[1;33m,\u001b[0m \u001b[0mfield\u001b[0m \u001b[1;32min\u001b[0m \u001b[0menumerate\u001b[0m\u001b[1;33m(\u001b[0m\u001b[0mresponse\u001b[0m\u001b[1;33m.\u001b[0m\u001b[0mFields\u001b[0m\u001b[1;33m)\u001b[0m\u001b[1;33m}\u001b[0m\u001b[1;33m\u001b[0m\u001b[0m\n",
      "\u001b[1;32mE:\\04_project\\WindAPI\\utils.py\u001b[0m in \u001b[0;36mtest_error\u001b[1;34m(response)\u001b[0m\n\u001b[0;32m     21\u001b[0m     \u001b[1;32mif\u001b[0m \u001b[0mresponse\u001b[0m\u001b[1;33m.\u001b[0m\u001b[0mErrorCode\u001b[0m\u001b[1;33m:\u001b[0m\u001b[1;33m\u001b[0m\u001b[0m\n\u001b[1;32m---> 22\u001b[1;33m         \u001b[1;32mraise\u001b[0m \u001b[0mValueError\u001b[0m\u001b[1;33m(\u001b[0m\u001b[0mresponse\u001b[0m\u001b[1;33m.\u001b[0m\u001b[0mData\u001b[0m\u001b[1;33m[\u001b[0m\u001b[1;36m0\u001b[0m\u001b[1;33m]\u001b[0m\u001b[1;33m[\u001b[0m\u001b[1;36m0\u001b[0m\u001b[1;33m]\u001b[0m\u001b[1;33m)\u001b[0m\u001b[1;33m\u001b[0m\u001b[0m\n\u001b[0m\u001b[0;32m     23\u001b[0m \u001b[1;33m\u001b[0m\u001b[0m\n",
      "\u001b[1;31mValueError\u001b[0m: CWSSService: quota exceeded.",
      "\nDuring handling of the above exception, another exception occurred:\n",
      "\u001b[1;31mValueError\u001b[0m                                Traceback (most recent call last)",
      "\u001b[1;32m<ipython-input-5-49bac40e929b>\u001b[0m in \u001b[0;36m<module>\u001b[1;34m()\u001b[0m\n\u001b[0;32m      1\u001b[0m \u001b[0mindicators\u001b[0m \u001b[1;33m=\u001b[0m \u001b[1;33m[\u001b[0m\u001b[1;34m\"WEST_AVGROE_YOY\"\u001b[0m\u001b[1;33m]\u001b[0m  \u001b[1;31m# 为空表示更新所有存在的indicator\u001b[0m\u001b[1;33m\u001b[0m\u001b[0m\n\u001b[1;32m----> 2\u001b[1;33m \u001b[0mDataAPI\u001b[0m\u001b[1;33m.\u001b[0m\u001b[0mwrite\u001b[0m\u001b[1;33m.\u001b[0m\u001b[0mupdate_indicators\u001b[0m\u001b[1;33m(\u001b[0m\u001b[0mindicators\u001b[0m\u001b[1;33m,\u001b[0m \u001b[0mtrading_days\u001b[0m\u001b[1;33m,\u001b[0m \u001b[0moverride\u001b[0m\u001b[1;33m=\u001b[0m\u001b[1;32mFalse\u001b[0m\u001b[1;33m,\u001b[0m \u001b[0mlog\u001b[0m\u001b[1;33m=\u001b[0m\u001b[1;32mFalse\u001b[0m\u001b[1;33m)\u001b[0m\u001b[1;33m\u001b[0m\u001b[0m\n\u001b[0m",
      "\u001b[1;32mE:\\04_project\\DataAPI\\write\\indicator.py\u001b[0m in \u001b[0;36mupdate_indicators\u001b[1;34m(indicators, trading_days, override, log)\u001b[0m\n\u001b[0;32m    137\u001b[0m                 \u001b[0mLogger\u001b[0m\u001b[1;33m.\u001b[0m\u001b[0mwarn\u001b[0m\u001b[1;33m(\u001b[0m\u001b[1;34m\"No valid days to update!\"\u001b[0m\u001b[1;33m)\u001b[0m\u001b[1;33m\u001b[0m\u001b[0m\n\u001b[0;32m    138\u001b[0m             \u001b[1;32melse\u001b[0m\u001b[1;33m:\u001b[0m\u001b[1;33m\u001b[0m\u001b[0m\n\u001b[1;32m--> 139\u001b[1;33m                 \u001b[0mupdate_single_indicator\u001b[0m\u001b[1;33m(\u001b[0m\u001b[0mindicator\u001b[0m\u001b[1;33m=\u001b[0m\u001b[0mind\u001b[0m\u001b[1;33m,\u001b[0m \u001b[0mtrading_days\u001b[0m\u001b[1;33m=\u001b[0m\u001b[0mupdate_days\u001b[0m\u001b[1;33m,\u001b[0m \u001b[0moverride\u001b[0m\u001b[1;33m=\u001b[0m\u001b[0moverride\u001b[0m\u001b[1;33m,\u001b[0m \u001b[0mlog\u001b[0m\u001b[1;33m=\u001b[0m\u001b[0mlog\u001b[0m\u001b[1;33m)\u001b[0m\u001b[1;33m\u001b[0m\u001b[0m\n\u001b[0m\u001b[0;32m    140\u001b[0m         \u001b[1;32melse\u001b[0m\u001b[1;33m:\u001b[0m\u001b[1;33m\u001b[0m\u001b[0m\n\u001b[0;32m    141\u001b[0m             \u001b[0mLogger\u001b[0m\u001b[1;33m.\u001b[0m\u001b[0merror\u001b[0m\u001b[1;33m(\u001b[0m\u001b[1;34m\"Unrecognized indicator: {}\"\u001b[0m\u001b[1;33m.\u001b[0m\u001b[0mformat\u001b[0m\u001b[1;33m(\u001b[0m\u001b[0mind\u001b[0m\u001b[1;33m)\u001b[0m\u001b[1;33m)\u001b[0m\u001b[1;33m\u001b[0m\u001b[0m\n",
      "\u001b[1;32mE:\\04_project\\DataAPI\\write\\indicator.py\u001b[0m in \u001b[0;36mupdate_single_indicator\u001b[1;34m(indicator, trading_days, override, log)\u001b[0m\n\u001b[0;32m     80\u001b[0m                 \u001b[1;32mexcept\u001b[0m \u001b[0mException\u001b[0m\u001b[1;33m:\u001b[0m\u001b[1;33m\u001b[0m\u001b[0m\n\u001b[0;32m     81\u001b[0m                     \u001b[0mLogger\u001b[0m\u001b[1;33m.\u001b[0m\u001b[0merror\u001b[0m\u001b[1;33m(\u001b[0m\u001b[1;34m\"Error occurred when loading {} on {}\"\u001b[0m\u001b[1;33m.\u001b[0m\u001b[0mformat\u001b[0m\u001b[1;33m(\u001b[0m\u001b[0mindicator\u001b[0m\u001b[1;33m,\u001b[0m \u001b[0mdate\u001b[0m\u001b[1;33m)\u001b[0m\u001b[1;33m)\u001b[0m\u001b[1;33m\u001b[0m\u001b[0m\n\u001b[1;32m---> 82\u001b[1;33m                     \u001b[1;32mraise\u001b[0m \u001b[0mValueError\u001b[0m\u001b[1;33m\u001b[0m\u001b[0m\n\u001b[0m\u001b[0;32m     83\u001b[0m \u001b[1;33m\u001b[0m\u001b[0m\n\u001b[0;32m     84\u001b[0m                 \u001b[1;32mif\u001b[0m \u001b[0mdf\u001b[0m \u001b[1;32mis\u001b[0m \u001b[1;32mnot\u001b[0m \u001b[1;32mNone\u001b[0m\u001b[1;33m:\u001b[0m  \u001b[1;31m# 从Wind下载数据成功时\u001b[0m\u001b[1;33m\u001b[0m\u001b[0m\n",
      "\u001b[1;31mValueError\u001b[0m: "
     ]
    }
   ],
   "source": [
    "indicators = [\"WEST_AVGROE_YOY\"]  # 为空表示更新所有存在的indicator\n",
    "DataAPI.write.update_indicators(indicators, trading_days, override=False, log=False)"
   ]
  },
  {
   "cell_type": "markdown",
   "metadata": {},
   "source": [
    "---\n",
    "\n",
    "# factor"
   ]
  },
  {
   "cell_type": "code",
   "execution_count": null,
   "metadata": {
    "collapsed": true
   },
   "outputs": [],
   "source": []
  },
  {
   "cell_type": "code",
   "execution_count": null,
   "metadata": {
    "collapsed": true,
    "scrolled": true
   },
   "outputs": [],
   "source": [
    "factors1 = ['BETA', \"CURRENT\", \"EBITOFREVENUE\", \"MOM\", \"ROE\", \"VOL\",]  # 直接取\n",
    "factors2 = [\"SIZE\",\"LIQ\", \"DEBTTOASSETS\"] # ?取对数\n",
    "factors3 = ['VALUE', 'GROWTH'] # 需转换\n",
    "factors4 = [\"LEVERAGE\",\"PROFIT\"] # 基于其他做好的factor\n",
    "DataAPI.write.update_factors(factors=factors1,trading_days=trading_days , override=False, log=False)\n",
    "DataAPI.write.update_factors(factors=factors2,trading_days=trading_days , override=False, log=False)\n",
    "DataAPI.write.update_factors(factors=factors3,trading_days=trading_days , override=False, log=False)\n",
    "DataAPI.write.update_factors(factors=factors4,trading_days=trading_days , override=False, log=False)"
   ]
  },
  {
   "cell_type": "code",
   "execution_count": 10,
   "metadata": {},
   "outputs": [
    {
     "name": "stdout",
     "output_type": "stream",
     "text": [
      "\u001b[32m[INFO] 2018-03-14 13:12:13 Updating factor GROWTH\u001b[0m\n",
      "\u001b[31m[WARN] 2018-03-14 13:17:57 由于 2018-01-02 值缺失太多直接复制于 2017-12-29\u001b[0m\n",
      "\u001b[31m[WARN] 2018-03-14 13:17:57 由于 2018-01-03 值缺失太多直接复制于 2018-01-02\u001b[0m\n",
      "\u001b[31m[WARN] 2018-03-14 13:17:58 由于 2018-01-04 值缺失太多直接复制于 2018-01-03\u001b[0m\n",
      "\u001b[31m[WARN] 2018-03-14 13:17:58 由于 2018-01-05 值缺失太多直接复制于 2018-01-04\u001b[0m\n",
      "\u001b[31m[WARN] 2018-03-14 13:17:59 由于 2018-01-08 值缺失太多直接复制于 2018-01-05\u001b[0m\n",
      "\u001b[31m[WARN] 2018-03-14 13:17:59 由于 2018-01-09 值缺失太多直接复制于 2018-01-08\u001b[0m\n",
      "\u001b[31m[WARN] 2018-03-14 13:17:59 由于 2018-01-10 值缺失太多直接复制于 2018-01-09\u001b[0m\n",
      "\u001b[31m[WARN] 2018-03-14 13:18:00 由于 2018-01-11 值缺失太多直接复制于 2018-01-10\u001b[0m\n",
      "\u001b[31m[WARN] 2018-03-14 13:18:00 由于 2018-01-12 值缺失太多直接复制于 2018-01-11\u001b[0m\n",
      "\u001b[31m[WARN] 2018-03-14 13:18:00 由于 2018-01-15 值缺失太多直接复制于 2018-01-12\u001b[0m\n",
      "\u001b[31m[WARN] 2018-03-14 13:18:01 由于 2018-01-16 值缺失太多直接复制于 2018-01-15\u001b[0m\n",
      "\u001b[31m[WARN] 2018-03-14 13:18:01 由于 2018-01-17 值缺失太多直接复制于 2018-01-16\u001b[0m\n",
      "\u001b[31m[WARN] 2018-03-14 13:18:01 由于 2018-01-18 值缺失太多直接复制于 2018-01-17\u001b[0m\n",
      "\u001b[31m[WARN] 2018-03-14 13:18:02 由于 2018-01-19 值缺失太多直接复制于 2018-01-18\u001b[0m\n",
      "\u001b[31m[WARN] 2018-03-14 13:18:02 由于 2018-01-22 值缺失太多直接复制于 2018-01-19\u001b[0m\n",
      "\u001b[31m[WARN] 2018-03-14 13:18:03 由于 2018-01-23 值缺失太多直接复制于 2018-01-22\u001b[0m\n",
      "\u001b[31m[WARN] 2018-03-14 13:18:03 由于 2018-01-24 值缺失太多直接复制于 2018-01-23\u001b[0m\n",
      "\u001b[31m[WARN] 2018-03-14 13:18:03 由于 2018-01-25 值缺失太多直接复制于 2018-01-24\u001b[0m\n",
      "\u001b[31m[WARN] 2018-03-14 13:18:04 由于 2018-01-26 值缺失太多直接复制于 2018-01-25\u001b[0m\n",
      "\u001b[31m[WARN] 2018-03-14 13:18:04 由于 2018-01-29 值缺失太多直接复制于 2018-01-26\u001b[0m\n",
      "\u001b[31m[WARN] 2018-03-14 13:18:04 由于 2018-01-30 值缺失太多直接复制于 2018-01-29\u001b[0m\n",
      "\u001b[31m[WARN] 2018-03-14 13:18:05 由于 2018-01-31 值缺失太多直接复制于 2018-01-30\u001b[0m\n",
      "\u001b[31m[WARN] 2018-03-14 13:18:05 由于 2018-02-01 值缺失太多直接复制于 2018-01-31\u001b[0m\n",
      "\u001b[31m[WARN] 2018-03-14 13:18:05 由于 2018-02-02 值缺失太多直接复制于 2018-02-01\u001b[0m\n",
      "\u001b[31m[WARN] 2018-03-14 13:18:06 由于 2018-02-05 值缺失太多直接复制于 2018-02-02\u001b[0m\n",
      "\u001b[31m[WARN] 2018-03-14 13:18:06 由于 2018-02-06 值缺失太多直接复制于 2018-02-05\u001b[0m\n",
      "\u001b[31m[WARN] 2018-03-14 13:18:07 由于 2018-02-07 值缺失太多直接复制于 2018-02-06\u001b[0m\n",
      "\u001b[31m[WARN] 2018-03-14 13:18:07 由于 2018-02-08 值缺失太多直接复制于 2018-02-07\u001b[0m\n",
      "\u001b[31m[WARN] 2018-03-14 13:18:07 由于 2018-02-09 值缺失太多直接复制于 2018-02-08\u001b[0m\n",
      "\u001b[31m[WARN] 2018-03-14 13:18:08 由于 2018-02-12 值缺失太多直接复制于 2018-02-09\u001b[0m\n",
      "\u001b[31m[WARN] 2018-03-14 13:18:08 由于 2018-02-13 值缺失太多直接复制于 2018-02-12\u001b[0m\n",
      "\u001b[31m[WARN] 2018-03-14 13:18:09 由于 2018-02-14 值缺失太多直接复制于 2018-02-13\u001b[0m\n",
      "\u001b[31m[WARN] 2018-03-14 13:18:09 由于 2018-02-22 值缺失太多直接复制于 2018-02-14\u001b[0m\n",
      "\u001b[31m[WARN] 2018-03-14 13:18:09 由于 2018-02-23 值缺失太多直接复制于 2018-02-22\u001b[0m\n",
      "\u001b[31m[WARN] 2018-03-14 13:18:10 由于 2018-02-26 值缺失太多直接复制于 2018-02-23\u001b[0m\n",
      "\u001b[31m[WARN] 2018-03-14 13:18:10 由于 2018-02-27 值缺失太多直接复制于 2018-02-26\u001b[0m\n",
      "\u001b[31m[WARN] 2018-03-14 13:18:11 由于 2018-02-28 值缺失太多直接复制于 2018-02-27\u001b[0m\n",
      "\u001b[31m[WARN] 2018-03-14 13:18:11 由于 2018-03-01 值缺失太多直接复制于 2018-02-28\u001b[0m\n",
      "\u001b[31m[WARN] 2018-03-14 13:18:11 由于 2018-03-02 值缺失太多直接复制于 2018-03-01\u001b[0m\n",
      "\u001b[34m[INFO] 2018-03-14 13:18:12 schema updated: GROWTH\u001b[0m\n"
     ]
    }
   ],
   "source": [
    "DataAPI.write.update_factors(factors=['GROWTH'],trading_days=trading_days, override=True, log=False)"
   ]
  },
  {
   "cell_type": "markdown",
   "metadata": {},
   "source": [
    "---\n",
    "\n",
    "# factor_return"
   ]
  },
  {
   "cell_type": "code",
   "execution_count": 27,
   "metadata": {
    "scrolled": false
   },
   "outputs": [
    {
     "name": "stdout",
     "output_type": "stream",
     "text": [
      "\u001b[34m[INFO] 2018-03-14 16:13:50 Updating factor_return GROWTH...\u001b[0m\n",
      "\u001b[34m[INFO] 2018-03-14 16:14:57 存量更新：更新当前已经有的记录\u001b[0m\n",
      "\u001b[34m[INFO] 2018-03-14 16:14:57 schema updated: GROWTH\u001b[0m\n",
      "\u001b[34m[INFO] 2018-03-14 16:14:57 传入日期数：1015  已经存在个数：1  实际写入次数：1014\u001b[0m\n",
      "\u001b[32m[INFO] 2018-03-14 16:14:57 factor_return GROWTH is updated.\u001b[0m\n",
      "\u001b[34m[INFO] 2018-03-14 16:14:57 ------------------------------------------\u001b[0m\n"
     ]
    }
   ],
   "source": [
    "# factors = [\"SIZE\", 'VALUE', 'BETA', 'VOL', 'ROE', 'MOM', 'LIQ'] # 为空表示更新所有存在的factors\n",
    "factors = []\n",
    "DataAPI.write.update_factors_return(['GROWTH'], trading_days)"
   ]
  },
  {
   "cell_type": "code",
   "execution_count": null,
   "metadata": {
    "collapsed": true
   },
   "outputs": [],
   "source": []
  }
 ],
 "metadata": {
  "kernelspec": {
   "display_name": "Python 3",
   "language": "python",
   "name": "python3"
  },
  "language_info": {
   "codemirror_mode": {
    "name": "ipython",
    "version": 3
   },
   "file_extension": ".py",
   "mimetype": "text/x-python",
   "name": "python",
   "nbconvert_exporter": "python",
   "pygments_lexer": "ipython3",
   "version": "3.6.3"
  },
  "toc": {
   "nav_menu": {},
   "number_sections": true,
   "sideBar": true,
   "skip_h1_title": false,
   "title_cell": "Table of Contents",
   "title_sidebar": "Contents",
   "toc_cell": false,
   "toc_position": {},
   "toc_section_display": true,
   "toc_window_display": false
  }
 },
 "nbformat": 4,
 "nbformat_minor": 2
}
