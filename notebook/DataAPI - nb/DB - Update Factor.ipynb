{
 "cells": [
  {
   "cell_type": "code",
   "execution_count": 175,
   "metadata": {},
   "outputs": [
    {
     "name": "stdout",
     "output_type": "stream",
     "text": [
      "Populating the interactive namespace from numpy and matplotlib\n",
      "The autoreload extension is already loaded. To reload it, use:\n",
      "  %reload_ext autoreload\n"
     ]
    }
   ],
   "source": [
    "%pylab inline\n",
    "%load_ext autoreload\n",
    "%autoreload 2\n",
    "\n",
    "import os\n",
    "import numpy as np\n",
    "import pandas as pd\n",
    "\n",
    "import devkit.api as dk\n",
    "import finkit.api as fk\n",
    "import DataAPI\n",
    "import WindAPI.api as wind\n",
    "import alpha"
   ]
  },
  {
   "cell_type": "markdown",
   "metadata": {},
   "source": [
    "---\n",
    "\n",
    "# 数据库架构"
   ]
  },
  {
   "cell_type": "code",
   "execution_count": 1,
   "metadata": {},
   "outputs": [
    {
     "ename": "NameError",
     "evalue": "name 'DataAPI' is not defined",
     "output_type": "error",
     "traceback": [
      "\u001b[1;31m---------------------------------------------------------------------------\u001b[0m",
      "\u001b[1;31mNameError\u001b[0m                                 Traceback (most recent call last)",
      "\u001b[1;32m<ipython-input-1-38b5fc0a6c76>\u001b[0m in \u001b[0;36m<module>\u001b[1;34m()\u001b[0m\n\u001b[0;32m      9\u001b[0m \u001b[1;31m# db_name = \"INDICATOR\"\u001b[0m\u001b[1;33m\u001b[0m\u001b[1;33m\u001b[0m\u001b[0m\n\u001b[0;32m     10\u001b[0m \u001b[1;32mfor\u001b[0m \u001b[0mdb_name\u001b[0m \u001b[1;32min\u001b[0m \u001b[0mdb_names\u001b[0m\u001b[1;33m:\u001b[0m\u001b[1;33m\u001b[0m\u001b[0m\n\u001b[1;32m---> 11\u001b[1;33m     \u001b[0mDataAPI\u001b[0m\u001b[1;33m.\u001b[0m\u001b[0mschema\u001b[0m\u001b[1;33m.\u001b[0m\u001b[0mshow_db_info\u001b[0m\u001b[1;33m(\u001b[0m\u001b[0mdb_name\u001b[0m\u001b[1;33m)\u001b[0m\u001b[1;33m\u001b[0m\u001b[0m\n\u001b[0m",
      "\u001b[1;31mNameError\u001b[0m: name 'DataAPI' is not defined"
     ]
    }
   ],
   "source": [
    "db_names = [\n",
    "    \"index_contents\",  # 股票列表\n",
    "    \"industry\",  # 行业分类\n",
    "    \"indicator\",  # 基础指标\n",
    "    \"factor\",  # 因子\n",
    "    \"factor_return\",  # 因子收益\n",
    "]\n",
    "\n",
    "# db_name = \"INDICATOR\"\n",
    "for db_name in db_names:\n",
    "    DataAPI.schema.show_db_info(db_name)"
   ]
  },
  {
   "cell_type": "markdown",
   "metadata": {},
   "source": [
    "---\n",
    "\n",
    "# 待更新日期"
   ]
  },
  {
   "cell_type": "code",
   "execution_count": 172,
   "metadata": {
    "collapsed": true
   },
   "outputs": [],
   "source": [
    "start = \"2018-05-01\"\n",
    "end = \"2018-08-31\"\n",
    "trading_days_ts = DataAPI.api.get_monthly_last_trading_days(start=start, end=end)\n",
    "trading_days_fr = DataAPI.api.get_report_days(start=start, end=end)\n",
    "# trading_days = DataAPI.api.get_monthly_last_trading_days(start=start, end=end)\n",
    "trading_days = DataAPI.api.get_trading_days(start=start, end=end)\n",
    "trading_days = sorted(trading_days)\n",
    "# trading_days_ts = sorted(trading_days_ts)\n",
    "# trading_days_fr = sorted(trading_days_fr)"
   ]
  },
  {
   "cell_type": "code",
   "execution_count": 123,
   "metadata": {
    "collapsed": true
   },
   "outputs": [],
   "source": [
    "# 确定股票池\n",
    "stock_pool_zz500 = wind.get_index_contents(date=trading_days_ts[-1], index_code='000905.SH')['sec_id'].tolist()\n",
    "stock_pool_hs300 = wind.get_index_contents(date=trading_days_ts[-1], index_code='000300.SH')['sec_id'].tolist()"
   ]
  },
  {
   "cell_type": "code",
   "execution_count": 173,
   "metadata": {
    "collapsed": true
   },
   "outputs": [],
   "source": [
    "# 更新zz500成分股及其指数收益率\n",
    "zz500_stocks_rr_monthly = alpha.api.derive_next_month_rr(sec_ids=stock_pool_zz500, start_date='2005-01-01', end_date=end )\n",
    "zz500_stocks_rr_monthly.to_csv(r\"E:\\07_data\\02_factor\\datasets\\return_rate\\zz500_stocks_rr_monthly.csv\", index=0)\n",
    "\n",
    "zz500_index_rr_monthly = alpha.api.derive_next_month_rr(sec_ids=['000905.SH'], start_date='2005-01-01', end_date=end )\n",
    "zz500_index_rr_monthly.to_csv(r\"E:\\07_data\\02_factor\\datasets\\return_rate\\zz500_index_rr_monthly.csv\", index=0)\n",
    "\n",
    "# 更新hs300成分股及其指数收益率\n",
    "# hs300_stocks_rr_monthly = alpha.api.derive_next_month_rr(sec_ids=stock_pool_hs300, start_date='2005-01-01', end_date=end )\n",
    "# hs300_stocks_rr_monthly.to_csv(r\"E:\\07_data\\02_factor\\datasets\\return_rate\\hs300_stocks_rr_monthly.csv\", index=0)\n",
    "\n",
    "# hs300_index_rr_monthly = alpha.api.derive_next_month_rr(sec_ids=['000300.SH'], start_date='2005-01-01', end_date=end )\n",
    "# hs300_index_rr_monthly.to_csv(r\"E:\\07_data\\02_factor\\datasets\\return_rate\\hs300_index_rr_monthly.csv\", index=0)"
   ]
  },
  {
   "cell_type": "code",
   "execution_count": 30,
   "metadata": {
    "collapsed": true
   },
   "outputs": [],
   "source": [
    "# 确定更新指标\n",
    "a = DataAPI.api.schema.get_schema('indicator')\n",
    "b = pd.DataFrame(a).T\n",
    "# b = b[b.aspect != '辅助指标']\n",
    "feats_ts = b[b.type == '时间序列'].index.tolist()\n",
    "feats_fr = b[b.type == '财报数据'].index.tolist()"
   ]
  },
  {
   "cell_type": "markdown",
   "metadata": {},
   "source": [
    "---\n",
    "\n",
    "# indicator"
   ]
  },
  {
   "cell_type": "code",
   "execution_count": 165,
   "metadata": {},
   "outputs": [
    {
     "name": "stdout",
     "output_type": "stream",
     "text": [
      "\u001b[34m[INFO] 2018-09-27 00:23:25 schema updated: CLOSE\u001b[0m\n"
     ]
    }
   ],
   "source": [
    "# DataAPI.write.update_indicators(indicators=['CLOSE'], sec_ids=['000300.SH', '000905.SH'], trading_days=trading_days, override=True, log=False)\n",
    "DataAPI.write.update_indicators(indicators=['CLOSE'], sec_ids=stock_pool_zz500, trading_days=trading_days, override=True, log=False)"
   ]
  },
  {
   "cell_type": "code",
   "execution_count": 171,
   "metadata": {
    "scrolled": true
   },
   "outputs": [
    {
     "name": "stdout",
     "output_type": "stream",
     "text": [
      "\u001b[34m[INFO] 2018-09-27 00:56:01 schema updated: ADJFACTOR\u001b[0m\n",
      "\u001b[34m[INFO] 2018-09-27 00:56:09 schema updated: AMT\u001b[0m\n",
      "\u001b[34m[INFO] 2018-09-27 00:56:17 schema updated: BETA_100W\u001b[0m\n",
      "\u001b[34m[INFO] 2018-09-27 00:56:19 schema updated: BIAS_120D\u001b[0m\n",
      "\u001b[34m[INFO] 2018-09-27 00:56:21 schema updated: BIAS_20D\u001b[0m\n",
      "\u001b[34m[INFO] 2018-09-27 00:56:22 schema updated: BIAS_60D\u001b[0m\n",
      "\u001b[34m[INFO] 2018-09-27 00:56:23 schema updated: CLOSE\u001b[0m\n",
      "\u001b[34m[INFO] 2018-09-27 00:56:28 schema updated: DIVIDENDYIELD2\u001b[0m\n",
      "\u001b[34m[INFO] 2018-09-27 00:56:29 schema updated: DOWN_DAYS\u001b[0m\n",
      "\u001b[34m[INFO] 2018-09-27 00:56:32 schema updated: EV2_TO_EBITDA\u001b[0m\n",
      "\u001b[34m[INFO] 2018-09-27 00:56:34 schema updated: HIGH\u001b[0m\n",
      "\u001b[34m[INFO] 2018-09-27 00:56:35 schema updated: IPO_LISTDAYS\u001b[0m\n",
      "\u001b[34m[INFO] 2018-09-27 00:56:36 schema updated: LOW\u001b[0m\n",
      "\u001b[34m[INFO] 2018-09-27 00:56:44 schema updated: MKT_CAP_FLOAT\u001b[0m\n",
      "\u001b[34m[INFO] 2018-09-27 00:56:54 schema updated: PB_LF\u001b[0m\n",
      "\u001b[34m[INFO] 2018-09-27 00:57:04 schema updated: PCF_OCF_TTM\u001b[0m\n",
      "\u001b[34m[INFO] 2018-09-27 00:57:15 schema updated: PS_TTM\u001b[0m\n",
      "\u001b[34m[INFO] 2018-09-27 00:57:16 schema updated: RISK_GAINVARIANCE120\u001b[0m\n",
      "\u001b[34m[INFO] 2018-09-27 00:57:17 schema updated: RISK_GAINVARIANCE20\u001b[0m\n",
      "\u001b[34m[INFO] 2018-09-27 00:57:19 schema updated: RISK_GAINVARIANCE60\u001b[0m\n",
      "\u001b[34m[INFO] 2018-09-27 00:57:20 schema updated: RISK_LOSSVARIANCE120\u001b[0m\n",
      "\u001b[34m[INFO] 2018-09-27 00:57:21 schema updated: RISK_LOSSVARIANCE20\u001b[0m\n",
      "\u001b[34m[INFO] 2018-09-27 00:57:22 schema updated: RISK_LOSSVARIANCE60\u001b[0m\n",
      "\u001b[34m[INFO] 2018-09-27 00:57:23 schema updated: RISK_VARIANCE120\u001b[0m\n",
      "\u001b[34m[INFO] 2018-09-27 00:57:25 schema updated: RISK_VARIANCE20\u001b[0m\n",
      "\u001b[34m[INFO] 2018-09-27 00:57:26 schema updated: RISK_VARIANCE60\u001b[0m\n",
      "\u001b[34m[INFO] 2018-09-27 00:57:28 schema updated: RSI_120D\u001b[0m\n",
      "\u001b[34m[INFO] 2018-09-27 00:57:30 schema updated: RSI_20D\u001b[0m\n",
      "\u001b[34m[INFO] 2018-09-27 00:57:32 schema updated: RSI_60D\u001b[0m\n",
      "\u001b[34m[INFO] 2018-09-27 00:57:34 schema updated: SI\u001b[0m\n",
      "\u001b[34m[INFO] 2018-09-27 00:57:36 schema updated: TECH_CRY\u001b[0m\n",
      "\u001b[34m[INFO] 2018-09-27 00:57:37 schema updated: TECH_MAWVAD\u001b[0m\n",
      "\u001b[34m[INFO] 2018-09-27 00:57:37 schema updated: TECH_PSY\u001b[0m\n",
      "\u001b[34m[INFO] 2018-09-27 00:57:37 schema updated: TECH_REVS10\u001b[0m\n",
      "\u001b[34m[INFO] 2018-09-27 00:57:38 schema updated: TECH_REVS120\u001b[0m\n",
      "\u001b[34m[INFO] 2018-09-27 00:57:38 schema updated: TECH_REVS20INDU1\u001b[0m\n",
      "\u001b[34m[INFO] 2018-09-27 00:57:39 schema updated: TECH_REVS250\u001b[0m\n",
      "\u001b[34m[INFO] 2018-09-27 00:57:39 schema updated: TECH_REVS5\u001b[0m\n",
      "\u001b[34m[INFO] 2018-09-27 00:57:40 schema updated: TECH_REVS5INDU1\u001b[0m\n",
      "\u001b[34m[INFO] 2018-09-27 00:57:40 schema updated: TECH_REVS60\u001b[0m\n",
      "\u001b[34m[INFO] 2018-09-27 00:57:41 schema updated: TECH_REVS750\u001b[0m\n",
      "\u001b[34m[INFO] 2018-09-27 00:57:43 schema updated: TECH_TURNOVERRATE10\u001b[0m\n",
      "\u001b[34m[INFO] 2018-09-27 00:57:43 schema updated: TECH_TURNOVERRATE120\u001b[0m\n",
      "\u001b[34m[INFO] 2018-09-27 00:57:45 schema updated: TECH_TURNOVERRATE20\u001b[0m\n",
      "\u001b[34m[INFO] 2018-09-27 00:57:45 schema updated: TECH_TURNOVERRATE240\u001b[0m\n",
      "\u001b[34m[INFO] 2018-09-27 00:57:46 schema updated: TECH_TURNOVERRATE5\u001b[0m\n",
      "\u001b[34m[INFO] 2018-09-27 00:57:46 schema updated: TECH_TURNOVERRATE60\u001b[0m\n",
      "\u001b[34m[INFO] 2018-09-27 00:57:47 schema updated: UP_DAYS\u001b[0m\n",
      "\u001b[34m[INFO] 2018-09-27 00:57:58 schema updated: VAL_PE_DEDUCTED_TTM\u001b[0m\n",
      "\u001b[34m[INFO] 2018-09-27 00:58:06 schema updated: VOLUME\u001b[0m\n",
      "\u001b[34m[INFO] 2018-09-27 00:58:15 schema updated: WEST_AVGNP_YOY\u001b[0m\n",
      "\u001b[34m[INFO] 2018-09-27 00:58:25 schema updated: WEST_AVGROE_YOY\u001b[0m\n",
      "\u001b[34m[INFO] 2018-09-27 00:58:27 schema updated: WEST_NETPROFIT_CAGR\u001b[0m\n",
      "\u001b[34m[INFO] 2018-09-27 00:58:28 schema updated: WEST_NETPROFIT_YOY\u001b[0m\n",
      "\u001b[34m[INFO] 2018-09-27 00:58:29 schema updated: WEST_SALES_CAGR\u001b[0m\n",
      "\u001b[34m[INFO] 2018-09-27 00:58:30 schema updated: WEST_SALES_YOY\u001b[0m\n"
     ]
    }
   ],
   "source": [
    "# indicators = inds_ts  # 为空表示更新所有存在的indicator\n",
    "DataAPI.write.update_indicators(indicators=feats_ts, sec_ids=stock_pool_zz500, trading_days=trading_days_ts, override=True, log=False)"
   ]
  },
  {
   "cell_type": "code",
   "execution_count": 120,
   "metadata": {},
   "outputs": [
    {
     "ename": "IndexError",
     "evalue": "list index out of range",
     "output_type": "error",
     "traceback": [
      "\u001b[1;31m---------------------------------------------------------------------------\u001b[0m",
      "\u001b[1;31mIndexError\u001b[0m                                Traceback (most recent call last)",
      "\u001b[1;32m<ipython-input-120-310cb9324198>\u001b[0m in \u001b[0;36m<module>\u001b[1;34m()\u001b[0m\n\u001b[0;32m      1\u001b[0m \u001b[1;31m# indicators = inds_ts  # 为空表示更新所有存在的indicator\u001b[0m\u001b[1;33m\u001b[0m\u001b[1;33m\u001b[0m\u001b[0m\n\u001b[0;32m      2\u001b[0m \u001b[1;31m# 加了sec_ids后 慎用override 会删除数据\u001b[0m\u001b[1;33m\u001b[0m\u001b[1;33m\u001b[0m\u001b[0m\n\u001b[1;32m----> 3\u001b[1;33m \u001b[0mDataAPI\u001b[0m\u001b[1;33m.\u001b[0m\u001b[0mwrite\u001b[0m\u001b[1;33m.\u001b[0m\u001b[0mupdate_indicators\u001b[0m\u001b[1;33m(\u001b[0m\u001b[0mindicators\u001b[0m\u001b[1;33m=\u001b[0m\u001b[0mfeats_fr\u001b[0m\u001b[1;33m,\u001b[0m \u001b[0msec_ids\u001b[0m\u001b[1;33m=\u001b[0m\u001b[0mstock_pool_zz500\u001b[0m\u001b[1;33m,\u001b[0m \u001b[0mtrading_days\u001b[0m\u001b[1;33m=\u001b[0m\u001b[0mtrading_days_fr\u001b[0m\u001b[1;33m,\u001b[0m \u001b[0moverride\u001b[0m\u001b[1;33m=\u001b[0m\u001b[1;32mTrue\u001b[0m\u001b[1;33m,\u001b[0m \u001b[0mlog\u001b[0m\u001b[1;33m=\u001b[0m\u001b[1;32mFalse\u001b[0m\u001b[1;33m)\u001b[0m\u001b[1;33m\u001b[0m\u001b[0m\n\u001b[0m",
      "\u001b[1;32mE:\\04_projects\\DataAPI\\write\\indicator.py\u001b[0m in \u001b[0;36mupdate_indicators\u001b[1;34m(indicators, trading_days, sec_ids, override, log)\u001b[0m\n\u001b[0;32m    125\u001b[0m         \u001b[0mindicators\u001b[0m \u001b[1;33m=\u001b[0m \u001b[0mlist\u001b[0m\u001b[1;33m(\u001b[0m\u001b[0mSCHEMA\u001b[0m\u001b[1;33m.\u001b[0m\u001b[0mkeys\u001b[0m\u001b[1;33m(\u001b[0m\u001b[1;33m)\u001b[0m\u001b[1;33m)\u001b[0m\u001b[1;33m\u001b[0m\u001b[0m\n\u001b[0;32m    126\u001b[0m \u001b[1;33m\u001b[0m\u001b[0m\n\u001b[1;32m--> 127\u001b[1;33m     \u001b[0mstart\u001b[0m \u001b[1;33m=\u001b[0m \u001b[0mtrading_days\u001b[0m\u001b[1;33m[\u001b[0m\u001b[1;36m0\u001b[0m\u001b[1;33m]\u001b[0m\u001b[1;33m\u001b[0m\u001b[0m\n\u001b[0m\u001b[0;32m    128\u001b[0m     \u001b[0mend\u001b[0m \u001b[1;33m=\u001b[0m \u001b[0mtrading_days\u001b[0m\u001b[1;33m[\u001b[0m\u001b[1;33m-\u001b[0m\u001b[1;36m1\u001b[0m\u001b[1;33m]\u001b[0m\u001b[1;33m\u001b[0m\u001b[0m\n\u001b[0;32m    129\u001b[0m \u001b[1;33m\u001b[0m\u001b[0m\n",
      "\u001b[1;31mIndexError\u001b[0m: list index out of range"
     ]
    }
   ],
   "source": [
    "# indicators = inds_ts  # 为空表示更新所有存在的indicator\n",
    "# 加了sec_ids后 慎用override 会删除数据\n",
    "DataAPI.write.update_indicators(indicators=feats_fr, sec_ids=stock_pool_zz500, trading_days=trading_days_fr, override=True, log=False)"
   ]
  },
  {
   "cell_type": "markdown",
   "metadata": {},
   "source": [
    "---\n",
    "\n",
    "# factor"
   ]
  },
  {
   "cell_type": "code",
   "execution_count": 28,
   "metadata": {
    "collapsed": true
   },
   "outputs": [],
   "source": [
    "a = pd.DataFrame(DataAPI.schema.get_schema(\"factor\")).T\n",
    "factors = a.sort_values(['level']).index.tolist()"
   ]
  },
  {
   "cell_type": "code",
   "execution_count": 30,
   "metadata": {},
   "outputs": [
    {
     "data": {
      "text/plain": [
       "['DIVIDENDYIELD2',\n",
       " 'EV2_TO_EBITDA',\n",
       " 'PB_LF',\n",
       " 'PCF_NCF_TTM',\n",
       " 'PS_TTM',\n",
       " 'VAL_PE_DEDUCTED_TTM']"
      ]
     },
     "execution_count": 30,
     "metadata": {},
     "output_type": "execute_result"
    }
   ],
   "source": [
    "factors"
   ]
  },
  {
   "cell_type": "code",
   "execution_count": 35,
   "metadata": {
    "scrolled": true
   },
   "outputs": [
    {
     "name": "stdout",
     "output_type": "stream",
     "text": [
      "\u001b[32m[INFO] 2018-06-28 14:14:56 Updating factor DIVIDENDYIELD2\u001b[0m\n",
      "\u001b[34m[INFO] 2018-06-28 14:14:56 schema updated: DIVIDENDYIELD2\u001b[0m\n",
      "\u001b[32m[INFO] 2018-06-28 14:14:56 Updating factor EV2_TO_EBITDA\u001b[0m\n",
      "\u001b[34m[INFO] 2018-06-28 14:14:56 schema updated: EV2_TO_EBITDA\u001b[0m\n",
      "\u001b[32m[INFO] 2018-06-28 14:14:56 Updating factor PB_LF\u001b[0m\n",
      "\u001b[34m[INFO] 2018-06-28 14:14:56 schema updated: PB_LF\u001b[0m\n",
      "\u001b[31m[ERROR] 2018-06-28 14:14:57 Unrecognized factor: PCF_NCF_TTM\u001b[0m\n",
      "\u001b[34m[INFO] 2018-06-28 14:14:57 ------------------------------------------\u001b[0m\n",
      "\u001b[32m[INFO] 2018-06-28 14:14:57 Updating factor PS_TTM\u001b[0m\n",
      "\u001b[34m[INFO] 2018-06-28 14:14:57 TABLE PS_TTM is created in E:\\02_work\\sw\\db\\factor\\2005.db.\u001b[0m\n",
      "\u001b[34m[INFO] 2018-06-28 14:14:57 INDEX PS_TTM_index is created on TABLE PS_TTM of E:\\02_work\\sw\\db\\factor\\2005.db.\u001b[0m\n",
      "\u001b[34m[INFO] 2018-06-28 14:14:59 TABLE PS_TTM is created in E:\\02_work\\sw\\db\\factor\\2006.db.\u001b[0m\n",
      "\u001b[34m[INFO] 2018-06-28 14:14:59 INDEX PS_TTM_index is created on TABLE PS_TTM of E:\\02_work\\sw\\db\\factor\\2006.db.\u001b[0m\n",
      "\u001b[34m[INFO] 2018-06-28 14:15:02 TABLE PS_TTM is created in E:\\02_work\\sw\\db\\factor\\2007.db.\u001b[0m\n",
      "\u001b[34m[INFO] 2018-06-28 14:15:02 INDEX PS_TTM_index is created on TABLE PS_TTM of E:\\02_work\\sw\\db\\factor\\2007.db.\u001b[0m\n",
      "\u001b[34m[INFO] 2018-06-28 14:15:05 TABLE PS_TTM is created in E:\\02_work\\sw\\db\\factor\\2008.db.\u001b[0m\n",
      "\u001b[34m[INFO] 2018-06-28 14:15:05 INDEX PS_TTM_index is created on TABLE PS_TTM of E:\\02_work\\sw\\db\\factor\\2008.db.\u001b[0m\n",
      "\u001b[34m[INFO] 2018-06-28 14:15:07 TABLE PS_TTM is created in E:\\02_work\\sw\\db\\factor\\2009.db.\u001b[0m\n",
      "\u001b[34m[INFO] 2018-06-28 14:15:08 INDEX PS_TTM_index is created on TABLE PS_TTM of E:\\02_work\\sw\\db\\factor\\2009.db.\u001b[0m\n",
      "\u001b[34m[INFO] 2018-06-28 14:15:10 TABLE PS_TTM is created in E:\\02_work\\sw\\db\\factor\\2010.db.\u001b[0m\n",
      "\u001b[34m[INFO] 2018-06-28 14:15:10 INDEX PS_TTM_index is created on TABLE PS_TTM of E:\\02_work\\sw\\db\\factor\\2010.db.\u001b[0m\n",
      "\u001b[34m[INFO] 2018-06-28 14:15:13 TABLE PS_TTM is created in E:\\02_work\\sw\\db\\factor\\2011.db.\u001b[0m\n",
      "\u001b[34m[INFO] 2018-06-28 14:15:13 INDEX PS_TTM_index is created on TABLE PS_TTM of E:\\02_work\\sw\\db\\factor\\2011.db.\u001b[0m\n",
      "\u001b[34m[INFO] 2018-06-28 14:15:17 TABLE PS_TTM is created in E:\\02_work\\sw\\db\\factor\\2012.db.\u001b[0m\n",
      "\u001b[34m[INFO] 2018-06-28 14:15:17 INDEX PS_TTM_index is created on TABLE PS_TTM of E:\\02_work\\sw\\db\\factor\\2012.db.\u001b[0m\n",
      "\u001b[34m[INFO] 2018-06-28 14:15:20 TABLE PS_TTM is created in E:\\02_work\\sw\\db\\factor\\2013.db.\u001b[0m\n",
      "\u001b[34m[INFO] 2018-06-28 14:15:20 INDEX PS_TTM_index is created on TABLE PS_TTM of E:\\02_work\\sw\\db\\factor\\2013.db.\u001b[0m\n",
      "\u001b[34m[INFO] 2018-06-28 14:15:24 TABLE PS_TTM is created in E:\\02_work\\sw\\db\\factor\\2014.db.\u001b[0m\n",
      "\u001b[34m[INFO] 2018-06-28 14:15:24 INDEX PS_TTM_index is created on TABLE PS_TTM of E:\\02_work\\sw\\db\\factor\\2014.db.\u001b[0m\n",
      "\u001b[34m[INFO] 2018-06-28 14:15:27 TABLE PS_TTM is created in E:\\02_work\\sw\\db\\factor\\2015.db.\u001b[0m\n",
      "\u001b[34m[INFO] 2018-06-28 14:15:28 INDEX PS_TTM_index is created on TABLE PS_TTM of E:\\02_work\\sw\\db\\factor\\2015.db.\u001b[0m\n",
      "\u001b[34m[INFO] 2018-06-28 14:15:31 TABLE PS_TTM is created in E:\\02_work\\sw\\db\\factor\\2016.db.\u001b[0m\n",
      "\u001b[34m[INFO] 2018-06-28 14:15:31 INDEX PS_TTM_index is created on TABLE PS_TTM of E:\\02_work\\sw\\db\\factor\\2016.db.\u001b[0m\n",
      "\u001b[34m[INFO] 2018-06-28 14:15:34 TABLE PS_TTM is created in E:\\02_work\\sw\\db\\factor\\2017.db.\u001b[0m\n",
      "\u001b[34m[INFO] 2018-06-28 14:15:34 INDEX PS_TTM_index is created on TABLE PS_TTM of E:\\02_work\\sw\\db\\factor\\2017.db.\u001b[0m\n",
      "\u001b[34m[INFO] 2018-06-28 14:15:37 TABLE PS_TTM is created in E:\\02_work\\sw\\db\\factor\\2018.db.\u001b[0m\n",
      "\u001b[34m[INFO] 2018-06-28 14:15:37 INDEX PS_TTM_index is created on TABLE PS_TTM of E:\\02_work\\sw\\db\\factor\\2018.db.\u001b[0m\n",
      "\u001b[34m[INFO] 2018-06-28 14:15:39 schema updated: PS_TTM\u001b[0m\n",
      "\u001b[32m[INFO] 2018-06-28 14:15:39 Updating factor VAL_PE_DEDUCTED_TTM\u001b[0m\n",
      "\u001b[34m[INFO] 2018-06-28 14:15:39 TABLE VAL_PE_DEDUCTED_TTM is created in E:\\02_work\\sw\\db\\factor\\2005.db.\u001b[0m\n",
      "\u001b[34m[INFO] 2018-06-28 14:15:39 INDEX VAL_PE_DEDUCTED_TTM_index is created on TABLE VAL_PE_DEDUCTED_TTM of E:\\02_work\\sw\\db\\factor\\2005.db.\u001b[0m\n",
      "\u001b[34m[INFO] 2018-06-28 14:15:41 TABLE VAL_PE_DEDUCTED_TTM is created in E:\\02_work\\sw\\db\\factor\\2006.db.\u001b[0m\n",
      "\u001b[34m[INFO] 2018-06-28 14:15:41 INDEX VAL_PE_DEDUCTED_TTM_index is created on TABLE VAL_PE_DEDUCTED_TTM of E:\\02_work\\sw\\db\\factor\\2006.db.\u001b[0m\n",
      "\u001b[34m[INFO] 2018-06-28 14:15:44 TABLE VAL_PE_DEDUCTED_TTM is created in E:\\02_work\\sw\\db\\factor\\2007.db.\u001b[0m\n",
      "\u001b[34m[INFO] 2018-06-28 14:15:44 INDEX VAL_PE_DEDUCTED_TTM_index is created on TABLE VAL_PE_DEDUCTED_TTM of E:\\02_work\\sw\\db\\factor\\2007.db.\u001b[0m\n",
      "\u001b[34m[INFO] 2018-06-28 14:15:48 TABLE VAL_PE_DEDUCTED_TTM is created in E:\\02_work\\sw\\db\\factor\\2008.db.\u001b[0m\n",
      "\u001b[34m[INFO] 2018-06-28 14:15:48 INDEX VAL_PE_DEDUCTED_TTM_index is created on TABLE VAL_PE_DEDUCTED_TTM of E:\\02_work\\sw\\db\\factor\\2008.db.\u001b[0m\n",
      "\u001b[34m[INFO] 2018-06-28 14:15:51 TABLE VAL_PE_DEDUCTED_TTM is created in E:\\02_work\\sw\\db\\factor\\2009.db.\u001b[0m\n",
      "\u001b[34m[INFO] 2018-06-28 14:15:51 INDEX VAL_PE_DEDUCTED_TTM_index is created on TABLE VAL_PE_DEDUCTED_TTM of E:\\02_work\\sw\\db\\factor\\2009.db.\u001b[0m\n",
      "\u001b[34m[INFO] 2018-06-28 14:15:54 TABLE VAL_PE_DEDUCTED_TTM is created in E:\\02_work\\sw\\db\\factor\\2010.db.\u001b[0m\n",
      "\u001b[34m[INFO] 2018-06-28 14:15:54 INDEX VAL_PE_DEDUCTED_TTM_index is created on TABLE VAL_PE_DEDUCTED_TTM of E:\\02_work\\sw\\db\\factor\\2010.db.\u001b[0m\n",
      "\u001b[34m[INFO] 2018-06-28 14:15:57 TABLE VAL_PE_DEDUCTED_TTM is created in E:\\02_work\\sw\\db\\factor\\2011.db.\u001b[0m\n",
      "\u001b[34m[INFO] 2018-06-28 14:15:57 INDEX VAL_PE_DEDUCTED_TTM_index is created on TABLE VAL_PE_DEDUCTED_TTM of E:\\02_work\\sw\\db\\factor\\2011.db.\u001b[0m\n",
      "\u001b[34m[INFO] 2018-06-28 14:16:00 TABLE VAL_PE_DEDUCTED_TTM is created in E:\\02_work\\sw\\db\\factor\\2012.db.\u001b[0m\n",
      "\u001b[34m[INFO] 2018-06-28 14:16:00 INDEX VAL_PE_DEDUCTED_TTM_index is created on TABLE VAL_PE_DEDUCTED_TTM of E:\\02_work\\sw\\db\\factor\\2012.db.\u001b[0m\n",
      "\u001b[34m[INFO] 2018-06-28 14:16:03 TABLE VAL_PE_DEDUCTED_TTM is created in E:\\02_work\\sw\\db\\factor\\2013.db.\u001b[0m\n",
      "\u001b[34m[INFO] 2018-06-28 14:16:03 INDEX VAL_PE_DEDUCTED_TTM_index is created on TABLE VAL_PE_DEDUCTED_TTM of E:\\02_work\\sw\\db\\factor\\2013.db.\u001b[0m\n",
      "\u001b[34m[INFO] 2018-06-28 14:16:07 TABLE VAL_PE_DEDUCTED_TTM is created in E:\\02_work\\sw\\db\\factor\\2014.db.\u001b[0m\n",
      "\u001b[34m[INFO] 2018-06-28 14:16:07 INDEX VAL_PE_DEDUCTED_TTM_index is created on TABLE VAL_PE_DEDUCTED_TTM of E:\\02_work\\sw\\db\\factor\\2014.db.\u001b[0m\n",
      "\u001b[34m[INFO] 2018-06-28 14:16:10 TABLE VAL_PE_DEDUCTED_TTM is created in E:\\02_work\\sw\\db\\factor\\2015.db.\u001b[0m\n",
      "\u001b[34m[INFO] 2018-06-28 14:16:10 INDEX VAL_PE_DEDUCTED_TTM_index is created on TABLE VAL_PE_DEDUCTED_TTM of E:\\02_work\\sw\\db\\factor\\2015.db.\u001b[0m\n",
      "\u001b[34m[INFO] 2018-06-28 14:16:13 TABLE VAL_PE_DEDUCTED_TTM is created in E:\\02_work\\sw\\db\\factor\\2016.db.\u001b[0m\n",
      "\u001b[34m[INFO] 2018-06-28 14:16:13 INDEX VAL_PE_DEDUCTED_TTM_index is created on TABLE VAL_PE_DEDUCTED_TTM of E:\\02_work\\sw\\db\\factor\\2016.db.\u001b[0m\n",
      "\u001b[34m[INFO] 2018-06-28 14:16:17 TABLE VAL_PE_DEDUCTED_TTM is created in E:\\02_work\\sw\\db\\factor\\2017.db.\u001b[0m\n",
      "\u001b[34m[INFO] 2018-06-28 14:16:17 INDEX VAL_PE_DEDUCTED_TTM_index is created on TABLE VAL_PE_DEDUCTED_TTM of E:\\02_work\\sw\\db\\factor\\2017.db.\u001b[0m\n",
      "\u001b[34m[INFO] 2018-06-28 14:16:20 TABLE VAL_PE_DEDUCTED_TTM is created in E:\\02_work\\sw\\db\\factor\\2018.db.\u001b[0m\n",
      "\u001b[34m[INFO] 2018-06-28 14:16:20 INDEX VAL_PE_DEDUCTED_TTM_index is created on TABLE VAL_PE_DEDUCTED_TTM of E:\\02_work\\sw\\db\\factor\\2018.db.\u001b[0m\n",
      "\u001b[34m[INFO] 2018-06-28 14:16:22 schema updated: VAL_PE_DEDUCTED_TTM\u001b[0m\n"
     ]
    }
   ],
   "source": [
    "# a = pd.DataFrame(DataAPI.schema.get_schema(\"indicator\")).T\n",
    "# inds_ts = a[a.type == \"时间序列\"].index.tolist()\n",
    "# factors4 = [\"LEVERAGE\",\"PROFIT\"] # 基于其他做好的factor\n",
    "# DataAPI.write.update_factors(factors=factors1,trading_days=trading_days , override=False, log=False)\n",
    "# DataAPI.write.update_factors(factors=factors2,trading_days=trading_days , override=False, log=False)\n",
    "# DataAPI.write.update_factors(factors=factors3,trading_days=trading_days , override=False, log=False)\n",
    "DataAPI.write.update_factors(factors=factors,trading_days=trading_days , override=False, log=False)"
   ]
  },
  {
   "cell_type": "code",
   "execution_count": 5,
   "metadata": {},
   "outputs": [
    {
     "name": "stdout",
     "output_type": "stream",
     "text": [
      "\u001b[31m[ERROR] 2018-06-28 13:18:32 Unrecognized factor: GROWTH\u001b[0m\n",
      "\u001b[34m[INFO] 2018-06-28 13:18:32 ------------------------------------------\u001b[0m\n"
     ]
    }
   ],
   "source": [
    "DataAPI.write.update_factors(factors=['GROWTH'],trading_days=trading_days, override=True, log=False)"
   ]
  },
  {
   "cell_type": "markdown",
   "metadata": {},
   "source": [
    "---\n",
    "\n",
    "# factor_return"
   ]
  },
  {
   "cell_type": "code",
   "execution_count": 27,
   "metadata": {
    "scrolled": false
   },
   "outputs": [
    {
     "name": "stdout",
     "output_type": "stream",
     "text": [
      "\u001b[34m[INFO] 2018-03-14 16:13:50 Updating factor_return GROWTH...\u001b[0m\n",
      "\u001b[34m[INFO] 2018-03-14 16:14:57 存量更新：更新当前已经有的记录\u001b[0m\n",
      "\u001b[34m[INFO] 2018-03-14 16:14:57 schema updated: GROWTH\u001b[0m\n",
      "\u001b[34m[INFO] 2018-03-14 16:14:57 传入日期数：1015  已经存在个数：1  实际写入次数：1014\u001b[0m\n",
      "\u001b[32m[INFO] 2018-03-14 16:14:57 factor_return GROWTH is updated.\u001b[0m\n",
      "\u001b[34m[INFO] 2018-03-14 16:14:57 ------------------------------------------\u001b[0m\n"
     ]
    }
   ],
   "source": [
    "# factors = [\"SIZE\", 'VALUE', 'BETA', 'VOL', 'ROE', 'MOM', 'LIQ'] # 为空表示更新所有存在的factors\n",
    "factors = []\n",
    "DataAPI.write.update_factors_return(['GROWTH'], trading_days)"
   ]
  },
  {
   "cell_type": "code",
   "execution_count": null,
   "metadata": {
    "collapsed": true
   },
   "outputs": [],
   "source": []
  }
 ],
 "metadata": {
  "kernelspec": {
   "display_name": "Python 3",
   "language": "python",
   "name": "python3"
  },
  "language_info": {
   "codemirror_mode": {
    "name": "ipython",
    "version": 3
   },
   "file_extension": ".py",
   "mimetype": "text/x-python",
   "name": "python",
   "nbconvert_exporter": "python",
   "pygments_lexer": "ipython3",
   "version": "3.6.3"
  },
  "toc": {
   "nav_menu": {},
   "number_sections": true,
   "sideBar": true,
   "skip_h1_title": false,
   "title_cell": "Table of Contents",
   "title_sidebar": "Contents",
   "toc_cell": false,
   "toc_position": {},
   "toc_section_display": true,
   "toc_window_display": false
  },
  "varInspector": {
   "cols": {
    "lenName": 16,
    "lenType": 16,
    "lenVar": 40
   },
   "kernels_config": {
    "python": {
     "delete_cmd_postfix": "",
     "delete_cmd_prefix": "del ",
     "library": "var_list.py",
     "varRefreshCmd": "print(var_dic_list())"
    },
    "r": {
     "delete_cmd_postfix": ") ",
     "delete_cmd_prefix": "rm(",
     "library": "var_list.r",
     "varRefreshCmd": "cat(var_dic_list()) "
    }
   },
   "types_to_exclude": [
    "module",
    "function",
    "builtin_function_or_method",
    "instance",
    "_Feature"
   ],
   "window_display": false
  }
 },
 "nbformat": 4,
 "nbformat_minor": 2
}
