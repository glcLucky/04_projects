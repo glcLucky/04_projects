{
 "cells": [
  {
   "cell_type": "code",
   "execution_count": 1,
   "metadata": {
    "scrolled": false
   },
   "outputs": [
    {
     "name": "stdout",
     "output_type": "stream",
     "text": [
      "Populating the interactive namespace from numpy and matplotlib\n"
     ]
    }
   ],
   "source": [
    "%pylab inline\n",
    "%load_ext autoreload\n",
    "%autoreload 2\n",
    "\n",
    "import os   \n",
    "import numpy as np\n",
    "import pandas as pd\n",
    "\n",
    "import devkit.api as dk\n",
    "from finkit import api as fk\n",
    "import DataAPI \n",
    "import WindAPI"
   ]
  },
  {
   "cell_type": "markdown",
   "metadata": {},
   "source": [
    "---\n",
    "\n",
    "# 数据库架构"
   ]
  },
  {
   "cell_type": "code",
   "execution_count": null,
   "metadata": {
    "collapsed": true
   },
   "outputs": [],
   "source": [
    "db_names = [\"index_contents\", \"industry\"]\n",
    "\n",
    "for db_name in db_names:\n",
    "    DataAPI.schema.show_db_info(db_name)"
   ]
  },
  {
   "cell_type": "markdown",
   "metadata": {},
   "source": [
    "---\n",
    "\n",
    "# 待更新日期"
   ]
  },
  {
   "cell_type": "code",
   "execution_count": 3,
   "metadata": {
    "collapsed": true
   },
   "outputs": [],
   "source": [
    "start = \"2005-01-01\"\n",
    "end = \"2018-06-31\"\n",
    "trading_days = fk.get_monthly_last_trading_days(start=start, end=end)\n",
    "# trading_days = fk.get_trading_days(start=start, end=end)\n",
    "# trading_days = list(set(fk.get_trading_days(start=start, end=end)).union(set(fk.get_report_days(start=start, end=end))))"
   ]
  },
  {
   "cell_type": "code",
   "execution_count": 4,
   "metadata": {},
   "outputs": [
    {
     "name": "stdout",
     "output_type": "stream",
     "text": [
      "\u001b[32m[INFO] 2018-06-28 12:39:55 Updating index_contents A\u001b[0m\n",
      "\u001b[34m[INFO] 2018-06-28 12:40:07 schema updated: A\u001b[0m\n"
     ]
    }
   ],
   "source": [
    "# A: 全A股\n",
    "DataAPI.write.update_index_contents(index_code=\"A\", trading_days=trading_days, override=False, log=False)"
   ]
  },
  {
   "cell_type": "markdown",
   "metadata": {},
   "source": [
    "---\n",
    "\n",
    "# 更新 index_contents"
   ]
  },
  {
   "cell_type": "code",
   "execution_count": 6,
   "metadata": {
    "scrolled": true
   },
   "outputs": [
    {
     "name": "stdout",
     "output_type": "stream",
     "text": [
      "\u001b[32m[INFO] 2018-06-26 21:22:40 Updating index_contents A\u001b[0m\n",
      "\u001b[34m[INFO] 2018-06-26 21:22:41 schema updated: A\u001b[0m\n",
      "\u001b[32m[INFO] 2018-06-26 21:22:41 Updating index_contents 000300.SH\u001b[0m\n",
      "\u001b[34m[INFO] 2018-06-26 21:22:41 000300.SH on 2006-01-25 is updated successfully\u001b[0m\n",
      "\u001b[34m[INFO] 2018-06-26 21:22:42 000300.SH on 2006-02-28 is updated successfully\u001b[0m\n",
      "\u001b[34m[INFO] 2018-06-26 21:22:42 000300.SH on 2006-03-31 is updated successfully\u001b[0m\n",
      "\u001b[34m[INFO] 2018-06-26 21:22:42 000300.SH on 2006-04-28 is updated successfully\u001b[0m\n",
      "\u001b[34m[INFO] 2018-06-26 21:22:43 000300.SH on 2006-05-31 is updated successfully\u001b[0m\n",
      "\u001b[34m[INFO] 2018-06-26 21:22:43 000300.SH on 2006-06-30 is updated successfully\u001b[0m\n",
      "\u001b[34m[INFO] 2018-06-26 21:22:43 000300.SH on 2006-07-31 is updated successfully\u001b[0m\n",
      "\u001b[34m[INFO] 2018-06-26 21:22:44 000300.SH on 2006-08-31 is updated successfully\u001b[0m\n",
      "\u001b[34m[INFO] 2018-06-26 21:22:44 000300.SH on 2006-09-29 is updated successfully\u001b[0m\n",
      "\u001b[34m[INFO] 2018-06-26 21:22:44 000300.SH on 2006-10-31 is updated successfully\u001b[0m\n",
      "\u001b[34m[INFO] 2018-06-26 21:22:45 000300.SH on 2006-11-30 is updated successfully\u001b[0m\n",
      "\u001b[34m[INFO] 2018-06-26 21:22:45 000300.SH on 2006-12-29 is updated successfully\u001b[0m\n",
      "\u001b[34m[INFO] 2018-06-26 21:22:46 000300.SH on 2008-01-31 is updated successfully\u001b[0m\n",
      "\u001b[34m[INFO] 2018-06-26 21:22:46 000300.SH on 2008-02-29 is updated successfully\u001b[0m\n",
      "\u001b[34m[INFO] 2018-06-26 21:22:47 000300.SH on 2008-03-31 is updated successfully\u001b[0m\n",
      "\u001b[34m[INFO] 2018-06-26 21:22:47 000300.SH on 2008-04-30 is updated successfully\u001b[0m\n",
      "\u001b[34m[INFO] 2018-06-26 21:22:47 000300.SH on 2008-05-30 is updated successfully\u001b[0m\n",
      "\u001b[34m[INFO] 2018-06-26 21:22:48 000300.SH on 2008-06-30 is updated successfully\u001b[0m\n",
      "\u001b[34m[INFO] 2018-06-26 21:22:48 000300.SH on 2008-07-31 is updated successfully\u001b[0m\n",
      "\u001b[34m[INFO] 2018-06-26 21:22:49 000300.SH on 2008-08-29 is updated successfully\u001b[0m\n",
      "\u001b[34m[INFO] 2018-06-26 21:22:49 000300.SH on 2008-09-26 is updated successfully\u001b[0m\n",
      "\u001b[34m[INFO] 2018-06-26 21:22:49 000300.SH on 2008-10-31 is updated successfully\u001b[0m\n",
      "\u001b[34m[INFO] 2018-06-26 21:22:50 000300.SH on 2008-11-28 is updated successfully\u001b[0m\n",
      "\u001b[34m[INFO] 2018-06-26 21:22:50 000300.SH on 2008-12-31 is updated successfully\u001b[0m\n",
      "\u001b[34m[INFO] 2018-06-26 21:22:51 TABLE 000300.SH is created in E:\\02_work\\sw\\db\\index_contents\\2009.db.\u001b[0m\n",
      "\u001b[34m[INFO] 2018-06-26 21:22:51 INDEX 000300.SH_index is created on TABLE 000300.SH of E:\\02_work\\sw\\db\\index_contents\\2009.db.\u001b[0m\n",
      "\u001b[34m[INFO] 2018-06-26 21:22:51 000300.SH on 2009-01-23 is updated successfully\u001b[0m\n",
      "\u001b[34m[INFO] 2018-06-26 21:22:51 000300.SH on 2009-02-27 is updated successfully\u001b[0m\n",
      "\u001b[34m[INFO] 2018-06-26 21:22:51 000300.SH on 2009-03-31 is updated successfully\u001b[0m\n",
      "\u001b[34m[INFO] 2018-06-26 21:22:52 000300.SH on 2009-04-30 is updated successfully\u001b[0m\n",
      "\u001b[34m[INFO] 2018-06-26 21:22:52 000300.SH on 2009-05-27 is updated successfully\u001b[0m\n",
      "\u001b[34m[INFO] 2018-06-26 21:22:53 000300.SH on 2009-06-30 is updated successfully\u001b[0m\n",
      "\u001b[34m[INFO] 2018-06-26 21:22:53 000300.SH on 2009-07-31 is updated successfully\u001b[0m\n",
      "\u001b[34m[INFO] 2018-06-26 21:22:53 000300.SH on 2009-08-31 is updated successfully\u001b[0m\n",
      "\u001b[34m[INFO] 2018-06-26 21:22:54 000300.SH on 2009-09-30 is updated successfully\u001b[0m\n",
      "\u001b[34m[INFO] 2018-06-26 21:22:55 000300.SH on 2009-10-30 is updated successfully\u001b[0m\n",
      "\u001b[34m[INFO] 2018-06-26 21:22:55 000300.SH on 2009-11-30 is updated successfully\u001b[0m\n",
      "\u001b[34m[INFO] 2018-06-26 21:22:55 000300.SH on 2009-12-31 is updated successfully\u001b[0m\n",
      "\u001b[34m[INFO] 2018-06-26 21:22:58 000300.SH on 2018-03-30 is updated successfully\u001b[0m\n",
      "\u001b[34m[INFO] 2018-06-26 21:22:58 000300.SH on 2018-04-27 is updated successfully\u001b[0m\n",
      "\u001b[34m[INFO] 2018-06-26 21:22:59 000300.SH on 2018-05-31 is updated successfully\u001b[0m\n",
      "\u001b[34m[INFO] 2018-06-26 21:22:59 schema updated: 000300.SH\u001b[0m\n",
      "\u001b[32m[INFO] 2018-06-26 21:22:59 Updating index_contents 000016.SH\u001b[0m\n",
      "\u001b[31m[ERROR] 2018-06-26 21:22:59 Error occurred when loading 000016.SH on 2006-01-25\u001b[0m\n"
     ]
    },
    {
     "ename": "ValueError",
     "evalue": "",
     "output_type": "error",
     "traceback": [
      "\u001b[1;31m---------------------------------------------------------------------------\u001b[0m",
      "\u001b[1;31mIndexError\u001b[0m                                Traceback (most recent call last)",
      "\u001b[1;32mE:\\04_projects\\DataAPI\\write\\index_contents.py\u001b[0m in \u001b[0;36mupdate_index_contents_to_sql\u001b[1;34m(index_code, trading_days, override, log)\u001b[0m\n\u001b[0;32m    105\u001b[0m                     \u001b[0mloader\u001b[0m \u001b[1;33m=\u001b[0m \u001b[0mLOADER_MAP\u001b[0m\u001b[1;33m[\u001b[0m\u001b[0mindex_code\u001b[0m\u001b[1;33m]\u001b[0m\u001b[1;33m\u001b[0m\u001b[0m\n\u001b[1;32m--> 106\u001b[1;33m                     \u001b[0mdf\u001b[0m \u001b[1;33m=\u001b[0m \u001b[0mloader\u001b[0m\u001b[1;33m(\u001b[0m\u001b[0mindex_code\u001b[0m\u001b[1;33m,\u001b[0m \u001b[0mdate\u001b[0m\u001b[1;33m)\u001b[0m\u001b[1;33m\u001b[0m\u001b[0m\n\u001b[0m\u001b[0;32m    107\u001b[0m                     \u001b[0mdf\u001b[0m\u001b[1;33m[\u001b[0m\u001b[1;34m'date'\u001b[0m\u001b[1;33m]\u001b[0m \u001b[1;33m=\u001b[0m \u001b[0mdate\u001b[0m\u001b[1;33m\u001b[0m\u001b[0m\n",
      "\u001b[1;32mE:\\04_projects\\DataAPI\\load\\index_contents.py\u001b[0m in \u001b[0;36mload_index_contents_and_weights_from_wind\u001b[1;34m(index_code, date)\u001b[0m\n\u001b[0;32m     73\u001b[0m     output = {\n\u001b[1;32m---> 74\u001b[1;33m         \u001b[1;34m\"sec_id\"\u001b[0m\u001b[1;33m:\u001b[0m \u001b[0mresponse\u001b[0m\u001b[1;33m.\u001b[0m\u001b[0mData\u001b[0m\u001b[1;33m[\u001b[0m\u001b[1;36m1\u001b[0m\u001b[1;33m]\u001b[0m\u001b[1;33m,\u001b[0m\u001b[1;33m\u001b[0m\u001b[0m\n\u001b[0m\u001b[0;32m     75\u001b[0m         \u001b[1;34m\"sec_name\"\u001b[0m\u001b[1;33m:\u001b[0m \u001b[0mresponse\u001b[0m\u001b[1;33m.\u001b[0m\u001b[0mData\u001b[0m\u001b[1;33m[\u001b[0m\u001b[1;36m2\u001b[0m\u001b[1;33m]\u001b[0m\u001b[1;33m,\u001b[0m\u001b[1;33m\u001b[0m\u001b[0m\n",
      "\u001b[1;31mIndexError\u001b[0m: list index out of range",
      "\nDuring handling of the above exception, another exception occurred:\n",
      "\u001b[1;31mValueError\u001b[0m                                Traceback (most recent call last)",
      "\u001b[1;32m<ipython-input-6-ee99aec7a8b2>\u001b[0m in \u001b[0;36m<module>\u001b[1;34m()\u001b[0m\n\u001b[0;32m      9\u001b[0m \u001b[1;33m\u001b[0m\u001b[0m\n\u001b[0;32m     10\u001b[0m \u001b[1;31m# 000016.SH 上证50\u001b[0m\u001b[1;33m\u001b[0m\u001b[1;33m\u001b[0m\u001b[0m\n\u001b[1;32m---> 11\u001b[1;33m \u001b[0mDataAPI\u001b[0m\u001b[1;33m.\u001b[0m\u001b[0mwrite\u001b[0m\u001b[1;33m.\u001b[0m\u001b[0mupdate_index_contents\u001b[0m\u001b[1;33m(\u001b[0m\u001b[0mindex_code\u001b[0m\u001b[1;33m=\u001b[0m\u001b[1;34m\"000016.SH\"\u001b[0m\u001b[1;33m,\u001b[0m \u001b[0mtrading_days\u001b[0m\u001b[1;33m=\u001b[0m\u001b[0mtrading_days\u001b[0m\u001b[1;33m,\u001b[0m \u001b[0moverride\u001b[0m\u001b[1;33m=\u001b[0m\u001b[1;32mFalse\u001b[0m\u001b[1;33m)\u001b[0m\u001b[1;33m\u001b[0m\u001b[0m\n\u001b[0m\u001b[0;32m     12\u001b[0m \u001b[1;33m\u001b[0m\u001b[0m\n\u001b[0;32m     13\u001b[0m \u001b[1;31m# 000905.SH 中证500\u001b[0m\u001b[1;33m\u001b[0m\u001b[1;33m\u001b[0m\u001b[0m\n",
      "\u001b[1;32mE:\\04_projects\\DataAPI\\write\\index_contents.py\u001b[0m in \u001b[0;36mupdate_index_contents\u001b[1;34m(index_code, trading_days, override, log)\u001b[0m\n\u001b[0;32m     68\u001b[0m \u001b[1;33m\u001b[0m\u001b[0m\n\u001b[0;32m     69\u001b[0m     \u001b[1;32mif\u001b[0m \u001b[0mindex_code\u001b[0m \u001b[1;32min\u001b[0m \u001b[0mIDXCONT_AS_SQL\u001b[0m\u001b[1;33m:\u001b[0m\u001b[1;33m\u001b[0m\u001b[0m\n\u001b[1;32m---> 70\u001b[1;33m         \u001b[0mupdate_index_contents_to_sql\u001b[0m\u001b[1;33m(\u001b[0m\u001b[0mindex_code\u001b[0m\u001b[1;33m,\u001b[0m \u001b[0mtrading_days\u001b[0m\u001b[1;33m,\u001b[0m \u001b[0moverride\u001b[0m\u001b[1;33m,\u001b[0m \u001b[0mlog\u001b[0m\u001b[1;33m)\u001b[0m\u001b[1;33m\u001b[0m\u001b[0m\n\u001b[0m\u001b[0;32m     71\u001b[0m     \u001b[1;32melif\u001b[0m \u001b[0mindex_code\u001b[0m \u001b[1;32min\u001b[0m \u001b[0mIDXCONT_AS_CSV\u001b[0m\u001b[1;33m:\u001b[0m\u001b[1;33m\u001b[0m\u001b[0m\n\u001b[0;32m     72\u001b[0m         \u001b[1;31m# 非sql数据强制更新，原有的会自动保存副本\u001b[0m\u001b[1;33m\u001b[0m\u001b[1;33m\u001b[0m\u001b[0m\n",
      "\u001b[1;32mE:\\04_projects\\DataAPI\\write\\index_contents.py\u001b[0m in \u001b[0;36mupdate_index_contents_to_sql\u001b[1;34m(index_code, trading_days, override, log)\u001b[0m\n\u001b[0;32m    108\u001b[0m                 \u001b[1;32mexcept\u001b[0m \u001b[0mException\u001b[0m\u001b[1;33m:\u001b[0m\u001b[1;33m\u001b[0m\u001b[0m\n\u001b[0;32m    109\u001b[0m                     \u001b[0mLogger\u001b[0m\u001b[1;33m.\u001b[0m\u001b[0merror\u001b[0m\u001b[1;33m(\u001b[0m\u001b[1;34m\"Error occurred when loading {} on {}\"\u001b[0m\u001b[1;33m.\u001b[0m\u001b[0mformat\u001b[0m\u001b[1;33m(\u001b[0m\u001b[0mindex_code\u001b[0m\u001b[1;33m,\u001b[0m \u001b[0mdate\u001b[0m\u001b[1;33m)\u001b[0m\u001b[1;33m)\u001b[0m\u001b[1;33m\u001b[0m\u001b[0m\n\u001b[1;32m--> 110\u001b[1;33m                     \u001b[1;32mraise\u001b[0m \u001b[0mValueError\u001b[0m\u001b[1;33m\u001b[0m\u001b[0m\n\u001b[0m\u001b[0;32m    111\u001b[0m \u001b[1;33m\u001b[0m\u001b[0m\n\u001b[0;32m    112\u001b[0m                 \u001b[1;32mif\u001b[0m \u001b[0mdf\u001b[0m \u001b[1;32mis\u001b[0m \u001b[1;32mnot\u001b[0m \u001b[1;32mNone\u001b[0m\u001b[1;33m:\u001b[0m  \u001b[1;31m# 从Wind下载数据成功时\u001b[0m\u001b[1;33m\u001b[0m\u001b[0m\n",
      "\u001b[1;31mValueError\u001b[0m: "
     ]
    }
   ],
   "source": [
    "# A: 全A股\n",
    "DataAPI.write.update_index_contents(index_code=\"A\", trading_days=trading_days, override=False)\n",
    "\n",
    "# 000300.SH: 沪深300\n",
    "DataAPI.write.update_index_contents(index_code=\"000300.SH\", trading_days=trading_days, override=False)\n",
    "\n",
    "# HSI.HI 恒生指数\n",
    "# DataAPI.update_index_contents(index_code=\"HSI.HI\", trading_days=trading_days, override=False)\n",
    "\n",
    "# 000016.SH 上证50\n",
    "DataAPI.write.update_index_contents(index_code=\"000016.SH\", trading_days=trading_days, override=False)\n",
    "\n",
    "# 000905.SH 中证500\n",
    "DataAPI.write.update_index_contents(index_code=\"000905.SH\", trading_days=trading_days, override=False)"
   ]
  },
  {
   "cell_type": "markdown",
   "metadata": {},
   "source": [
    "# 更新 industry"
   ]
  },
  {
   "cell_type": "code",
   "execution_count": null,
   "metadata": {
    "collapsed": true
   },
   "outputs": [],
   "source": []
  },
  {
   "cell_type": "code",
   "execution_count": 8,
   "metadata": {
    "scrolled": true
   },
   "outputs": [
    {
     "name": "stdout",
     "output_type": "stream",
     "text": [
      "\u001b[32m[INFO] 2018-06-26 21:51:13 Updating industry H_SWL1\u001b[0m\n",
      "\u001b[31m[ERROR] 2018-06-26 21:51:13 Error occurred when loading H_SWL1 on 2018-05-31\u001b[0m\n"
     ]
    },
    {
     "ename": "ValueError",
     "evalue": "",
     "output_type": "error",
     "traceback": [
      "\u001b[1;31m---------------------------------------------------------------------------\u001b[0m",
      "\u001b[1;31mFileNotFoundError\u001b[0m                         Traceback (most recent call last)",
      "\u001b[1;32mE:\\04_projects\\DataAPI\\write\\industry.py\u001b[0m in \u001b[0;36mupdate_industry_to_json\u001b[1;34m(industry, trading_days)\u001b[0m\n\u001b[0;32m    144\u001b[0m         \u001b[0mindex_code\u001b[0m\u001b[1;33m,\u001b[0m \u001b[0mloader\u001b[0m \u001b[1;33m=\u001b[0m \u001b[0mINDEX_LOADER_MAP\u001b[0m\u001b[1;33m[\u001b[0m\u001b[0mindustry\u001b[0m\u001b[1;33m]\u001b[0m\u001b[1;33m\u001b[0m\u001b[0m\n\u001b[1;32m--> 145\u001b[1;33m         \u001b[0minfo\u001b[0m \u001b[1;33m=\u001b[0m \u001b[0mloader\u001b[0m\u001b[1;33m(\u001b[0m\u001b[0mindex_code\u001b[0m\u001b[1;33m,\u001b[0m \u001b[0mdate\u001b[0m\u001b[1;33m,\u001b[0m \u001b[0mlevel\u001b[0m\u001b[1;33m=\u001b[0m\u001b[1;36m1\u001b[0m\u001b[1;33m)\u001b[0m\u001b[1;33m\u001b[0m\u001b[0m\n\u001b[0m\u001b[0;32m    146\u001b[0m     \u001b[1;32mexcept\u001b[0m \u001b[0mException\u001b[0m\u001b[1;33m:\u001b[0m\u001b[1;33m\u001b[0m\u001b[0m\n",
      "\u001b[1;32mE:\\04_projects\\DataAPI\\load\\industry.py\u001b[0m in \u001b[0;36mload_secs_industry_sw_from_wind\u001b[1;34m(index_code, date, level)\u001b[0m\n\u001b[0;32m     36\u001b[0m \u001b[1;33m\u001b[0m\u001b[0m\n\u001b[1;32m---> 37\u001b[1;33m     \u001b[0muniverse\u001b[0m \u001b[1;33m=\u001b[0m \u001b[0mget_index_contents\u001b[0m\u001b[1;33m(\u001b[0m\u001b[0mindex_code\u001b[0m\u001b[1;33m,\u001b[0m \u001b[0mdate\u001b[0m\u001b[1;33m,\u001b[0m \u001b[0mlog\u001b[0m\u001b[1;33m=\u001b[0m\u001b[1;32mFalse\u001b[0m\u001b[1;33m)\u001b[0m\u001b[1;33m\u001b[0m\u001b[0m\n\u001b[0m\u001b[0;32m     38\u001b[0m \u001b[1;33m\u001b[0m\u001b[0m\n",
      "\u001b[1;32mE:\\04_projects\\DataAPI\\read\\index_contents.py\u001b[0m in \u001b[0;36mget_index_contents\u001b[1;34m(index_code, date, approx, log)\u001b[0m\n\u001b[0;32m     63\u001b[0m     \u001b[1;32melif\u001b[0m \u001b[0mindex_code\u001b[0m \u001b[1;32min\u001b[0m \u001b[0mIDXCONT_AS_CSV\u001b[0m\u001b[1;33m:\u001b[0m\u001b[1;33m\u001b[0m\u001b[0m\n\u001b[1;32m---> 64\u001b[1;33m         \u001b[0moutput\u001b[0m \u001b[1;33m=\u001b[0m \u001b[0mget_index_contents_from_csv\u001b[0m\u001b[1;33m(\u001b[0m\u001b[0mindex_code\u001b[0m\u001b[1;33m)\u001b[0m\u001b[1;33m\u001b[0m\u001b[0m\n\u001b[0m\u001b[0;32m     65\u001b[0m     \u001b[1;32melse\u001b[0m\u001b[1;33m:\u001b[0m\u001b[1;33m\u001b[0m\u001b[0m\n",
      "\u001b[1;32mE:\\04_projects\\DataAPI\\read\\index_contents.py\u001b[0m in \u001b[0;36mget_index_contents_from_csv\u001b[1;34m(index_code)\u001b[0m\n\u001b[0;32m     91\u001b[0m     \u001b[0mpath\u001b[0m \u001b[1;33m=\u001b[0m \u001b[0mos\u001b[0m\u001b[1;33m.\u001b[0m\u001b[0mpath\u001b[0m\u001b[1;33m.\u001b[0m\u001b[0mjoin\u001b[0m\u001b[1;33m(\u001b[0m\u001b[0mDB_INDEX_CONTENTS\u001b[0m\u001b[1;33m,\u001b[0m \u001b[1;34m'{}.csv'\u001b[0m\u001b[1;33m.\u001b[0m\u001b[0mformat\u001b[0m\u001b[1;33m(\u001b[0m\u001b[0mindex_code\u001b[0m\u001b[1;33m)\u001b[0m\u001b[1;33m)\u001b[0m\u001b[1;33m\u001b[0m\u001b[0m\n\u001b[1;32m---> 92\u001b[1;33m     \u001b[0minfo\u001b[0m \u001b[1;33m=\u001b[0m \u001b[0mopen_csv_as_df\u001b[0m\u001b[1;33m(\u001b[0m\u001b[0mpath\u001b[0m\u001b[1;33m,\u001b[0m \u001b[0mvalidate\u001b[0m\u001b[1;33m=\u001b[0m\u001b[1;32mFalse\u001b[0m\u001b[1;33m)\u001b[0m\u001b[1;33m\u001b[0m\u001b[0m\n\u001b[0m\u001b[0;32m     93\u001b[0m     \u001b[1;32mreturn\u001b[0m \u001b[0minfo\u001b[0m\u001b[1;33m[\u001b[0m\u001b[1;34m\"sec_id\"\u001b[0m\u001b[1;33m]\u001b[0m\u001b[1;33m.\u001b[0m\u001b[0mtolist\u001b[0m\u001b[1;33m(\u001b[0m\u001b[1;33m)\u001b[0m\u001b[1;33m\u001b[0m\u001b[0m\n",
      "\u001b[1;32mE:\\04_projects\\devkit\\io_utils\\csv_utils.py\u001b[0m in \u001b[0;36mopen_csv_as_df\u001b[1;34m(csvpath, encoding, validate)\u001b[0m\n\u001b[0;32m     25\u001b[0m         \u001b[0mvalidate_file\u001b[0m\u001b[1;33m(\u001b[0m\u001b[0mcsvpath\u001b[0m\u001b[1;33m)\u001b[0m\u001b[1;33m\u001b[0m\u001b[0m\n\u001b[1;32m---> 26\u001b[1;33m     \u001b[1;32mreturn\u001b[0m \u001b[0mpd\u001b[0m\u001b[1;33m.\u001b[0m\u001b[0mread_csv\u001b[0m\u001b[1;33m(\u001b[0m\u001b[0mcsvpath\u001b[0m\u001b[1;33m,\u001b[0m \u001b[0mencoding\u001b[0m\u001b[1;33m=\u001b[0m\u001b[0mencoding\u001b[0m\u001b[1;33m)\u001b[0m\u001b[1;33m\u001b[0m\u001b[0m\n\u001b[0m",
      "\u001b[1;32mE:\\06_software\\Anoconda\\lib\\site-packages\\pandas\\io\\parsers.py\u001b[0m in \u001b[0;36mparser_f\u001b[1;34m(filepath_or_buffer, sep, delimiter, header, names, index_col, usecols, squeeze, prefix, mangle_dupe_cols, dtype, engine, converters, true_values, false_values, skipinitialspace, skiprows, nrows, na_values, keep_default_na, na_filter, verbose, skip_blank_lines, parse_dates, infer_datetime_format, keep_date_col, date_parser, dayfirst, iterator, chunksize, compression, thousands, decimal, lineterminator, quotechar, quoting, escapechar, comment, encoding, dialect, tupleize_cols, error_bad_lines, warn_bad_lines, skipfooter, skip_footer, doublequote, delim_whitespace, as_recarray, compact_ints, use_unsigned, low_memory, buffer_lines, memory_map, float_precision)\u001b[0m\n\u001b[0;32m    654\u001b[0m \u001b[1;33m\u001b[0m\u001b[0m\n\u001b[1;32m--> 655\u001b[1;33m         \u001b[1;32mreturn\u001b[0m \u001b[0m_read\u001b[0m\u001b[1;33m(\u001b[0m\u001b[0mfilepath_or_buffer\u001b[0m\u001b[1;33m,\u001b[0m \u001b[0mkwds\u001b[0m\u001b[1;33m)\u001b[0m\u001b[1;33m\u001b[0m\u001b[0m\n\u001b[0m\u001b[0;32m    656\u001b[0m \u001b[1;33m\u001b[0m\u001b[0m\n",
      "\u001b[1;32mE:\\06_software\\Anoconda\\lib\\site-packages\\pandas\\io\\parsers.py\u001b[0m in \u001b[0;36m_read\u001b[1;34m(filepath_or_buffer, kwds)\u001b[0m\n\u001b[0;32m    404\u001b[0m     \u001b[1;31m# Create the parser.\u001b[0m\u001b[1;33m\u001b[0m\u001b[1;33m\u001b[0m\u001b[0m\n\u001b[1;32m--> 405\u001b[1;33m     \u001b[0mparser\u001b[0m \u001b[1;33m=\u001b[0m \u001b[0mTextFileReader\u001b[0m\u001b[1;33m(\u001b[0m\u001b[0mfilepath_or_buffer\u001b[0m\u001b[1;33m,\u001b[0m \u001b[1;33m**\u001b[0m\u001b[0mkwds\u001b[0m\u001b[1;33m)\u001b[0m\u001b[1;33m\u001b[0m\u001b[0m\n\u001b[0m\u001b[0;32m    406\u001b[0m \u001b[1;33m\u001b[0m\u001b[0m\n",
      "\u001b[1;32mE:\\06_software\\Anoconda\\lib\\site-packages\\pandas\\io\\parsers.py\u001b[0m in \u001b[0;36m__init__\u001b[1;34m(self, f, engine, **kwds)\u001b[0m\n\u001b[0;32m    763\u001b[0m \u001b[1;33m\u001b[0m\u001b[0m\n\u001b[1;32m--> 764\u001b[1;33m         \u001b[0mself\u001b[0m\u001b[1;33m.\u001b[0m\u001b[0m_make_engine\u001b[0m\u001b[1;33m(\u001b[0m\u001b[0mself\u001b[0m\u001b[1;33m.\u001b[0m\u001b[0mengine\u001b[0m\u001b[1;33m)\u001b[0m\u001b[1;33m\u001b[0m\u001b[0m\n\u001b[0m\u001b[0;32m    765\u001b[0m \u001b[1;33m\u001b[0m\u001b[0m\n",
      "\u001b[1;32mE:\\06_software\\Anoconda\\lib\\site-packages\\pandas\\io\\parsers.py\u001b[0m in \u001b[0;36m_make_engine\u001b[1;34m(self, engine)\u001b[0m\n\u001b[0;32m    984\u001b[0m         \u001b[1;32mif\u001b[0m \u001b[0mengine\u001b[0m \u001b[1;33m==\u001b[0m \u001b[1;34m'c'\u001b[0m\u001b[1;33m:\u001b[0m\u001b[1;33m\u001b[0m\u001b[0m\n\u001b[1;32m--> 985\u001b[1;33m             \u001b[0mself\u001b[0m\u001b[1;33m.\u001b[0m\u001b[0m_engine\u001b[0m \u001b[1;33m=\u001b[0m \u001b[0mCParserWrapper\u001b[0m\u001b[1;33m(\u001b[0m\u001b[0mself\u001b[0m\u001b[1;33m.\u001b[0m\u001b[0mf\u001b[0m\u001b[1;33m,\u001b[0m \u001b[1;33m**\u001b[0m\u001b[0mself\u001b[0m\u001b[1;33m.\u001b[0m\u001b[0moptions\u001b[0m\u001b[1;33m)\u001b[0m\u001b[1;33m\u001b[0m\u001b[0m\n\u001b[0m\u001b[0;32m    986\u001b[0m         \u001b[1;32melse\u001b[0m\u001b[1;33m:\u001b[0m\u001b[1;33m\u001b[0m\u001b[0m\n",
      "\u001b[1;32mE:\\06_software\\Anoconda\\lib\\site-packages\\pandas\\io\\parsers.py\u001b[0m in \u001b[0;36m__init__\u001b[1;34m(self, src, **kwds)\u001b[0m\n\u001b[0;32m   1604\u001b[0m \u001b[1;33m\u001b[0m\u001b[0m\n\u001b[1;32m-> 1605\u001b[1;33m         \u001b[0mself\u001b[0m\u001b[1;33m.\u001b[0m\u001b[0m_reader\u001b[0m \u001b[1;33m=\u001b[0m \u001b[0mparsers\u001b[0m\u001b[1;33m.\u001b[0m\u001b[0mTextReader\u001b[0m\u001b[1;33m(\u001b[0m\u001b[0msrc\u001b[0m\u001b[1;33m,\u001b[0m \u001b[1;33m**\u001b[0m\u001b[0mkwds\u001b[0m\u001b[1;33m)\u001b[0m\u001b[1;33m\u001b[0m\u001b[0m\n\u001b[0m\u001b[0;32m   1606\u001b[0m \u001b[1;33m\u001b[0m\u001b[0m\n",
      "\u001b[1;32mpandas/_libs/parsers.pyx\u001b[0m in \u001b[0;36mpandas._libs.parsers.TextReader.__cinit__ (pandas\\_libs\\parsers.c:4209)\u001b[1;34m()\u001b[0m\n",
      "\u001b[1;32mpandas/_libs/parsers.pyx\u001b[0m in \u001b[0;36mpandas._libs.parsers.TextReader._setup_parser_source (pandas\\_libs\\parsers.c:8873)\u001b[1;34m()\u001b[0m\n",
      "\u001b[1;31mFileNotFoundError\u001b[0m: File b'E:\\\\02_work\\\\sw\\\\db\\\\index_contents\\\\H.csv' does not exist",
      "\nDuring handling of the above exception, another exception occurred:\n",
      "\u001b[1;31mValueError\u001b[0m                                Traceback (most recent call last)",
      "\u001b[1;32m<ipython-input-8-7598e9856746>\u001b[0m in \u001b[0;36m<module>\u001b[1;34m()\u001b[0m\n\u001b[0;32m      1\u001b[0m \u001b[1;31m#  - 申万一级 A股\u001b[0m\u001b[1;33m\u001b[0m\u001b[1;33m\u001b[0m\u001b[0m\n\u001b[1;32m----> 2\u001b[1;33m \u001b[0ma\u001b[0m\u001b[1;33m=\u001b[0m\u001b[0mDataAPI\u001b[0m\u001b[1;33m.\u001b[0m\u001b[0mwrite\u001b[0m\u001b[1;33m.\u001b[0m\u001b[0mupdate_industry\u001b[0m\u001b[1;33m(\u001b[0m\u001b[0mindustry\u001b[0m\u001b[1;33m=\u001b[0m\u001b[1;34m\"H_SWL1\"\u001b[0m\u001b[1;33m,\u001b[0m \u001b[0mtrading_days\u001b[0m\u001b[1;33m=\u001b[0m\u001b[0mtrading_days\u001b[0m\u001b[1;33m,\u001b[0m \u001b[0moverride\u001b[0m\u001b[1;33m=\u001b[0m\u001b[1;32mFalse\u001b[0m\u001b[1;33m)\u001b[0m\u001b[1;33m\u001b[0m\u001b[0m\n\u001b[0m",
      "\u001b[1;32mE:\\04_projects\\DataAPI\\write\\industry.py\u001b[0m in \u001b[0;36mupdate_industry\u001b[1;34m(industry, trading_days, override, log)\u001b[0m\n\u001b[0;32m     72\u001b[0m     \u001b[1;32melif\u001b[0m \u001b[0mindustry\u001b[0m \u001b[1;32min\u001b[0m \u001b[0mINDUSTRY_AS_JSON\u001b[0m\u001b[1;33m:\u001b[0m\u001b[1;33m\u001b[0m\u001b[0m\n\u001b[0;32m     73\u001b[0m         \u001b[1;31m# 非sql数据强制更新，原有的会自动保存副本\u001b[0m\u001b[1;33m\u001b[0m\u001b[1;33m\u001b[0m\u001b[0m\n\u001b[1;32m---> 74\u001b[1;33m         \u001b[0mupdate_industry_to_json\u001b[0m\u001b[1;33m(\u001b[0m\u001b[0mindustry\u001b[0m\u001b[1;33m,\u001b[0m \u001b[0mtrading_days\u001b[0m\u001b[1;33m)\u001b[0m\u001b[1;33m\u001b[0m\u001b[0m\n\u001b[0m\u001b[0;32m     75\u001b[0m     \u001b[1;32melse\u001b[0m\u001b[1;33m:\u001b[0m\u001b[1;33m\u001b[0m\u001b[0m\n\u001b[0;32m     76\u001b[0m         \u001b[0mLogger\u001b[0m\u001b[1;33m.\u001b[0m\u001b[0merror\u001b[0m\u001b[1;33m(\u001b[0m\u001b[1;34m\"Unrecognized industry: {}\"\u001b[0m\u001b[1;33m.\u001b[0m\u001b[0mformat\u001b[0m\u001b[1;33m(\u001b[0m\u001b[0mindustry\u001b[0m\u001b[1;33m)\u001b[0m\u001b[1;33m)\u001b[0m\u001b[1;33m\u001b[0m\u001b[0m\n",
      "\u001b[1;32mE:\\04_projects\\DataAPI\\write\\industry.py\u001b[0m in \u001b[0;36mupdate_industry_to_json\u001b[1;34m(industry, trading_days)\u001b[0m\n\u001b[0;32m    146\u001b[0m     \u001b[1;32mexcept\u001b[0m \u001b[0mException\u001b[0m\u001b[1;33m:\u001b[0m\u001b[1;33m\u001b[0m\u001b[0m\n\u001b[0;32m    147\u001b[0m         \u001b[0mLogger\u001b[0m\u001b[1;33m.\u001b[0m\u001b[0merror\u001b[0m\u001b[1;33m(\u001b[0m\u001b[1;34m\"Error occurred when loading {} on {}\"\u001b[0m\u001b[1;33m.\u001b[0m\u001b[0mformat\u001b[0m\u001b[1;33m(\u001b[0m\u001b[0mindustry\u001b[0m\u001b[1;33m,\u001b[0m \u001b[0mdate\u001b[0m\u001b[1;33m)\u001b[0m\u001b[1;33m)\u001b[0m\u001b[1;33m\u001b[0m\u001b[0m\n\u001b[1;32m--> 148\u001b[1;33m         \u001b[1;32mraise\u001b[0m \u001b[0mValueError\u001b[0m\u001b[1;33m\u001b[0m\u001b[0m\n\u001b[0m\u001b[0;32m    149\u001b[0m \u001b[1;33m\u001b[0m\u001b[0m\n\u001b[0;32m    150\u001b[0m     \u001b[1;32mtry\u001b[0m\u001b[1;33m:\u001b[0m\u001b[1;33m\u001b[0m\u001b[0m\n",
      "\u001b[1;31mValueError\u001b[0m: "
     ]
    }
   ],
   "source": [
    "#  - 申万一级 A股\n",
    "a=DataAPI.write.update_industry(industry=\"H_SWL1\", trading_days=trading_days, override=False)"
   ]
  },
  {
   "cell_type": "code",
   "execution_count": null,
   "metadata": {
    "collapsed": true
   },
   "outputs": [],
   "source": [
    "#  - 申万一级 H 股\n",
    "DataAPI.write.update_secs_industry_sw(industry=\"A_SWL1\", trading_days=trading_days, override=False)"
   ]
  },
  {
   "cell_type": "code",
   "execution_count": 12,
   "metadata": {},
   "outputs": [
    {
     "ename": "NameError",
     "evalue": "name 'a' is not defined",
     "output_type": "error",
     "traceback": [
      "\u001b[1;31m---------------------------------------------------------------------------\u001b[0m",
      "\u001b[1;31mNameError\u001b[0m                                 Traceback (most recent call last)",
      "\u001b[1;32m<ipython-input-12-60b725f10c9c>\u001b[0m in \u001b[0;36m<module>\u001b[1;34m()\u001b[0m\n\u001b[1;32m----> 1\u001b[1;33m \u001b[0ma\u001b[0m\u001b[1;33m\u001b[0m\u001b[0m\n\u001b[0m",
      "\u001b[1;31mNameError\u001b[0m: name 'a' is not defined"
     ]
    }
   ],
   "source": [
    "#  - 申万一级 H股\n",
    "a=DataAPI.write.update_secs_industry_sw(industry=\"H_SWL1\", trading_days=['2017-12-29'], override=False)"
   ]
  },
  {
   "cell_type": "markdown",
   "metadata": {},
   "source": [
    "---"
   ]
  },
  {
   "cell_type": "code",
   "execution_count": null,
   "metadata": {
    "collapsed": true
   },
   "outputs": [],
   "source": [
    "# - GICS\n",
    "DataAPI.write.update_secs_industry_gics(industry='A_GICSL1', trading_days=trading_days, override=False)"
   ]
  },
  {
   "cell_type": "code",
   "execution_count": null,
   "metadata": {
    "collapsed": true
   },
   "outputs": [],
   "source": []
  }
 ],
 "metadata": {
  "kernelspec": {
   "display_name": "Python 3",
   "language": "python",
   "name": "python3"
  },
  "language_info": {
   "codemirror_mode": {
    "name": "ipython",
    "version": 3
   },
   "file_extension": ".py",
   "mimetype": "text/x-python",
   "name": "python",
   "nbconvert_exporter": "python",
   "pygments_lexer": "ipython3",
   "version": "3.6.3"
  },
  "toc": {
   "nav_menu": {},
   "number_sections": true,
   "sideBar": true,
   "skip_h1_title": false,
   "title_cell": "Table of Contents",
   "title_sidebar": "Contents",
   "toc_cell": false,
   "toc_position": {},
   "toc_section_display": true,
   "toc_window_display": false
  }
 },
 "nbformat": 4,
 "nbformat_minor": 2
}
