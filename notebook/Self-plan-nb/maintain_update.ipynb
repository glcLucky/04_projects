{
 "cells": [
  {
   "cell_type": "code",
   "execution_count": 4,
   "metadata": {},
   "outputs": [
    {
     "name": "stdout",
     "output_type": "stream",
     "text": [
      "Populating the interactive namespace from numpy and matplotlib\n",
      "The autoreload extension is already loaded. To reload it, use:\n",
      "  %reload_ext autoreload\n"
     ]
    }
   ],
   "source": [
    "%pylab inline\n",
    "%load_ext autoreload\n",
    "%autoreload 2"
   ]
  },
  {
   "cell_type": "code",
   "execution_count": 5,
   "metadata": {
    "collapsed": true
   },
   "outputs": [],
   "source": [
    "import pandas as pd\n",
    "import os\n",
    "from devkit.api import Logger, SqliteProxy\n",
    "import finance.api as fa\n",
    "import seaborn, datetime\n",
    "seaborn.set_style(\"darkgrid\")"
   ]
  },
  {
   "cell_type": "markdown",
   "metadata": {},
   "source": [
    "# 读入数据"
   ]
  },
  {
   "cell_type": "code",
   "execution_count": 6,
   "metadata": {
    "collapsed": true
   },
   "outputs": [],
   "source": [
    "df = fa.load_excel_data(fa.fin_plan_path)\n",
    "# DATE = '2018-05-01'\n",
    "# ['2018-01-08','2018-01-25','2018-02-03','2018-02-09','2018-02-21']\n",
    "datelist = ['2018-01-01', '2018-02-01', '2018-03-01', '2018-04-01', '2018-05-01']"
   ]
  },
  {
   "cell_type": "markdown",
   "metadata": {},
   "source": [
    "# 更新配置信息"
   ]
  },
  {
   "cell_type": "code",
   "execution_count": 23,
   "metadata": {},
   "outputs": [
    {
     "name": "stdout",
     "output_type": "stream",
     "text": [
      "\u001b[32m[INFO] 2018-05-03 20:18:53 E:\\07_data\\03_self-plan\\finance_records.db is connected.\u001b[0m\n",
      "\u001b[34m[INFO] 2018-05-03 20:18:53 SELECT DISTINCT date FROM  config_big_asset\u001b[0m\n",
      "\u001b[34m[INFO] 2018-05-03 20:18:53 Data is inserted to config_big_asset successfully!\u001b[0m\n",
      "\u001b[32m[INFO] 2018-05-03 20:18:53 E:\\07_data\\03_self-plan\\finance_records.db is disconnected.\u001b[0m\n"
     ]
    }
   ],
   "source": [
    "fa.update_config_info(df)"
   ]
  },
  {
   "cell_type": "markdown",
   "metadata": {},
   "source": [
    "# 更新月度资产负债表"
   ]
  },
  {
   "cell_type": "code",
   "execution_count": 11,
   "metadata": {},
   "outputs": [
    {
     "name": "stdout",
     "output_type": "stream",
     "text": [
      "\u001b[32m[INFO] 2018-05-03 20:13:22 E:\\07_data\\03_self-plan\\finance_records.db is connected.\u001b[0m\n",
      "\u001b[34m[INFO] 2018-05-03 20:13:22 Data is inserted to asset_debt_statement successfully!\u001b[0m\n",
      "\u001b[32m[INFO] 2018-05-03 20:13:22 E:\\07_data\\03_self-plan\\finance_records.db is disconnected.\u001b[0m\n"
     ]
    }
   ],
   "source": [
    "fa.update_asset_debt_statement(df, '2018-05-01')"
   ]
  },
  {
   "cell_type": "markdown",
   "metadata": {},
   "source": [
    "# 更新固守类资产信息"
   ]
  },
  {
   "cell_type": "code",
   "execution_count": 16,
   "metadata": {},
   "outputs": [
    {
     "name": "stdout",
     "output_type": "stream",
     "text": [
      "\u001b[32m[INFO] 2018-05-03 20:15:17 E:\\07_data\\03_self-plan\\finance_records.db is connected.\u001b[0m\n",
      "\u001b[34m[INFO] 2018-05-03 20:15:18 Data is inserted to fix_info successfully!\u001b[0m\n",
      "\u001b[32m[INFO] 2018-05-03 20:15:18 E:\\07_data\\03_self-plan\\finance_records.db is disconnected.\u001b[0m\n"
     ]
    }
   ],
   "source": [
    "fa.update_fix_info(df, '2018-05-01')"
   ]
  },
  {
   "cell_type": "markdown",
   "metadata": {},
   "source": [
    "# 更新权益类资产收益记录"
   ]
  },
  {
   "cell_type": "code",
   "execution_count": 21,
   "metadata": {},
   "outputs": [
    {
     "name": "stdout",
     "output_type": "stream",
     "text": [
      "\u001b[32m[INFO] 2018-05-03 20:16:56 E:\\07_data\\03_self-plan\\finance_records.db is connected.\u001b[0m\n",
      "\u001b[34m[INFO] 2018-05-03 20:16:56 Data is inserted to equity_return_records successfully!\u001b[0m\n",
      "\u001b[32m[INFO] 2018-05-03 20:16:56 E:\\07_data\\03_self-plan\\finance_records.db is disconnected.\u001b[0m\n"
     ]
    }
   ],
   "source": [
    "fa.update_equity_return_records(df, '2018-05-01')"
   ]
  },
  {
   "cell_type": "markdown",
   "metadata": {},
   "source": [
    "#  更新当前资产结构"
   ]
  },
  {
   "cell_type": "code",
   "execution_count": 6,
   "metadata": {},
   "outputs": [
    {
     "name": "stdout",
     "output_type": "stream",
     "text": [
      "\u001b[34m[INFO] 2018-02-28 23:03:34 E:\\01_learn\\05_method\\finance.db is connected.\u001b[0m\n",
      "\u001b[34m[INFO] 2018-02-28 23:03:34 Data is inserted to asset_structure successfully!\u001b[0m\n",
      "\u001b[34m[INFO] 2018-02-28 23:03:34 E:\\01_learn\\05_method\\finance.db is disconnected.\u001b[0m\n"
     ]
    },
    {
     "data": {
      "text/html": [
       "<div>\n",
       "<style>\n",
       "    .dataframe thead tr:only-child th {\n",
       "        text-align: right;\n",
       "    }\n",
       "\n",
       "    .dataframe thead th {\n",
       "        text-align: left;\n",
       "    }\n",
       "\n",
       "    .dataframe tbody tr th {\n",
       "        vertical-align: top;\n",
       "    }\n",
       "</style>\n",
       "<table border=\"1\" class=\"dataframe\">\n",
       "  <thead>\n",
       "    <tr style=\"text-align: right;\">\n",
       "      <th></th>\n",
       "      <th>subclass</th>\n",
       "      <th>current_value</th>\n",
       "      <th>pct</th>\n",
       "      <th>planning_prop</th>\n",
       "      <th>planning_value</th>\n",
       "      <th>comments</th>\n",
       "      <th>date</th>\n",
       "    </tr>\n",
       "  </thead>\n",
       "  <tbody>\n",
       "    <tr>\n",
       "      <th>0</th>\n",
       "      <td>P2P</td>\n",
       "      <td>92239.0</td>\n",
       "      <td>0.149975</td>\n",
       "      <td>0.050</td>\n",
       "      <td>30751.550</td>\n",
       "      <td>-61487.450</td>\n",
       "      <td>2018-03-01</td>\n",
       "    </tr>\n",
       "    <tr>\n",
       "      <th>1</th>\n",
       "      <td>偏股型基金</td>\n",
       "      <td>26645.0</td>\n",
       "      <td>0.043323</td>\n",
       "      <td>0.030</td>\n",
       "      <td>18450.930</td>\n",
       "      <td>-8194.070</td>\n",
       "      <td>2018-03-01</td>\n",
       "    </tr>\n",
       "    <tr>\n",
       "      <th>2</th>\n",
       "      <td>定期</td>\n",
       "      <td>366701.0</td>\n",
       "      <td>0.596232</td>\n",
       "      <td>0.800</td>\n",
       "      <td>492024.800</td>\n",
       "      <td>125323.800</td>\n",
       "      <td>2018-03-01</td>\n",
       "    </tr>\n",
       "    <tr>\n",
       "      <th>3</th>\n",
       "      <td>指数型基金</td>\n",
       "      <td>14935.0</td>\n",
       "      <td>0.024283</td>\n",
       "      <td>0.030</td>\n",
       "      <td>18450.930</td>\n",
       "      <td>3515.930</td>\n",
       "      <td>2018-03-01</td>\n",
       "    </tr>\n",
       "    <tr>\n",
       "      <th>4</th>\n",
       "      <td>现金</td>\n",
       "      <td>101376.0</td>\n",
       "      <td>0.164831</td>\n",
       "      <td>0.010</td>\n",
       "      <td>6150.310</td>\n",
       "      <td>-95225.690</td>\n",
       "      <td>2018-03-01</td>\n",
       "    </tr>\n",
       "    <tr>\n",
       "      <th>5</th>\n",
       "      <td>股票</td>\n",
       "      <td>13135.0</td>\n",
       "      <td>0.021357</td>\n",
       "      <td>0.025</td>\n",
       "      <td>15375.775</td>\n",
       "      <td>2240.775</td>\n",
       "      <td>2018-03-01</td>\n",
       "    </tr>\n",
       "    <tr>\n",
       "      <th>6</th>\n",
       "      <td>total</td>\n",
       "      <td>615031.0</td>\n",
       "      <td>1.000000</td>\n",
       "      <td>NaN</td>\n",
       "      <td>NaN</td>\n",
       "      <td>NaN</td>\n",
       "      <td>2018-03-01</td>\n",
       "    </tr>\n",
       "  </tbody>\n",
       "</table>\n",
       "</div>"
      ],
      "text/plain": [
       "  subclass  current_value       pct  planning_prop  planning_value  \\\n",
       "0      P2P        92239.0  0.149975          0.050       30751.550   \n",
       "1    偏股型基金        26645.0  0.043323          0.030       18450.930   \n",
       "2       定期       366701.0  0.596232          0.800      492024.800   \n",
       "3    指数型基金        14935.0  0.024283          0.030       18450.930   \n",
       "4       现金       101376.0  0.164831          0.010        6150.310   \n",
       "5       股票        13135.0  0.021357          0.025       15375.775   \n",
       "6    total       615031.0  1.000000            NaN             NaN   \n",
       "\n",
       "     comments        date  \n",
       "0  -61487.450  2018-03-01  \n",
       "1   -8194.070  2018-03-01  \n",
       "2  125323.800  2018-03-01  \n",
       "3    3515.930  2018-03-01  \n",
       "4  -95225.690  2018-03-01  \n",
       "5    2240.775  2018-03-01  \n",
       "6         NaN  2018-03-01  "
      ]
     },
     "execution_count": 6,
     "metadata": {},
     "output_type": "execute_result"
    }
   ],
   "source": [
    "fa.update_asset_structure(df,DATE)"
   ]
  },
  {
   "cell_type": "markdown",
   "metadata": {},
   "source": [
    "# 更新来自父母收入-当前净资产"
   ]
  },
  {
   "cell_type": "code",
   "execution_count": 22,
   "metadata": {},
   "outputs": [
    {
     "name": "stdout",
     "output_type": "stream",
     "text": [
      "\u001b[32m[INFO] 2018-05-03 20:18:01 E:\\07_data\\03_self-plan\\finance_records.db is connected.\u001b[0m\n",
      "\u001b[34m[INFO] 2018-05-03 20:18:01 SELECT * FROM asset_debt_statement\u001b[0m\n",
      "\u001b[32m[INFO] 2018-05-03 20:18:01 E:\\07_data\\03_self-plan\\finance_records.db is disconnected.\u001b[0m\n",
      "\u001b[32m[INFO] 2018-05-03 20:18:01 E:\\07_data\\03_self-plan\\finance_records.db is connected.\u001b[0m\n",
      "DELETE FROM diff_from_parents\n",
      "\u001b[34m[INFO] 2018-05-03 20:18:02 Data is inserted to diff_from_parents successfully!\u001b[0m\n",
      "\u001b[32m[INFO] 2018-05-03 20:18:02 E:\\07_data\\03_self-plan\\finance_records.db is disconnected.\u001b[0m\n"
     ]
    }
   ],
   "source": [
    "fa.update_diff_from_parents(df)"
   ]
  }
 ],
 "metadata": {
  "kernelspec": {
   "display_name": "Python 3",
   "language": "python",
   "name": "python3"
  },
  "language_info": {
   "codemirror_mode": {
    "name": "ipython",
    "version": 3
   },
   "file_extension": ".py",
   "mimetype": "text/x-python",
   "name": "python",
   "nbconvert_exporter": "python",
   "pygments_lexer": "ipython3",
   "version": "3.6.3"
  },
  "toc": {
   "nav_menu": {},
   "number_sections": true,
   "sideBar": true,
   "skip_h1_title": false,
   "title_cell": "Table of Contents",
   "title_sidebar": "Contents",
   "toc_cell": false,
   "toc_position": {},
   "toc_section_display": true,
   "toc_window_display": false
  }
 },
 "nbformat": 4,
 "nbformat_minor": 2
}
