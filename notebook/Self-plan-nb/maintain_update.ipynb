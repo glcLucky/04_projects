{
 "cells": [
  {
   "cell_type": "code",
   "execution_count": 1,
   "metadata": {},
   "outputs": [
    {
     "name": "stdout",
     "output_type": "stream",
     "text": [
      "Populating the interactive namespace from numpy and matplotlib\n"
     ]
    }
   ],
   "source": [
    "%pylab inline\n",
    "%load_ext autoreload\n",
    "%autoreload 2"
   ]
  },
  {
   "cell_type": "code",
   "execution_count": 2,
   "metadata": {
    "collapsed": true
   },
   "outputs": [],
   "source": [
    "import pandas as pd\n",
    "import os\n",
    "from devkit.api import Logger, SqliteProxy\n",
    "import finance.api as fa\n",
    "import seaborn, datetime\n",
    "seaborn.set_style(\"darkgrid\")"
   ]
  },
  {
   "cell_type": "markdown",
   "metadata": {},
   "source": [
    "# 读入数据"
   ]
  },
  {
   "cell_type": "code",
   "execution_count": 12,
   "metadata": {
    "collapsed": true
   },
   "outputs": [],
   "source": [
    "df = fa.load_excel_data(fa.fin_plan_path)\n",
    "# DATE = '2018-05-01'\n",
    "# ['2018-01-08','2018-01-25','2018-02-03','2018-02-09','2018-02-21']\n",
    "datelist = ['2018-01-01', '2018-02-01', '2018-03-01', '2018-04-01', '2018-05-01']"
   ]
  },
  {
   "cell_type": "markdown",
   "metadata": {},
   "source": [
    "# 更新配置信息"
   ]
  },
  {
   "cell_type": "code",
   "execution_count": 5,
   "metadata": {},
   "outputs": [
    {
     "name": "stdout",
     "output_type": "stream",
     "text": [
      "\u001b[32m[INFO] 2018-06-02 00:00:47 E:\\07_data\\03_self-plan\\finance_records.db is connected.\u001b[0m\n",
      "\u001b[34m[INFO] 2018-06-02 00:00:47 SELECT DISTINCT date FROM  config_big_asset\u001b[0m\n",
      "\u001b[34m[INFO] 2018-06-02 00:00:47 Data is inserted to config_big_asset successfully!\u001b[0m\n",
      "\u001b[32m[INFO] 2018-06-02 00:00:47 E:\\07_data\\03_self-plan\\finance_records.db is disconnected.\u001b[0m\n"
     ]
    }
   ],
   "source": [
    "fa.update_config_info(df)"
   ]
  },
  {
   "cell_type": "markdown",
   "metadata": {},
   "source": [
    "# 更新月度资产负债表"
   ]
  },
  {
   "cell_type": "code",
   "execution_count": 7,
   "metadata": {},
   "outputs": [
    {
     "name": "stdout",
     "output_type": "stream",
     "text": [
      "\u001b[32m[INFO] 2018-06-02 00:00:54 E:\\07_data\\03_self-plan\\finance_records.db is connected.\u001b[0m\n",
      "\u001b[34m[INFO] 2018-06-02 00:00:54 Data is inserted to asset_debt_statement successfully!\u001b[0m\n",
      "\u001b[32m[INFO] 2018-06-02 00:00:55 E:\\07_data\\03_self-plan\\finance_records.db is disconnected.\u001b[0m\n"
     ]
    }
   ],
   "source": [
    "fa.update_asset_debt_statement(df, '2018-06-01')"
   ]
  },
  {
   "cell_type": "markdown",
   "metadata": {},
   "source": [
    "# 更新固守类资产信息"
   ]
  },
  {
   "cell_type": "code",
   "execution_count": 8,
   "metadata": {},
   "outputs": [
    {
     "name": "stdout",
     "output_type": "stream",
     "text": [
      "\u001b[32m[INFO] 2018-06-02 00:00:58 E:\\07_data\\03_self-plan\\finance_records.db is connected.\u001b[0m\n",
      "\u001b[34m[INFO] 2018-06-02 00:00:59 Data is inserted to fix_info successfully!\u001b[0m\n",
      "\u001b[32m[INFO] 2018-06-02 00:00:59 E:\\07_data\\03_self-plan\\finance_records.db is disconnected.\u001b[0m\n"
     ]
    }
   ],
   "source": [
    "fa.update_fix_info(df, '2018-06-01')"
   ]
  },
  {
   "cell_type": "markdown",
   "metadata": {},
   "source": [
    "# 更新权益类资产收益记录"
   ]
  },
  {
   "cell_type": "code",
   "execution_count": 15,
   "metadata": {},
   "outputs": [
    {
     "name": "stdout",
     "output_type": "stream",
     "text": [
      "\u001b[32m[INFO] 2018-06-02 00:17:25 E:\\07_data\\03_self-plan\\finance_records.db is connected.\u001b[0m\n",
      "\u001b[34m[INFO] 2018-06-02 00:17:25 Data is inserted to equity_return_records successfully!\u001b[0m\n",
      "\u001b[32m[INFO] 2018-06-02 00:17:25 E:\\07_data\\03_self-plan\\finance_records.db is disconnected.\u001b[0m\n"
     ]
    }
   ],
   "source": [
    "fa.update_equity_return_records(df, '2018-06-01')"
   ]
  },
  {
   "cell_type": "markdown",
   "metadata": {},
   "source": [
    "#  更新当前资产结构"
   ]
  },
  {
   "cell_type": "code",
   "execution_count": 10,
   "metadata": {},
   "outputs": [
    {
     "ename": "AttributeError",
     "evalue": "module 'finance.api' has no attribute 'update_asset_structure'",
     "output_type": "error",
     "traceback": [
      "\u001b[1;31m---------------------------------------------------------------------------\u001b[0m",
      "\u001b[1;31mAttributeError\u001b[0m                            Traceback (most recent call last)",
      "\u001b[1;32m<ipython-input-10-d24c53c73446>\u001b[0m in \u001b[0;36m<module>\u001b[1;34m()\u001b[0m\n\u001b[1;32m----> 1\u001b[1;33m \u001b[0mfa\u001b[0m\u001b[1;33m.\u001b[0m\u001b[0mupdate_asset_structure\u001b[0m\u001b[1;33m(\u001b[0m\u001b[0mdf\u001b[0m\u001b[1;33m,\u001b[0m\u001b[1;34m'2018-06-01'\u001b[0m\u001b[1;33m)\u001b[0m\u001b[1;33m\u001b[0m\u001b[0m\n\u001b[0m",
      "\u001b[1;31mAttributeError\u001b[0m: module 'finance.api' has no attribute 'update_asset_structure'"
     ]
    }
   ],
   "source": [
    "fa.up(df,'2018-06-01')"
   ]
  },
  {
   "cell_type": "markdown",
   "metadata": {},
   "source": [
    "# 更新来自父母收入-当前净资产"
   ]
  },
  {
   "cell_type": "code",
   "execution_count": 11,
   "metadata": {},
   "outputs": [
    {
     "name": "stdout",
     "output_type": "stream",
     "text": [
      "\u001b[32m[INFO] 2018-06-02 00:02:16 E:\\07_data\\03_self-plan\\finance_records.db is connected.\u001b[0m\n",
      "\u001b[34m[INFO] 2018-06-02 00:02:16 SELECT * FROM asset_debt_statement\u001b[0m\n",
      "\u001b[32m[INFO] 2018-06-02 00:02:16 E:\\07_data\\03_self-plan\\finance_records.db is disconnected.\u001b[0m\n",
      "\u001b[32m[INFO] 2018-06-02 00:02:16 E:\\07_data\\03_self-plan\\finance_records.db is connected.\u001b[0m\n",
      "DELETE FROM diff_from_parents\n",
      "\u001b[34m[INFO] 2018-06-02 00:02:16 Data is inserted to diff_from_parents successfully!\u001b[0m\n",
      "\u001b[32m[INFO] 2018-06-02 00:02:16 E:\\07_data\\03_self-plan\\finance_records.db is disconnected.\u001b[0m\n"
     ]
    }
   ],
   "source": [
    "fa.update_diff_from_parents(df)"
   ]
  },
  {
   "cell_type": "code",
   "execution_count": null,
   "metadata": {
    "collapsed": true
   },
   "outputs": [],
   "source": []
  }
 ],
 "metadata": {
  "kernelspec": {
   "display_name": "Python 3",
   "language": "python",
   "name": "python3"
  },
  "language_info": {
   "codemirror_mode": {
    "name": "ipython",
    "version": 3
   },
   "file_extension": ".py",
   "mimetype": "text/x-python",
   "name": "python",
   "nbconvert_exporter": "python",
   "pygments_lexer": "ipython3",
   "version": "3.6.3"
  },
  "toc": {
   "nav_menu": {},
   "number_sections": true,
   "sideBar": true,
   "skip_h1_title": false,
   "title_cell": "Table of Contents",
   "title_sidebar": "Contents",
   "toc_cell": false,
   "toc_position": {},
   "toc_section_display": true,
   "toc_window_display": false
  }
 },
 "nbformat": 4,
 "nbformat_minor": 2
}
