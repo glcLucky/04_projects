{
 "cells": [
  {
   "cell_type": "code",
   "execution_count": 1,
   "metadata": {},
   "outputs": [
    {
     "name": "stdout",
     "output_type": "stream",
     "text": [
      "Populating the interactive namespace from numpy and matplotlib\n"
     ]
    }
   ],
   "source": [
    "%pylab inline\n",
    "%load_ext autoreload\n",
    "%autoreload 2"
   ]
  },
  {
   "cell_type": "code",
   "execution_count": 2,
   "metadata": {
    "collapsed": true
   },
   "outputs": [],
   "source": [
    "import pandas as pd\n",
    "import os\n",
    "from devkit.api import Logger, SqliteProxy\n",
    "import finance.api as fa\n",
    "import seaborn, datetime\n",
    "seaborn.set_style(\"darkgrid\")"
   ]
  },
  {
   "cell_type": "markdown",
   "metadata": {},
   "source": [
    "# 读入数据"
   ]
  },
  {
   "cell_type": "code",
   "execution_count": 35,
   "metadata": {},
   "outputs": [],
   "source": [
    "df = fa.load_excel_data(fa.fin_plan_path)\n",
    "# DATE = '2018-05-01'\n",
    "# ['2018-01-08','2018-01-25','2018-02-03','2018-02-09','2018-02-21']\n",
    "DATE = '2018-09-01'"
   ]
  },
  {
   "cell_type": "markdown",
   "metadata": {},
   "source": [
    "# 更新配置信息"
   ]
  },
  {
   "cell_type": "code",
   "execution_count": 36,
   "metadata": {},
   "outputs": [
    {
     "name": "stdout",
     "output_type": "stream",
     "text": [
      "\u001b[32m[INFO] 2018-08-11 21:17:54 E:\\07_data\\03_self-plan\\finance_records.db is connected.\u001b[0m\n",
      "\u001b[34m[INFO] 2018-08-11 21:17:54 SELECT DISTINCT date FROM  config_big_asset\u001b[0m\n",
      "\u001b[34m[INFO] 2018-08-11 21:17:54 Data is inserted to config_big_asset successfully!\u001b[0m\n",
      "\u001b[32m[INFO] 2018-08-11 21:17:54 E:\\07_data\\03_self-plan\\finance_records.db is disconnected.\u001b[0m\n"
     ]
    }
   ],
   "source": [
    "fa.update_config_info(df)"
   ]
  },
  {
   "cell_type": "markdown",
   "metadata": {},
   "source": [
    "# 更新月度资产负债表"
   ]
  },
  {
   "cell_type": "code",
   "execution_count": 7,
   "metadata": {},
   "outputs": [
    {
     "name": "stdout",
     "output_type": "stream",
     "text": [
      "\u001b[31m[ERROR] 2018-08-11 19:05:57 2018-09-01 is not in mv_date list\u001b[0m\n"
     ]
    }
   ],
   "source": [
    "fa.update_asset_debt_statement(df, DATE)"
   ]
  },
  {
   "cell_type": "markdown",
   "metadata": {},
   "source": [
    "# 更新固守类资产信息"
   ]
  },
  {
   "cell_type": "code",
   "execution_count": 15,
   "metadata": {},
   "outputs": [
    {
     "name": "stdout",
     "output_type": "stream",
     "text": [
      "\u001b[32m[INFO] 2018-08-11 18:39:25 E:\\07_data\\03_self-plan\\finance_records.db is connected.\u001b[0m\n",
      "\u001b[34m[INFO] 2018-08-11 18:39:26 Data is inserted to fix_info successfully!\u001b[0m\n",
      "\u001b[32m[INFO] 2018-08-11 18:39:26 E:\\07_data\\03_self-plan\\finance_records.db is disconnected.\u001b[0m\n"
     ]
    }
   ],
   "source": [
    "fa.update_fix_info(df, DATE)"
   ]
  },
  {
   "cell_type": "markdown",
   "metadata": {},
   "source": [
    "# 更新权益类资产收益记录"
   ]
  },
  {
   "cell_type": "code",
   "execution_count": 41,
   "metadata": {},
   "outputs": [
    {
     "name": "stdout",
     "output_type": "stream",
     "text": [
      "\u001b[32m[INFO] 2018-08-11 21:22:20 E:\\07_data\\03_self-plan\\finance_records.db is connected.\u001b[0m\n",
      "\u001b[34m[INFO] 2018-08-11 21:22:20 Data is inserted to equity_return_records successfully!\u001b[0m\n",
      "\u001b[32m[INFO] 2018-08-11 21:22:20 E:\\07_data\\03_self-plan\\finance_records.db is disconnected.\u001b[0m\n"
     ]
    }
   ],
   "source": [
    "fa.update_equity_return_records(df, DATE)"
   ]
  },
  {
   "cell_type": "markdown",
   "metadata": {},
   "source": [
    "#  更新当前资产结构"
   ]
  },
  {
   "cell_type": "markdown",
   "metadata": {},
   "source": [
    "# 更新来自父母收入-当前净资产"
   ]
  },
  {
   "cell_type": "code",
   "execution_count": 42,
   "metadata": {},
   "outputs": [
    {
     "name": "stdout",
     "output_type": "stream",
     "text": [
      "\u001b[32m[INFO] 2018-08-11 21:22:38 E:\\07_data\\03_self-plan\\finance_records.db is connected.\u001b[0m\n",
      "\u001b[34m[INFO] 2018-08-11 21:22:38 SELECT * FROM asset_debt_statement\u001b[0m\n",
      "\u001b[32m[INFO] 2018-08-11 21:22:38 E:\\07_data\\03_self-plan\\finance_records.db is disconnected.\u001b[0m\n",
      "\u001b[32m[INFO] 2018-08-11 21:22:38 E:\\07_data\\03_self-plan\\finance_records.db is connected.\u001b[0m\n",
      "DELETE FROM diff_from_parents\n",
      "\u001b[34m[INFO] 2018-08-11 21:22:38 Data is inserted to diff_from_parents successfully!\u001b[0m\n",
      "\u001b[32m[INFO] 2018-08-11 21:22:38 E:\\07_data\\03_self-plan\\finance_records.db is disconnected.\u001b[0m\n"
     ]
    }
   ],
   "source": [
    "fa.update_diff_from_parents(df)"
   ]
  },
  {
   "cell_type": "code",
   "execution_count": null,
   "metadata": {
    "collapsed": true
   },
   "outputs": [],
   "source": []
  }
 ],
 "metadata": {
  "kernelspec": {
   "display_name": "Python 3",
   "language": "python",
   "name": "python3"
  },
  "language_info": {
   "codemirror_mode": {
    "name": "ipython",
    "version": 3
   },
   "file_extension": ".py",
   "mimetype": "text/x-python",
   "name": "python",
   "nbconvert_exporter": "python",
   "pygments_lexer": "ipython3",
   "version": "3.6.3"
  },
  "toc": {
   "nav_menu": {},
   "number_sections": true,
   "sideBar": true,
   "skip_h1_title": false,
   "title_cell": "Table of Contents",
   "title_sidebar": "Contents",
   "toc_cell": false,
   "toc_position": {},
   "toc_section_display": true,
   "toc_window_display": false
  },
  "varInspector": {
   "cols": {
    "lenName": 16,
    "lenType": 16,
    "lenVar": 40
   },
   "kernels_config": {
    "python": {
     "delete_cmd_postfix": "",
     "delete_cmd_prefix": "del ",
     "library": "var_list.py",
     "varRefreshCmd": "print(var_dic_list())"
    },
    "r": {
     "delete_cmd_postfix": ") ",
     "delete_cmd_prefix": "rm(",
     "library": "var_list.r",
     "varRefreshCmd": "cat(var_dic_list()) "
    }
   },
   "types_to_exclude": [
    "module",
    "function",
    "builtin_function_or_method",
    "instance",
    "_Feature"
   ],
   "window_display": false
  }
 },
 "nbformat": 4,
 "nbformat_minor": 2
}
