{
 "cells": [
  {
   "cell_type": "code",
   "execution_count": 1,
   "metadata": {},
   "outputs": [
    {
     "name": "stdout",
     "output_type": "stream",
     "text": [
      "Populating the interactive namespace from numpy and matplotlib\n"
     ]
    }
   ],
   "source": [
    "%pylab inline\n",
    "%load_ext autoreload\n",
    "%autoreload 2"
   ]
  },
  {
   "cell_type": "code",
   "execution_count": 2,
   "metadata": {
    "collapsed": true
   },
   "outputs": [],
   "source": [
    "import finance.api as fa"
   ]
  },
  {
   "cell_type": "markdown",
   "metadata": {},
   "source": [
    "# 读取指定日期净资产总额"
   ]
  },
  {
   "cell_type": "code",
   "execution_count": 16,
   "metadata": {},
   "outputs": [
    {
     "name": "stdout",
     "output_type": "stream",
     "text": [
      "\u001b[32m[INFO] 2018-05-02 22:25:42 E:\\07_data\\03_self-plan\\finance_records.db is connected.\u001b[0m\n",
      "\u001b[34m[INFO] 2018-05-02 22:25:42 SELECT * FROM asset_debt_statement WHERE date >= '2018-01-01'and date <= '2018-05-01'\u001b[0m\n",
      "\u001b[32m[INFO] 2018-05-02 22:25:42 E:\\07_data\\03_self-plan\\finance_records.db is disconnected.\u001b[0m\n"
     ]
    }
   ],
   "source": [
    "# 给定起始和结束日期 默认为读取所有日期 \n",
    "a=fa.get_net_asset_amount('2018-01-01', '2018-05-01')"
   ]
  },
  {
   "cell_type": "markdown",
   "metadata": {},
   "source": [
    "# 读取指定日期净资产结构"
   ]
  },
  {
   "cell_type": "code",
   "execution_count": 9,
   "metadata": {},
   "outputs": [
    {
     "name": "stdout",
     "output_type": "stream",
     "text": [
      "\u001b[32m[INFO] 2018-05-02 21:59:28 E:\\07_data\\03_self-plan\\finance_records.db is connected.\u001b[0m\n",
      "\u001b[34m[INFO] 2018-05-02 21:59:28 SELECT * FROM asset_debt_statement WHERE date = (SELECT max(date) FROM asset_debt_statement)\u001b[0m\n",
      "\u001b[32m[INFO] 2018-05-02 21:59:28 E:\\07_data\\03_self-plan\\finance_records.db is disconnected.\u001b[0m\n"
     ]
    },
    {
     "data": {
      "text/html": [
       "<div>\n",
       "<style>\n",
       "    .dataframe thead tr:only-child th {\n",
       "        text-align: right;\n",
       "    }\n",
       "\n",
       "    .dataframe thead th {\n",
       "        text-align: left;\n",
       "    }\n",
       "\n",
       "    .dataframe tbody tr th {\n",
       "        vertical-align: top;\n",
       "    }\n",
       "</style>\n",
       "<table border=\"1\" class=\"dataframe\">\n",
       "  <thead>\n",
       "    <tr style=\"text-align: right;\">\n",
       "      <th></th>\n",
       "      <th></th>\n",
       "      <th>current_value</th>\n",
       "    </tr>\n",
       "    <tr>\n",
       "      <th>date</th>\n",
       "      <th>subclass</th>\n",
       "      <th></th>\n",
       "    </tr>\n",
       "  </thead>\n",
       "  <tbody>\n",
       "    <tr>\n",
       "      <th rowspan=\"8\" valign=\"top\">2018-05-01</th>\n",
       "      <th>P2P</th>\n",
       "      <td>93524.00</td>\n",
       "    </tr>\n",
       "    <tr>\n",
       "      <th>主动型基金</th>\n",
       "      <td>25452.00</td>\n",
       "    </tr>\n",
       "    <tr>\n",
       "      <th>债券型基金</th>\n",
       "      <td>37272.69</td>\n",
       "    </tr>\n",
       "    <tr>\n",
       "      <th>定期</th>\n",
       "      <td>449028.18</td>\n",
       "    </tr>\n",
       "    <tr>\n",
       "      <th>指数型基金</th>\n",
       "      <td>21837.40</td>\n",
       "    </tr>\n",
       "    <tr>\n",
       "      <th>现金</th>\n",
       "      <td>112971.41</td>\n",
       "    </tr>\n",
       "    <tr>\n",
       "      <th>股票</th>\n",
       "      <td>11538.00</td>\n",
       "    </tr>\n",
       "    <tr>\n",
       "      <th>负债</th>\n",
       "      <td>-25502.42</td>\n",
       "    </tr>\n",
       "  </tbody>\n",
       "</table>\n",
       "</div>"
      ],
      "text/plain": [
       "                     current_value\n",
       "date       subclass               \n",
       "2018-05-01 P2P            93524.00\n",
       "           主动型基金          25452.00\n",
       "           债券型基金          37272.69\n",
       "           定期            449028.18\n",
       "           指数型基金          21837.40\n",
       "           现金            112971.41\n",
       "           股票             11538.00\n",
       "           负债            -25502.42"
      ]
     },
     "execution_count": 9,
     "metadata": {},
     "output_type": "execute_result"
    }
   ],
   "source": [
    "# 读取给定时间间隔之间的所有净资产结构记录  默认为读取最新日期\n",
    "fa.get_net_asset_structure()"
   ]
  },
  {
   "cell_type": "markdown",
   "metadata": {},
   "source": [
    "# 读取指定日期的资产结构及配置合理度"
   ]
  },
  {
   "cell_type": "code",
   "execution_count": 10,
   "metadata": {},
   "outputs": [
    {
     "name": "stdout",
     "output_type": "stream",
     "text": [
      "\u001b[32m[INFO] 2018-05-02 21:59:46 E:\\07_data\\03_self-plan\\finance_records.db is connected.\u001b[0m\n",
      "\u001b[34m[INFO] 2018-05-02 21:59:46 SELECT * FROM asset_debt_statement WHERE date = (SELECT max(date) FROM asset_debt_statement)\u001b[0m\n",
      "\u001b[34m[INFO] 2018-05-02 21:59:46 SELECT * FROM config_big_asset WHERE date = (SELECT max(date) FROM config_big_asset)\u001b[0m\n",
      "\u001b[32m[INFO] 2018-05-02 21:59:46 E:\\07_data\\03_self-plan\\finance_records.db is disconnected.\u001b[0m\n"
     ]
    },
    {
     "data": {
      "text/html": [
       "<div>\n",
       "<style>\n",
       "    .dataframe thead tr:only-child th {\n",
       "        text-align: right;\n",
       "    }\n",
       "\n",
       "    .dataframe thead th {\n",
       "        text-align: left;\n",
       "    }\n",
       "\n",
       "    .dataframe tbody tr th {\n",
       "        vertical-align: top;\n",
       "    }\n",
       "</style>\n",
       "<table border=\"1\" class=\"dataframe\">\n",
       "  <thead>\n",
       "    <tr style=\"text-align: right;\">\n",
       "      <th></th>\n",
       "      <th>date</th>\n",
       "      <th>date_config</th>\n",
       "      <th>category</th>\n",
       "      <th>current_value</th>\n",
       "      <th>pct</th>\n",
       "      <th>planning_prop</th>\n",
       "      <th>diff</th>\n",
       "    </tr>\n",
       "  </thead>\n",
       "  <tbody>\n",
       "    <tr>\n",
       "      <th>0</th>\n",
       "      <td>2018-05-01</td>\n",
       "      <td>2018-05-01</td>\n",
       "      <td>P2P</td>\n",
       "      <td>93524.00</td>\n",
       "      <td>0.124429</td>\n",
       "      <td>0.050</td>\n",
       "      <td>-55942.8160</td>\n",
       "    </tr>\n",
       "    <tr>\n",
       "      <th>1</th>\n",
       "      <td>2018-05-01</td>\n",
       "      <td>2018-05-01</td>\n",
       "      <td>基金</td>\n",
       "      <td>84562.09</td>\n",
       "      <td>0.112506</td>\n",
       "      <td>0.160</td>\n",
       "      <td>35697.6988</td>\n",
       "    </tr>\n",
       "    <tr>\n",
       "      <th>2</th>\n",
       "      <td>2018-05-01</td>\n",
       "      <td>2018-05-01</td>\n",
       "      <td>定期</td>\n",
       "      <td>530736.59</td>\n",
       "      <td>0.706120</td>\n",
       "      <td>0.755</td>\n",
       "      <td>36739.2884</td>\n",
       "    </tr>\n",
       "    <tr>\n",
       "      <th>3</th>\n",
       "      <td>2018-05-01</td>\n",
       "      <td>2018-05-01</td>\n",
       "      <td>现金</td>\n",
       "      <td>31263.00</td>\n",
       "      <td>0.041594</td>\n",
       "      <td>0.010</td>\n",
       "      <td>-23746.7632</td>\n",
       "    </tr>\n",
       "    <tr>\n",
       "      <th>4</th>\n",
       "      <td>2018-05-01</td>\n",
       "      <td>2018-05-01</td>\n",
       "      <td>股票</td>\n",
       "      <td>11538.00</td>\n",
       "      <td>0.015351</td>\n",
       "      <td>0.025</td>\n",
       "      <td>7252.5920</td>\n",
       "    </tr>\n",
       "  </tbody>\n",
       "</table>\n",
       "</div>"
      ],
      "text/plain": [
       "         date date_config category  current_value       pct  planning_prop  \\\n",
       "0  2018-05-01  2018-05-01      P2P       93524.00  0.124429          0.050   \n",
       "1  2018-05-01  2018-05-01       基金       84562.09  0.112506          0.160   \n",
       "2  2018-05-01  2018-05-01       定期      530736.59  0.706120          0.755   \n",
       "3  2018-05-01  2018-05-01       现金       31263.00  0.041594          0.010   \n",
       "4  2018-05-01  2018-05-01       股票       11538.00  0.015351          0.025   \n",
       "\n",
       "         diff  \n",
       "0 -55942.8160  \n",
       "1  35697.6988  \n",
       "2  36739.2884  \n",
       "3 -23746.7632  \n",
       "4   7252.5920  "
      ]
     },
     "execution_count": 10,
     "metadata": {},
     "output_type": "execute_result"
    }
   ],
   "source": [
    "# 读取给定时间间隔之间的所有资产结构及配置记录  默认为读取最新日期\n",
    "fa.get_big_asset_configure()"
   ]
  },
  {
   "cell_type": "markdown",
   "metadata": {},
   "source": [
    "# 读取最新记录日的所有固收类资产流动性记录"
   ]
  },
  {
   "cell_type": "code",
   "execution_count": 12,
   "metadata": {},
   "outputs": [
    {
     "name": "stdout",
     "output_type": "stream",
     "text": [
      "\u001b[32m[INFO] 2018-05-02 22:00:26 E:\\07_data\\03_self-plan\\finance_records.db is connected.\u001b[0m\n",
      "\u001b[34m[INFO] 2018-05-02 22:00:26 SELECT * FROM fix_info WHERE date = (SELECT max(date) FROM fix_info)\u001b[0m\n",
      "30天内就要到期的品种:\n",
      "  channel category             item  total_amount    maturity  remain_days\n",
      "3   微信理财通       定期  光大永明定活宝20180514        8262.0  2018-05-15           14\n",
      "4     人人贷      P2P         U计划6013期       33790.0  2018-05-16           15\n",
      "5     人人贷      P2P         U计划0521期       20984.0  2018-05-23           22\n",
      "6   微信理财通       定期       厦金中心厦盈通第二期       10351.0  2018-05-28           27\n",
      "\u001b[34m[INFO] 2018-05-02 22:00:27 SELECT * FROM config_big_asset WHERE date = (SELECT max(date) FROM config_big_asset)\u001b[0m\n",
      "\u001b[32m[INFO] 2018-05-02 22:00:27 E:\\07_data\\03_self-plan\\finance_records.db is disconnected.\u001b[0m\n"
     ]
    },
    {
     "data": {
      "text/html": [
       "<div>\n",
       "<style>\n",
       "    .dataframe thead tr:only-child th {\n",
       "        text-align: right;\n",
       "    }\n",
       "\n",
       "    .dataframe thead th {\n",
       "        text-align: left;\n",
       "    }\n",
       "\n",
       "    .dataframe tbody tr th {\n",
       "        vertical-align: top;\n",
       "    }\n",
       "</style>\n",
       "<table border=\"1\" class=\"dataframe\">\n",
       "  <thead>\n",
       "    <tr style=\"text-align: right;\">\n",
       "      <th></th>\n",
       "      <th>date</th>\n",
       "      <th>date_config</th>\n",
       "      <th>subclass</th>\n",
       "      <th>total_amount</th>\n",
       "      <th>pct</th>\n",
       "      <th>planning_prop</th>\n",
       "      <th>diff</th>\n",
       "    </tr>\n",
       "  </thead>\n",
       "  <tbody>\n",
       "    <tr>\n",
       "      <th>0</th>\n",
       "      <td>2018-05-01</td>\n",
       "      <td>2018-05-01</td>\n",
       "      <td>中期定期</td>\n",
       "      <td>153961.0</td>\n",
       "      <td>0.293657</td>\n",
       "      <td>0.70</td>\n",
       "      <td>213041.30</td>\n",
       "    </tr>\n",
       "    <tr>\n",
       "      <th>1</th>\n",
       "      <td>2018-05-01</td>\n",
       "      <td>2018-05-01</td>\n",
       "      <td>短期定期</td>\n",
       "      <td>124724.0</td>\n",
       "      <td>0.237892</td>\n",
       "      <td>0.20</td>\n",
       "      <td>-19866.20</td>\n",
       "    </tr>\n",
       "    <tr>\n",
       "      <th>2</th>\n",
       "      <td>2018-05-01</td>\n",
       "      <td>2018-05-01</td>\n",
       "      <td>超短期定期</td>\n",
       "      <td>73387.0</td>\n",
       "      <td>0.139974</td>\n",
       "      <td>0.02</td>\n",
       "      <td>-62901.22</td>\n",
       "    </tr>\n",
       "    <tr>\n",
       "      <th>3</th>\n",
       "      <td>2018-05-01</td>\n",
       "      <td>2018-05-01</td>\n",
       "      <td>超长期定期</td>\n",
       "      <td>18173.0</td>\n",
       "      <td>0.034662</td>\n",
       "      <td>0.02</td>\n",
       "      <td>-7687.22</td>\n",
       "    </tr>\n",
       "    <tr>\n",
       "      <th>4</th>\n",
       "      <td>2018-05-01</td>\n",
       "      <td>2018-05-01</td>\n",
       "      <td>长期定期</td>\n",
       "      <td>154044.0</td>\n",
       "      <td>0.293815</td>\n",
       "      <td>0.06</td>\n",
       "      <td>-122586.66</td>\n",
       "    </tr>\n",
       "  </tbody>\n",
       "</table>\n",
       "</div>"
      ],
      "text/plain": [
       "         date date_config subclass  total_amount       pct  planning_prop  \\\n",
       "0  2018-05-01  2018-05-01     中期定期      153961.0  0.293657           0.70   \n",
       "1  2018-05-01  2018-05-01     短期定期      124724.0  0.237892           0.20   \n",
       "2  2018-05-01  2018-05-01    超短期定期       73387.0  0.139974           0.02   \n",
       "3  2018-05-01  2018-05-01    超长期定期       18173.0  0.034662           0.02   \n",
       "4  2018-05-01  2018-05-01     长期定期      154044.0  0.293815           0.06   \n",
       "\n",
       "        diff  \n",
       "0  213041.30  \n",
       "1  -19866.20  \n",
       "2  -62901.22  \n",
       "3   -7687.22  \n",
       "4 -122586.66  "
      ]
     },
     "execution_count": 12,
     "metadata": {},
     "output_type": "execute_result"
    }
   ],
   "source": [
    "fa.get_fix_liq_info()"
   ]
  },
  {
   "cell_type": "markdown",
   "metadata": {},
   "source": [
    "# 读取最新记录日的所有固收类资产收益率记录"
   ]
  },
  {
   "cell_type": "code",
   "execution_count": 13,
   "metadata": {},
   "outputs": [
    {
     "name": "stdout",
     "output_type": "stream",
     "text": [
      "\u001b[32m[INFO] 2018-05-02 22:00:51 E:\\07_data\\03_self-plan\\finance_records.db is connected.\u001b[0m\n",
      "\u001b[34m[INFO] 2018-05-02 22:00:51 SELECT * FROM fix_info WHERE date = (SELECT max(date) FROM fix_info)\u001b[0m\n",
      "\u001b[32m[INFO] 2018-05-02 22:00:51 E:\\07_data\\03_self-plan\\finance_records.db is disconnected.\u001b[0m\n"
     ]
    },
    {
     "data": {
      "text/html": [
       "<div>\n",
       "<style>\n",
       "    .dataframe thead tr:only-child th {\n",
       "        text-align: right;\n",
       "    }\n",
       "\n",
       "    .dataframe thead th {\n",
       "        text-align: left;\n",
       "    }\n",
       "\n",
       "    .dataframe tbody tr th {\n",
       "        vertical-align: top;\n",
       "    }\n",
       "</style>\n",
       "<table border=\"1\" class=\"dataframe\">\n",
       "  <thead>\n",
       "    <tr style=\"text-align: right;\">\n",
       "      <th></th>\n",
       "      <th>date</th>\n",
       "      <th>ytm_group</th>\n",
       "      <th>prop</th>\n",
       "      <th>weighted_ytm</th>\n",
       "    </tr>\n",
       "  </thead>\n",
       "  <tbody>\n",
       "    <tr>\n",
       "      <th>0</th>\n",
       "      <td>2018-05-01</td>\n",
       "      <td>excessively high yield</td>\n",
       "      <td>0.173614</td>\n",
       "      <td>0.086846</td>\n",
       "    </tr>\n",
       "    <tr>\n",
       "      <th>1</th>\n",
       "      <td>2018-05-01</td>\n",
       "      <td>high yield</td>\n",
       "      <td>0.826386</td>\n",
       "      <td>0.054909</td>\n",
       "    </tr>\n",
       "  </tbody>\n",
       "</table>\n",
       "</div>"
      ],
      "text/plain": [
       "         date               ytm_group      prop  weighted_ytm\n",
       "0  2018-05-01  excessively high yield  0.173614      0.086846\n",
       "1  2018-05-01              high yield  0.826386      0.054909"
      ]
     },
     "execution_count": 13,
     "metadata": {},
     "output_type": "execute_result"
    }
   ],
   "source": [
    "fa.get_fix_return_rate()"
   ]
  },
  {
   "cell_type": "markdown",
   "metadata": {},
   "source": [
    "# 读取最新记录日的所有权益类资产的收益记录"
   ]
  },
  {
   "cell_type": "code",
   "execution_count": 14,
   "metadata": {},
   "outputs": [
    {
     "name": "stdout",
     "output_type": "stream",
     "text": [
      "\u001b[32m[INFO] 2018-05-02 22:01:27 E:\\07_data\\03_self-plan\\finance_records.db is connected.\u001b[0m\n",
      "\u001b[34m[INFO] 2018-05-02 22:01:27 SELECT * FROM equity_return_records WHERE date = (SELECT max(date) FROM equity_return_records)\u001b[0m\n",
      "\u001b[32m[INFO] 2018-05-02 22:01:27 E:\\07_data\\03_self-plan\\finance_records.db is disconnected.\u001b[0m\n"
     ]
    },
    {
     "data": {
      "text/html": [
       "<div>\n",
       "<style>\n",
       "    .dataframe thead tr:only-child th {\n",
       "        text-align: right;\n",
       "    }\n",
       "\n",
       "    .dataframe thead th {\n",
       "        text-align: left;\n",
       "    }\n",
       "\n",
       "    .dataframe tbody tr th {\n",
       "        vertical-align: top;\n",
       "    }\n",
       "</style>\n",
       "<table border=\"1\" class=\"dataframe\">\n",
       "  <thead>\n",
       "    <tr style=\"text-align: right;\">\n",
       "      <th></th>\n",
       "      <th>date</th>\n",
       "      <th>item</th>\n",
       "      <th>order</th>\n",
       "      <th>status</th>\n",
       "      <th>hold_days</th>\n",
       "      <th>buy_cost</th>\n",
       "      <th>current_value</th>\n",
       "      <th>return</th>\n",
       "      <th>return_rate</th>\n",
       "      <th>return_rate_annually</th>\n",
       "      <th>total_return</th>\n",
       "      <th>overall_return_rate</th>\n",
       "    </tr>\n",
       "  </thead>\n",
       "  <tbody>\n",
       "    <tr>\n",
       "      <th>3</th>\n",
       "      <td>2018-05-01</td>\n",
       "      <td>复星医药</td>\n",
       "      <td>1</td>\n",
       "      <td>持仓中</td>\n",
       "      <td>18</td>\n",
       "      <td>11537.23</td>\n",
       "      <td>11538.00</td>\n",
       "      <td>0.77</td>\n",
       "      <td>0.01%</td>\n",
       "      <td>0.14%</td>\n",
       "      <td>-1521.01</td>\n",
       "      <td>-1.11%</td>\n",
       "    </tr>\n",
       "    <tr>\n",
       "      <th>4</th>\n",
       "      <td>2018-05-01</td>\n",
       "      <td>大摩强收益债券</td>\n",
       "      <td>1</td>\n",
       "      <td>持仓中</td>\n",
       "      <td>60</td>\n",
       "      <td>37000.00</td>\n",
       "      <td>37272.69</td>\n",
       "      <td>272.69</td>\n",
       "      <td>0.74%</td>\n",
       "      <td>4.48%</td>\n",
       "      <td>-1521.01</td>\n",
       "      <td>-1.11%</td>\n",
       "    </tr>\n",
       "    <tr>\n",
       "      <th>5</th>\n",
       "      <td>2018-05-01</td>\n",
       "      <td>广发沪深300ETF002987</td>\n",
       "      <td>1</td>\n",
       "      <td>持仓中</td>\n",
       "      <td>130</td>\n",
       "      <td>23400.00</td>\n",
       "      <td>21837.40</td>\n",
       "      <td>-1562.60</td>\n",
       "      <td>-6.68%</td>\n",
       "      <td>-18.75%</td>\n",
       "      <td>-1521.01</td>\n",
       "      <td>-1.11%</td>\n",
       "    </tr>\n",
       "    <tr>\n",
       "      <th>7</th>\n",
       "      <td>2018-05-01</td>\n",
       "      <td>银华估值005250</td>\n",
       "      <td>1</td>\n",
       "      <td>持仓中</td>\n",
       "      <td>142</td>\n",
       "      <td>26970.00</td>\n",
       "      <td>25452.00</td>\n",
       "      <td>-1518.00</td>\n",
       "      <td>-5.63%</td>\n",
       "      <td>-14.47%</td>\n",
       "      <td>-1521.01</td>\n",
       "      <td>-1.11%</td>\n",
       "    </tr>\n",
       "    <tr>\n",
       "      <th>0</th>\n",
       "      <td>2018-05-01</td>\n",
       "      <td>上海医药</td>\n",
       "      <td>1</td>\n",
       "      <td>落袋为安</td>\n",
       "      <td>60</td>\n",
       "      <td>9726.40</td>\n",
       "      <td>NaN</td>\n",
       "      <td>445.60</td>\n",
       "      <td>4.58%</td>\n",
       "      <td>27.87%</td>\n",
       "      <td>-1521.01</td>\n",
       "      <td>-1.11%</td>\n",
       "    </tr>\n",
       "    <tr>\n",
       "      <th>1</th>\n",
       "      <td>2018-05-01</td>\n",
       "      <td>华域汽车</td>\n",
       "      <td>1</td>\n",
       "      <td>落袋为安</td>\n",
       "      <td>65</td>\n",
       "      <td>13032.00</td>\n",
       "      <td>NaN</td>\n",
       "      <td>464.21</td>\n",
       "      <td>3.56%</td>\n",
       "      <td>20.00%</td>\n",
       "      <td>-1521.01</td>\n",
       "      <td>-1.11%</td>\n",
       "    </tr>\n",
       "    <tr>\n",
       "      <th>2</th>\n",
       "      <td>2018-05-01</td>\n",
       "      <td>华泰证券</td>\n",
       "      <td>1</td>\n",
       "      <td>落袋为安</td>\n",
       "      <td>40</td>\n",
       "      <td>13615.27</td>\n",
       "      <td>NaN</td>\n",
       "      <td>496.32</td>\n",
       "      <td>3.65%</td>\n",
       "      <td>33.26%</td>\n",
       "      <td>-1521.01</td>\n",
       "      <td>-1.11%</td>\n",
       "    </tr>\n",
       "    <tr>\n",
       "      <th>6</th>\n",
       "      <td>2018-05-01</td>\n",
       "      <td>康缘医药</td>\n",
       "      <td>1</td>\n",
       "      <td>落袋为安</td>\n",
       "      <td>60</td>\n",
       "      <td>1526.00</td>\n",
       "      <td>NaN</td>\n",
       "      <td>-120.00</td>\n",
       "      <td>-7.86%</td>\n",
       "      <td>-47.84%</td>\n",
       "      <td>-1521.01</td>\n",
       "      <td>-1.11%</td>\n",
       "    </tr>\n",
       "  </tbody>\n",
       "</table>\n",
       "</div>"
      ],
      "text/plain": [
       "         date              item  order status  hold_days  buy_cost  \\\n",
       "3  2018-05-01              复星医药      1    持仓中         18  11537.23   \n",
       "4  2018-05-01           大摩强收益债券      1    持仓中         60  37000.00   \n",
       "5  2018-05-01  广发沪深300ETF002987      1    持仓中        130  23400.00   \n",
       "7  2018-05-01        银华估值005250      1    持仓中        142  26970.00   \n",
       "0  2018-05-01              上海医药      1   落袋为安         60   9726.40   \n",
       "1  2018-05-01              华域汽车      1   落袋为安         65  13032.00   \n",
       "2  2018-05-01              华泰证券      1   落袋为安         40  13615.27   \n",
       "6  2018-05-01              康缘医药      1   落袋为安         60   1526.00   \n",
       "\n",
       "   current_value   return return_rate return_rate_annually  total_return  \\\n",
       "3       11538.00     0.77       0.01%                0.14%      -1521.01   \n",
       "4       37272.69   272.69       0.74%                4.48%      -1521.01   \n",
       "5       21837.40 -1562.60      -6.68%              -18.75%      -1521.01   \n",
       "7       25452.00 -1518.00      -5.63%              -14.47%      -1521.01   \n",
       "0            NaN   445.60       4.58%               27.87%      -1521.01   \n",
       "1            NaN   464.21       3.56%               20.00%      -1521.01   \n",
       "2            NaN   496.32       3.65%               33.26%      -1521.01   \n",
       "6            NaN  -120.00      -7.86%              -47.84%      -1521.01   \n",
       "\n",
       "  overall_return_rate  \n",
       "3              -1.11%  \n",
       "4              -1.11%  \n",
       "5              -1.11%  \n",
       "7              -1.11%  \n",
       "0              -1.11%  \n",
       "1              -1.11%  \n",
       "2              -1.11%  \n",
       "6              -1.11%  "
      ]
     },
     "execution_count": 14,
     "metadata": {},
     "output_type": "execute_result"
    }
   ],
   "source": [
    "fa.get_equity_return_records()"
   ]
  },
  {
   "cell_type": "markdown",
   "metadata": {},
   "source": [
    "# 读取权益类资产累计绝对收益月变动"
   ]
  },
  {
   "cell_type": "code",
   "execution_count": 15,
   "metadata": {},
   "outputs": [
    {
     "name": "stdout",
     "output_type": "stream",
     "text": [
      "\u001b[32m[INFO] 2018-05-02 22:01:31 E:\\07_data\\03_self-plan\\finance_records.db is connected.\u001b[0m\n",
      "\u001b[34m[INFO] 2018-05-02 22:01:31 SELECT * FROM equity_return_records\u001b[0m\n",
      "\u001b[32m[INFO] 2018-05-02 22:01:31 E:\\07_data\\03_self-plan\\finance_records.db is disconnected.\u001b[0m\n"
     ]
    },
    {
     "data": {
      "text/plain": [
       "date\n",
       "2018-02-01    1167.60\n",
       "2018-03-01    -361.40\n",
       "2018-04-01   -1069.46\n",
       "2018-05-01   -1521.01\n",
       "Name: return, dtype: float64"
      ]
     },
     "execution_count": 15,
     "metadata": {},
     "output_type": "execute_result"
    }
   ],
   "source": [
    "fa.get_equity_return_change()"
   ]
  },
  {
   "cell_type": "markdown",
   "metadata": {},
   "source": [
    "# 获取净资产-来自父母收入的差异变化"
   ]
  },
  {
   "cell_type": "code",
   "execution_count": 3,
   "metadata": {},
   "outputs": [
    {
     "name": "stdout",
     "output_type": "stream",
     "text": [
      "\u001b[32m[INFO] 2018-05-02 23:17:34 E:\\07_data\\03_self-plan\\finance_records.db is connected.\u001b[0m\n",
      "\u001b[34m[INFO] 2018-05-02 23:17:34 SELECT * FROM diff_from_parents\u001b[0m\n",
      "\u001b[32m[INFO] 2018-05-02 23:17:34 E:\\07_data\\03_self-plan\\finance_records.db is disconnected.\u001b[0m\n"
     ]
    },
    {
     "data": {
      "text/html": [
       "<div>\n",
       "<style>\n",
       "    .dataframe thead tr:only-child th {\n",
       "        text-align: right;\n",
       "    }\n",
       "\n",
       "    .dataframe thead th {\n",
       "        text-align: left;\n",
       "    }\n",
       "\n",
       "    .dataframe tbody tr th {\n",
       "        vertical-align: top;\n",
       "    }\n",
       "</style>\n",
       "<table border=\"1\" class=\"dataframe\">\n",
       "  <thead>\n",
       "    <tr style=\"text-align: right;\">\n",
       "      <th></th>\n",
       "      <th>date</th>\n",
       "      <th>from_parents</th>\n",
       "      <th>net_asset</th>\n",
       "      <th>diff</th>\n",
       "    </tr>\n",
       "  </thead>\n",
       "  <tbody>\n",
       "    <tr>\n",
       "      <th>0</th>\n",
       "      <td>2017-12</td>\n",
       "      <td>573873.0</td>\n",
       "      <td>540624.00</td>\n",
       "      <td>-33249.00</td>\n",
       "    </tr>\n",
       "    <tr>\n",
       "      <th>1</th>\n",
       "      <td>2018-01</td>\n",
       "      <td>598447.0</td>\n",
       "      <td>551367.00</td>\n",
       "      <td>-47080.00</td>\n",
       "    </tr>\n",
       "    <tr>\n",
       "      <th>2</th>\n",
       "      <td>2018-02</td>\n",
       "      <td>643315.0</td>\n",
       "      <td>587982.00</td>\n",
       "      <td>-55333.00</td>\n",
       "    </tr>\n",
       "    <tr>\n",
       "      <th>3</th>\n",
       "      <td>2018-03</td>\n",
       "      <td>680025.0</td>\n",
       "      <td>629240.94</td>\n",
       "      <td>-50784.06</td>\n",
       "    </tr>\n",
       "    <tr>\n",
       "      <th>4</th>\n",
       "      <td>2018-04</td>\n",
       "      <td>775313.0</td>\n",
       "      <td>726121.26</td>\n",
       "      <td>-49191.74</td>\n",
       "    </tr>\n",
       "  </tbody>\n",
       "</table>\n",
       "</div>"
      ],
      "text/plain": [
       "      date  from_parents  net_asset      diff\n",
       "0  2017-12      573873.0  540624.00 -33249.00\n",
       "1  2018-01      598447.0  551367.00 -47080.00\n",
       "2  2018-02      643315.0  587982.00 -55333.00\n",
       "3  2018-03      680025.0  629240.94 -50784.06\n",
       "4  2018-04      775313.0  726121.26 -49191.74"
      ]
     },
     "execution_count": 3,
     "metadata": {},
     "output_type": "execute_result"
    }
   ],
   "source": [
    "fa.get_diff_from_parents_change()"
   ]
  },
  {
   "cell_type": "code",
   "execution_count": null,
   "metadata": {
    "collapsed": true
   },
   "outputs": [],
   "source": []
  }
 ],
 "metadata": {
  "kernelspec": {
   "display_name": "Python 3",
   "language": "python",
   "name": "python3"
  },
  "language_info": {
   "codemirror_mode": {
    "name": "ipython",
    "version": 3
   },
   "file_extension": ".py",
   "mimetype": "text/x-python",
   "name": "python",
   "nbconvert_exporter": "python",
   "pygments_lexer": "ipython3",
   "version": "3.6.3"
  },
  "toc": {
   "nav_menu": {},
   "number_sections": true,
   "sideBar": true,
   "skip_h1_title": false,
   "title_cell": "Table of Contents",
   "title_sidebar": "Contents",
   "toc_cell": false,
   "toc_position": {},
   "toc_section_display": true,
   "toc_window_display": false
  }
 },
 "nbformat": 4,
 "nbformat_minor": 2
}
