{
 "cells": [
  {
   "cell_type": "code",
   "execution_count": 1,
   "metadata": {},
   "outputs": [
    {
     "name": "stdout",
     "output_type": "stream",
     "text": [
      "Populating the interactive namespace from numpy and matplotlib\n"
     ]
    }
   ],
   "source": [
    "%pylab inline\n",
    "%load_ext autoreload\n",
    "%autoreload 2"
   ]
  },
  {
   "cell_type": "code",
   "execution_count": 2,
   "metadata": {
    "collapsed": true
   },
   "outputs": [],
   "source": [
    "import finance.api as fa"
   ]
  },
  {
   "cell_type": "markdown",
   "metadata": {},
   "source": [
    "# 读取指定日期净资产总额"
   ]
  },
  {
   "cell_type": "code",
   "execution_count": 4,
   "metadata": {},
   "outputs": [
    {
     "name": "stdout",
     "output_type": "stream",
     "text": [
      "\u001b[32m[INFO] 2018-06-02 00:07:16 E:\\07_data\\03_self-plan\\finance_records.db is connected.\u001b[0m\n",
      "\u001b[34m[INFO] 2018-06-02 00:07:16 SELECT * FROM asset_debt_statement WHERE date >= '2018-01-01'and date <= '2018-06-01'\u001b[0m\n",
      "\u001b[32m[INFO] 2018-06-02 00:07:16 E:\\07_data\\03_self-plan\\finance_records.db is disconnected.\u001b[0m\n"
     ]
    },
    {
     "data": {
      "text/html": [
       "<div>\n",
       "<style>\n",
       "    .dataframe thead tr:only-child th {\n",
       "        text-align: right;\n",
       "    }\n",
       "\n",
       "    .dataframe thead th {\n",
       "        text-align: left;\n",
       "    }\n",
       "\n",
       "    .dataframe tbody tr th {\n",
       "        vertical-align: top;\n",
       "    }\n",
       "</style>\n",
       "<table border=\"1\" class=\"dataframe\">\n",
       "  <thead>\n",
       "    <tr style=\"text-align: right;\">\n",
       "      <th></th>\n",
       "      <th>current_value</th>\n",
       "    </tr>\n",
       "    <tr>\n",
       "      <th>date</th>\n",
       "      <th></th>\n",
       "    </tr>\n",
       "  </thead>\n",
       "  <tbody>\n",
       "    <tr>\n",
       "      <th>2018-01-01</th>\n",
       "      <td>540624.00</td>\n",
       "    </tr>\n",
       "    <tr>\n",
       "      <th>2018-02-01</th>\n",
       "      <td>551367.00</td>\n",
       "    </tr>\n",
       "    <tr>\n",
       "      <th>2018-03-01</th>\n",
       "      <td>587982.00</td>\n",
       "    </tr>\n",
       "    <tr>\n",
       "      <th>2018-04-01</th>\n",
       "      <td>629240.94</td>\n",
       "    </tr>\n",
       "    <tr>\n",
       "      <th>2018-05-01</th>\n",
       "      <td>726121.26</td>\n",
       "    </tr>\n",
       "    <tr>\n",
       "      <th>2018-06-01</th>\n",
       "      <td>910124.50</td>\n",
       "    </tr>\n",
       "  </tbody>\n",
       "</table>\n",
       "</div>"
      ],
      "text/plain": [
       "            current_value\n",
       "date                     \n",
       "2018-01-01      540624.00\n",
       "2018-02-01      551367.00\n",
       "2018-03-01      587982.00\n",
       "2018-04-01      629240.94\n",
       "2018-05-01      726121.26\n",
       "2018-06-01      910124.50"
      ]
     },
     "execution_count": 4,
     "metadata": {},
     "output_type": "execute_result"
    }
   ],
   "source": [
    "# 给定起始和结束日期 默认为读取所有日期 \n",
    "fa.get_net_asset_amount('2018-01-01', '2018-06-01')"
   ]
  },
  {
   "cell_type": "markdown",
   "metadata": {},
   "source": [
    "# 读取指定日期净资产结构"
   ]
  },
  {
   "cell_type": "code",
   "execution_count": 5,
   "metadata": {},
   "outputs": [
    {
     "name": "stdout",
     "output_type": "stream",
     "text": [
      "\u001b[32m[INFO] 2018-06-02 00:07:23 E:\\07_data\\03_self-plan\\finance_records.db is connected.\u001b[0m\n",
      "\u001b[34m[INFO] 2018-06-02 00:07:23 SELECT * FROM asset_debt_statement WHERE date = (SELECT max(date) FROM asset_debt_statement)\u001b[0m\n",
      "\u001b[32m[INFO] 2018-06-02 00:07:23 E:\\07_data\\03_self-plan\\finance_records.db is disconnected.\u001b[0m\n"
     ]
    },
    {
     "data": {
      "text/html": [
       "<div>\n",
       "<style>\n",
       "    .dataframe thead tr:only-child th {\n",
       "        text-align: right;\n",
       "    }\n",
       "\n",
       "    .dataframe thead th {\n",
       "        text-align: left;\n",
       "    }\n",
       "\n",
       "    .dataframe tbody tr th {\n",
       "        vertical-align: top;\n",
       "    }\n",
       "</style>\n",
       "<table border=\"1\" class=\"dataframe\">\n",
       "  <thead>\n",
       "    <tr style=\"text-align: right;\">\n",
       "      <th></th>\n",
       "      <th></th>\n",
       "      <th>current_value</th>\n",
       "    </tr>\n",
       "    <tr>\n",
       "      <th>date</th>\n",
       "      <th>subclass</th>\n",
       "      <th></th>\n",
       "    </tr>\n",
       "  </thead>\n",
       "  <tbody>\n",
       "    <tr>\n",
       "      <th rowspan=\"7\" valign=\"top\">2018-06-01</th>\n",
       "      <th>P2P</th>\n",
       "      <td>37559.0</td>\n",
       "    </tr>\n",
       "    <tr>\n",
       "      <th>债券型基金</th>\n",
       "      <td>37129.0</td>\n",
       "    </tr>\n",
       "    <tr>\n",
       "      <th>定期</th>\n",
       "      <td>511768.0</td>\n",
       "    </tr>\n",
       "    <tr>\n",
       "      <th>指数型基金</th>\n",
       "      <td>11349.0</td>\n",
       "    </tr>\n",
       "    <tr>\n",
       "      <th>现金</th>\n",
       "      <td>334572.0</td>\n",
       "    </tr>\n",
       "    <tr>\n",
       "      <th>股票</th>\n",
       "      <td>3374.0</td>\n",
       "    </tr>\n",
       "    <tr>\n",
       "      <th>负债</th>\n",
       "      <td>-25626.5</td>\n",
       "    </tr>\n",
       "  </tbody>\n",
       "</table>\n",
       "</div>"
      ],
      "text/plain": [
       "                     current_value\n",
       "date       subclass               \n",
       "2018-06-01 P2P             37559.0\n",
       "           债券型基金           37129.0\n",
       "           定期             511768.0\n",
       "           指数型基金           11349.0\n",
       "           现金             334572.0\n",
       "           股票               3374.0\n",
       "           负债             -25626.5"
      ]
     },
     "execution_count": 5,
     "metadata": {},
     "output_type": "execute_result"
    }
   ],
   "source": [
    "# 读取给定时间间隔之间的所有净资产结构记录  默认为读取最新日期\n",
    "fa.get_net_asset_structure()"
   ]
  },
  {
   "cell_type": "markdown",
   "metadata": {},
   "source": [
    "# 读取指定日期的资产结构及配置合理度"
   ]
  },
  {
   "cell_type": "code",
   "execution_count": 6,
   "metadata": {},
   "outputs": [
    {
     "name": "stdout",
     "output_type": "stream",
     "text": [
      "\u001b[32m[INFO] 2018-06-02 00:08:13 E:\\07_data\\03_self-plan\\finance_records.db is connected.\u001b[0m\n",
      "\u001b[34m[INFO] 2018-06-02 00:08:13 SELECT * FROM asset_debt_statement WHERE date = (SELECT max(date) FROM asset_debt_statement)\u001b[0m\n",
      "\u001b[34m[INFO] 2018-06-02 00:08:13 SELECT * FROM config_big_asset WHERE date = (SELECT max(date) FROM config_big_asset)\u001b[0m\n",
      "\u001b[32m[INFO] 2018-06-02 00:08:13 E:\\07_data\\03_self-plan\\finance_records.db is disconnected.\u001b[0m\n"
     ]
    },
    {
     "data": {
      "text/html": [
       "<div>\n",
       "<style>\n",
       "    .dataframe thead tr:only-child th {\n",
       "        text-align: right;\n",
       "    }\n",
       "\n",
       "    .dataframe thead th {\n",
       "        text-align: left;\n",
       "    }\n",
       "\n",
       "    .dataframe tbody tr th {\n",
       "        vertical-align: top;\n",
       "    }\n",
       "</style>\n",
       "<table border=\"1\" class=\"dataframe\">\n",
       "  <thead>\n",
       "    <tr style=\"text-align: right;\">\n",
       "      <th></th>\n",
       "      <th>date</th>\n",
       "      <th>date_config</th>\n",
       "      <th>category</th>\n",
       "      <th>current_value</th>\n",
       "      <th>pct</th>\n",
       "      <th>planning_prop</th>\n",
       "      <th>diff</th>\n",
       "    </tr>\n",
       "  </thead>\n",
       "  <tbody>\n",
       "    <tr>\n",
       "      <th>0</th>\n",
       "      <td>2018-06-01</td>\n",
       "      <td>2018-05-01</td>\n",
       "      <td>P2P</td>\n",
       "      <td>37559.0</td>\n",
       "      <td>0.040138</td>\n",
       "      <td>0.050</td>\n",
       "      <td>9228.550</td>\n",
       "    </tr>\n",
       "    <tr>\n",
       "      <th>1</th>\n",
       "      <td>2018-06-01</td>\n",
       "      <td>2018-05-01</td>\n",
       "      <td>基金</td>\n",
       "      <td>48478.0</td>\n",
       "      <td>0.051807</td>\n",
       "      <td>0.160</td>\n",
       "      <td>101242.160</td>\n",
       "    </tr>\n",
       "    <tr>\n",
       "      <th>2</th>\n",
       "      <td>2018-06-01</td>\n",
       "      <td>2018-05-01</td>\n",
       "      <td>定期</td>\n",
       "      <td>720236.0</td>\n",
       "      <td>0.769688</td>\n",
       "      <td>0.755</td>\n",
       "      <td>-13743.995</td>\n",
       "    </tr>\n",
       "    <tr>\n",
       "      <th>3</th>\n",
       "      <td>2018-06-01</td>\n",
       "      <td>2018-05-01</td>\n",
       "      <td>现金</td>\n",
       "      <td>126104.0</td>\n",
       "      <td>0.134762</td>\n",
       "      <td>0.010</td>\n",
       "      <td>-116746.490</td>\n",
       "    </tr>\n",
       "    <tr>\n",
       "      <th>4</th>\n",
       "      <td>2018-06-01</td>\n",
       "      <td>2018-05-01</td>\n",
       "      <td>股票</td>\n",
       "      <td>3374.0</td>\n",
       "      <td>0.003606</td>\n",
       "      <td>0.025</td>\n",
       "      <td>20019.775</td>\n",
       "    </tr>\n",
       "  </tbody>\n",
       "</table>\n",
       "</div>"
      ],
      "text/plain": [
       "         date date_config category  current_value       pct  planning_prop  \\\n",
       "0  2018-06-01  2018-05-01      P2P        37559.0  0.040138          0.050   \n",
       "1  2018-06-01  2018-05-01       基金        48478.0  0.051807          0.160   \n",
       "2  2018-06-01  2018-05-01       定期       720236.0  0.769688          0.755   \n",
       "3  2018-06-01  2018-05-01       现金       126104.0  0.134762          0.010   \n",
       "4  2018-06-01  2018-05-01       股票         3374.0  0.003606          0.025   \n",
       "\n",
       "         diff  \n",
       "0    9228.550  \n",
       "1  101242.160  \n",
       "2  -13743.995  \n",
       "3 -116746.490  \n",
       "4   20019.775  "
      ]
     },
     "execution_count": 6,
     "metadata": {},
     "output_type": "execute_result"
    }
   ],
   "source": [
    "# 读取给定时间间隔之间的所有资产结构及配置记录  默认为读取最新日期\n",
    "fa.get_big_asset_configure()"
   ]
  },
  {
   "cell_type": "markdown",
   "metadata": {},
   "source": [
    "# 读取最新记录日的所有固收类资产流动性记录"
   ]
  },
  {
   "cell_type": "code",
   "execution_count": 7,
   "metadata": {},
   "outputs": [
    {
     "name": "stdout",
     "output_type": "stream",
     "text": [
      "\u001b[32m[INFO] 2018-06-02 00:08:33 E:\\07_data\\03_self-plan\\finance_records.db is connected.\u001b[0m\n",
      "\u001b[34m[INFO] 2018-06-02 00:08:33 SELECT * FROM fix_info WHERE date = (SELECT max(date) FROM fix_info)\u001b[0m\n",
      "30天内就要到期的品种:\n",
      "  channel category           item  total_amount    maturity  remain_days\n",
      "3   微信理财通       定期     厦金中心厦盈通第八期       30997.0  2018-06-08            7\n",
      "4     人人贷      P2P       U计划0613期        4179.0  2018-06-15           14\n",
      "5    京东金融       定期  京弘年年盈20170620       20519.0  2018-06-20           19\n",
      "6     人人贷      P2P       U计划7058期       10465.0  2018-06-21           20\n",
      "\u001b[34m[INFO] 2018-06-02 00:08:33 SELECT * FROM config_big_asset WHERE date = (SELECT max(date) FROM config_big_asset)\u001b[0m\n",
      "\u001b[32m[INFO] 2018-06-02 00:08:33 E:\\07_data\\03_self-plan\\finance_records.db is disconnected.\u001b[0m\n"
     ]
    },
    {
     "data": {
      "text/html": [
       "<div>\n",
       "<style>\n",
       "    .dataframe thead tr:only-child th {\n",
       "        text-align: right;\n",
       "    }\n",
       "\n",
       "    .dataframe thead th {\n",
       "        text-align: left;\n",
       "    }\n",
       "\n",
       "    .dataframe tbody tr th {\n",
       "        vertical-align: top;\n",
       "    }\n",
       "</style>\n",
       "<table border=\"1\" class=\"dataframe\">\n",
       "  <thead>\n",
       "    <tr style=\"text-align: right;\">\n",
       "      <th></th>\n",
       "      <th>date</th>\n",
       "      <th>date_config</th>\n",
       "      <th>subclass</th>\n",
       "      <th>total_amount</th>\n",
       "      <th>pct</th>\n",
       "      <th>planning_prop</th>\n",
       "      <th>diff</th>\n",
       "    </tr>\n",
       "  </thead>\n",
       "  <tbody>\n",
       "    <tr>\n",
       "      <th>0</th>\n",
       "      <td>2018-06-01</td>\n",
       "      <td>2018-05-01</td>\n",
       "      <td>中期定期</td>\n",
       "      <td>117195.0</td>\n",
       "      <td>0.259912</td>\n",
       "      <td>0.70</td>\n",
       "      <td>198436.40</td>\n",
       "    </tr>\n",
       "    <tr>\n",
       "      <th>1</th>\n",
       "      <td>2018-06-01</td>\n",
       "      <td>2018-05-01</td>\n",
       "      <td>短期定期</td>\n",
       "      <td>95330.0</td>\n",
       "      <td>0.211421</td>\n",
       "      <td>0.20</td>\n",
       "      <td>-5149.60</td>\n",
       "    </tr>\n",
       "    <tr>\n",
       "      <th>2</th>\n",
       "      <td>2018-06-01</td>\n",
       "      <td>2018-05-01</td>\n",
       "      <td>超短期定期</td>\n",
       "      <td>66160.0</td>\n",
       "      <td>0.146728</td>\n",
       "      <td>0.02</td>\n",
       "      <td>-57141.96</td>\n",
       "    </tr>\n",
       "    <tr>\n",
       "      <th>3</th>\n",
       "      <td>2018-06-01</td>\n",
       "      <td>2018-05-01</td>\n",
       "      <td>超长期定期</td>\n",
       "      <td>18173.0</td>\n",
       "      <td>0.040304</td>\n",
       "      <td>0.02</td>\n",
       "      <td>-9154.96</td>\n",
       "    </tr>\n",
       "    <tr>\n",
       "      <th>4</th>\n",
       "      <td>2018-06-01</td>\n",
       "      <td>2018-05-01</td>\n",
       "      <td>长期定期</td>\n",
       "      <td>154044.0</td>\n",
       "      <td>0.341635</td>\n",
       "      <td>0.06</td>\n",
       "      <td>-126989.88</td>\n",
       "    </tr>\n",
       "  </tbody>\n",
       "</table>\n",
       "</div>"
      ],
      "text/plain": [
       "         date date_config subclass  total_amount       pct  planning_prop  \\\n",
       "0  2018-06-01  2018-05-01     中期定期      117195.0  0.259912           0.70   \n",
       "1  2018-06-01  2018-05-01     短期定期       95330.0  0.211421           0.20   \n",
       "2  2018-06-01  2018-05-01    超短期定期       66160.0  0.146728           0.02   \n",
       "3  2018-06-01  2018-05-01    超长期定期       18173.0  0.040304           0.02   \n",
       "4  2018-06-01  2018-05-01     长期定期      154044.0  0.341635           0.06   \n",
       "\n",
       "        diff  \n",
       "0  198436.40  \n",
       "1   -5149.60  \n",
       "2  -57141.96  \n",
       "3   -9154.96  \n",
       "4 -126989.88  "
      ]
     },
     "execution_count": 7,
     "metadata": {},
     "output_type": "execute_result"
    }
   ],
   "source": [
    "fa.get_fix_liq_info()"
   ]
  },
  {
   "cell_type": "markdown",
   "metadata": {},
   "source": [
    "# 读取最新记录日的所有固收类资产收益率记录"
   ]
  },
  {
   "cell_type": "code",
   "execution_count": 8,
   "metadata": {},
   "outputs": [
    {
     "name": "stdout",
     "output_type": "stream",
     "text": [
      "\u001b[32m[INFO] 2018-06-02 00:09:15 E:\\07_data\\03_self-plan\\finance_records.db is connected.\u001b[0m\n",
      "\u001b[34m[INFO] 2018-06-02 00:09:15 SELECT * FROM fix_info WHERE date = (SELECT max(date) FROM fix_info)\u001b[0m\n",
      "\u001b[32m[INFO] 2018-06-02 00:09:15 E:\\07_data\\03_self-plan\\finance_records.db is disconnected.\u001b[0m\n"
     ]
    },
    {
     "data": {
      "text/html": [
       "<div>\n",
       "<style>\n",
       "    .dataframe thead tr:only-child th {\n",
       "        text-align: right;\n",
       "    }\n",
       "\n",
       "    .dataframe thead th {\n",
       "        text-align: left;\n",
       "    }\n",
       "\n",
       "    .dataframe tbody tr th {\n",
       "        vertical-align: top;\n",
       "    }\n",
       "</style>\n",
       "<table border=\"1\" class=\"dataframe\">\n",
       "  <thead>\n",
       "    <tr style=\"text-align: right;\">\n",
       "      <th></th>\n",
       "      <th>date</th>\n",
       "      <th>ytm_group</th>\n",
       "      <th>prop</th>\n",
       "      <th>weighted_ytm</th>\n",
       "    </tr>\n",
       "  </thead>\n",
       "  <tbody>\n",
       "    <tr>\n",
       "      <th>0</th>\n",
       "      <td>2018-06-01</td>\n",
       "      <td>excessively high yield</td>\n",
       "      <td>0.080394</td>\n",
       "      <td>0.089155</td>\n",
       "    </tr>\n",
       "    <tr>\n",
       "      <th>1</th>\n",
       "      <td>2018-06-01</td>\n",
       "      <td>high yield</td>\n",
       "      <td>0.919606</td>\n",
       "      <td>0.054940</td>\n",
       "    </tr>\n",
       "  </tbody>\n",
       "</table>\n",
       "</div>"
      ],
      "text/plain": [
       "         date               ytm_group      prop  weighted_ytm\n",
       "0  2018-06-01  excessively high yield  0.080394      0.089155\n",
       "1  2018-06-01              high yield  0.919606      0.054940"
      ]
     },
     "execution_count": 8,
     "metadata": {},
     "output_type": "execute_result"
    }
   ],
   "source": [
    "fa.get_fix_return_rate()"
   ]
  },
  {
   "cell_type": "markdown",
   "metadata": {},
   "source": [
    "# 读取最新记录日的所有权益类资产的收益记录"
   ]
  },
  {
   "cell_type": "code",
   "execution_count": 10,
   "metadata": {},
   "outputs": [
    {
     "name": "stdout",
     "output_type": "stream",
     "text": [
      "\u001b[32m[INFO] 2018-06-02 00:17:31 E:\\07_data\\03_self-plan\\finance_records.db is connected.\u001b[0m\n",
      "\u001b[34m[INFO] 2018-06-02 00:17:31 SELECT * FROM equity_return_records WHERE date = (SELECT max(date) FROM equity_return_records)\u001b[0m\n",
      "\u001b[32m[INFO] 2018-06-02 00:17:31 E:\\07_data\\03_self-plan\\finance_records.db is disconnected.\u001b[0m\n"
     ]
    },
    {
     "data": {
      "text/html": [
       "<div>\n",
       "<style>\n",
       "    .dataframe thead tr:only-child th {\n",
       "        text-align: right;\n",
       "    }\n",
       "\n",
       "    .dataframe thead th {\n",
       "        text-align: left;\n",
       "    }\n",
       "\n",
       "    .dataframe tbody tr th {\n",
       "        vertical-align: top;\n",
       "    }\n",
       "</style>\n",
       "<table border=\"1\" class=\"dataframe\">\n",
       "  <thead>\n",
       "    <tr style=\"text-align: right;\">\n",
       "      <th></th>\n",
       "      <th>date</th>\n",
       "      <th>item</th>\n",
       "      <th>order</th>\n",
       "      <th>status</th>\n",
       "      <th>hold_days</th>\n",
       "      <th>buy_cost</th>\n",
       "      <th>current_value</th>\n",
       "      <th>return</th>\n",
       "      <th>return_rate</th>\n",
       "      <th>return_rate_annually</th>\n",
       "      <th>total_return</th>\n",
       "      <th>overall_return_rate</th>\n",
       "    </tr>\n",
       "  </thead>\n",
       "  <tbody>\n",
       "    <tr>\n",
       "      <th>4</th>\n",
       "      <td>2018-06-01</td>\n",
       "      <td>华泰证券</td>\n",
       "      <td>2</td>\n",
       "      <td>持仓中</td>\n",
       "      <td>2</td>\n",
       "      <td>3295.07</td>\n",
       "      <td>3374.0</td>\n",
       "      <td>78.93</td>\n",
       "      <td>2.40%</td>\n",
       "      <td>437.16%</td>\n",
       "      <td>3845.27</td>\n",
       "      <td>8.01%</td>\n",
       "    </tr>\n",
       "    <tr>\n",
       "      <th>6</th>\n",
       "      <td>2018-06-01</td>\n",
       "      <td>大摩强收益债券</td>\n",
       "      <td>1</td>\n",
       "      <td>持仓中</td>\n",
       "      <td>91</td>\n",
       "      <td>37000.00</td>\n",
       "      <td>37129.0</td>\n",
       "      <td>129.00</td>\n",
       "      <td>0.35%</td>\n",
       "      <td>1.40%</td>\n",
       "      <td>3845.27</td>\n",
       "      <td>8.01%</td>\n",
       "    </tr>\n",
       "    <tr>\n",
       "      <th>7</th>\n",
       "      <td>2018-06-01</td>\n",
       "      <td>广发沪深300ETF002987</td>\n",
       "      <td>1</td>\n",
       "      <td>持仓中</td>\n",
       "      <td>161</td>\n",
       "      <td>12471.50</td>\n",
       "      <td>11349.0</td>\n",
       "      <td>-1122.50</td>\n",
       "      <td>-9.00%</td>\n",
       "      <td>-20.40%</td>\n",
       "      <td>3845.27</td>\n",
       "      <td>8.01%</td>\n",
       "    </tr>\n",
       "    <tr>\n",
       "      <th>0</th>\n",
       "      <td>2018-06-01</td>\n",
       "      <td>上海医药</td>\n",
       "      <td>1</td>\n",
       "      <td>落袋为安</td>\n",
       "      <td>60</td>\n",
       "      <td>-445.60</td>\n",
       "      <td>NaN</td>\n",
       "      <td>445.60</td>\n",
       "      <td>-100.00%</td>\n",
       "      <td>-608.33%</td>\n",
       "      <td>3845.27</td>\n",
       "      <td>8.01%</td>\n",
       "    </tr>\n",
       "    <tr>\n",
       "      <th>1</th>\n",
       "      <td>2018-06-01</td>\n",
       "      <td>伊利股份</td>\n",
       "      <td>1</td>\n",
       "      <td>落袋为安</td>\n",
       "      <td>20</td>\n",
       "      <td>-805.17</td>\n",
       "      <td>NaN</td>\n",
       "      <td>805.17</td>\n",
       "      <td>-100.00%</td>\n",
       "      <td>-1825.00%</td>\n",
       "      <td>3845.27</td>\n",
       "      <td>8.01%</td>\n",
       "    </tr>\n",
       "    <tr>\n",
       "      <th>2</th>\n",
       "      <td>2018-06-01</td>\n",
       "      <td>华域汽车</td>\n",
       "      <td>1</td>\n",
       "      <td>落袋为安</td>\n",
       "      <td>65</td>\n",
       "      <td>-464.21</td>\n",
       "      <td>NaN</td>\n",
       "      <td>464.21</td>\n",
       "      <td>-100.00%</td>\n",
       "      <td>-561.54%</td>\n",
       "      <td>3845.27</td>\n",
       "      <td>8.01%</td>\n",
       "    </tr>\n",
       "    <tr>\n",
       "      <th>3</th>\n",
       "      <td>2018-06-01</td>\n",
       "      <td>华泰证券</td>\n",
       "      <td>1</td>\n",
       "      <td>落袋为安</td>\n",
       "      <td>40</td>\n",
       "      <td>-496.32</td>\n",
       "      <td>NaN</td>\n",
       "      <td>496.32</td>\n",
       "      <td>-100.00%</td>\n",
       "      <td>-912.50%</td>\n",
       "      <td>3845.27</td>\n",
       "      <td>8.01%</td>\n",
       "    </tr>\n",
       "    <tr>\n",
       "      <th>5</th>\n",
       "      <td>2018-06-01</td>\n",
       "      <td>复星医药</td>\n",
       "      <td>1</td>\n",
       "      <td>落袋为安</td>\n",
       "      <td>27</td>\n",
       "      <td>-1374.58</td>\n",
       "      <td>NaN</td>\n",
       "      <td>1374.58</td>\n",
       "      <td>-100.00%</td>\n",
       "      <td>-1351.85%</td>\n",
       "      <td>3845.27</td>\n",
       "      <td>8.01%</td>\n",
       "    </tr>\n",
       "    <tr>\n",
       "      <th>8</th>\n",
       "      <td>2018-06-01</td>\n",
       "      <td>康缘医药</td>\n",
       "      <td>1</td>\n",
       "      <td>落袋为安</td>\n",
       "      <td>60</td>\n",
       "      <td>120.00</td>\n",
       "      <td>NaN</td>\n",
       "      <td>-120.00</td>\n",
       "      <td>-100.00%</td>\n",
       "      <td>-608.33%</td>\n",
       "      <td>3845.27</td>\n",
       "      <td>8.01%</td>\n",
       "    </tr>\n",
       "    <tr>\n",
       "      <th>9</th>\n",
       "      <td>2018-06-01</td>\n",
       "      <td>银华估值005250</td>\n",
       "      <td>1</td>\n",
       "      <td>落袋为安</td>\n",
       "      <td>172</td>\n",
       "      <td>-1293.96</td>\n",
       "      <td>NaN</td>\n",
       "      <td>1293.96</td>\n",
       "      <td>-100.00%</td>\n",
       "      <td>-212.21%</td>\n",
       "      <td>3845.27</td>\n",
       "      <td>8.01%</td>\n",
       "    </tr>\n",
       "  </tbody>\n",
       "</table>\n",
       "</div>"
      ],
      "text/plain": [
       "         date              item  order status  hold_days  buy_cost  \\\n",
       "4  2018-06-01              华泰证券      2    持仓中          2   3295.07   \n",
       "6  2018-06-01           大摩强收益债券      1    持仓中         91  37000.00   \n",
       "7  2018-06-01  广发沪深300ETF002987      1    持仓中        161  12471.50   \n",
       "0  2018-06-01              上海医药      1   落袋为安         60   -445.60   \n",
       "1  2018-06-01              伊利股份      1   落袋为安         20   -805.17   \n",
       "2  2018-06-01              华域汽车      1   落袋为安         65   -464.21   \n",
       "3  2018-06-01              华泰证券      1   落袋为安         40   -496.32   \n",
       "5  2018-06-01              复星医药      1   落袋为安         27  -1374.58   \n",
       "8  2018-06-01              康缘医药      1   落袋为安         60    120.00   \n",
       "9  2018-06-01        银华估值005250      1   落袋为安        172  -1293.96   \n",
       "\n",
       "   current_value   return return_rate return_rate_annually  total_return  \\\n",
       "4         3374.0    78.93       2.40%              437.16%       3845.27   \n",
       "6        37129.0   129.00       0.35%                1.40%       3845.27   \n",
       "7        11349.0 -1122.50      -9.00%              -20.40%       3845.27   \n",
       "0            NaN   445.60    -100.00%             -608.33%       3845.27   \n",
       "1            NaN   805.17    -100.00%            -1825.00%       3845.27   \n",
       "2            NaN   464.21    -100.00%             -561.54%       3845.27   \n",
       "3            NaN   496.32    -100.00%             -912.50%       3845.27   \n",
       "5            NaN  1374.58    -100.00%            -1351.85%       3845.27   \n",
       "8            NaN  -120.00    -100.00%             -608.33%       3845.27   \n",
       "9            NaN  1293.96    -100.00%             -212.21%       3845.27   \n",
       "\n",
       "  overall_return_rate  \n",
       "4               8.01%  \n",
       "6               8.01%  \n",
       "7               8.01%  \n",
       "0               8.01%  \n",
       "1               8.01%  \n",
       "2               8.01%  \n",
       "3               8.01%  \n",
       "5               8.01%  \n",
       "8               8.01%  \n",
       "9               8.01%  "
      ]
     },
     "execution_count": 10,
     "metadata": {},
     "output_type": "execute_result"
    }
   ],
   "source": [
    "fa.get_equity_return_records()"
   ]
  },
  {
   "cell_type": "markdown",
   "metadata": {},
   "source": [
    "# 读取权益类资产累计绝对收益月变动"
   ]
  },
  {
   "cell_type": "code",
   "execution_count": 12,
   "metadata": {},
   "outputs": [
    {
     "name": "stdout",
     "output_type": "stream",
     "text": [
      "\u001b[32m[INFO] 2018-05-03 20:20:31 E:\\07_data\\03_self-plan\\finance_records.db is connected.\u001b[0m\n",
      "\u001b[34m[INFO] 2018-05-03 20:20:31 SELECT * FROM equity_return_records\u001b[0m\n",
      "\u001b[32m[INFO] 2018-05-03 20:20:31 E:\\07_data\\03_self-plan\\finance_records.db is disconnected.\u001b[0m\n"
     ]
    },
    {
     "data": {
      "text/plain": [
       "date\n",
       "2018-02-01    1167.60\n",
       "2018-03-01    -361.40\n",
       "2018-04-01   -1069.46\n",
       "2018-05-01   -1521.01\n",
       "Name: return, dtype: float64"
      ]
     },
     "execution_count": 12,
     "metadata": {},
     "output_type": "execute_result"
    }
   ],
   "source": [
    "fa.get_equity_return_change()"
   ]
  },
  {
   "cell_type": "markdown",
   "metadata": {},
   "source": [
    "# 获取净资产-来自父母收入的差异变化"
   ]
  },
  {
   "cell_type": "code",
   "execution_count": 13,
   "metadata": {},
   "outputs": [
    {
     "name": "stdout",
     "output_type": "stream",
     "text": [
      "\u001b[32m[INFO] 2018-05-03 20:20:34 E:\\07_data\\03_self-plan\\finance_records.db is connected.\u001b[0m\n",
      "\u001b[34m[INFO] 2018-05-03 20:20:34 SELECT * FROM diff_from_parents\u001b[0m\n",
      "\u001b[32m[INFO] 2018-05-03 20:20:34 E:\\07_data\\03_self-plan\\finance_records.db is disconnected.\u001b[0m\n"
     ]
    },
    {
     "data": {
      "text/html": [
       "<div>\n",
       "<style>\n",
       "    .dataframe thead tr:only-child th {\n",
       "        text-align: right;\n",
       "    }\n",
       "\n",
       "    .dataframe thead th {\n",
       "        text-align: left;\n",
       "    }\n",
       "\n",
       "    .dataframe tbody tr th {\n",
       "        vertical-align: top;\n",
       "    }\n",
       "</style>\n",
       "<table border=\"1\" class=\"dataframe\">\n",
       "  <thead>\n",
       "    <tr style=\"text-align: right;\">\n",
       "      <th></th>\n",
       "      <th>date</th>\n",
       "      <th>from_parents</th>\n",
       "      <th>net_asset</th>\n",
       "      <th>diff</th>\n",
       "    </tr>\n",
       "  </thead>\n",
       "  <tbody>\n",
       "    <tr>\n",
       "      <th>0</th>\n",
       "      <td>2017-12</td>\n",
       "      <td>573873.0</td>\n",
       "      <td>540624.00</td>\n",
       "      <td>-33249.00</td>\n",
       "    </tr>\n",
       "    <tr>\n",
       "      <th>1</th>\n",
       "      <td>2018-01</td>\n",
       "      <td>598447.0</td>\n",
       "      <td>551367.00</td>\n",
       "      <td>-47080.00</td>\n",
       "    </tr>\n",
       "    <tr>\n",
       "      <th>2</th>\n",
       "      <td>2018-02</td>\n",
       "      <td>643315.0</td>\n",
       "      <td>587982.00</td>\n",
       "      <td>-55333.00</td>\n",
       "    </tr>\n",
       "    <tr>\n",
       "      <th>3</th>\n",
       "      <td>2018-03</td>\n",
       "      <td>680025.0</td>\n",
       "      <td>629240.94</td>\n",
       "      <td>-50784.06</td>\n",
       "    </tr>\n",
       "    <tr>\n",
       "      <th>4</th>\n",
       "      <td>2018-04</td>\n",
       "      <td>775313.0</td>\n",
       "      <td>726121.26</td>\n",
       "      <td>-49191.74</td>\n",
       "    </tr>\n",
       "  </tbody>\n",
       "</table>\n",
       "</div>"
      ],
      "text/plain": [
       "      date  from_parents  net_asset      diff\n",
       "0  2017-12      573873.0  540624.00 -33249.00\n",
       "1  2018-01      598447.0  551367.00 -47080.00\n",
       "2  2018-02      643315.0  587982.00 -55333.00\n",
       "3  2018-03      680025.0  629240.94 -50784.06\n",
       "4  2018-04      775313.0  726121.26 -49191.74"
      ]
     },
     "execution_count": 13,
     "metadata": {},
     "output_type": "execute_result"
    }
   ],
   "source": [
    "fa.get_diff_from_parents_change()"
   ]
  },
  {
   "cell_type": "code",
   "execution_count": null,
   "metadata": {
    "collapsed": true
   },
   "outputs": [],
   "source": []
  }
 ],
 "metadata": {
  "kernelspec": {
   "display_name": "Python 3",
   "language": "python",
   "name": "python3"
  },
  "language_info": {
   "codemirror_mode": {
    "name": "ipython",
    "version": 3
   },
   "file_extension": ".py",
   "mimetype": "text/x-python",
   "name": "python",
   "nbconvert_exporter": "python",
   "pygments_lexer": "ipython3",
   "version": "3.6.3"
  },
  "toc": {
   "nav_menu": {},
   "number_sections": true,
   "sideBar": true,
   "skip_h1_title": false,
   "title_cell": "Table of Contents",
   "title_sidebar": "Contents",
   "toc_cell": false,
   "toc_position": {},
   "toc_section_display": true,
   "toc_window_display": false
  }
 },
 "nbformat": 4,
 "nbformat_minor": 2
}
