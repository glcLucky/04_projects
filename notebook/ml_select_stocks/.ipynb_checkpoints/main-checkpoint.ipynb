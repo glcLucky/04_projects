{
 "cells": [
  {
   "cell_type": "code",
   "execution_count": 1,
   "metadata": {
    "collapsed": true
   },
   "outputs": [],
   "source": [
    "%load_ext autoreload\n",
    "%autoreload 2\n",
    "import alpha\n",
    "import pandas as pd\n",
    "import devkit.api  as dk\n",
    "import numpy as np\n",
    "import os"
   ]
  },
  {
   "cell_type": "code",
   "execution_count": null,
   "metadata": {
    "collapsed": true
   },
   "outputs": [],
   "source": [
    "# 更新月度原始特征\n",
    "stock_pool = pd.read_csv(r\"E:\\07_data\\02_factor\\temp_data\\zz500.csv\")['wind_code'].tolist()  # zz500\n",
    "start_lst = [str(2006+i) + '-{:0>2}'.format(str(1+j)) + '-01' for i in range(0, 13) for j in range(0, 12)]\n",
    "end_lst = [str(2006+i) + '-{:0>2}'.format(str(1+j)) + '-31' for i in range(0, 13) for j in range(0, 12)]\n",
    "\n",
    "for i in range(len(start_lst)):\n",
    "    df_inds = alpha.api.get_monthly_feats_on_given_period(start_lst[i], end_lst[i], stock_pool)\n",
    "    df_inds.to_csv(r\"E:\\07_data\\02_factor\\datasets\\raw_indicators_by_month\\{}.csv\".format(start_lst[i][:7]), index=0)"
   ]
  },
  {
   "cell_type": "code",
   "execution_count": 7,
   "metadata": {
    "collapsed": true
   },
   "outputs": [],
   "source": [
    "start_lst = [str(2006+i) + '-{:0>2}'.format(str(1+j)) + '-01' for i in range(0, 13) for j in range(0, 12)]\n",
    "end_lst = [str(2006+i) + '-{:0>2}'.format(str(1+j)) + '-31' for i in range(0, 13) for j in range(0, 12)]\n",
    "back_test_point_st = '2018-03'  # 回测时间开始月份\n",
    "back_test_point_end = '2018-03'  # 回测时间结束月份"
   ]
  },
  {
   "cell_type": "code",
   "execution_count": 11,
   "metadata": {},
   "outputs": [
    {
     "name": "stdout",
     "output_type": "stream",
     "text": [
      "训练集开始日期: 2013-01-01\n",
      "训练集结束日期: 2018-01-01\n",
      "测试集日期: 2018-02-01\n"
     ]
    }
   ],
   "source": [
    "back_test_point = dk.date2char(dk.char2datetime(back_test_point_st + '-01') +  dk.timedelta({'months': 0}))[:7]\n",
    "predict_secs_point = dk.date2char(dk.char2datetime(back_test_point + '-01') -  dk.timedelta({'months': 1}))[:7]\n",
    "train_st = dk.date2char(dk.char2datetime(predict_secs_point + '-01')  - dk.timedelta({'months': 61}))[:7] + '-01'\n",
    "DATAID = train_st[:7]\n",
    "start_lst_ix = start_lst.index(train_st)\n",
    "train_st_lst = start_lst[start_lst_ix: start_lst_ix+61]\n",
    "test_st = [start_lst[start_lst_ix+61]]\n",
    "print(\"训练集开始日期:\", train_st_lst[0])\n",
    "print(\"训练集结束日期:\", train_st_lst[-1])\n",
    "print(\"测试集日期:\", test_st[0])\n",
    "df_train_dirty = alpha.api.get_analysis_data(date_list=train_st_lst, dataID=DATAID, type=\"train\")\n",
    "df_test_dirty = alpha.api.get_analysis_data(date_list=test_st, dataID=DATAID, type=\"test\")\n",
    "df_train_clean = alpha.api.preprocess_train_data(df_train_dirty, DATAID)"
   ]
  },
  {
   "cell_type": "code",
   "execution_count": 21,
   "metadata": {},
   "outputs": [
    {
     "name": "stdout",
     "output_type": "stream",
     "text": [
      "E:\\07_data\\02_factor\\datasets\\test_dirty\\label_A\\df_test_2013-01.csv\n",
      "该test的脏数据已存在，无需计算，直接读入\n"
     ]
    }
   ],
   "source": [
    "df_test_dirty = alpha.api.get_analysis_data(date_list=test_st, dataID=DATAID, type=\"test\")\n"
   ]
  },
  {
   "cell_type": "code",
   "execution_count": 22,
   "metadata": {},
   "outputs": [
    {
     "data": {
      "text/plain": [
       "['2018-02-01']"
      ]
     },
     "execution_count": 22,
     "metadata": {},
     "output_type": "execute_result"
    }
   ],
   "source": [
    "test_st"
   ]
  },
  {
   "cell_type": "code",
   "execution_count": null,
   "metadata": {
    "collapsed": true
   },
   "outputs": [],
   "source": [
    "start_lst = [str(2006+i) + '-{:0>2}'.format(str(1+j)) + '-01' for i in range(0, 13) for j in range(0, 12)]\n",
    "end_lst = [str(2006+i) + '-{:0>2}'.format(str(1+j)) + '-31' for i in range(0, 13) for j in range(0, 12)]\n",
    "back_test_point_st = '2012-03'  # 回测时间开始月份\n",
    "back_test_point_end = '2018-03'  # 回测时间结束月份\n",
    "# back_test_point_st 回测时间开始月份\n",
    "# predict_secs_point 预测月份\n",
    "# train_st_lst 训练区间\n",
    "for i in range(0, 1000):  # START_DATE往后12个月\n",
    "    back_test_point = dk.date2char(dk.char2datetime(back_test_point_st + '-01') +  dk.timedelta({'months': i}))[:7]\n",
    "    if back_test_point > back_test_point_end:\n",
    "        break\n",
    "    print(back_test_point)\n",
    "    predict_secs_point = dk.date2char(dk.char2datetime(back_test_point + '-01') -  dk.timedelta({'months': 1}))[:7]\n",
    "    # 训练期 DATAID往后60个月的数据 测试期： DATAID往后第61个月数据\n",
    "    train_st = dk.date2char(dk.char2datetime(predict_secs_point + '-01')  - dk.timedelta({'months': 61}))[:7] + '-01'\n",
    "    DATAID = train_st[:7]\n",
    "    start_lst_ix = start_lst.index(train_st)\n",
    "    train_st_lst = start_lst[start_lst_ix: start_lst_ix+61]\n",
    "    test_st = [start_lst[start_lst_ix+61]]\n",
    "    print(\"训练集开始日期:\", train_st_lst[0])\n",
    "    print(\"训练集结束日期:\", train_st_lst[-1])\n",
    "    print(\"测试集日期:\", test_st[0])\n",
    "    df_train_dirty = alpha.api.get_analysis_data(start_date=train_st_lst, dataID=DATAID, type=\"train\")\n",
    "    df_test_dirty = alpha.api.get_analysis_data(start_date=test_st, dataID=DATAID, type=\"test\")\n",
    "    df_train_clean = alpha.api.preprocess_train_data(df_train_dirty, DATAID)\n",
    "    # 分离特征和标签¶\n",
    "    X_train = df_train_clean.iloc[:, :-1]\n",
    "    y_train = df_train_clean.iloc[:, -1]\n",
    "\n",
    "    #训练xgboost模型\n",
    "    params = {'max_depth': 2, 'eta': 0.05, 'silent': 1, 'objective': 'binary:logistic', 'eval_metric':'auc'}\n",
    "    # num_boost_round必须放在xgb.train语句中 放在params中无效 并且该参数是一个重要参数\n",
    "    bst = alpha.api.XGB_classfier_fit(X_train, y_train, params, DATAID, 200, refit= True)\n",
    "\n",
    "    # 测试集预处理\n",
    "    df_test_clean = alpha.api.preprocess_test_data(df_test_dirty, DATAID, df_train_clean.columns.tolist(), override=True)\n",
    "    X_test = df_test_clean.iloc[:,:-1]\n",
    "    y_test = df_test_clean.iloc[:,-1].to_frame()\n",
    "\n",
    "    # 模型评估-统计视角\n",
    "    y_train_scores = alpha.api.XGB_classfier_predict_prob(bst, X_train)\n",
    "    y_test_scores = alpha.api.XGB_classfier_predict_prob(bst, X_test)\n",
    "    alpha.api.plot_roc_curve(y_train, y_train_scores, \"训练集\", DATAID)\n",
    "    alpha.api.plot_roc_curve(y_test, y_test_scores, \"测试集\", DATAID)\n",
    "\n",
    "    # 模型评估-回测视角\n",
    "    # 根据当前日期(月末)的特征计算选中的股票\n",
    "    NUM = 5\n",
    "    selected_stocks = [] # key为yearmonth value为股票列表 表示在该月份持有的股票\n",
    "    X_now = X_test.copy() # 本月末的特征\n",
    "    X_now['prob'] = alpha.api.XGB_classfier_predict_prob(bst, X_now) # 根据本月末的特征计算出来股票池中每只股票为强势股的概率\n",
    "    X_now = X_now.sort_values(['prob'])\n",
    "    selected_stocks = X_now.iloc[-NUM:, -1].reset_index()['sec_id'].tolist()\n",
    "    yearmonth = dk.date2char(dk.char2datetime(test_st[0]) +  dk.timedelta({'months': 1}))[:7]\n",
    "    alpha.api.backtest_for_mfs(yearmonth, selected_stocks, \"hs300\", \"XGBoost\", \"label_A\")"
   ]
  },
  {
   "cell_type": "code",
   "execution_count": null,
   "metadata": {
    "collapsed": true
   },
   "outputs": [],
   "source": [
    "for i in range(6):\n",
    "    alpha.api.plot_LLJZ('{}-01'.format(str(int(2012 + i))),'{}-12'.format(str(int(2012 + i))))"
   ]
  }
 ],
 "metadata": {
  "kernelspec": {
   "display_name": "Python 3",
   "language": "python",
   "name": "python3"
  },
  "language_info": {
   "codemirror_mode": {
    "name": "ipython",
    "version": 3
   },
   "file_extension": ".py",
   "mimetype": "text/x-python",
   "name": "python",
   "nbconvert_exporter": "python",
   "pygments_lexer": "ipython3",
   "version": "3.6.3"
  },
  "toc": {
   "nav_menu": {},
   "number_sections": true,
   "sideBar": true,
   "skip_h1_title": false,
   "title_cell": "Table of Contents",
   "title_sidebar": "Contents",
   "toc_cell": false,
   "toc_position": {},
   "toc_section_display": true,
   "toc_window_display": false
  },
  "varInspector": {
   "cols": {
    "lenName": 16,
    "lenType": 16,
    "lenVar": 40
   },
   "kernels_config": {
    "python": {
     "delete_cmd_postfix": "",
     "delete_cmd_prefix": "del ",
     "library": "var_list.py",
     "varRefreshCmd": "print(var_dic_list())"
    },
    "r": {
     "delete_cmd_postfix": ") ",
     "delete_cmd_prefix": "rm(",
     "library": "var_list.r",
     "varRefreshCmd": "cat(var_dic_list()) "
    }
   },
   "types_to_exclude": [
    "module",
    "function",
    "builtin_function_or_method",
    "instance",
    "_Feature"
   ],
   "window_display": false
  }
 },
 "nbformat": 4,
 "nbformat_minor": 2
}
