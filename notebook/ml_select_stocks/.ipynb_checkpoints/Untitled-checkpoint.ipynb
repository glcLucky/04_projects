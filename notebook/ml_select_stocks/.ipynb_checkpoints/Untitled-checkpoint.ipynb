{
 "cells": [
  {
   "cell_type": "code",
   "execution_count": 1,
   "metadata": {},
   "outputs": [
    {
     "name": "stdout",
     "output_type": "stream",
     "text": [
      "Populating the interactive namespace from numpy and matplotlib\n"
     ]
    }
   ],
   "source": [
    "%pylab inline\n",
    "%load_ext autoreload\n",
    "%autoreload 2\n",
    "\n",
    "import os\n",
    "import numpy as np\n",
    "import pandas as pd\n",
    "\n",
    "import devkit.api as dk\n",
    "import finkit.api as fk\n",
    "import DataAPI\n",
    "import Factor.api as factor"
   ]
  },
  {
   "cell_type": "markdown",
   "metadata": {},
   "source": [
    "# 获取原始数据集"
   ]
  },
  {
   "cell_type": "code",
   "execution_count": 290,
   "metadata": {
    "collapsed": true
   },
   "outputs": [],
   "source": [
    "df_raw = pd.read_csv(r\"E:\\07_data\\02_factor\\temp_data\\df_raw.csv\", index_col=0)"
   ]
  },
  {
   "cell_type": "markdown",
   "metadata": {},
   "source": [
    "# 删除极端收益率样本 只取收益率介于%5-95%之间的样本"
   ]
  },
  {
   "cell_type": "code",
   "execution_count": 291,
   "metadata": {
    "collapsed": true
   },
   "outputs": [],
   "source": [
    "# 删除极端收益率样本 只取收益率介于%5-95%之间的样本\n",
    "df_lp = df_raw.groupby(['yearmonth']).month_ret.apply(lambda x: x.quantile(0.05)).reset_index().rename(columns={'month_ret': 'lp'})\n",
    "df_up = df_raw.groupby(['yearmonth']).month_ret.apply(lambda x: x.quantile(0.95)).reset_index().rename(columns={'month_ret': 'up'})\n",
    "df_raw = df_raw.merge(df_lp, how='left', on='yearmonth')\n",
    "df_raw = df_raw.merge(df_up, how='left', on='yearmonth')\n",
    "df_raw = df_raw[(df_raw.month_ret > df_raw.lp) & (df_raw.month_ret < df_raw.up)]\n",
    "del df_raw['lp']\n",
    "del df_raw['up']"
   ]
  },
  {
   "cell_type": "markdown",
   "metadata": {},
   "source": [
    "# 获得标签 每月收益率处于同期前30%的为1（强势股） 位于后30%的为0（弱势股"
   ]
  },
  {
   "cell_type": "code",
   "execution_count": 292,
   "metadata": {},
   "outputs": [],
   "source": [
    "df_lp = df_raw.groupby(['yearmonth']).month_ret.apply(lambda x: x.quantile(0.3)).reset_index().rename(columns={'month_ret': 'lp'})\n",
    "df_up = df_raw.groupby(['yearmonth']).month_ret.apply(lambda x: x.quantile(0.7)).reset_index().rename(columns={'month_ret': 'up'})\n",
    "df_raw = df_raw.merge(df_lp, how='left', on='yearmonth')\n",
    "df_raw = df_raw.merge(df_up, how='left', on='yearmonth')\n",
    "for i in df_raw.index:\n",
    "    if df_raw.loc[i, 'month_ret'] < df_raw.loc[i, 'lp']:\n",
    "        df_raw.loc[i, 'good_yn'] = 0\n",
    "    elif df_raw.loc[i, 'month_ret'] > df_raw.loc[i, 'up']:\n",
    "        df_raw.loc[i, 'good_yn'] = 1\n",
    "    else:\n",
    "        df_raw.loc[i, 'good_yn'] = np.nan\n",
    "del df_raw['lp']\n",
    "del df_raw['up']\n",
    "del df_raw['month_ret']\n",
    "df_raw = df_raw[~df_raw.good_yn.isnull()]"
   ]
  },
  {
   "cell_type": "markdown",
   "metadata": {},
   "source": [
    "# 删除缺失过多的特征"
   ]
  },
  {
   "cell_type": "code",
   "execution_count": 293,
   "metadata": {},
   "outputs": [],
   "source": [
    "a = df_raw.isnull().sum() / len(df_raw) < 0.1\n",
    "feats_to_retain = a[a].index\n",
    "df_raw = df_raw[feats_to_retain].dropna()\n",
    "df_raw = df_raw.reset_index()\n",
    "del df_raw['index']\n",
    "del df_raw['date']\n",
    "# del df_raw['sec_id']\n",
    "# del train['group_id']"
   ]
  },
  {
   "cell_type": "code",
   "execution_count": 337,
   "metadata": {
    "collapsed": true
   },
   "outputs": [],
   "source": [
    "X = ['val_pe_deducted_ttm', 'ps_ttm', 'yoy_or', 'yoy_assets',\n",
    "       'debttoassets', 'current', 'quick', 'cashtocurrentdebt', 'turnover_ttm',\n",
    "       'invturn', 'netprofitmargin', 'grossprofitmargin', 'roe_diluted', 'roa',\n",
    "       'vol_180days', 'vol_90days', 'vol_30days', 'vol_5days', 'turn_360days',\n",
    "       'turn_180days', 'turn_90days', 'turn_30days', 'turn_5days',\n",
    "       'rr_180days', 'rr_90days', 'rr_30days', 'rr_5days', 'boll_15',\n",
    "       'boll_30', 'boll_45', 'boll_60', 'boll_100']\n",
    "y = ['sec_id', 'yearmonth','good_yn']\n",
    "# 需要进行行业中性化的特征\n",
    "feats1 = ['val_pe_deducted_ttm', 'ps_ttm', 'yoy_or', 'yoy_assets',\n",
    "       'debttoassets', 'current', 'quick', 'cashtocurrentdebt', 'turnover_ttm',\n",
    "       'invturn', 'netprofitmargin', 'grossprofitmargin', 'roe_diluted', 'roa']\n",
    "# 普通标准化的特征\n",
    "feats2 = list(set(X) - set(feats1))\n",
    "df_target = df_raw[y]"
   ]
  },
  {
   "cell_type": "markdown",
   "metadata": {},
   "source": [
    "########################下面的步骤不影响特征个数和样本个数 如需变动 请在上面更改########################\n"
   ]
  },
  {
   "cell_type": "markdown",
   "metadata": {},
   "source": [
    "# 行业中性化"
   ]
  },
  {
   "cell_type": "code",
   "execution_count": 338,
   "metadata": {},
   "outputs": [],
   "source": [
    "industry = pd.read_csv(r\"E:\\07_data\\02_factor\\temp_data\\industry_sw.csv\")\n",
    "df_raw = df_raw.merge(industry, how='left', on=['sec_id'])"
   ]
  },
  {
   "cell_type": "code",
   "execution_count": 339,
   "metadata": {},
   "outputs": [],
   "source": [
    "df_feats1 = df_raw[['sec_id', 'yearmonth', 'industry_sw']+(feats1)]"
   ]
  },
  {
   "cell_type": "code",
   "execution_count": 340,
   "metadata": {},
   "outputs": [],
   "source": [
    "industry_mean = df_feats1.groupby(['yearmonth', 'industry_sw']).mean().reset_index()\n",
    "new_names = ['yearmonth', 'industry_sw'] + [i + '_mean' for i in feats1]\n",
    "industry_mean.columns = new_names\n",
    "industry_mean = industry_mean.dropna()\n",
    "\n",
    "industry_std = df_feats1.groupby(['yearmonth', 'industry_sw']).std().reset_index()\n",
    "new_names = ['yearmonth', 'industry_sw'] + [i + '_std' for i in feats1]\n",
    "industry_std.columns = new_names\n",
    "industry_std = industry_std.dropna()\n"
   ]
  },
  {
   "cell_type": "code",
   "execution_count": 341,
   "metadata": {},
   "outputs": [],
   "source": [
    "df_feats1 = df_feats1.merge(industry_mean, how='inner', on=['yearmonth', 'industry_sw'])\n",
    "df_feats1 = df_feats1.merge(industry_std, how='inner', on=['yearmonth', 'industry_sw'])\n",
    "df_feats1 = df_feats1.replace(0, np.nan)\n",
    "df_feats1 = df_feats1.dropna()"
   ]
  },
  {
   "cell_type": "code",
   "execution_count": 342,
   "metadata": {},
   "outputs": [],
   "source": [
    "for i in df_feats1.index:\n",
    "    for j in feats1:\n",
    "        df_feats1.loc[i, j] = (df_feats1.loc[i, j] - df_feats1.loc[i, j + '_mean']) / df_feats1.loc[i, j + '_std']\n",
    "del df_feats1['industry_sw']\n",
    "df_feats1 = df_feats1[['sec_id', 'yearmonth'] + feats1]"
   ]
  },
  {
   "cell_type": "markdown",
   "metadata": {},
   "source": [
    "# 统计标准化"
   ]
  },
  {
   "cell_type": "code",
   "execution_count": 343,
   "metadata": {},
   "outputs": [],
   "source": [
    "df_feats2 = df_raw[['sec_id', 'yearmonth']+(feats2)].set_index(['sec_id', 'yearmonth'])"
   ]
  },
  {
   "cell_type": "code",
   "execution_count": 344,
   "metadata": {},
   "outputs": [],
   "source": [
    "df_feats2 = (df_feats2 - df_feats2.mean()) / df_feats2.std()"
   ]
  },
  {
   "cell_type": "code",
   "execution_count": 345,
   "metadata": {},
   "outputs": [],
   "source": [
    "df_feats2 = df_feats2.reset_index()"
   ]
  },
  {
   "cell_type": "code",
   "execution_count": 347,
   "metadata": {},
   "outputs": [],
   "source": [
    "df_all = df_feats1.merge(df_feats2, how='inner', on=['sec_id', 'yearmonth'])\n",
    "df_all = df_all.set_index(['sec_id', 'yearmonth'])"
   ]
  },
  {
   "cell_type": "markdown",
   "metadata": {},
   "source": [
    "# iForest剔除极端样本"
   ]
  },
  {
   "cell_type": "code",
   "execution_count": 348,
   "metadata": {
    "collapsed": true
   },
   "outputs": [],
   "source": [
    "from sklearn.ensemble import IsolationForest\n",
    "clf = IsolationForest()\n",
    "clf.fit(df_all)##　训练出一个iForest，iForest为无监督的方法，但是也不能直接对无标记样本集预测，可以先fit无标记样本集，然后在predict\n",
    "y_pred = clf.predict(df_all) # 1：正常值 -1：异常样本\n",
    "df_all['is_outlier'] = y_pred\n",
    "df_all = df_all[df_all.is_outlier==1]\n",
    "del df_all['is_outlier'] \n",
    "df_all = df_all.reset_index()"
   ]
  },
  {
   "cell_type": "code",
   "execution_count": 349,
   "metadata": {},
   "outputs": [],
   "source": [
    "df_all = df_all.merge(df_target, how='inner', on=['sec_id', 'yearmonth'])\n",
    "df_all.to_csv(r\"E:\\07_data\\02_factor\\temp_data\\train_for_class.csv\")"
   ]
  },
  {
   "cell_type": "code",
   "execution_count": 350,
   "metadata": {},
   "outputs": [],
   "source": [
    "del df_all['sec_id']\n",
    "del df_all['yearmonth']"
   ]
  },
  {
   "cell_type": "markdown",
   "metadata": {},
   "source": [
    "# 确定特征向量和目标变量"
   ]
  },
  {
   "cell_type": "code",
   "execution_count": 351,
   "metadata": {},
   "outputs": [],
   "source": [
    "df_all = pd.read_csv(r\"E:\\07_data\\02_factor\\temp_data\\train_for_class.csv\", index_col=0) \n",
    "del df_all['sec_id']\n",
    "del df_all['yearmonth']\n",
    "X = df_all.iloc[:, :-1]\n",
    "y = df_all.iloc[:, -1]"
   ]
  },
  {
   "cell_type": "code",
   "execution_count": 353,
   "metadata": {
    "collapsed": true
   },
   "outputs": [],
   "source": [
    " from sklearn.decomposition import PCA"
   ]
  },
  {
   "cell_type": "code",
   "execution_count": 354,
   "metadata": {
    "collapsed": true
   },
   "outputs": [],
   "source": [
    "pca = PCA()"
   ]
  },
  {
   "cell_type": "code",
   "execution_count": 355,
   "metadata": {},
   "outputs": [
    {
     "data": {
      "text/plain": [
       "PCA(copy=True, iterated_power='auto', n_components=None, random_state=None,\n",
       "  svd_solver='auto', tol=0.0, whiten=False)"
      ]
     },
     "execution_count": 355,
     "metadata": {},
     "output_type": "execute_result"
    }
   ],
   "source": [
    "pca.fit(X)"
   ]
  },
  {
   "cell_type": "code",
   "execution_count": 372,
   "metadata": {},
   "outputs": [
    {
     "name": "stdout",
     "output_type": "stream",
     "text": [
      "前18个主成分可以解释0.9433991757327469的变差\n"
     ]
    }
   ],
   "source": [
    "a = (pca.explained_variance_ratio_.cumsum() <= 0.95).sum()\n",
    "b = pca.explained_variance_ratio_[:a].sum()\n",
    "print(\"前{}个主成分可以解释{}的变差\".format(a, b))"
   ]
  },
  {
   "cell_type": "code",
   "execution_count": 373,
   "metadata": {
    "collapsed": true
   },
   "outputs": [],
   "source": [
    "X_pca = pca.transform(X)[:, :a]"
   ]
  },
  {
   "cell_type": "markdown",
   "metadata": {},
   "source": [
    "# 逻辑回归LR"
   ]
  },
  {
   "cell_type": "code",
   "execution_count": 377,
   "metadata": {
    "collapsed": true
   },
   "outputs": [],
   "source": [
    "from sklearn.tree import DecisionTreeClassifier\n",
    "tree = DecisionTreeClassifier()"
   ]
  },
  {
   "cell_type": "code",
   "execution_count": 309,
   "metadata": {
    "collapsed": true
   },
   "outputs": [],
   "source": [
    "from sklearn.model_selection import cross_val_score"
   ]
  },
  {
   "cell_type": "code",
   "execution_count": 374,
   "metadata": {},
   "outputs": [],
   "source": [
    "lr_cv = cross_val_score(lr, X_pca, y, cv=10)"
   ]
  },
  {
   "cell_type": "code",
   "execution_count": 380,
   "metadata": {
    "collapsed": true
   },
   "outputs": [],
   "source": [
    "tree_cv = cross_val_score(tree, X, y, cv=10)"
   ]
  },
  {
   "cell_type": "code",
   "execution_count": 375,
   "metadata": {},
   "outputs": [
    {
     "data": {
      "text/plain": [
       "0.53391574643288586"
      ]
     },
     "execution_count": 375,
     "metadata": {},
     "output_type": "execute_result"
    }
   ],
   "source": [
    "lr_cv.mean()"
   ]
  },
  {
   "cell_type": "code",
   "execution_count": 381,
   "metadata": {},
   "outputs": [
    {
     "data": {
      "text/plain": [
       "0.50137089443784144"
      ]
     },
     "execution_count": 381,
     "metadata": {},
     "output_type": "execute_result"
    }
   ],
   "source": [
    "tree_cv.mean()"
   ]
  },
  {
   "cell_type": "code",
   "execution_count": null,
   "metadata": {
    "collapsed": true
   },
   "outputs": [],
   "source": []
  }
 ],
 "metadata": {
  "kernelspec": {
   "display_name": "Python 3",
   "language": "python",
   "name": "python3"
  },
  "language_info": {
   "codemirror_mode": {
    "name": "ipython",
    "version": 3
   },
   "file_extension": ".py",
   "mimetype": "text/x-python",
   "name": "python",
   "nbconvert_exporter": "python",
   "pygments_lexer": "ipython3",
   "version": "3.6.3"
  },
  "toc": {
   "nav_menu": {},
   "number_sections": true,
   "sideBar": true,
   "skip_h1_title": false,
   "title_cell": "Table of Contents",
   "title_sidebar": "Contents",
   "toc_cell": false,
   "toc_position": {},
   "toc_section_display": true,
   "toc_window_display": false
  }
 },
 "nbformat": 4,
 "nbformat_minor": 2
}
