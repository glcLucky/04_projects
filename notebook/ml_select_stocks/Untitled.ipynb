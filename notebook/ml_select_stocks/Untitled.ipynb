{
 "cells": [
  {
   "cell_type": "code",
   "execution_count": 1,
   "metadata": {},
   "outputs": [
    {
     "name": "stdout",
     "output_type": "stream",
     "text": [
      "Populating the interactive namespace from numpy and matplotlib\n"
     ]
    }
   ],
   "source": [
    "%pylab inline\n",
    "%load_ext autoreload\n",
    "%autoreload 2\n",
    "\n",
    "import os\n",
    "import numpy as np\n",
    "import pandas as pd\n",
    "\n",
    "import devkit.api as dk\n",
    "import finkit.api as fk\n",
    "import DataAPI\n",
    "import Factor.api as factor"
   ]
  },
  {
   "cell_type": "markdown",
   "metadata": {},
   "source": [
    "# 获取原始数据集"
   ]
  },
  {
   "cell_type": "code",
   "execution_count": 3,
   "metadata": {
    "collapsed": true
   },
   "outputs": [],
   "source": [
    "df_raw = pd.read_csv(r\"E:\\07_data\\02_factor\\temp_data\\df_raw.csv\", index_col=0)"
   ]
  },
  {
   "cell_type": "code",
   "execution_count": 5,
   "metadata": {},
   "outputs": [
    {
     "data": {
      "text/html": [
       "<div>\n",
       "<style>\n",
       "    .dataframe thead tr:only-child th {\n",
       "        text-align: right;\n",
       "    }\n",
       "\n",
       "    .dataframe thead th {\n",
       "        text-align: left;\n",
       "    }\n",
       "\n",
       "    .dataframe tbody tr th {\n",
       "        vertical-align: top;\n",
       "    }\n",
       "</style>\n",
       "<table border=\"1\" class=\"dataframe\">\n",
       "  <thead>\n",
       "    <tr style=\"text-align: right;\">\n",
       "      <th></th>\n",
       "      <th>sec_id</th>\n",
       "      <th>ADJFACTOR</th>\n",
       "      <th>date</th>\n",
       "      <th>AMT</th>\n",
       "      <th>ANNUALSTDEVR_100W</th>\n",
       "      <th>ANNUALYEILD_100W</th>\n",
       "      <th>AVG_TURN_ND</th>\n",
       "      <th>BETA_100W</th>\n",
       "      <th>BIAS</th>\n",
       "      <th>CLOSE</th>\n",
       "      <th>...</th>\n",
       "      <th>OR_TTM2</th>\n",
       "      <th>ROE_TTM3</th>\n",
       "      <th>VAL_EVTOEBITDA2</th>\n",
       "      <th>YOYEPS_BASIC</th>\n",
       "      <th>YOYEPS_DILUTED</th>\n",
       "      <th>YOYOCF</th>\n",
       "      <th>YOYROE</th>\n",
       "      <th>yearmonth</th>\n",
       "      <th>month_ret</th>\n",
       "      <th>group_id</th>\n",
       "    </tr>\n",
       "  </thead>\n",
       "  <tbody>\n",
       "    <tr>\n",
       "      <th>0</th>\n",
       "      <td>000010.SZ</td>\n",
       "      <td>2.693637</td>\n",
       "      <td>2006-01-25</td>\n",
       "      <td>4364675.2</td>\n",
       "      <td>46.843319</td>\n",
       "      <td>-32.9524</td>\n",
       "      <td>2.977181</td>\n",
       "      <td>1.1919</td>\n",
       "      <td>-8.256881</td>\n",
       "      <td>2.70</td>\n",
       "      <td>...</td>\n",
       "      <td>3.080643e+08</td>\n",
       "      <td>NaN</td>\n",
       "      <td>-11.184724</td>\n",
       "      <td>NaN</td>\n",
       "      <td>NaN</td>\n",
       "      <td>-28.7477</td>\n",
       "      <td>-8864.1063</td>\n",
       "      <td>2006-02</td>\n",
       "      <td>0.028571</td>\n",
       "      <td>1</td>\n",
       "    </tr>\n",
       "    <tr>\n",
       "      <th>1</th>\n",
       "      <td>000018.SZ</td>\n",
       "      <td>1.282588</td>\n",
       "      <td>2006-01-25</td>\n",
       "      <td>1358068.6</td>\n",
       "      <td>50.678188</td>\n",
       "      <td>-17.1600</td>\n",
       "      <td>1.720053</td>\n",
       "      <td>1.5987</td>\n",
       "      <td>-6.126687</td>\n",
       "      <td>4.52</td>\n",
       "      <td>...</td>\n",
       "      <td>2.357775e+08</td>\n",
       "      <td>NaN</td>\n",
       "      <td>11.713248</td>\n",
       "      <td>NaN</td>\n",
       "      <td>NaN</td>\n",
       "      <td>-74.4242</td>\n",
       "      <td>-3979.6048</td>\n",
       "      <td>2006-02</td>\n",
       "      <td>0.000000</td>\n",
       "      <td>1</td>\n",
       "    </tr>\n",
       "    <tr>\n",
       "      <th>2</th>\n",
       "      <td>000022.SZ</td>\n",
       "      <td>2.334744</td>\n",
       "      <td>2006-01-25</td>\n",
       "      <td>60551439.6</td>\n",
       "      <td>30.878664</td>\n",
       "      <td>12.8752</td>\n",
       "      <td>5.061361</td>\n",
       "      <td>0.6385</td>\n",
       "      <td>2.768806</td>\n",
       "      <td>14.16</td>\n",
       "      <td>...</td>\n",
       "      <td>1.891717e+09</td>\n",
       "      <td>NaN</td>\n",
       "      <td>11.095338</td>\n",
       "      <td>NaN</td>\n",
       "      <td>NaN</td>\n",
       "      <td>38.1145</td>\n",
       "      <td>10.3858</td>\n",
       "      <td>2006-02</td>\n",
       "      <td>0.000000</td>\n",
       "      <td>1</td>\n",
       "    </tr>\n",
       "  </tbody>\n",
       "</table>\n",
       "<p>3 rows × 56 columns</p>\n",
       "</div>"
      ],
      "text/plain": [
       "      sec_id  ADJFACTOR        date         AMT  ANNUALSTDEVR_100W  \\\n",
       "0  000010.SZ   2.693637  2006-01-25   4364675.2          46.843319   \n",
       "1  000018.SZ   1.282588  2006-01-25   1358068.6          50.678188   \n",
       "2  000022.SZ   2.334744  2006-01-25  60551439.6          30.878664   \n",
       "\n",
       "   ANNUALYEILD_100W  AVG_TURN_ND  BETA_100W      BIAS  CLOSE    ...     \\\n",
       "0          -32.9524     2.977181     1.1919 -8.256881   2.70    ...      \n",
       "1          -17.1600     1.720053     1.5987 -6.126687   4.52    ...      \n",
       "2           12.8752     5.061361     0.6385  2.768806  14.16    ...      \n",
       "\n",
       "        OR_TTM2  ROE_TTM3  VAL_EVTOEBITDA2  YOYEPS_BASIC  YOYEPS_DILUTED  \\\n",
       "0  3.080643e+08       NaN       -11.184724           NaN             NaN   \n",
       "1  2.357775e+08       NaN        11.713248           NaN             NaN   \n",
       "2  1.891717e+09       NaN        11.095338           NaN             NaN   \n",
       "\n",
       "    YOYOCF     YOYROE  yearmonth  month_ret  group_id  \n",
       "0 -28.7477 -8864.1063    2006-02   0.028571         1  \n",
       "1 -74.4242 -3979.6048    2006-02   0.000000         1  \n",
       "2  38.1145    10.3858    2006-02   0.000000         1  \n",
       "\n",
       "[3 rows x 56 columns]"
      ]
     },
     "execution_count": 5,
     "metadata": {},
     "output_type": "execute_result"
    }
   ],
   "source": [
    "df_raw.head(3)"
   ]
  },
  {
   "cell_type": "markdown",
   "metadata": {},
   "source": [
    "# 删除极端收益率样本 只取收益率介于%5-95%之间的样本"
   ]
  },
  {
   "cell_type": "code",
   "execution_count": 6,
   "metadata": {
    "collapsed": true
   },
   "outputs": [],
   "source": [
    "# 删除极端收益率样本 只取收益率介于%5-95%之间的样本\n",
    "df_lp = df_raw.groupby(['yearmonth']).month_ret.apply(lambda x: x.quantile(0.05)).reset_index().rename(columns={'month_ret': 'lp'})\n",
    "df_up = df_raw.groupby(['yearmonth']).month_ret.apply(lambda x: x.quantile(0.95)).reset_index().rename(columns={'month_ret': 'up'})\n",
    "df_raw = df_raw.merge(df_lp, how='left', on='yearmonth')\n",
    "df_raw = df_raw.merge(df_up, how='left', on='yearmonth')\n",
    "df_raw = df_raw[(df_raw.month_ret > df_raw.lp) & (df_raw.month_ret < df_raw.up)]\n",
    "del df_raw['lp']\n",
    "del df_raw['up']"
   ]
  },
  {
   "cell_type": "markdown",
   "metadata": {},
   "source": [
    "# 获得标签 每月收益率处于同期前30%的为1（强势股） 位于后30%的为0（弱势股"
   ]
  },
  {
   "cell_type": "code",
   "execution_count": 7,
   "metadata": {
    "collapsed": true
   },
   "outputs": [],
   "source": [
    "df_lp = df_raw.groupby(['yearmonth']).month_ret.apply(lambda x: x.quantile(0.3)).reset_index().rename(columns={'month_ret': 'lp'})\n",
    "df_up = df_raw.groupby(['yearmonth']).month_ret.apply(lambda x: x.quantile(0.7)).reset_index().rename(columns={'month_ret': 'up'})\n",
    "df_raw = df_raw.merge(df_lp, how='left', on='yearmonth')\n",
    "df_raw = df_raw.merge(df_up, how='left', on='yearmonth')\n",
    "for i in df_raw.index:\n",
    "    if df_raw.loc[i, 'month_ret'] < df_raw.loc[i, 'lp']:\n",
    "        df_raw.loc[i, 'good_yn'] = 0\n",
    "    elif df_raw.loc[i, 'month_ret'] > df_raw.loc[i, 'up']:\n",
    "        df_raw.loc[i, 'good_yn'] = 1\n",
    "    else:\n",
    "        df_raw.loc[i, 'good_yn'] = np.nan\n",
    "del df_raw['lp']\n",
    "del df_raw['up']\n",
    "del df_raw['month_ret']\n",
    "df_raw = df_raw[~df_raw.good_yn.isnull()]"
   ]
  },
  {
   "cell_type": "markdown",
   "metadata": {},
   "source": [
    "# 删除缺失过多的特征"
   ]
  },
  {
   "cell_type": "code",
   "execution_count": 8,
   "metadata": {
    "collapsed": true
   },
   "outputs": [],
   "source": [
    "a = df_raw.isnull().sum() / len(df_raw) < 0.1\n",
    "feats_to_retain = a[a].index\n",
    "df_raw = df_raw[feats_to_retain].dropna()\n",
    "df_raw = df_raw.reset_index()\n",
    "del df_raw['index']\n",
    "del df_raw['date']\n",
    "# del df_raw['sec_id']\n",
    "# del train['group_id']"
   ]
  },
  {
   "cell_type": "code",
   "execution_count": 12,
   "metadata": {},
   "outputs": [
    {
     "data": {
      "text/plain": [
       "Index(['sec_id', 'ADJFACTOR', 'AMT', 'AVG_TURN_ND', 'BIAS', 'CLOSE',\n",
       "       'DOWN_DAYS', 'MKT_CAP_FLOAT', 'PB_LF', 'PCF_OCF_TTM', 'PS_TTM',\n",
       "       'RISK_GAINVARIANCE120', 'RISK_GAINVARIANCE20', 'RISK_GAINVARIANCE60',\n",
       "       'RISK_LOSSVARIANCE120', 'RISK_LOSSVARIANCE20', 'RISK_LOSSVARIANCE60',\n",
       "       'RISK_VARIANCE120', 'RISK_VARIANCE20', 'RISK_VARIANCE60', 'RSI',\n",
       "       'UP_DAYS', 'VOLUME', 'date_available', 'APTURN', 'ARTURN', 'CURRENT',\n",
       "       'DEBTTOASSETS', 'DIVIDENDYIELD2', 'EBIT2_TTM', 'EV2_TO_EBITDA',\n",
       "       'OPTOEBT', 'OR_TTM2', 'VAL_EVTOEBITDA2', 'YOYOCF', 'yearmonth',\n",
       "       'group_id', 'good_yn'],\n",
       "      dtype='object')"
      ]
     },
     "execution_count": 12,
     "metadata": {},
     "output_type": "execute_result"
    }
   ],
   "source": [
    "df_raw.columns"
   ]
  },
  {
   "cell_type": "code",
   "execution_count": 337,
   "metadata": {
    "collapsed": true
   },
   "outputs": [],
   "source": [
    "X = ['val_pe_deducted_ttm', 'ps_ttm', 'yoy_or', 'yoy_assets',\n",
    "       'debttoassets', 'current', 'quick', 'cashtocurrentdebt', 'turnover_ttm',\n",
    "       'invturn', 'netprofitmargin', 'grossprofitmargin', 'roe_diluted', 'roa',\n",
    "       'vol_180days', 'vol_90days', 'vol_30days', 'vol_5days', 'turn_360days',\n",
    "       'turn_180days', 'turn_90days', 'turn_30days', 'turn_5days',\n",
    "       'rr_180days', 'rr_90days', 'rr_30days', 'rr_5days', 'boll_15',\n",
    "       'boll_30', 'boll_45', 'boll_60', 'boll_100']\n",
    "y = ['sec_id', 'yearmonth','good_yn']\n",
    "# 需要进行行业中性化的特征\n",
    "feats1 = ['val_pe_deducted_ttm', 'ps_ttm', 'yoy_or', 'yoy_assets',\n",
    "       'debttoassets', 'current', 'quick', 'cashtocurrentdebt', 'turnover_ttm',\n",
    "       'invturn', 'netprofitmargin', 'grossprofitmargin', 'roe_diluted', 'roa']\n",
    "# 普通标准化的特征\n",
    "feats2 = list(set(X) - set(feats1))\n",
    "df_target = df_raw[y]"
   ]
  },
  {
   "cell_type": "markdown",
   "metadata": {},
   "source": [
    "########################下面的步骤不影响特征个数和样本个数 如需变动 请在上面更改########################\n"
   ]
  },
  {
   "cell_type": "markdown",
   "metadata": {},
   "source": [
    "# 行业中性化"
   ]
  },
  {
   "cell_type": "code",
   "execution_count": 338,
   "metadata": {
    "collapsed": true
   },
   "outputs": [],
   "source": [
    "industry = pd.read_csv(r\"E:\\07_data\\02_factor\\temp_data\\industry_sw.csv\")\n",
    "df_raw = df_raw.merge(industry, how='left', on=['sec_id'])"
   ]
  },
  {
   "cell_type": "code",
   "execution_count": 339,
   "metadata": {
    "collapsed": true
   },
   "outputs": [],
   "source": [
    "df_feats1 = df_raw[['sec_id', 'yearmonth', 'industry_sw']+(feats1)]"
   ]
  },
  {
   "cell_type": "code",
   "execution_count": 340,
   "metadata": {
    "collapsed": true
   },
   "outputs": [],
   "source": [
    "industry_mean = df_feats1.groupby(['yearmonth', 'industry_sw']).mean().reset_index()\n",
    "new_names = ['yearmonth', 'industry_sw'] + [i + '_mean' for i in feats1]\n",
    "industry_mean.columns = new_names\n",
    "industry_mean = industry_mean.dropna()\n",
    "\n",
    "industry_std = df_feats1.groupby(['yearmonth', 'industry_sw']).std().reset_index()\n",
    "new_names = ['yearmonth', 'industry_sw'] + [i + '_std' for i in feats1]\n",
    "industry_std.columns = new_names\n",
    "industry_std = industry_std.dropna()\n"
   ]
  },
  {
   "cell_type": "code",
   "execution_count": 341,
   "metadata": {
    "collapsed": true
   },
   "outputs": [],
   "source": [
    "df_feats1 = df_feats1.merge(industry_mean, how='inner', on=['yearmonth', 'industry_sw'])\n",
    "df_feats1 = df_feats1.merge(industry_std, how='inner', on=['yearmonth', 'industry_sw'])\n",
    "df_feats1 = df_feats1.replace(0, np.nan)\n",
    "df_feats1 = df_feats1.dropna()"
   ]
  },
  {
   "cell_type": "code",
   "execution_count": 342,
   "metadata": {
    "collapsed": true
   },
   "outputs": [],
   "source": [
    "for i in df_feats1.index:\n",
    "    for j in feats1:\n",
    "        df_feats1.loc[i, j] = (df_feats1.loc[i, j] - df_feats1.loc[i, j + '_mean']) / df_feats1.loc[i, j + '_std']\n",
    "del df_feats1['industry_sw']\n",
    "df_feats1 = df_feats1[['sec_id', 'yearmonth'] + feats1]"
   ]
  },
  {
   "cell_type": "markdown",
   "metadata": {},
   "source": [
    "# 统计标准化"
   ]
  },
  {
   "cell_type": "code",
   "execution_count": 343,
   "metadata": {
    "collapsed": true
   },
   "outputs": [],
   "source": [
    "df_feats2 = df_raw[['sec_id', 'yearmonth']+(feats2)].set_index(['sec_id', 'yearmonth'])"
   ]
  },
  {
   "cell_type": "code",
   "execution_count": 344,
   "metadata": {
    "collapsed": true
   },
   "outputs": [],
   "source": [
    "df_feats2 = (df_feats2 - df_feats2.mean()) / df_feats2.std()"
   ]
  },
  {
   "cell_type": "code",
   "execution_count": 345,
   "metadata": {
    "collapsed": true
   },
   "outputs": [],
   "source": [
    "df_feats2 = df_feats2.reset_index()"
   ]
  },
  {
   "cell_type": "code",
   "execution_count": 347,
   "metadata": {
    "collapsed": true
   },
   "outputs": [],
   "source": [
    "df_all = df_feats1.merge(df_feats2, how='inner', on=['sec_id', 'yearmonth'])\n",
    "df_all = df_all.set_index(['sec_id', 'yearmonth'])"
   ]
  },
  {
   "cell_type": "markdown",
   "metadata": {},
   "source": [
    "# iForest剔除极端样本"
   ]
  },
  {
   "cell_type": "code",
   "execution_count": 348,
   "metadata": {
    "collapsed": true
   },
   "outputs": [],
   "source": [
    "from sklearn.ensemble import IsolationForest\n",
    "clf = IsolationForest()\n",
    "clf.fit(df_all)##　训练出一个iForest，iForest为无监督的方法，但是也不能直接对无标记样本集预测，可以先fit无标记样本集，然后在predict\n",
    "y_pred = clf.predict(df_all) # 1：正常值 -1：异常样本\n",
    "df_all['is_outlier'] = y_pred\n",
    "df_all = df_all[df_all.is_outlier==1]\n",
    "del df_all['is_outlier'] \n",
    "df_all = df_all.reset_index()"
   ]
  },
  {
   "cell_type": "code",
   "execution_count": 349,
   "metadata": {
    "collapsed": true
   },
   "outputs": [],
   "source": [
    "df_all = df_all.merge(df_target, how='inner', on=['sec_id', 'yearmonth'])\n",
    "df_all.to_csv(r\"E:\\07_data\\02_factor\\temp_data\\train_for_class.csv\")"
   ]
  },
  {
   "cell_type": "code",
   "execution_count": 2,
   "metadata": {
    "collapsed": true
   },
   "outputs": [],
   "source": [
    "df_all = pd.read_csv(r\"E:\\07_data\\02_factor\\temp_data\\train_for_class.csv\", index_col=0)"
   ]
  },
  {
   "cell_type": "code",
   "execution_count": 4,
   "metadata": {
    "collapsed": true
   },
   "outputs": [],
   "source": [
    "del df_all['sec_id']\n",
    "del df_all['yearmonth']"
   ]
  },
  {
   "cell_type": "markdown",
   "metadata": {},
   "source": [
    "# 确定特征向量和目标变量"
   ]
  },
  {
   "cell_type": "code",
   "execution_count": 5,
   "metadata": {
    "collapsed": true
   },
   "outputs": [],
   "source": [
    "df_all = pd.read_csv(r\"E:\\07_data\\02_factor\\temp_data\\train_for_class.csv\", index_col=0) \n",
    "del df_all['sec_id']\n",
    "del df_all['yearmonth']\n",
    "X = df_all.iloc[:, :-1]\n",
    "y = df_all.iloc[:, -1]"
   ]
  },
  {
   "cell_type": "code",
   "execution_count": 6,
   "metadata": {
    "collapsed": true
   },
   "outputs": [],
   "source": [
    "from sklearn.decomposition import PCA"
   ]
  },
  {
   "cell_type": "code",
   "execution_count": 7,
   "metadata": {
    "collapsed": true
   },
   "outputs": [],
   "source": [
    "pca = PCA()"
   ]
  },
  {
   "cell_type": "code",
   "execution_count": 8,
   "metadata": {},
   "outputs": [
    {
     "data": {
      "text/plain": [
       "PCA(copy=True, iterated_power='auto', n_components=None, random_state=None,\n",
       "  svd_solver='auto', tol=0.0, whiten=False)"
      ]
     },
     "execution_count": 8,
     "metadata": {},
     "output_type": "execute_result"
    }
   ],
   "source": [
    "pca.fit(X)"
   ]
  },
  {
   "cell_type": "code",
   "execution_count": 9,
   "metadata": {},
   "outputs": [
    {
     "name": "stdout",
     "output_type": "stream",
     "text": [
      "前18个主成分可以解释0.9433991757327469的变差\n"
     ]
    }
   ],
   "source": [
    "a = (pca.explained_variance_ratio_.cumsum() <= 0.95).sum()\n",
    "b = pca.explained_variance_ratio_[:a].sum()\n",
    "print(\"前{}个主成分可以解释{}的变差\".format(a, b))"
   ]
  },
  {
   "cell_type": "code",
   "execution_count": 10,
   "metadata": {
    "collapsed": true
   },
   "outputs": [],
   "source": [
    "X_pca = pca.transform(X)[:, :a]"
   ]
  },
  {
   "cell_type": "markdown",
   "metadata": {},
   "source": [
    "##################################################建模部分##################################################"
   ]
  },
  {
   "cell_type": "code",
   "execution_count": 20,
   "metadata": {
    "collapsed": true
   },
   "outputs": [],
   "source": [
    "from sklearn.model_selection import cross_val_score\n",
    "from sklearn.tree import DecisionTreeClassifier\n",
    "from sklearn.svm import SVC\n",
    "from sklearn.linear_model import LogisticRegression\n",
    "from sklearn.datasets i"
   ]
  },
  {
   "cell_type": "code",
   "execution_count": null,
   "metadata": {
    "collapsed": true
   },
   "outputs": [],
   "source": []
  },
  {
   "cell_type": "markdown",
   "metadata": {},
   "source": [
    "# 逻辑回归LR"
   ]
  },
  {
   "cell_type": "code",
   "execution_count": 21,
   "metadata": {
    "collapsed": true
   },
   "outputs": [],
   "source": [
    "lr = LogisticRegression()"
   ]
  },
  {
   "cell_type": "code",
   "execution_count": 22,
   "metadata": {
    "collapsed": true
   },
   "outputs": [],
   "source": [
    "lr_cv = cross_val_score(lr, X_pca, y, cv=10, scoring=\"precision\")"
   ]
  },
  {
   "cell_type": "code",
   "execution_count": 23,
   "metadata": {},
   "outputs": [
    {
     "data": {
      "text/plain": [
       "array([ 0.52667646,  0.53629417,  0.53833049,  0.53889304,  0.51725572,\n",
       "        0.52588556,  0.52021403,  0.57348901,  0.53236308,  0.5286031 ])"
      ]
     },
     "execution_count": 23,
     "metadata": {},
     "output_type": "execute_result"
    }
   ],
   "source": [
    "lr_cv"
   ]
  },
  {
   "cell_type": "code",
   "execution_count": 380,
   "metadata": {
    "collapsed": true
   },
   "outputs": [],
   "source": [
    "tree_cv = cross_val_score(tree, X, y, cv=10)"
   ]
  },
  {
   "cell_type": "code",
   "execution_count": 375,
   "metadata": {},
   "outputs": [
    {
     "data": {
      "text/plain": [
       "0.53391574643288586"
      ]
     },
     "execution_count": 375,
     "metadata": {},
     "output_type": "execute_result"
    }
   ],
   "source": [
    "lr_cv.mean()"
   ]
  },
  {
   "cell_type": "code",
   "execution_count": 381,
   "metadata": {},
   "outputs": [
    {
     "data": {
      "text/plain": [
       "0.50137089443784144"
      ]
     },
     "execution_count": 381,
     "metadata": {},
     "output_type": "execute_result"
    }
   ],
   "source": [
    "tree_cv.mean()"
   ]
  },
  {
   "cell_type": "code",
   "execution_count": 11,
   "metadata": {
    "collapsed": true
   },
   "outputs": [],
   "source": []
  },
  {
   "cell_type": "code",
   "execution_count": 12,
   "metadata": {
    "collapsed": true
   },
   "outputs": [],
   "source": [
    "svc= SVC(kernel='rbf', C=0.1, gamma=0.003)"
   ]
  },
  {
   "cell_type": "code",
   "execution_count": 15,
   "metadata": {
    "collapsed": true
   },
   "outputs": [],
   "source": [
    "svc_cv = cross_val_score(svc, X_pca, y, cv=10)"
   ]
  },
  {
   "cell_type": "code",
   "execution_count": 17,
   "metadata": {},
   "outputs": [
    {
     "data": {
      "text/plain": [
       "array([ 0.53286177,  0.52814618,  0.53020925,  0.52637784,  0.51105217,\n",
       "        0.52519894,  0.50619104,  0.54556178,  0.52875258,  0.52816278])"
      ]
     },
     "execution_count": 17,
     "metadata": {},
     "output_type": "execute_result"
    }
   ],
   "source": [
    "svc_cv"
   ]
  },
  {
   "cell_type": "code",
   "execution_count": null,
   "metadata": {
    "collapsed": true
   },
   "outputs": [],
   "source": []
  }
 ],
 "metadata": {
  "kernelspec": {
   "display_name": "Python 3",
   "language": "python",
   "name": "python3"
  },
  "language_info": {
   "codemirror_mode": {
    "name": "ipython",
    "version": 3
   },
   "file_extension": ".py",
   "mimetype": "text/x-python",
   "name": "python",
   "nbconvert_exporter": "python",
   "pygments_lexer": "ipython3",
   "version": "3.6.3"
  },
  "toc": {
   "nav_menu": {},
   "number_sections": true,
   "sideBar": true,
   "skip_h1_title": false,
   "title_cell": "Table of Contents",
   "title_sidebar": "Contents",
   "toc_cell": false,
   "toc_position": {},
   "toc_section_display": true,
   "toc_window_display": false
  }
 },
 "nbformat": 4,
 "nbformat_minor": 2
}
