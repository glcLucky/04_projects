{
 "cells": [
  {
   "cell_type": "code",
   "execution_count": 28,
   "metadata": {},
   "outputs": [
    {
     "name": "stdout",
     "output_type": "stream",
     "text": [
      "Populating the interactive namespace from numpy and matplotlib\n"
     ]
    }
   ],
   "source": [
    "%pylab inline\n",
    "%load_ext autoreload\n",
    "%autoreload 2\n",
    "\n",
    "import os\n",
    "import numpy as np\n",
    "import pandas as pd\n",
    "\n",
    "import devkit.api as dk\n",
    "import finkit.api as fk\n",
    "import DataAPI\n",
    "import Factor.api as factor"
   ]
  },
  {
   "cell_type": "markdown",
   "metadata": {},
   "source": [
    "# 设置宏观参数"
   ]
  },
  {
   "cell_type": "code",
   "execution_count": 2,
   "metadata": {
    "collapsed": true
   },
   "outputs": [],
   "source": [
    "schema = pd.DataFrame(DataAPI.schema.get_schema(\"indicator\")).T\n",
    "inds_ts = schema[schema.type == '时间序列'].index.tolist()\n",
    "inds_fr = schema[schema.type == '财报数据'].index.tolist()"
   ]
  },
  {
   "cell_type": "code",
   "execution_count": 335,
   "metadata": {
    "collapsed": true
   },
   "outputs": [],
   "source": [
    "trading_days_ts = fk.get_monthly_last_trading_days(start=\"2006-01-01\", end=\"2018-05-31\")\n",
    "trading_days_fr = fk.get_report_days(start=\"2005-01-01\", end=\"2013-12-31\")"
   ]
  },
  {
   "cell_type": "markdown",
   "metadata": {},
   "source": [
    "# 确定股票池"
   ]
  },
  {
   "cell_type": "markdown",
   "metadata": {},
   "source": [
    "## 方案4\n",
    "- 剔除次新股（ipo_listdays<500)\n",
    "- 停牌股（最高价=最低价）\n",
    "- 剔除亏损股票（PE<0)\n",
    "- 按流通市值升序排序， 取中位数介于0.6-0.8之间的股票\n",
    "- 返回各日期入选股票的字典 sec_ids {date: [股票列表]}"
   ]
  },
  {
   "cell_type": "code",
   "execution_count": 80,
   "metadata": {
    "collapsed": true
   },
   "outputs": [],
   "source": [
    "LP = 0.85\n",
    "UP = 0.95\n",
    "NEW_CP = 500\n",
    "def dict2df(ind, trading_days):\n",
    "    df_ind = DataAPI.read.get_secs_indicator_on_multidays(indicator=ind, trading_days=trading_days)\n",
    "    output = pd.DataFrame()\n",
    "    for date in df_ind:\n",
    "        df = df_ind[date]\n",
    "        df['date'] = date\n",
    "        output = output.append(df)\n",
    "    return output\n",
    "mkt_cap_float = dict2df('MKT_CAP_FLOAT', trading_days_ts)\n",
    "ipo_listdays = dict2df('IPO_LISTDAYS', trading_days_ts)\n",
    "low = dict2df('LOW', trading_days_ts)\n",
    "high = dict2df('HIGH', trading_days_ts)\n",
    "pe = dict2df('VAL_PE_DEDUCTED_TTM', trading_days_ts)\n",
    "\n",
    "df_sec_ids = mkt_cap_float.merge(ipo_listdays, how='inner', on=['sec_id', 'date'])\n",
    "df_sec_ids = df_sec_ids.merge(low, how='inner', on=['sec_id', 'date'])\n",
    "df_sec_ids = df_sec_ids.merge(high, how='inner', on=['sec_id', 'date'])\n",
    "df_sec_ids = df_sec_ids.merge(pe, how='inner', on=['sec_id', 'date'])\n",
    "\n",
    "df_sec_ids = df_sec_ids[df_sec_ids.VAL_PE_DEDUCTED_TTM > 0] # 剔除亏损股票\n",
    "df_sec_ids = df_sec_ids[df_sec_ids.HIGH != df_sec_ids.LOW] # 剔除停牌股\n",
    "df_sec_ids = df_sec_ids[df_sec_ids.IPO_LISTDAYS >= NEW_CP] # 剔除次新股\n",
    "\n",
    "a=df_sec_ids.groupby(['date']).MKT_CAP_FLOAT.quantile(LP).to_frame().reset_index().rename(columns={'MKT_CAP_FLOAT': \"size_LP\"})\n",
    "df_sec_ids = df_sec_ids.merge(a, how='inner', on=['date'])\n",
    "a=df_sec_ids.groupby(['date']).MKT_CAP_FLOAT.quantile(UP).to_frame().reset_index().rename(columns={'MKT_CAP_FLOAT': \"size_UP\"})\n",
    "df_sec_ids = df_sec_ids.merge(a, how='inner', on=['date'])\n",
    "\n",
    "df_sec_ids = df_sec_ids[df_sec_ids.MKT_CAP_FLOAT.between(df_sec_ids['size_LP'], df_sec_ids['size_UP'])]\n",
    "\n",
    "sec_ids = {}\n",
    "date_list = list(set(df_sec_ids['date']))\n",
    "for date in date_list:\n",
    "    sec_ids[date] = list(df_sec_ids[df_sec_ids['date'] == date]['sec_id'])"
   ]
  },
  {
   "cell_type": "code",
   "execution_count": 81,
   "metadata": {
    "collapsed": true
   },
   "outputs": [],
   "source": [
    "# 1. 特征\n",
    "schema = pd.DataFrame(DataAPI.schema.get_schema(\"indicator\")).T\n",
    "inds_ts = schema[schema.type == '时间序列'].index.tolist()\n",
    "inds_fr = schema[schema.type == '财报数据'].index.tolist()"
   ]
  },
  {
   "cell_type": "markdown",
   "metadata": {},
   "source": [
    "# 获取指标"
   ]
  },
  {
   "cell_type": "code",
   "execution_count": 82,
   "metadata": {
    "collapsed": true
   },
   "outputs": [],
   "source": [
    "# 时间序列指标\n",
    "df_inds=pd.DataFrame()\n",
    "for ind in inds_ts:\n",
    "    df_ind = pd.DataFrame()\n",
    "    for date in trading_days_ts:   \n",
    "        a = DataAPI.read.get_secs_indicator(indicator=ind, sec_ids=sec_ids[date], date=date).reset_index()\n",
    "        a['date'] = date\n",
    "        df_ind = df_ind.append(a)\n",
    "    if len(df_inds) == 0:\n",
    "        df_inds = df_ind.copy()\n",
    "    else:\n",
    "        df_inds = df_inds.merge(df_ind, how='outer', on=['sec_id', 'date'])"
   ]
  },
  {
   "cell_type": "code",
   "execution_count": 83,
   "metadata": {
    "collapsed": true
   },
   "outputs": [],
   "source": [
    "df_inds['date_available'] = df_inds['date'].apply(lambda x: dk.get_available_report_day(x))"
   ]
  },
  {
   "cell_type": "code",
   "execution_count": 84,
   "metadata": {
    "collapsed": true
   },
   "outputs": [],
   "source": [
    "# 财务报表指标\n",
    "secs_list_temp = list(set(df_inds['sec_id']))  # 由于财报数据取报告日 为了保证所有需要股票都取到 取时间序列指标各月末入选股票的并集\n",
    "df_frs=pd.DataFrame()\n",
    "for ind in inds_fr:\n",
    "    df_fr = pd.DataFrame()\n",
    "    for date in trading_days_fr:\n",
    "        a = DataAPI.read.get_secs_indicator(indicator=ind, sec_ids=secs_list_temp, date=date).reset_index()\n",
    "        a['date'] = date\n",
    "        df_fr = df_fr.append(a)\n",
    "    if len(df_frs) == 0:\n",
    "        df_frs = df_fr.copy()\n",
    "    else:\n",
    "        df_frs = df_frs.merge(df_fr, how='outer', on=['sec_id', 'date'])\n"
   ]
  },
  {
   "cell_type": "code",
   "execution_count": 85,
   "metadata": {
    "collapsed": true
   },
   "outputs": [],
   "source": [
    "df_frs = df_frs.rename(columns={'date': 'date_available'})\n",
    "df_inds = df_inds.merge(df_frs, how='left', on=['sec_id', 'date_available'])"
   ]
  },
  {
   "cell_type": "code",
   "execution_count": 86,
   "metadata": {
    "collapsed": true
   },
   "outputs": [],
   "source": [
    "df_inds.to_csv(r\"E:\\07_data\\02_factor\\temp_data\\featurs.csv\")"
   ]
  },
  {
   "cell_type": "code",
   "execution_count": 341,
   "metadata": {
    "collapsed": true
   },
   "outputs": [],
   "source": [
    "df_feats = pd.read_csv(r\"E:\\07_data\\02_factor\\temp_data\\featurs.csv\", index_col=0)"
   ]
  },
  {
   "cell_type": "code",
   "execution_count": 343,
   "metadata": {
    "collapsed": true
   },
   "outputs": [],
   "source": [
    "# df_feats = pd.read_csv(r\"E:\\07_data\\02_factor\\temp_data\\featurs.csv\", index_col=0)\n",
    "df_feats['yearmonth'] = df_feats['date'].apply(lambda x: dk.date2char(dk.char2datetime(x) +  dk.timedelta({'months': 1}))[:7])"
   ]
  },
  {
   "cell_type": "markdown",
   "metadata": {},
   "source": [
    "# 获取下个月收益率"
   ]
  },
  {
   "cell_type": "code",
   "execution_count": 344,
   "metadata": {
    "collapsed": true
   },
   "outputs": [],
   "source": [
    "def derive_next_month_rr(sec_ids):\n",
    "    \"\"\"\n",
    "    获取给定股票列表在给定日期列表的下个月收益率\n",
    "    @sec_ids <list>: 股票列表\n",
    "    \"\"\"\n",
    "    # 取月初月末的交易日列表\n",
    "    tds = pd.read_csv(r\"E:\\07_data\\02_factor\\temp_data\\trading_days.csv\")\n",
    "    tds['group'] = tds['date'].apply(lambda x: x[:7])\n",
    "    tds = tds.sort_values(['date'])\n",
    "    first = tds.groupby('group').head(1)\n",
    "    last = tds.groupby('group').tail(1)\n",
    "    tds=first.append(last)\n",
    "    tds = tds.sort_values('date')\n",
    "\n",
    "    # 获取月初月末交易日的收盘价\n",
    "    close = factor.get_secs_index(index=\"close\", trading_days=tds.date.tolist(), sec_ids=sec_ids)\n",
    "    close = close.sort_values(['sec_id', 'date'])\n",
    "    close['yearmonth'] = close['date'].apply(lambda x: x[:7])\n",
    "\n",
    "    # 获取月收益率\n",
    "    def cal_ret(x):\n",
    "        close_id = x.columns.tolist().index('close')\n",
    "        return x.iloc[-1, close_id]/x.iloc[0, close_id] - 1\n",
    "    df_target=close.groupby(['sec_id', 'yearmonth'], as_index=False).apply(lambda x: cal_ret(x))\n",
    "    df_target=df_target.reset_index().rename(columns={0: 'month_ret'})\n",
    "    return df_target\n",
    "\n",
    "df_target = derive_next_month_rr(list(set(df_feats['sec_id'])))"
   ]
  },
  {
   "cell_type": "markdown",
   "metadata": {
    "collapsed": true
   },
   "source": [
    "# 合成原始数据集并写入外部文件"
   ]
  },
  {
   "cell_type": "code",
   "execution_count": 90,
   "metadata": {
    "collapsed": true
   },
   "outputs": [],
   "source": [
    "df_raw=df_feats.merge(df_target, how='inner', on=['sec_id', 'yearmonth'])\n",
    "yearmonth = sorted(list(set(df_raw.yearmonth)))\n",
    "group_id = pd.DataFrame(yearmonth, columns=['yearmonth'], index=range(1, len(yearmonth)+1))\n",
    "group_id = group_id.sort_values(['yearmonth'])\n",
    "group_id = group_id.reset_index().rename(columns={'index': 'group_id'})\n",
    "df_raw = df_raw.merge(group_id, how='left', on=['yearmonth'])\n",
    "# del df_raw['date']\n",
    "# del df_raw['sec_id']\n",
    "# del df_raw['yearmonth']\n",
    "df_raw.to_csv(r\"E:\\07_data\\02_factor\\temp_data\\df_train_plan4.csv\")"
   ]
  },
  {
   "cell_type": "markdown",
   "metadata": {},
   "source": [
    "# 从外部文件读入数据集\n",
    "- 读入特征集（包含训练集和测试集）\n",
    "- 剔除缺失比例过大的特征\n",
    "- 然后剔除有缺失值的样本"
   ]
  },
  {
   "cell_type": "code",
   "execution_count": 256,
   "metadata": {
    "collapsed": true
   },
   "outputs": [],
   "source": [
    "df_raw = pd.read_csv(r\"E:\\07_data\\02_factor\\temp_data\\df_train_plan4.csv\", index_col=0)\n",
    "def drop_overmissing_feats(dsi, threshold):\n",
    "    \"\"\"\n",
    "    删除缺失过多的特征  然后剔除有缺失值的样本\n",
    "    \"\"\"\n",
    "    a = dsi.isnull().sum() / len(dsi) < threshold\n",
    "    feats_to_retain = a[a].index\n",
    "    dsi = dsi[feats_to_retain].dropna()\n",
    "    dsi = dsi.reset_index()\n",
    "    del dsi['index']\n",
    "    return dsi\n",
    "    # del df_raw['sec_id']\n",
    "    # del train['group_id']\n",
    "df_raw = drop_overmissing_feats(df_raw, 0.1)"
   ]
  },
  {
   "cell_type": "markdown",
   "metadata": {},
   "source": [
    "# 划分数据集"
   ]
  },
  {
   "cell_type": "code",
   "execution_count": 257,
   "metadata": {},
   "outputs": [],
   "source": [
    "train_period = fk.get_monthly_last_trading_days(start=\"2006-01-01\", end=\"2013-12-31\")\n",
    "test_period = fk.get_monthly_last_trading_days(start=\"2014-01-01\", end=\"2018-05-31\")\n",
    "df_train = df_raw[df_raw.date.isin(train_period)].copy()\n",
    "df_test = df_raw[df_raw.date.isin(test_period)].copy()"
   ]
  },
  {
   "cell_type": "markdown",
   "metadata": {},
   "source": [
    "# 训练数据"
   ]
  },
  {
   "cell_type": "markdown",
   "metadata": {},
   "source": [
    "## 删除极端收益率样本 只取收益率介于%5-95%之间的样本"
   ]
  },
  {
   "cell_type": "code",
   "execution_count": 258,
   "metadata": {},
   "outputs": [],
   "source": [
    "def remove_outliers(dsi, lp, up):\n",
    "    \"\"\"\n",
    "    删除极端收益率样本 只取收益率介于lp-up 之间的样本\n",
    "    \"\"\"\n",
    "    print(\"删除前样本个数:\", dsi.shape[0])\n",
    "    df_lp = dsi.groupby(['yearmonth']).month_ret.apply(lambda x: x.quantile(0.05)).reset_index().rename(columns={'month_ret': 'lp'})\n",
    "    df_up = dsi.groupby(['yearmonth']).month_ret.apply(lambda x: x.quantile(0.95)).reset_index().rename(columns={'month_ret': 'up'})\n",
    "    dsi = dsi.merge(df_lp, how='left', on='yearmonth')\n",
    "    dsi = dsi.merge(df_up, how='left', on='yearmonth')\n",
    "    dsi = dsi[(dsi.month_ret > dsi.lp) & (dsi.month_ret < dsi.up)]\n",
    "    del dsi['lp']\n",
    "    del dsi['up']\n",
    "    print(\"删除后样本个数:\", dsi.shape[0])\n",
    "    return dsi"
   ]
  },
  {
   "cell_type": "markdown",
   "metadata": {},
   "source": [
    "## 获得标签"
   ]
  },
  {
   "cell_type": "markdown",
   "metadata": {},
   "source": [
    "### 方案1  每月收益率处于同期前30%的为1（强势股） 位于后30%的为0（弱势股）"
   ]
  },
  {
   "cell_type": "code",
   "execution_count": 250,
   "metadata": {
    "collapsed": true
   },
   "outputs": [],
   "source": [
    "# 方案1 label_A 分位数法  \n",
    "def derive_label_A(dsi, lp, up):\n",
    "    \"\"\"\n",
    "    根据给定的数据集dsi计算标签\n",
    "    @up <int>: 上限 大于此值为强势股 记为1\n",
    "    @lp <int>: 下限 小于于此值为弱势股 记为0\n",
    "    \"\"\"\n",
    "    df_lp = dsi.groupby(['yearmonth']).month_ret.apply(lambda x: x.quantile(lp)).reset_index().rename(columns={'month_ret': 'lp'})\n",
    "    df_up = dsi.groupby(['yearmonth']).month_ret.apply(lambda x: x.quantile(up)).reset_index().rename(columns={'month_ret': 'up'})\n",
    "    dsi = dsi.merge(df_lp, how='left', on='yearmonth')\n",
    "    dsi = dsi.merge(df_up, how='left', on='yearmonth')\n",
    "    for i in dsi.index:\n",
    "        if dsi.loc[i, 'month_ret'] < dsi.loc[i, 'lp']:\n",
    "            dsi.loc[i, 'good_yn'] = 0\n",
    "        elif dsi.loc[i, 'month_ret'] > dsi.loc[i, 'up']:\n",
    "            dsi.loc[i, 'good_yn'] = 1\n",
    "        else:\n",
    "            dsi.loc[i, 'good_yn'] = np.nan\n",
    "    del dsi['lp']\n",
    "    del dsi['up']\n",
    "    del dsi['month_ret']\n",
    "    dsi = dsi[~dsi.good_yn.isnull()]\n",
    "    return dsi"
   ]
  },
  {
   "cell_type": "markdown",
   "metadata": {},
   "source": [
    "### 方案2  次月收益率>0 为1 否则为0"
   ]
  },
  {
   "cell_type": "code",
   "execution_count": 259,
   "metadata": {
    "collapsed": true
   },
   "outputs": [],
   "source": [
    "# 方案2 label_B 绝对收益法   \n",
    "def derive_label_B(dsi):\n",
    "    \"\"\"\n",
    "    根据给定的数据集dsi计算标签\n",
    "    \"\"\"\n",
    "    dsi['good_yn'] = (dsi['month_ret'] > 0) * 1\n",
    "\n",
    "    del dsi['month_ret']\n",
    "    dsi = dsi[~dsi.good_yn.isnull()]\n",
    "    return dsi"
   ]
  },
  {
   "cell_type": "code",
   "execution_count": 262,
   "metadata": {
    "collapsed": true
   },
   "outputs": [],
   "source": [
    "from functools import partial\n",
    "derive_label = {\"A\": partial(derive_label_A, lp=0.3, up=0.7), \"B\": derive_label_B}"
   ]
  },
  {
   "cell_type": "code",
   "execution_count": 268,
   "metadata": {},
   "outputs": [
    {
     "name": "stdout",
     "output_type": "stream",
     "text": [
      "删除前样本个数: 9942\n",
      "删除后样本个数: 8844\n"
     ]
    }
   ],
   "source": [
    "def preprocessing(dsi, lp, up, label_kind):\n",
    "    \"\"\"\n",
    "    对数据进行预处理 包括：移除首尾值 计算标记 删除缺失过多的特征 删除有缺失值的样本\n",
    "    @dsi\n",
    "    @lp <float>: 去首尾值的下限 \n",
    "    @up <float>: 去首尾值的上限 \n",
    "    \"\"\"\n",
    "    df_temp = remove_outliers(dsi, lp, up)\n",
    "    df_temp = derive_label[label_kind](df_temp)\n",
    "    return df_temp\n",
    "df_train1 = preprocessing(dsi=df_train, lp=0.05, up=0.95, label_kind=\"B\")"
   ]
  },
  {
   "cell_type": "markdown",
   "metadata": {},
   "source": [
    "## 删除不需要的临时变量"
   ]
  },
  {
   "cell_type": "code",
   "execution_count": 270,
   "metadata": {
    "collapsed": true
   },
   "outputs": [],
   "source": [
    "droplist = ['sec_id', 'yearmonth', 'group_id', 'date', 'CLOSE', 'date_available']\n",
    "df_train1 = df_train1.drop(droplist, axis=1)"
   ]
  },
  {
   "cell_type": "markdown",
   "metadata": {},
   "source": [
    "## 统计标准化"
   ]
  },
  {
   "cell_type": "code",
   "execution_count": 271,
   "metadata": {
    "collapsed": true
   },
   "outputs": [],
   "source": [
    "df_train1.iloc[:,:-1] = (df_train1.iloc[:,:-1] - df_train1.iloc[:,:-1].mean()) / df_train1.iloc[:,:-1].std()"
   ]
  },
  {
   "cell_type": "markdown",
   "metadata": {},
   "source": [
    "## 分离特征和标签"
   ]
  },
  {
   "cell_type": "code",
   "execution_count": 272,
   "metadata": {
    "collapsed": true
   },
   "outputs": [],
   "source": [
    "X_train = df_train1.iloc[:, :-1]\n",
    "y_train = df_train1.iloc[:, -1]"
   ]
  },
  {
   "cell_type": "markdown",
   "metadata": {},
   "source": [
    "## PCA"
   ]
  },
  {
   "cell_type": "code",
   "execution_count": 204,
   "metadata": {},
   "outputs": [
    {
     "name": "stdout",
     "output_type": "stream",
     "text": [
      "前22个主成分可以解释0.9483373781500275的变差\n"
     ]
    }
   ],
   "source": [
    "from sklearn.decomposition import PCA\n",
    "pca = PCA()\n",
    "pca.fit(X_train)\n",
    "a = (pca.explained_variance_ratio_.cumsum() <= 0.95).sum()\n",
    "b = pca.explained_variance_ratio_[:a].sum()\n",
    "print(\"前{}个主成分可以解释{}的变差\".format(a, b))\n",
    "X_train_pca = pca.transform(X_train)[:, :a]"
   ]
  },
  {
   "cell_type": "code",
   "execution_count": 31,
   "metadata": {
    "collapsed": true
   },
   "outputs": [],
   "source": [
    "from sklearn.model_selection import cross_val_score\n",
    "from sklearn.tree import DecisionTreeClassifier\n",
    "from sklearn.svm import SVC\n",
    "from sklearn.linear_model import LogisticRegression\n",
    "from sklearn.ensemble import AdaBoostClassifier\n",
    "from sklearn.externals import joblib"
   ]
  },
  {
   "cell_type": "markdown",
   "metadata": {},
   "source": [
    "## 建立逻辑回归"
   ]
  },
  {
   "cell_type": "code",
   "execution_count": 273,
   "metadata": {},
   "outputs": [
    {
     "name": "stdout",
     "output_type": "stream",
     "text": [
      "不PCA逻辑回归\n",
      " [ 0.52768362  0.32429379  0.40903955  0.58644068  0.51638418  0.48303167\n",
      "  0.48303167  0.53393665  0.53733032  0.55719139] \n",
      " 0.495836351763\n"
     ]
    }
   ],
   "source": [
    "lr = LogisticRegression()\n",
    "lr_cv = cross_val_score(lr, X_train, y_train, cv=10, scoring=\"accuracy\")\n",
    "print(\"不PCA逻辑回归\\n\", lr_cv,\"\\n\" ,lr_cv.mean())"
   ]
  },
  {
   "cell_type": "code",
   "execution_count": 233,
   "metadata": {},
   "outputs": [
    {
     "data": {
      "text/plain": [
       "['E:\\\\07_data\\\\02_factor\\\\temp_data\\\\model\\\\lr_no_pca.pkl']"
      ]
     },
     "execution_count": 233,
     "metadata": {},
     "output_type": "execute_result"
    }
   ],
   "source": [
    "lr = LogisticRegression()\n",
    "lr.fit(X_train, y_train)\n",
    "joblib.dump(lr, r\"E:\\07_data\\02_factor\\temp_data\\model\\lr_no_pca.pkl\")"
   ]
  },
  {
   "cell_type": "code",
   "execution_count": 174,
   "metadata": {},
   "outputs": [
    {
     "name": "stdout",
     "output_type": "stream",
     "text": [
      "PCA逻辑回归\n",
      " [ 0.6960452   0.67570621  0.69265537  0.6960452   0.6960452   0.69265537\n",
      "  0.69683258  0.69683258  0.69648924  0.69648924] \n",
      " 0.693579618319\n"
     ]
    }
   ],
   "source": [
    "lr = LogisticRegression()\n",
    "lr_cv = cross_val_score(lr, X_train_pca, y_train, cv=10, scoring=\"accuracy\")\n",
    "print(\"PCA逻辑回归\\n\", lr_cv,\"\\n\" ,lr_cv.mean())"
   ]
  },
  {
   "cell_type": "markdown",
   "metadata": {},
   "source": [
    "## SVM"
   ]
  },
  {
   "cell_type": "code",
   "execution_count": 274,
   "metadata": {},
   "outputs": [
    {
     "name": "stdout",
     "output_type": "stream",
     "text": [
      "no-PCA-SVM\n",
      " [ 0.40451977  0.33333333  0.56158192  0.61129944  0.53672316  0.5158371\n",
      "  0.53280543  0.52149321  0.53506787  0.52887882] \n",
      " 0.508154006923\n"
     ]
    }
   ],
   "source": [
    "svc= SVC(kernel='rbf', C=0.1, gamma=0.003)\n",
    "svc_cv = cross_val_score(svc, X_train, y_train, cv=10)\n",
    "print(\"no-PCA-SVM\\n\", svc_cv,\"\\n\" ,svc_cv.mean())"
   ]
  },
  {
   "cell_type": "code",
   "execution_count": 275,
   "metadata": {},
   "outputs": [
    {
     "data": {
      "text/plain": [
       "['E:\\\\07_data\\\\02_factor\\\\temp_data\\\\model\\\\svc_no_pca.pkl']"
      ]
     },
     "execution_count": 275,
     "metadata": {},
     "output_type": "execute_result"
    }
   ],
   "source": [
    "svc= SVC(kernel='rbf', C=0.1, gamma=0.003)\n",
    "svc.fit(X_train, y_train)\n",
    "joblib.dump(svc, r\"E:\\07_data\\02_factor\\temp_data\\model\\svc_no_pca.pkl\")"
   ]
  },
  {
   "cell_type": "code",
   "execution_count": 127,
   "metadata": {},
   "outputs": [
    {
     "name": "stdout",
     "output_type": "stream",
     "text": [
      "PCA-SVM\n",
      " [ 0.69024045  0.69024045  0.69024045  0.69024045  0.69024045  0.6898017\n",
      "  0.6898017   0.6898017   0.69078014  0.69078014] \n",
      " 0.690216764592\n"
     ]
    }
   ],
   "source": [
    "svc= SVC(kernel='rbf', C=0.1, gamma=0.003)\n",
    "svc_cv = cross_val_score(svc, X_train_pca, y_train, cv=10)\n",
    "print(\"PCA-AdaBoost\\n\", svc_cv,\"\\n\" ,svc_cv.mean())"
   ]
  },
  {
   "cell_type": "markdown",
   "metadata": {},
   "source": [
    "## AdaBoost"
   ]
  },
  {
   "cell_type": "code",
   "execution_count": 128,
   "metadata": {},
   "outputs": [
    {
     "name": "stdout",
     "output_type": "stream",
     "text": [
      "no-PCA-AdaBoost\n",
      " [ 0.67326733  0.64497878  0.69306931  0.69024045  0.69306931  0.68555241\n",
      "  0.67988669  0.66430595  0.67659574  0.67234043] \n",
      " 0.677330638951\n"
     ]
    }
   ],
   "source": [
    "ada_clf = AdaBoostClassifier(\n",
    "DecisionTreeClassifier(max_depth=1), n_estimators=200,\n",
    "algorithm=\"SAMME.R\", learning_rate=0.5\n",
    ")\n",
    "ada_cv = cross_val_score(ada_clf, X_train, y_train, cv=10)\n",
    "print(\"no-PCA-AdaBoost\\n\", ada_cv,\"\\n\" ,ada_cv.mean())"
   ]
  },
  {
   "cell_type": "markdown",
   "metadata": {},
   "source": [
    "## Random Forest"
   ]
  },
  {
   "cell_type": "code",
   "execution_count": 182,
   "metadata": {},
   "outputs": [
    {
     "name": "stdout",
     "output_type": "stream",
     "text": [
      "no-PCA-RF\n",
      " [ 0.6960452   0.6960452   0.6960452   0.6960452   0.6960452   0.6960452\n",
      "  0.69570136  0.69570136  0.69648924  0.69648924] \n",
      " 0.696065238382\n"
     ]
    }
   ],
   "source": [
    "from sklearn.ensemble import RandomForestClassifier\n",
    "rf_clf = RandomForestClassifier(n_estimators=500, max_leaf_nodes=16, n_jobs=-1)\n",
    "rf_cv = cross_val_score(rf_clf, X_train, y_train, cv=10)\n",
    "print(\"no-PCA-RF\\n\", rf_cv,\"\\n\" ,rf_cv.mean())"
   ]
  },
  {
   "cell_type": "markdown",
   "metadata": {},
   "source": [
    "## XGBoost"
   ]
  },
  {
   "cell_type": "code",
   "execution_count": 131,
   "metadata": {},
   "outputs": [
    {
     "name": "stdout",
     "output_type": "stream",
     "text": [
      "no-PCA-AdaBoost\n",
      " [ 0.68599717  0.66619519  0.68882603  0.69306931  0.6874116   0.68555241\n",
      "  0.68130312  0.68555241  0.68794326  0.6822695 ] \n",
      " 0.684411999076\n"
     ]
    }
   ],
   "source": [
    "from xgboost import XGBClassifier\n",
    "xgb_clf = XGBClassifier()\n",
    "xgb_clf_cv = cross_val_score(xgb_clf, X_train, y_train, cv=10)\n",
    "print(\"no-PCA-XGB\\n\", xgb_clf_cv,\"\\n\" ,xgb_clf_cv.mean())"
   ]
  },
  {
   "cell_type": "markdown",
   "metadata": {},
   "source": [
    "# 模型测试\n",
    "- 查准率=0.5并不等价于随机猜测 假设一共有N只股票 从中抽取n只，有k只强势股\n",
    "- 查准率等于0.5 意味着选出的n只股票中 有n/2只是强势股票 \n",
    "- 在随机猜测情况下，任取一只股票，要么为强势股 要么为弱势股 猜对的概率为0.5，则n次猜测猜对的次数服从二项分布B(n,0.5) 可知当n足够大时，猜对次数大于等于一半的概率接近0.5"
   ]
  },
  {
   "cell_type": "code",
   "execution_count": 22,
   "metadata": {},
   "outputs": [
    {
     "data": {
      "text/plain": [
       "0.49910793927939112"
      ]
     },
     "execution_count": 22,
     "metadata": {},
     "output_type": "execute_result"
    }
   ],
   "source": [
    "from scipy import stats\n",
    "a = stats.binom(200000, 0.5)\n",
    "1 - a.cdf(x=100000)"
   ]
  },
  {
   "cell_type": "markdown",
   "metadata": {},
   "source": [
    "## 测试集预处理"
   ]
  },
  {
   "cell_type": "code",
   "execution_count": 212,
   "metadata": {},
   "outputs": [
    {
     "name": "stdout",
     "output_type": "stream",
     "text": [
      "删除前样本个数: 8602\n",
      "删除后样本个数: 7506\n"
     ]
    }
   ],
   "source": [
    "df_test1 = preprocessing(dsi=df_test, lp=0.05, up=0.95, label_kind=\"A\")\n",
    "df_test2 = df_test1.set_index(['sec_id', 'date'])\n",
    "droplist = ['yearmonth', 'group_id','CLOSE', 'date_available']\n",
    "df_test3 = df_test2.drop(droplist, axis=1)\n",
    "df_test3.iloc[:,:-1] = (df_test3.iloc[:,:-1] - df_test3.iloc[:,:-1].mean()) / df_test3.iloc[:,:-1].std()\n",
    "X_test = df_test3.iloc[:,:-1]\n",
    "y_test = df_test3.iloc[:,-1].to_frame()"
   ]
  },
  {
   "cell_type": "markdown",
   "metadata": {},
   "source": [
    "## 统计指标"
   ]
  },
  {
   "cell_type": "markdown",
   "metadata": {},
   "source": [
    "### 导入模型"
   ]
  },
  {
   "cell_type": "code",
   "execution_count": 276,
   "metadata": {
    "collapsed": true
   },
   "outputs": [],
   "source": [
    "svc = joblib.load(r\"E:\\07_data\\02_factor\\temp_data\\model\\svc_no_pca.pkl\")"
   ]
  },
  {
   "cell_type": "markdown",
   "metadata": {},
   "source": [
    "### P-R曲线确定决策阈值"
   ]
  },
  {
   "cell_type": "code",
   "execution_count": 277,
   "metadata": {},
   "outputs": [
    {
     "data": {
      "image/png": "[encoded data removed]",
      "text/plain": [
       "<matplotlib.figure.Figure at 0x24727a88400>"
      ]
     },
     "metadata": {},
     "output_type": "display_data"
    }
   ],
   "source": [
    "from sklearn.metrics import precision_score, recall_score\n",
    "from sklearn.model_selection import cross_val_predict\n",
    "y_scores = cross_val_predict(svc, X_train, y_train, cv=10, method=\"decision_function\")\n",
    "from sklearn.metrics import precision_recall_curve\n",
    "precisions, recalls, thresholds = precision_recall_curve(y_train, y_scores)\n",
    "def plot_precision_recall_vs_threshold(precisions, recalls, thresholds):\n",
    "    plt.plot(thresholds, precisions[:-1], \"b--\", label=\"Precision\")\n",
    "    plt.plot(thresholds, recalls[:-1], \"g-\", label=\"Recall\")\n",
    "    plt.xlabel(\"Threshold\")\n",
    "    plt.legend(loc=\"upper left\")\n",
    "    plt.ylim([0, 1])\n",
    "plot_precision_recall_vs_threshold(precisions, recalls, thresholds)\n",
    "plt.show()"
   ]
  },
  {
   "cell_type": "code",
   "execution_count": 155,
   "metadata": {},
   "outputs": [
    {
     "name": "stdout",
     "output_type": "stream",
     "text": [
      "Best threshold= 0.350301781751\n",
      "最佳阈值下的precision=0.5300056085249579 recall=0.35553047404063204\n"
     ]
    }
   ],
   "source": [
    "# 根据业务要求确定最佳决策阈值\n",
    "ix, iv = False, False\n",
    "for i, v in enumerate(precisions):\n",
    "    if v > 0.53:\n",
    "        if not ix:\n",
    "            ix = i\n",
    "            iv = v\n",
    "        elif v < iv:\n",
    "            ix = i\n",
    "            iv = v\n",
    "best_threshold = thresholds[ix]\n",
    "print(\"Best threshold=\", best_threshold)\n",
    "print(\"最佳阈值下的precision={} recall={}\".format(precisions[ix], recalls[ix]))"
   ]
  },
  {
   "cell_type": "code",
   "execution_count": 156,
   "metadata": {},
   "outputs": [
    {
     "name": "stdout",
     "output_type": "stream",
     "text": [
      "Precision= 0.518934081346 \n",
      " \bRecall= 0.330652368186\n"
     ]
    }
   ],
   "source": [
    "# 测试集上的表现\n",
    "y_test_scores = svc.decision_function(X_test)\n",
    "y_test_pred = (y_test_scores > best_threshold)\n",
    "print(\"Precision=\", precision_score(y_true=y_test, y_pred=y_test_pred), \"\\n\", \"\\bRecall=\", recall_score(y_true=y_test, y_pred=y_test_pred))  "
   ]
  },
  {
   "cell_type": "markdown",
   "metadata": {
    "collapsed": true
   },
   "source": [
    "### ROC曲线"
   ]
  },
  {
   "cell_type": "code",
   "execution_count": 157,
   "metadata": {},
   "outputs": [
    {
     "data": {
      "image/png": "[encoded data removed]",
      "text/plain": [
       "<matplotlib.figure.Figure at 0x2472b7f7320>"
      ]
     },
     "metadata": {},
     "output_type": "display_data"
    },
    {
     "data": {
      "image/png": "[encoded data removed]",
      "text/plain": [
       "<matplotlib.figure.Figure at 0x24727ab8dd8>"
      ]
     },
     "metadata": {},
     "output_type": "display_data"
    }
   ],
   "source": [
    "from sklearn.metrics import roc_curve, roc_auc_score\n",
    "fpr, tpr, thresholds = roc_curve(y_train, y_scores)\n",
    "auc =  roc_auc_score(y_train, y_scores)\n",
    "def plot_roc_curve(fpr, tpr, ds_type, label=None):\n",
    "    plt.plot(fpr, tpr, linewidth=2, label=label)\n",
    "    plt.plot([0, 1], [0, 1], 'k--')\n",
    "    plt.axis([0, 1, 0, 1])\n",
    "    plt.xlabel('False Positive Rate')\n",
    "    plt.ylabel('True Positive Rate')\n",
    "    plt.title(\"基于{}的ROC曲线 AUC={}\".format(ds_type, auc))\n",
    "plot_roc_curve(fpr, tpr, \"训练集\")\n",
    "plt.show()\n",
    "fpr, tpr, thresholds = roc_curve(y_test, y_test_scores)\n",
    "auc =  roc_auc_score(y_test, y_test_scores)\n",
    "plot_roc_curve(fpr, tpr, \"测试集\")\n",
    "plt.show()\n"
   ]
  },
  {
   "cell_type": "markdown",
   "metadata": {},
   "source": [
    "### 历史数据回测"
   ]
  },
  {
   "cell_type": "code",
   "execution_count": 376,
   "metadata": {},
   "outputs": [
    {
     "name": "stdout",
     "output_type": "stream",
     "text": [
      "删除前样本个数: 8602\n",
      "删除后样本个数: 7506\n"
     ]
    }
   ],
   "source": [
    "back_test_period = fk.get_monthly_last_trading_days(start=\"2014-01-01\", end=\"2018-05-31\")\n",
    "df_backtest = df_raw[df_raw.date.isin(back_test_period)].copy()\n",
    "df_backtest1 = preprocessing(dsi=df_backtest, lp=0.05, up=0.95, label_kind=\"A\")\n",
    "df_backtest2 = df_backtest1.set_index(['sec_id', 'date'])\n",
    "droplist = ['yearmonth', 'group_id','CLOSE', 'date_available']\n",
    "df_backtest3 = df_backtest2.drop(droplist, axis=1)\n",
    "df_backtest3.iloc[:,:-1] = (df_backtest3.iloc[:,:-1] - df_backtest3.iloc[:,:-1].mean()) / df_backtest3.iloc[:,:-1].std()\n",
    "X_backtest = df_backtest3.iloc[:,:-1]\n",
    "y_backtest = df_backtest3.iloc[:,-1].to_frame()"
   ]
  },
  {
   "cell_type": "code",
   "execution_count": 377,
   "metadata": {
    "collapsed": true
   },
   "outputs": [],
   "source": [
    "X_backtest = X_backtest.sort_index(level=\"sec_id\")\n",
    "y_backtest = y_backtest.sort_index(level=\"sec_id\")\n",
    "return_lib = df_raw.set_index(['sec_id', 'date'])\n",
    "return_lib = return_lib.sort_index(level='sec_id')"
   ]
  },
  {
   "cell_type": "code",
   "execution_count": 381,
   "metadata": {},
   "outputs": [],
   "source": [
    "NUM = 20\n",
    "records = {}\n",
    "for date in list(X_backtest.index.levels[1]):\n",
    "    # 根据当前日期(月末)的特征计算选中的股票\n",
    "    X_now =X_backtest.loc[(slice(None), date),:].copy()\n",
    "    X_now['scores'] = svc.decision_function(X_now)\n",
    "    selected = X_now.iloc[-NUM:, -1].reset_index()['sec_id'].tolist()\n",
    "    # 获得入选股票在下个月的收益率\n",
    "    perform = return_lib.loc[(selected, date), ['CLOSE', 'month_ret']]\n",
    "    records[date] = (perform['CLOSE'] * perform['month_ret']).sum() / perform['CLOSE'].sum()\n",
    "    \n",
    "df_records = pd.DataFrame([[i, v] for i,v in records.items()], columns=['date', 'month_ret'])\n",
    "df_records['yearmonth'] = df_records['date'].apply(lambda x: dk.date2char(dk.char2datetime(x) +  dk.timedelta({'months': 1}))[:7])\n",
    "df_records = df_records.rename(columns={'month_ret': 'model_ret'})"
   ]
  },
  {
   "cell_type": "code",
   "execution_count": 382,
   "metadata": {},
   "outputs": [],
   "source": [
    "# 获取基准收益\n",
    "hs300_rr = derive_next_month_rr(['000300.SH'])\n",
    "hs300_rr = hs300_rr.rename(columns={'month_ret': 'hs300_rr'})\n",
    "del hs300_rr['sec_id']\n",
    "df_records = df_records.merge(hs300_rr, how='left', on=['yearmonth'])"
   ]
  },
  {
   "cell_type": "code",
   "execution_count": 383,
   "metadata": {},
   "outputs": [
    {
     "data": {
      "text/plain": [
       "<matplotlib.axes._subplots.AxesSubplot at 0x2474177a198>"
      ]
     },
     "execution_count": 383,
     "metadata": {},
     "output_type": "execute_result"
    },
    {
     "data": {
      "image/png": "[encoded data removed]",
      "text/plain": [
       "<matplotlib.figure.Figure at 0x2474058f208>"
      ]
     },
     "metadata": {},
     "output_type": "display_data"
    }
   ],
   "source": [
    "df_records.set_index('date').cumsum().plot()"
   ]
  },
  {
   "cell_type": "code",
   "execution_count": null,
   "metadata": {
    "collapsed": true
   },
   "outputs": [],
   "source": []
  },
  {
   "cell_type": "code",
   "execution_count": 351,
   "metadata": {
    "collapsed": true
   },
   "outputs": [],
   "source": [
    "df_records['yearmonth'] = df_records['date'].apply(lambda x: dk.date2char(dk.char2datetime(x) +  dk.timedelta({'months': 1}))[:7])"
   ]
  },
  {
   "cell_type": "code",
   "execution_count": 358,
   "metadata": {},
   "outputs": [
    {
     "data": {
      "text/html": [
       "<div>\n",
       "<style>\n",
       "    .dataframe thead tr:only-child th {\n",
       "        text-align: right;\n",
       "    }\n",
       "\n",
       "    .dataframe thead th {\n",
       "        text-align: left;\n",
       "    }\n",
       "\n",
       "    .dataframe tbody tr th {\n",
       "        vertical-align: top;\n",
       "    }\n",
       "</style>\n",
       "<table border=\"1\" class=\"dataframe\">\n",
       "  <thead>\n",
       "    <tr style=\"text-align: right;\">\n",
       "      <th></th>\n",
       "      <th>date</th>\n",
       "      <th>month_ret</th>\n",
       "      <th>yearmonth</th>\n",
       "      <th>hs300_rr</th>\n",
       "    </tr>\n",
       "  </thead>\n",
       "  <tbody>\n",
       "    <tr>\n",
       "      <th>0</th>\n",
       "      <td>2014-01-30</td>\n",
       "      <td>-0.044911</td>\n",
       "      <td>2014-02</td>\n",
       "      <td>-0.015147</td>\n",
       "    </tr>\n",
       "    <tr>\n",
       "      <th>1</th>\n",
       "      <td>2014-02-28</td>\n",
       "      <td>-0.070724</td>\n",
       "      <td>2014-03</td>\n",
       "      <td>-0.020118</td>\n",
       "    </tr>\n",
       "    <tr>\n",
       "      <th>2</th>\n",
       "      <td>2014-03-31</td>\n",
       "      <td>-0.045971</td>\n",
       "      <td>2014-04</td>\n",
       "      <td>-0.002060</td>\n",
       "    </tr>\n",
       "    <tr>\n",
       "      <th>3</th>\n",
       "      <td>2014-04-30</td>\n",
       "      <td>0.014398</td>\n",
       "      <td>2014-05</td>\n",
       "      <td>-0.000003</td>\n",
       "    </tr>\n",
       "    <tr>\n",
       "      <th>4</th>\n",
       "      <td>2014-05-30</td>\n",
       "      <td>0.045080</td>\n",
       "      <td>2014-06</td>\n",
       "      <td>0.007070</td>\n",
       "    </tr>\n",
       "    <tr>\n",
       "      <th>5</th>\n",
       "      <td>2014-06-30</td>\n",
       "      <td>0.122096</td>\n",
       "      <td>2014-07</td>\n",
       "      <td>0.085787</td>\n",
       "    </tr>\n",
       "    <tr>\n",
       "      <th>6</th>\n",
       "      <td>2014-07-31</td>\n",
       "      <td>0.049671</td>\n",
       "      <td>2014-08</td>\n",
       "      <td>0.003814</td>\n",
       "    </tr>\n",
       "    <tr>\n",
       "      <th>7</th>\n",
       "      <td>2014-08-29</td>\n",
       "      <td>0.081051</td>\n",
       "      <td>2014-09</td>\n",
       "      <td>0.040619</td>\n",
       "    </tr>\n",
       "    <tr>\n",
       "      <th>8</th>\n",
       "      <td>2014-09-30</td>\n",
       "      <td>-0.028444</td>\n",
       "      <td>2014-10</td>\n",
       "      <td>0.012081</td>\n",
       "    </tr>\n",
       "    <tr>\n",
       "      <th>9</th>\n",
       "      <td>2014-10-31</td>\n",
       "      <td>0.094628</td>\n",
       "      <td>2014-11</td>\n",
       "      <td>0.117917</td>\n",
       "    </tr>\n",
       "    <tr>\n",
       "      <th>10</th>\n",
       "      <td>2014-11-28</td>\n",
       "      <td>0.075835</td>\n",
       "      <td>2014-12</td>\n",
       "      <td>0.253170</td>\n",
       "    </tr>\n",
       "    <tr>\n",
       "      <th>11</th>\n",
       "      <td>2014-12-31</td>\n",
       "      <td>0.041984</td>\n",
       "      <td>2015-01</td>\n",
       "      <td>-0.056886</td>\n",
       "    </tr>\n",
       "    <tr>\n",
       "      <th>12</th>\n",
       "      <td>2015-01-30</td>\n",
       "      <td>0.116625</td>\n",
       "      <td>2015-02</td>\n",
       "      <td>0.065261</td>\n",
       "    </tr>\n",
       "    <tr>\n",
       "      <th>13</th>\n",
       "      <td>2015-02-27</td>\n",
       "      <td>0.179700</td>\n",
       "      <td>2015-03</td>\n",
       "      <td>0.124939</td>\n",
       "    </tr>\n",
       "    <tr>\n",
       "      <th>14</th>\n",
       "      <td>2015-03-31</td>\n",
       "      <td>0.095336</td>\n",
       "      <td>2015-04</td>\n",
       "      <td>0.151796</td>\n",
       "    </tr>\n",
       "    <tr>\n",
       "      <th>15</th>\n",
       "      <td>2015-04-30</td>\n",
       "      <td>0.096052</td>\n",
       "      <td>2015-05</td>\n",
       "      <td>0.011088</td>\n",
       "    </tr>\n",
       "    <tr>\n",
       "      <th>16</th>\n",
       "      <td>2015-05-29</td>\n",
       "      <td>-0.149198</td>\n",
       "      <td>2015-06</td>\n",
       "      <td>-0.118826</td>\n",
       "    </tr>\n",
       "    <tr>\n",
       "      <th>17</th>\n",
       "      <td>2015-06-30</td>\n",
       "      <td>-0.104758</td>\n",
       "      <td>2015-07</td>\n",
       "      <td>-0.102591</td>\n",
       "    </tr>\n",
       "    <tr>\n",
       "      <th>18</th>\n",
       "      <td>2015-07-31</td>\n",
       "      <td>-0.110210</td>\n",
       "      <td>2015-08</td>\n",
       "      <td>-0.120833</td>\n",
       "    </tr>\n",
       "    <tr>\n",
       "      <th>19</th>\n",
       "      <td>2015-08-31</td>\n",
       "      <td>-0.053159</td>\n",
       "      <td>2015-09</td>\n",
       "      <td>-0.047332</td>\n",
       "    </tr>\n",
       "    <tr>\n",
       "      <th>20</th>\n",
       "      <td>2015-09-30</td>\n",
       "      <td>0.057307</td>\n",
       "      <td>2015-10</td>\n",
       "      <td>0.072076</td>\n",
       "    </tr>\n",
       "    <tr>\n",
       "      <th>21</th>\n",
       "      <td>2015-10-30</td>\n",
       "      <td>0.032772</td>\n",
       "      <td>2015-11</td>\n",
       "      <td>0.026022</td>\n",
       "    </tr>\n",
       "    <tr>\n",
       "      <th>22</th>\n",
       "      <td>2015-11-30</td>\n",
       "      <td>0.063216</td>\n",
       "      <td>2015-12</td>\n",
       "      <td>0.038786</td>\n",
       "    </tr>\n",
       "    <tr>\n",
       "      <th>23</th>\n",
       "      <td>2015-12-31</td>\n",
       "      <td>-0.214197</td>\n",
       "      <td>2016-01</td>\n",
       "      <td>-0.150754</td>\n",
       "    </tr>\n",
       "    <tr>\n",
       "      <th>24</th>\n",
       "      <td>2016-01-29</td>\n",
       "      <td>-0.045101</td>\n",
       "      <td>2016-02</td>\n",
       "      <td>-0.008128</td>\n",
       "    </tr>\n",
       "    <tr>\n",
       "      <th>25</th>\n",
       "      <td>2016-02-29</td>\n",
       "      <td>0.117212</td>\n",
       "      <td>2016-03</td>\n",
       "      <td>0.098064</td>\n",
       "    </tr>\n",
       "    <tr>\n",
       "      <th>26</th>\n",
       "      <td>2016-03-31</td>\n",
       "      <td>-0.005933</td>\n",
       "      <td>2016-04</td>\n",
       "      <td>-0.020221</td>\n",
       "    </tr>\n",
       "    <tr>\n",
       "      <th>27</th>\n",
       "      <td>2016-04-29</td>\n",
       "      <td>-0.030898</td>\n",
       "      <td>2016-05</td>\n",
       "      <td>-0.013686</td>\n",
       "    </tr>\n",
       "    <tr>\n",
       "      <th>28</th>\n",
       "      <td>2016-05-31</td>\n",
       "      <td>0.008868</td>\n",
       "      <td>2016-06</td>\n",
       "      <td>-0.002096</td>\n",
       "    </tr>\n",
       "    <tr>\n",
       "      <th>29</th>\n",
       "      <td>2016-06-30</td>\n",
       "      <td>0.127655</td>\n",
       "      <td>2016-07</td>\n",
       "      <td>0.015766</td>\n",
       "    </tr>\n",
       "    <tr>\n",
       "      <th>30</th>\n",
       "      <td>2016-07-29</td>\n",
       "      <td>0.058023</td>\n",
       "      <td>2016-08</td>\n",
       "      <td>0.047527</td>\n",
       "    </tr>\n",
       "    <tr>\n",
       "      <th>31</th>\n",
       "      <td>2016-08-31</td>\n",
       "      <td>-0.006589</td>\n",
       "      <td>2016-09</td>\n",
       "      <td>-0.014627</td>\n",
       "    </tr>\n",
       "    <tr>\n",
       "      <th>32</th>\n",
       "      <td>2016-09-30</td>\n",
       "      <td>0.030133</td>\n",
       "      <td>2016-10</td>\n",
       "      <td>0.012875</td>\n",
       "    </tr>\n",
       "    <tr>\n",
       "      <th>33</th>\n",
       "      <td>2016-10-31</td>\n",
       "      <td>0.022274</td>\n",
       "      <td>2016-11</td>\n",
       "      <td>0.053274</td>\n",
       "    </tr>\n",
       "    <tr>\n",
       "      <th>34</th>\n",
       "      <td>2016-11-30</td>\n",
       "      <td>-0.070234</td>\n",
       "      <td>2016-12</td>\n",
       "      <td>-0.071515</td>\n",
       "    </tr>\n",
       "    <tr>\n",
       "      <th>35</th>\n",
       "      <td>2016-12-30</td>\n",
       "      <td>0.027423</td>\n",
       "      <td>2017-01</td>\n",
       "      <td>0.013684</td>\n",
       "    </tr>\n",
       "    <tr>\n",
       "      <th>36</th>\n",
       "      <td>2017-01-26</td>\n",
       "      <td>0.043293</td>\n",
       "      <td>2017-02</td>\n",
       "      <td>0.026250</td>\n",
       "    </tr>\n",
       "    <tr>\n",
       "      <th>37</th>\n",
       "      <td>2017-02-28</td>\n",
       "      <td>-0.020097</td>\n",
       "      <td>2017-03</td>\n",
       "      <td>-0.000692</td>\n",
       "    </tr>\n",
       "    <tr>\n",
       "      <th>38</th>\n",
       "      <td>2017-03-31</td>\n",
       "      <td>-0.044286</td>\n",
       "      <td>2017-04</td>\n",
       "      <td>-0.018305</td>\n",
       "    </tr>\n",
       "    <tr>\n",
       "      <th>39</th>\n",
       "      <td>2017-04-28</td>\n",
       "      <td>-0.036779</td>\n",
       "      <td>2017-05</td>\n",
       "      <td>0.019351</td>\n",
       "    </tr>\n",
       "    <tr>\n",
       "      <th>40</th>\n",
       "      <td>2017-05-31</td>\n",
       "      <td>0.054880</td>\n",
       "      <td>2017-06</td>\n",
       "      <td>0.048334</td>\n",
       "    </tr>\n",
       "    <tr>\n",
       "      <th>41</th>\n",
       "      <td>2017-06-30</td>\n",
       "      <td>0.006245</td>\n",
       "      <td>2017-07</td>\n",
       "      <td>0.023837</td>\n",
       "    </tr>\n",
       "    <tr>\n",
       "      <th>42</th>\n",
       "      <td>2017-07-31</td>\n",
       "      <td>0.016378</td>\n",
       "      <td>2017-08</td>\n",
       "      <td>0.013715</td>\n",
       "    </tr>\n",
       "    <tr>\n",
       "      <th>43</th>\n",
       "      <td>2017-08-31</td>\n",
       "      <td>0.049574</td>\n",
       "      <td>2017-09</td>\n",
       "      <td>0.001557</td>\n",
       "    </tr>\n",
       "    <tr>\n",
       "      <th>44</th>\n",
       "      <td>2017-09-29</td>\n",
       "      <td>0.034931</td>\n",
       "      <td>2017-10</td>\n",
       "      <td>0.032072</td>\n",
       "    </tr>\n",
       "    <tr>\n",
       "      <th>45</th>\n",
       "      <td>2017-10-31</td>\n",
       "      <td>-0.071405</td>\n",
       "      <td>2017-11</td>\n",
       "      <td>0.002371</td>\n",
       "    </tr>\n",
       "    <tr>\n",
       "      <th>46</th>\n",
       "      <td>2017-11-30</td>\n",
       "      <td>-0.042177</td>\n",
       "      <td>2017-12</td>\n",
       "      <td>0.008183</td>\n",
       "    </tr>\n",
       "    <tr>\n",
       "      <th>47</th>\n",
       "      <td>2017-12-29</td>\n",
       "      <td>0.007856</td>\n",
       "      <td>2018-01</td>\n",
       "      <td>0.046117</td>\n",
       "    </tr>\n",
       "    <tr>\n",
       "      <th>48</th>\n",
       "      <td>2018-01-31</td>\n",
       "      <td>-0.026531</td>\n",
       "      <td>2018-02</td>\n",
       "      <td>-0.052346</td>\n",
       "    </tr>\n",
       "  </tbody>\n",
       "</table>\n",
       "</div>"
      ],
      "text/plain": [
       "          date  month_ret yearmonth  hs300_rr\n",
       "0   2014-01-30  -0.044911   2014-02 -0.015147\n",
       "1   2014-02-28  -0.070724   2014-03 -0.020118\n",
       "2   2014-03-31  -0.045971   2014-04 -0.002060\n",
       "3   2014-04-30   0.014398   2014-05 -0.000003\n",
       "4   2014-05-30   0.045080   2014-06  0.007070\n",
       "5   2014-06-30   0.122096   2014-07  0.085787\n",
       "6   2014-07-31   0.049671   2014-08  0.003814\n",
       "7   2014-08-29   0.081051   2014-09  0.040619\n",
       "8   2014-09-30  -0.028444   2014-10  0.012081\n",
       "9   2014-10-31   0.094628   2014-11  0.117917\n",
       "10  2014-11-28   0.075835   2014-12  0.253170\n",
       "11  2014-12-31   0.041984   2015-01 -0.056886\n",
       "12  2015-01-30   0.116625   2015-02  0.065261\n",
       "13  2015-02-27   0.179700   2015-03  0.124939\n",
       "14  2015-03-31   0.095336   2015-04  0.151796\n",
       "15  2015-04-30   0.096052   2015-05  0.011088\n",
       "16  2015-05-29  -0.149198   2015-06 -0.118826\n",
       "17  2015-06-30  -0.104758   2015-07 -0.102591\n",
       "18  2015-07-31  -0.110210   2015-08 -0.120833\n",
       "19  2015-08-31  -0.053159   2015-09 -0.047332\n",
       "20  2015-09-30   0.057307   2015-10  0.072076\n",
       "21  2015-10-30   0.032772   2015-11  0.026022\n",
       "22  2015-11-30   0.063216   2015-12  0.038786\n",
       "23  2015-12-31  -0.214197   2016-01 -0.150754\n",
       "24  2016-01-29  -0.045101   2016-02 -0.008128\n",
       "25  2016-02-29   0.117212   2016-03  0.098064\n",
       "26  2016-03-31  -0.005933   2016-04 -0.020221\n",
       "27  2016-04-29  -0.030898   2016-05 -0.013686\n",
       "28  2016-05-31   0.008868   2016-06 -0.002096\n",
       "29  2016-06-30   0.127655   2016-07  0.015766\n",
       "30  2016-07-29   0.058023   2016-08  0.047527\n",
       "31  2016-08-31  -0.006589   2016-09 -0.014627\n",
       "32  2016-09-30   0.030133   2016-10  0.012875\n",
       "33  2016-10-31   0.022274   2016-11  0.053274\n",
       "34  2016-11-30  -0.070234   2016-12 -0.071515\n",
       "35  2016-12-30   0.027423   2017-01  0.013684\n",
       "36  2017-01-26   0.043293   2017-02  0.026250\n",
       "37  2017-02-28  -0.020097   2017-03 -0.000692\n",
       "38  2017-03-31  -0.044286   2017-04 -0.018305\n",
       "39  2017-04-28  -0.036779   2017-05  0.019351\n",
       "40  2017-05-31   0.054880   2017-06  0.048334\n",
       "41  2017-06-30   0.006245   2017-07  0.023837\n",
       "42  2017-07-31   0.016378   2017-08  0.013715\n",
       "43  2017-08-31   0.049574   2017-09  0.001557\n",
       "44  2017-09-29   0.034931   2017-10  0.032072\n",
       "45  2017-10-31  -0.071405   2017-11  0.002371\n",
       "46  2017-11-30  -0.042177   2017-12  0.008183\n",
       "47  2017-12-29   0.007856   2018-01  0.046117\n",
       "48  2018-01-31  -0.026531   2018-02 -0.052346"
      ]
     },
     "execution_count": 358,
     "metadata": {},
     "output_type": "execute_result"
    }
   ],
   "source": [
    "df_records.merge(hs300_rr, how='left', on=['yearmonth'])"
   ]
  },
  {
   "cell_type": "code",
   "execution_count": 356,
   "metadata": {},
   "outputs": [],
   "source": [
    "hs300_rr = hs300_rr.rename(columns={'month_ret': 'hs300_rr'})\n",
    "del hs300_rr['sec_id']"
   ]
  },
  {
   "cell_type": "code",
   "execution_count": 357,
   "metadata": {},
   "outputs": [
    {
     "data": {
      "text/html": [
       "<div>\n",
       "<style>\n",
       "    .dataframe thead tr:only-child th {\n",
       "        text-align: right;\n",
       "    }\n",
       "\n",
       "    .dataframe thead th {\n",
       "        text-align: left;\n",
       "    }\n",
       "\n",
       "    .dataframe tbody tr th {\n",
       "        vertical-align: top;\n",
       "    }\n",
       "</style>\n",
       "<table border=\"1\" class=\"dataframe\">\n",
       "  <thead>\n",
       "    <tr style=\"text-align: right;\">\n",
       "      <th></th>\n",
       "      <th>yearmonth</th>\n",
       "      <th>hs300_rr</th>\n",
       "    </tr>\n",
       "  </thead>\n",
       "  <tbody>\n",
       "    <tr>\n",
       "      <th>0</th>\n",
       "      <td>2005-01</td>\n",
       "      <td>-0.028404</td>\n",
       "    </tr>\n",
       "    <tr>\n",
       "      <th>1</th>\n",
       "      <td>2005-02</td>\n",
       "      <td>0.087910</td>\n",
       "    </tr>\n",
       "    <tr>\n",
       "      <th>2</th>\n",
       "      <td>2005-03</td>\n",
       "      <td>-0.090480</td>\n",
       "    </tr>\n",
       "    <tr>\n",
       "      <th>3</th>\n",
       "      <td>2005-04</td>\n",
       "      <td>-0.046772</td>\n",
       "    </tr>\n",
       "    <tr>\n",
       "      <th>4</th>\n",
       "      <td>2005-05</td>\n",
       "      <td>-0.058545</td>\n",
       "    </tr>\n",
       "    <tr>\n",
       "      <th>5</th>\n",
       "      <td>2005-06</td>\n",
       "      <td>0.049137</td>\n",
       "    </tr>\n",
       "    <tr>\n",
       "      <th>6</th>\n",
       "      <td>2005-07</td>\n",
       "      <td>0.033357</td>\n",
       "    </tr>\n",
       "    <tr>\n",
       "      <th>7</th>\n",
       "      <td>2005-08</td>\n",
       "      <td>0.040723</td>\n",
       "    </tr>\n",
       "    <tr>\n",
       "      <th>8</th>\n",
       "      <td>2005-09</td>\n",
       "      <td>-0.028762</td>\n",
       "    </tr>\n",
       "    <tr>\n",
       "      <th>9</th>\n",
       "      <td>2005-10</td>\n",
       "      <td>-0.034210</td>\n",
       "    </tr>\n",
       "    <tr>\n",
       "      <th>10</th>\n",
       "      <td>2005-11</td>\n",
       "      <td>0.001100</td>\n",
       "    </tr>\n",
       "    <tr>\n",
       "      <th>11</th>\n",
       "      <td>2005-12</td>\n",
       "      <td>0.057709</td>\n",
       "    </tr>\n",
       "    <tr>\n",
       "      <th>12</th>\n",
       "      <td>2006-01</td>\n",
       "      <td>0.072410</td>\n",
       "    </tr>\n",
       "    <tr>\n",
       "      <th>13</th>\n",
       "      <td>2006-02</td>\n",
       "      <td>0.019140</td>\n",
       "    </tr>\n",
       "    <tr>\n",
       "      <th>14</th>\n",
       "      <td>2006-03</td>\n",
       "      <td>0.004230</td>\n",
       "    </tr>\n",
       "    <tr>\n",
       "      <th>15</th>\n",
       "      <td>2006-04</td>\n",
       "      <td>0.086188</td>\n",
       "    </tr>\n",
       "    <tr>\n",
       "      <th>16</th>\n",
       "      <td>2006-05</td>\n",
       "      <td>0.120651</td>\n",
       "    </tr>\n",
       "    <tr>\n",
       "      <th>17</th>\n",
       "      <td>2006-06</td>\n",
       "      <td>-0.006356</td>\n",
       "    </tr>\n",
       "    <tr>\n",
       "      <th>18</th>\n",
       "      <td>2006-07</td>\n",
       "      <td>-0.088712</td>\n",
       "    </tr>\n",
       "    <tr>\n",
       "      <th>19</th>\n",
       "      <td>2006-08</td>\n",
       "      <td>0.044177</td>\n",
       "    </tr>\n",
       "    <tr>\n",
       "      <th>20</th>\n",
       "      <td>2006-09</td>\n",
       "      <td>0.064613</td>\n",
       "    </tr>\n",
       "    <tr>\n",
       "      <th>21</th>\n",
       "      <td>2006-10</td>\n",
       "      <td>0.019775</td>\n",
       "    </tr>\n",
       "    <tr>\n",
       "      <th>22</th>\n",
       "      <td>2006-11</td>\n",
       "      <td>0.158813</td>\n",
       "    </tr>\n",
       "    <tr>\n",
       "      <th>23</th>\n",
       "      <td>2006-12</td>\n",
       "      <td>0.180325</td>\n",
       "    </tr>\n",
       "    <tr>\n",
       "      <th>24</th>\n",
       "      <td>2007-01</td>\n",
       "      <td>0.153957</td>\n",
       "    </tr>\n",
       "    <tr>\n",
       "      <th>25</th>\n",
       "      <td>2007-02</td>\n",
       "      <td>0.062375</td>\n",
       "    </tr>\n",
       "    <tr>\n",
       "      <th>26</th>\n",
       "      <td>2007-03</td>\n",
       "      <td>0.124615</td>\n",
       "    </tr>\n",
       "    <tr>\n",
       "      <th>27</th>\n",
       "      <td>2007-04</td>\n",
       "      <td>0.248623</td>\n",
       "    </tr>\n",
       "    <tr>\n",
       "      <th>28</th>\n",
       "      <td>2007-05</td>\n",
       "      <td>0.065632</td>\n",
       "    </tr>\n",
       "    <tr>\n",
       "      <th>29</th>\n",
       "      <td>2007-06</td>\n",
       "      <td>-0.010483</td>\n",
       "    </tr>\n",
       "    <tr>\n",
       "      <th>...</th>\n",
       "      <td>...</td>\n",
       "      <td>...</td>\n",
       "    </tr>\n",
       "    <tr>\n",
       "      <th>130</th>\n",
       "      <td>2015-11</td>\n",
       "      <td>0.026022</td>\n",
       "    </tr>\n",
       "    <tr>\n",
       "      <th>131</th>\n",
       "      <td>2015-12</td>\n",
       "      <td>0.038786</td>\n",
       "    </tr>\n",
       "    <tr>\n",
       "      <th>132</th>\n",
       "      <td>2016-01</td>\n",
       "      <td>-0.150754</td>\n",
       "    </tr>\n",
       "    <tr>\n",
       "      <th>133</th>\n",
       "      <td>2016-02</td>\n",
       "      <td>-0.008128</td>\n",
       "    </tr>\n",
       "    <tr>\n",
       "      <th>134</th>\n",
       "      <td>2016-03</td>\n",
       "      <td>0.098064</td>\n",
       "    </tr>\n",
       "    <tr>\n",
       "      <th>135</th>\n",
       "      <td>2016-04</td>\n",
       "      <td>-0.020221</td>\n",
       "    </tr>\n",
       "    <tr>\n",
       "      <th>136</th>\n",
       "      <td>2016-05</td>\n",
       "      <td>-0.013686</td>\n",
       "    </tr>\n",
       "    <tr>\n",
       "      <th>137</th>\n",
       "      <td>2016-06</td>\n",
       "      <td>-0.002096</td>\n",
       "    </tr>\n",
       "    <tr>\n",
       "      <th>138</th>\n",
       "      <td>2016-07</td>\n",
       "      <td>0.015766</td>\n",
       "    </tr>\n",
       "    <tr>\n",
       "      <th>139</th>\n",
       "      <td>2016-08</td>\n",
       "      <td>0.047527</td>\n",
       "    </tr>\n",
       "    <tr>\n",
       "      <th>140</th>\n",
       "      <td>2016-09</td>\n",
       "      <td>-0.014627</td>\n",
       "    </tr>\n",
       "    <tr>\n",
       "      <th>141</th>\n",
       "      <td>2016-10</td>\n",
       "      <td>0.012875</td>\n",
       "    </tr>\n",
       "    <tr>\n",
       "      <th>142</th>\n",
       "      <td>2016-11</td>\n",
       "      <td>0.053274</td>\n",
       "    </tr>\n",
       "    <tr>\n",
       "      <th>143</th>\n",
       "      <td>2016-12</td>\n",
       "      <td>-0.071515</td>\n",
       "    </tr>\n",
       "    <tr>\n",
       "      <th>144</th>\n",
       "      <td>2017-01</td>\n",
       "      <td>0.013684</td>\n",
       "    </tr>\n",
       "    <tr>\n",
       "      <th>145</th>\n",
       "      <td>2017-02</td>\n",
       "      <td>0.026250</td>\n",
       "    </tr>\n",
       "    <tr>\n",
       "      <th>146</th>\n",
       "      <td>2017-03</td>\n",
       "      <td>-0.000692</td>\n",
       "    </tr>\n",
       "    <tr>\n",
       "      <th>147</th>\n",
       "      <td>2017-04</td>\n",
       "      <td>-0.018305</td>\n",
       "    </tr>\n",
       "    <tr>\n",
       "      <th>148</th>\n",
       "      <td>2017-05</td>\n",
       "      <td>0.019351</td>\n",
       "    </tr>\n",
       "    <tr>\n",
       "      <th>149</th>\n",
       "      <td>2017-06</td>\n",
       "      <td>0.048334</td>\n",
       "    </tr>\n",
       "    <tr>\n",
       "      <th>150</th>\n",
       "      <td>2017-07</td>\n",
       "      <td>0.023837</td>\n",
       "    </tr>\n",
       "    <tr>\n",
       "      <th>151</th>\n",
       "      <td>2017-08</td>\n",
       "      <td>0.013715</td>\n",
       "    </tr>\n",
       "    <tr>\n",
       "      <th>152</th>\n",
       "      <td>2017-09</td>\n",
       "      <td>0.001557</td>\n",
       "    </tr>\n",
       "    <tr>\n",
       "      <th>153</th>\n",
       "      <td>2017-10</td>\n",
       "      <td>0.032072</td>\n",
       "    </tr>\n",
       "    <tr>\n",
       "      <th>154</th>\n",
       "      <td>2017-11</td>\n",
       "      <td>0.002371</td>\n",
       "    </tr>\n",
       "    <tr>\n",
       "      <th>155</th>\n",
       "      <td>2017-12</td>\n",
       "      <td>0.008183</td>\n",
       "    </tr>\n",
       "    <tr>\n",
       "      <th>156</th>\n",
       "      <td>2018-01</td>\n",
       "      <td>0.046117</td>\n",
       "    </tr>\n",
       "    <tr>\n",
       "      <th>157</th>\n",
       "      <td>2018-02</td>\n",
       "      <td>-0.052346</td>\n",
       "    </tr>\n",
       "    <tr>\n",
       "      <th>158</th>\n",
       "      <td>2018-03</td>\n",
       "      <td>-0.037191</td>\n",
       "    </tr>\n",
       "    <tr>\n",
       "      <th>159</th>\n",
       "      <td>2018-04</td>\n",
       "      <td>0.000000</td>\n",
       "    </tr>\n",
       "  </tbody>\n",
       "</table>\n",
       "<p>160 rows × 2 columns</p>\n",
       "</div>"
      ],
      "text/plain": [
       "    yearmonth  hs300_rr\n",
       "0     2005-01 -0.028404\n",
       "1     2005-02  0.087910\n",
       "2     2005-03 -0.090480\n",
       "3     2005-04 -0.046772\n",
       "4     2005-05 -0.058545\n",
       "5     2005-06  0.049137\n",
       "6     2005-07  0.033357\n",
       "7     2005-08  0.040723\n",
       "8     2005-09 -0.028762\n",
       "9     2005-10 -0.034210\n",
       "10    2005-11  0.001100\n",
       "11    2005-12  0.057709\n",
       "12    2006-01  0.072410\n",
       "13    2006-02  0.019140\n",
       "14    2006-03  0.004230\n",
       "15    2006-04  0.086188\n",
       "16    2006-05  0.120651\n",
       "17    2006-06 -0.006356\n",
       "18    2006-07 -0.088712\n",
       "19    2006-08  0.044177\n",
       "20    2006-09  0.064613\n",
       "21    2006-10  0.019775\n",
       "22    2006-11  0.158813\n",
       "23    2006-12  0.180325\n",
       "24    2007-01  0.153957\n",
       "25    2007-02  0.062375\n",
       "26    2007-03  0.124615\n",
       "27    2007-04  0.248623\n",
       "28    2007-05  0.065632\n",
       "29    2007-06 -0.010483\n",
       "..        ...       ...\n",
       "130   2015-11  0.026022\n",
       "131   2015-12  0.038786\n",
       "132   2016-01 -0.150754\n",
       "133   2016-02 -0.008128\n",
       "134   2016-03  0.098064\n",
       "135   2016-04 -0.020221\n",
       "136   2016-05 -0.013686\n",
       "137   2016-06 -0.002096\n",
       "138   2016-07  0.015766\n",
       "139   2016-08  0.047527\n",
       "140   2016-09 -0.014627\n",
       "141   2016-10  0.012875\n",
       "142   2016-11  0.053274\n",
       "143   2016-12 -0.071515\n",
       "144   2017-01  0.013684\n",
       "145   2017-02  0.026250\n",
       "146   2017-03 -0.000692\n",
       "147   2017-04 -0.018305\n",
       "148   2017-05  0.019351\n",
       "149   2017-06  0.048334\n",
       "150   2017-07  0.023837\n",
       "151   2017-08  0.013715\n",
       "152   2017-09  0.001557\n",
       "153   2017-10  0.032072\n",
       "154   2017-11  0.002371\n",
       "155   2017-12  0.008183\n",
       "156   2018-01  0.046117\n",
       "157   2018-02 -0.052346\n",
       "158   2018-03 -0.037191\n",
       "159   2018-04  0.000000\n",
       "\n",
       "[160 rows x 2 columns]"
      ]
     },
     "execution_count": 357,
     "metadata": {},
     "output_type": "execute_result"
    }
   ],
   "source": [
    "hs300_rr"
   ]
  },
  {
   "cell_type": "code",
   "execution_count": null,
   "metadata": {
    "collapsed": true
   },
   "outputs": [],
   "source": []
  }
 ],
 "metadata": {
  "kernelspec": {
   "display_name": "Python 3",
   "language": "python",
   "name": "python3"
  },
  "language_info": {
   "codemirror_mode": {
    "name": "ipython",
    "version": 3
   },
   "file_extension": ".py",
   "mimetype": "text/x-python",
   "name": "python",
   "nbconvert_exporter": "python",
   "pygments_lexer": "ipython3",
   "version": "3.6.3"
  },
  "toc": {
   "nav_menu": {},
   "number_sections": true,
   "sideBar": true,
   "skip_h1_title": false,
   "title_cell": "Table of Contents",
   "title_sidebar": "Contents",
   "toc_cell": false,
   "toc_position": {},
   "toc_section_display": true,
   "toc_window_display": true
  }
 },
 "nbformat": 4,
 "nbformat_minor": 2
}
