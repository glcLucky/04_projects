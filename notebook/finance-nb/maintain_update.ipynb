{
 "cells": [
  {
   "cell_type": "code",
   "execution_count": 1,
   "metadata": {},
   "outputs": [
    {
     "name": "stdout",
     "output_type": "stream",
     "text": [
      "Populating the interactive namespace from numpy and matplotlib\n"
     ]
    }
   ],
   "source": [
    "%pylab inline\n",
    "%load_ext autoreload\n",
    "%autoreload 2"
   ]
  },
  {
   "cell_type": "code",
   "execution_count": 2,
   "metadata": {
    "collapsed": true
   },
   "outputs": [],
   "source": [
    "import pandas as pd\n",
    "import os\n",
    "from devkit.api import Logger, SqliteProxy\n",
    "import finance.api as fa\n",
    "import seaborn, datetime\n",
    "seaborn.set_style(\"darkgrid\")"
   ]
  },
  {
   "cell_type": "markdown",
   "metadata": {},
   "source": [
    "# 读入数据"
   ]
  },
  {
   "cell_type": "code",
   "execution_count": 43,
   "metadata": {
    "collapsed": true
   },
   "outputs": [],
   "source": [
    "df = fa.load_excel_data(fa.fin_plan_path)\n",
    "# DATE = '2018-05-01'\n",
    "# ['2018-01-08','2018-01-25','2018-02-03','2018-02-09','2018-02-21']\n",
    "DATE = '2019-02-01'"
   ]
  },
  {
   "cell_type": "code",
   "execution_count": 4,
   "metadata": {},
   "outputs": [
    {
     "name": "stdout",
     "output_type": "stream",
     "text": [
      "2018-01-01\n",
      "2018-02-01\n",
      "2018-03-01\n",
      "2018-04-01\n",
      "2018-05-01\n",
      "2018-06-01\n",
      "2018-09-01\n",
      "2018-12-01\n",
      "2019-01-01\n"
     ]
    }
   ],
   "source": [
    "for date in ['2018-01-01','2018-02-01','2018-03-01','2018-04-01','2018-05-01','2018-06-01','2018-09-01','2018-12-01','2019-01-01']:\n",
    "    print(date)\n",
    "    fa.update_asset_debt_statement(df, date)"
   ]
  },
  {
   "cell_type": "markdown",
   "metadata": {},
   "source": [
    "# 更新配置信息"
   ]
  },
  {
   "cell_type": "code",
   "execution_count": 45,
   "metadata": {
    "collapsed": true
   },
   "outputs": [],
   "source": [
    "fa.update_config_info(df)"
   ]
  },
  {
   "cell_type": "markdown",
   "metadata": {},
   "source": [
    "# 更新月度资产负债表"
   ]
  },
  {
   "cell_type": "code",
   "execution_count": 6,
   "metadata": {},
   "outputs": [
    {
     "name": "stderr",
     "output_type": "stream",
     "text": [
      "Traceback (most recent call last):\n",
      "  File \"E:\\04_projects\\finance\\write.py\", line 59, in update_asset_debt_statement\n",
      "    sql.write_from_dataframe(output, 'asset_debt_statement')\n",
      "  File \"E:\\04_projects\\devkit\\io_utils\\sqlite_utils.py\", line 244, in write_from_dataframe\n",
      "    df.to_sql(table, self.conn, if_exists='append', index=False)\n",
      "  File \"E:\\06_software\\Anoconda\\lib\\site-packages\\pandas\\core\\generic.py\", line 1362, in to_sql\n",
      "    chunksize=chunksize, dtype=dtype)\n",
      "  File \"E:\\06_software\\Anoconda\\lib\\site-packages\\pandas\\io\\sql.py\", line 471, in to_sql\n",
      "    chunksize=chunksize, dtype=dtype)\n",
      "  File \"E:\\06_software\\Anoconda\\lib\\site-packages\\pandas\\io\\sql.py\", line 1506, in to_sql\n",
      "    table.insert(chunksize)\n",
      "  File \"E:\\06_software\\Anoconda\\lib\\site-packages\\pandas\\io\\sql.py\", line 666, in insert\n",
      "    self._execute_insert(conn, keys, chunk_iter)\n",
      "  File \"E:\\06_software\\Anoconda\\lib\\site-packages\\pandas\\io\\sql.py\", line 1294, in _execute_insert\n",
      "    conn.executemany(self.insert_statement(), data_list)\n",
      "sqlite3.IntegrityError: UNIQUE constraint failed: asset_debt_statement.date, asset_debt_statement.channel, asset_debt_statement.account_type, asset_debt_statement.category, asset_debt_statement.subclass, asset_debt_statement.item\n"
     ]
    }
   ],
   "source": [
    "fa.update_asset_debt_statement(df, DATE)"
   ]
  },
  {
   "cell_type": "markdown",
   "metadata": {},
   "source": [
    "# 更新权益类资产收益记录"
   ]
  },
  {
   "cell_type": "code",
   "execution_count": 39,
   "metadata": {},
   "outputs": [],
   "source": [
    "fa.update_equity_return_records(df, DATE)"
   ]
  },
  {
   "cell_type": "markdown",
   "metadata": {},
   "source": [
    "# 更新来自父母收入-当前净资产"
   ]
  },
  {
   "cell_type": "code",
   "execution_count": 40,
   "metadata": {
    "collapsed": true
   },
   "outputs": [],
   "source": [
    "fa.update_diff_from_parents(df)"
   ]
  },
  {
   "cell_type": "code",
   "execution_count": null,
   "metadata": {
    "collapsed": true
   },
   "outputs": [],
   "source": []
  }
 ],
 "metadata": {
  "kernelspec": {
   "display_name": "Python 3",
   "language": "python",
   "name": "python3"
  },
  "language_info": {
   "codemirror_mode": {
    "name": "ipython",
    "version": 3
   },
   "file_extension": ".py",
   "mimetype": "text/x-python",
   "name": "python",
   "nbconvert_exporter": "python",
   "pygments_lexer": "ipython3",
   "version": "3.6.3"
  },
  "toc": {
   "nav_menu": {},
   "number_sections": true,
   "sideBar": true,
   "skip_h1_title": false,
   "title_cell": "Table of Contents",
   "title_sidebar": "Contents",
   "toc_cell": false,
   "toc_position": {},
   "toc_section_display": true,
   "toc_window_display": false
  },
  "varInspector": {
   "cols": {
    "lenName": 16,
    "lenType": 16,
    "lenVar": 40
   },
   "kernels_config": {
    "python": {
     "delete_cmd_postfix": "",
     "delete_cmd_prefix": "del ",
     "library": "var_list.py",
     "varRefreshCmd": "print(var_dic_list())"
    },
    "r": {
     "delete_cmd_postfix": ") ",
     "delete_cmd_prefix": "rm(",
     "library": "var_list.r",
     "varRefreshCmd": "cat(var_dic_list()) "
    }
   },
   "types_to_exclude": [
    "module",
    "function",
    "builtin_function_or_method",
    "instance",
    "_Feature"
   ],
   "window_display": false
  }
 },
 "nbformat": 4,
 "nbformat_minor": 2
}
