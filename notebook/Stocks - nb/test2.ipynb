{
 "cells": [
  {
   "cell_type": "code",
   "execution_count": 2,
   "metadata": {},
   "outputs": [
    {
     "name": "stdout",
     "output_type": "stream",
     "text": [
      "Populating the interactive namespace from numpy and matplotlib\n"
     ]
    }
   ],
   "source": [
    "%pylab inline\n",
    "%load_ext autoreload\n",
    "%autoreload 2"
   ]
  },
  {
   "cell_type": "code",
   "execution_count": 140,
   "metadata": {
    "collapsed": true
   },
   "outputs": [],
   "source": [
    "import devkit.api as dk\n",
    "import pandas as pd\n",
    "import numpy as np\n",
    "from sklearn.decomposition import KernelPCA\n",
    "from sklearn.svm import SVR\n",
    "import matplotlib.pyplot as plt\n",
    "from sklearn.metrics import r2_score\n",
    "from sklearn.preprocessing import scale\n",
    "from sklearn.model_selection import train_test_split\n",
    "from sklearn import linear_model\n",
    "from sklearn.tree import DecisionTreeRegressor  # 导入决策树分类器\n",
    "from sklearn.model_selection import GridSearchCV  # 导入网格搜索便于调试找到最优参数"
   ]
  },
  {
   "cell_type": "code",
   "execution_count": 105,
   "metadata": {},
   "outputs": [],
   "source": [
    "ts_szzz1 = pd.read_csv(r\"E:\\99_daily\\TODAY\\szzz.csv\")  # 上证综指2000-2018年前复权收盘价及其他ts指标\n",
    "\n",
    "# 设置自变量和因变量\n",
    "ts_szzz1['x1'] = np.nan\n",
    "ts_szzz1['x2'] = np.nan\n",
    "ts_szzz1['x3'] = np.nan\n",
    "ts_szzz1['y'] = np.nan\n",
    "\n",
    "id_x1 = ts_szzz1.columns.tolist().index('x1')\n",
    "id_x2 = ts_szzz1.columns.tolist().index('x2')\n",
    "id_x3 = ts_szzz1.columns.tolist().index('x3')\n",
    "id_y = ts_szzz1.columns.tolist().index('y')\n",
    "id_close = ts_szzz1.columns.tolist().index('close')\n",
    "\n",
    "\n",
    "for i in range(close.shape[0]):\n",
    "    if i > 2 and i < close.shape[0] - 1:\n",
    "        ts_szzz1.iloc[i, id_x1] = ((ts_szzz1.iloc[i, id_close] / ts_szzz1.iloc[i - 1, id_close]) - 1) * 100\n",
    "        ts_szzz1.iloc[i, id_x2] = ((ts_szzz1.iloc[i, id_close] / ts_szzz1.iloc[i - 2, id_close]) - 1) * 100\n",
    "        ts_szzz1.iloc[i, id_x3] = ts_szzz1.iloc[i, id_close] - (ts_szzz1.iloc[i - 1, id_close] + ts_szzz1.iloc[i - 2, id_close] + ts_szzz1.iloc[i - 3, id_close]) / 3\n",
    "        ts_szzz1.iloc[i, id_y] = 100 * (ts_szzz1.iloc[i + 1, id_close] / (ts_szzz1.iloc[i - 1, id_close] + ts_szzz1.iloc[i - 2, id_close] + ts_szzz1.iloc[i, id_close]) * 3 - 1)\n",
    "\n",
    "ts_szzz2 = ts_szzz1.set_index('date')\n",
    "\n",
    "train_pre1 = ts_szzz2[['x1', 'x2', 'x3', 'y']]\n",
    "train_pre2 = train_pre1.dropna()\n",
    "train_pre3 = train_pre2.apply(lambda x: (x - x.mean()) / x.std())  # 统计标准化\n",
    "#  盖帽法处理极端值\n",
    "def handle_outliers(x):\n",
    "    x[np.abs(x)>3] = 3\n",
    "    return x\n",
    "\n",
    "train_pre4 = train_pre3.apply(lambda x: handle_outliers(x))"
   ]
  },
  {
   "cell_type": "code",
   "execution_count": 122,
   "metadata": {},
   "outputs": [],
   "source": [
    "x_train = train_pre4.iloc[:3500,:3]\n",
    "x_test = train_pre4.iloc[3500:,:3]\n",
    "y_train = train_pre4.iloc[:3500,3]\n",
    "y_test = train_pre4.iloc[3500:,3]"
   ]
  },
  {
   "cell_type": "code",
   "execution_count": 129,
   "metadata": {},
   "outputs": [
    {
     "name": "stdout",
     "output_type": "stream",
     "text": [
      "训练集R2=  0.36060204167\n",
      "测试集R2=  0.161383804735\n"
     ]
    }
   ],
   "source": [
    "svr_rbf = SVR(C=70,epsilon=0.5)\n",
    "svr_rbf.fit(x_train, y_train)\n",
    "print(\"训练集R2= \", svr_rbf.score(x_train, y_train))\n",
    "print(\"测试集R2= \", svr_rbf.score(x_test, y_test))"
   ]
  },
  {
   "cell_type": "code",
   "execution_count": 146,
   "metadata": {},
   "outputs": [
    {
     "name": "stdout",
     "output_type": "stream",
     "text": [
      "训练集R2=  0.324486470742\n",
      "测试集R2=  0.232560846471\n"
     ]
    }
   ],
   "source": [
    "svr_rbf = SVR(C=0.45,epsilon=0.6)\n",
    "svr_rbf.fit(x_train, y_train)\n",
    "print(\"训练集R2= \", svr_rbf.score(x_train, y_train))\n",
    "print(\"测试集R2= \", svr_rbf.score(x_test, y_test))"
   ]
  },
  {
   "cell_type": "code",
   "execution_count": 148,
   "metadata": {},
   "outputs": [
    {
     "name": "stdout",
     "output_type": "stream",
     "text": [
      "训练集R2=  0.320756556988\n",
      "测试集R2=  0.233118299227\n"
     ]
    }
   ],
   "source": [
    "svr_rbf = SVR(C=0.251,epsilon=0.6)\n",
    "svr_rbf.fit(x_train, y_train)\n",
    "print(\"训练集R2= \", svr_rbf.score(x_train, y_train))\n",
    "print(\"测试集R2= \", svr_rbf.score(x_test, y_test))"
   ]
  },
  {
   "cell_type": "code",
   "execution_count": 147,
   "metadata": {},
   "outputs": [
    {
     "name": "stdout",
     "output_type": "stream",
     "text": [
      "最佳score值： 0.304314940326 \n",
      " 最佳参数数 {'C': 0.251, 'epsilon': 0.5, 'kernel': 'rbf'}\n"
     ]
    }
   ],
   "source": [
    "# 网格法寻优\n",
    "# 首先对n_estimators（迭代次数）进行网格搜索\n",
    "param_test1 = {'kernel': ['rbf'], 'C': np.arange(0.001,1,0.05), 'epsilon': np.arange(0,1,0.05)}\n",
    "gsearch1 = GridSearchCV(estimator=SVR(), param_grid=param_test1, cv=5)\n",
    "gsearch1.fit(train_pre4.iloc[:,:3], train_pre4.iloc[:,3])\n",
    "print('最佳score值：', gsearch1.best_score_, '\\n 最佳参数数', gsearch1.best_params_)"
   ]
  },
  {
   "cell_type": "code",
   "execution_count": 145,
   "metadata": {},
   "outputs": [
    {
     "name": "stdout",
     "output_type": "stream",
     "text": [
      "最佳score值： 0.314853692846 \n",
      " 最佳参数数 {'C': 0.45001000000000002, 'epsilon': 0.60000000000000009, 'kernel': 'rbf'}\n"
     ]
    }
   ],
   "source": [
    "# 网格法寻优\n",
    "# 首先对n_estimators（迭代次数）进行网格搜索\n",
    "param_test1 = {'kernel': ['rbf'], 'C': np.arange(0.001,1,0.05), 'epsilon': np.arange(0,1,0.05)}\n",
    "gsearch1 = GridSearchCV(estimator=SVR(), param_grid=param_test1, cv=5)\n",
    "gsearch1.fit(x_train, y_train)\n",
    "print('最佳score值：', gsearch1.best_score_, '\\n 最佳参数数', gsearch1.best_params_)"
   ]
  },
  {
   "cell_type": "code",
   "execution_count": 138,
   "metadata": {},
   "outputs": [],
   "source": [
    "param_test1 = {'kernel': ['rbf','poly','sigmoid'], 'C': np.arange(0,1,0.05), 'epsilon': np.arange(0,1,0.05)}"
   ]
  },
  {
   "cell_type": "code",
   "execution_count": 137,
   "metadata": {},
   "outputs": [
    {
     "data": {
      "text/plain": [
       "array([ 0.  ,  0.05,  0.1 ,  0.15,  0.2 ,  0.25,  0.3 ,  0.35,  0.4 ,\n",
       "        0.45,  0.5 ,  0.55,  0.6 ,  0.65,  0.7 ,  0.75,  0.8 ,  0.85,\n",
       "        0.9 ,  0.95])"
      ]
     },
     "execution_count": 137,
     "metadata": {},
     "output_type": "execute_result"
    }
   ],
   "source": [
    "np.arange(0,1,0.05)"
   ]
  },
  {
   "cell_type": "code",
   "execution_count": 131,
   "metadata": {},
   "outputs": [
    {
     "name": "stdout",
     "output_type": "stream",
     "text": [
      "训练集R2=  0.980479103026\n",
      "测试集R2=  -0.504480009426\n"
     ]
    }
   ],
   "source": [
    "tree_regressor = DecisionTreeRegressor()\n",
    "tree_regressor.fit(x_train, y_train)\n",
    "print(\"训练集R2= \", tree_regressor.score(x_train, y_train))\n",
    "print(\"测试集R2= \", tree_regressor.score(x_test, y_test))"
   ]
  },
  {
   "cell_type": "code",
   "execution_count": 132,
   "metadata": {},
   "outputs": [
    {
     "name": "stdout",
     "output_type": "stream",
     "text": [
      "训练集R2=  0.0510871745065\n",
      "测试集R2=  0.0317275656623\n"
     ]
    }
   ],
   "source": [
    "clf = linear_model.Lasso(alpha=0.4)\n",
    "clf.fit(x_train, y_train)\n",
    "print(\"训练集R2= \", clf.score(x_train, y_train))\n",
    "print(\"测试集R2= \", clf.score(x_test, y_test))"
   ]
  },
  {
   "cell_type": "code",
   "execution_count": 95,
   "metadata": {
    "collapsed": true
   },
   "outputs": [],
   "source": []
  },
  {
   "cell_type": "code",
   "execution_count": 96,
   "metadata": {},
   "outputs": [
    {
     "data": {
      "text/plain": [
       "SVR(C=100, cache_size=200, coef0=0.0, degree=3, epsilon=0.001, gamma='auto',\n",
       "  kernel='rbf', max_iter=-1, shrinking=True, tol=0.001, verbose=False)"
      ]
     },
     "execution_count": 96,
     "metadata": {},
     "output_type": "execute_result"
    }
   ],
   "source": []
  },
  {
   "cell_type": "code",
   "execution_count": 91,
   "metadata": {},
   "outputs": [
    {
     "name": "stdout",
     "output_type": "stream",
     "text": [
      "训练集R2=  0.358913163286\n",
      "测试集R2=  0.181610869678\n"
     ]
    }
   ],
   "source": [
    "print(\"训练集R2= \", svr_rbf.score(x_train, y_train))\n",
    "print(\"测试集R2= \", svr_rbf.score(x_test, y_test))"
   ]
  },
  {
   "cell_type": "code",
   "execution_count": 97,
   "metadata": {},
   "outputs": [
    {
     "name": "stdout",
     "output_type": "stream",
     "text": [
      "训练集R2=  0.34330815152\n",
      "测试集R2=  0.335216904019\n"
     ]
    }
   ],
   "source": [
    "print(\"训练集R2= \", svr_rbf.score(x_train, y_train))\n",
    "print(\"测试集R2= \", svr_rbf.score(x_test, y_test))"
   ]
  },
  {
   "cell_type": "code",
   "execution_count": null,
   "metadata": {
    "collapsed": true
   },
   "outputs": [],
   "source": []
  }
 ],
 "metadata": {
  "kernelspec": {
   "display_name": "Python 3",
   "language": "python",
   "name": "python3"
  },
  "language_info": {
   "codemirror_mode": {
    "name": "ipython",
    "version": 3
   },
   "file_extension": ".py",
   "mimetype": "text/x-python",
   "name": "python",
   "nbconvert_exporter": "python",
   "pygments_lexer": "ipython3",
   "version": "3.6.3"
  },
  "toc": {
   "nav_menu": {},
   "number_sections": true,
   "sideBar": true,
   "skip_h1_title": false,
   "title_cell": "Table of Contents",
   "title_sidebar": "Contents",
   "toc_cell": false,
   "toc_position": {},
   "toc_section_display": true,
   "toc_window_display": false
  }
 },
 "nbformat": 4,
 "nbformat_minor": 2
}
