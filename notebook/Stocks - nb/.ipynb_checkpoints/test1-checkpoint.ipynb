{
 "cells": [
  {
   "cell_type": "code",
   "execution_count": null,
   "metadata": {},
   "outputs": [],
   "source": [
    "%pylab inline\n",
    "%load_ext autoreload\n",
    "%autoreload 2\n"
   ]
  },
  {
   "cell_type": "code",
   "execution_count": 208,
   "metadata": {
    "collapsed": true
   },
   "outputs": [],
   "source": [
    "import devkit.api as dk\n",
    "import pandas as pd\n",
    "import datetime\n",
    "import numpy as np\n",
    "from sklearn.decomposition import KernelPCA\n",
    "from sklearn.svm import SVR\n",
    "import matplotlib.pyplot as plt\n",
    "from sklearn.metrics import r2_score\n",
    "from sklearn.model_selection import train_test_split"
   ]
  },
  {
   "cell_type": "code",
   "execution_count": 286,
   "metadata": {
    "collapsed": true
   },
   "outputs": [],
   "source": [
    "from sklearn.tree import DecisionTreeRegressor  # 导入决策树分类器"
   ]
  },
  {
   "cell_type": "code",
   "execution_count": null,
   "metadata": {},
   "outputs": [],
   "source": [
    "conn = dk.MySQLProxy()\n",
    "conn.connect(\"root\", \"123888\", \"indicator\")"
   ]
  },
  {
   "cell_type": "code",
   "execution_count": 50,
   "metadata": {},
   "outputs": [
    {
     "name": "stdout",
     "output_type": "stream",
     "text": [
      "\u001b[34m[INFO] 2018-04-03 10:26:17 SELECT * FROM report_variables1 WHERE (Year(date_report) BETWEEN 2011 AND 2013) AND MONTH(date_report) =12\u001b[0m\n"
     ]
    }
   ],
   "source": [
    "query = \"SELECT * FROM report_variables1 WHERE (Year(date_report) BETWEEN 2011 AND 2013) AND MONTH(date_report) =12\"\n",
    "fr = conn.query_as_dataframe(query)"
   ]
  },
  {
   "cell_type": "code",
   "execution_count": 51,
   "metadata": {
    "collapsed": true
   },
   "outputs": [],
   "source": [
    "fr['date_report'] = fr.date_report.apply(lambda x: str(x))\n",
    "fr['date_published'] = fr.date_published.apply(lambda x: str(x))"
   ]
  },
  {
   "cell_type": "code",
   "execution_count": 52,
   "metadata": {
    "collapsed": true
   },
   "outputs": [],
   "source": [
    "fr_final = fr.copy()"
   ]
  },
  {
   "cell_type": "code",
   "execution_count": 53,
   "metadata": {},
   "outputs": [
    {
     "data": {
      "text/html": [
       "<div>\n",
       "<style>\n",
       "    .dataframe thead tr:only-child th {\n",
       "        text-align: right;\n",
       "    }\n",
       "\n",
       "    .dataframe thead th {\n",
       "        text-align: left;\n",
       "    }\n",
       "\n",
       "    .dataframe tbody tr th {\n",
       "        vertical-align: top;\n",
       "    }\n",
       "</style>\n",
       "<table border=\"1\" class=\"dataframe\">\n",
       "  <thead>\n",
       "    <tr style=\"text-align: right;\">\n",
       "      <th></th>\n",
       "      <th>date_report</th>\n",
       "      <th>date_published</th>\n",
       "      <th>sec_id</th>\n",
       "      <th>current_asset</th>\n",
       "      <th>fixed_asset</th>\n",
       "      <th>intangible_asset</th>\n",
       "      <th>asset</th>\n",
       "      <th>current_liab</th>\n",
       "      <th>long_term_liab</th>\n",
       "      <th>equity</th>\n",
       "      <th>...</th>\n",
       "      <th>产权比率</th>\n",
       "      <th>股东权益比率</th>\n",
       "      <th>股东权益与固定资产比率</th>\n",
       "      <th>固定资产与股东权益比率</th>\n",
       "      <th>长期负债比例</th>\n",
       "      <th>固定资产比例</th>\n",
       "      <th>流动负债比</th>\n",
       "      <th>流动负债率</th>\n",
       "      <th>流动资产比例</th>\n",
       "      <th>权益负债比率</th>\n",
       "    </tr>\n",
       "  </thead>\n",
       "  <tbody>\n",
       "    <tr>\n",
       "      <th>0</th>\n",
       "      <td>2011-12-31</td>\n",
       "      <td>2012-03-16</td>\n",
       "      <td>SH600000</td>\n",
       "      <td>NaN</td>\n",
       "      <td>8.594000e+09</td>\n",
       "      <td>4.570000e+08</td>\n",
       "      <td>2.684694e+12</td>\n",
       "      <td>NaN</td>\n",
       "      <td>NaN</td>\n",
       "      <td>1.495420e+11</td>\n",
       "      <td>...</td>\n",
       "      <td>17.03</td>\n",
       "      <td>0.06</td>\n",
       "      <td>18.30</td>\n",
       "      <td>0.05</td>\n",
       "      <td>NaN</td>\n",
       "      <td>0.30</td>\n",
       "      <td>NaN</td>\n",
       "      <td>NaN</td>\n",
       "      <td>NaN</td>\n",
       "      <td>0.06</td>\n",
       "    </tr>\n",
       "    <tr>\n",
       "      <th>1</th>\n",
       "      <td>2011-12-31</td>\n",
       "      <td>2012-03-15</td>\n",
       "      <td>SH600004</td>\n",
       "      <td>1.792915e+09</td>\n",
       "      <td>8.512887e+09</td>\n",
       "      <td>2.302901e+07</td>\n",
       "      <td>1.063946e+10</td>\n",
       "      <td>3.230252e+09</td>\n",
       "      <td>3.205866e+08</td>\n",
       "      <td>7.088626e+09</td>\n",
       "      <td>...</td>\n",
       "      <td>0.52</td>\n",
       "      <td>0.65</td>\n",
       "      <td>0.82</td>\n",
       "      <td>1.22</td>\n",
       "      <td>3.01</td>\n",
       "      <td>79.04</td>\n",
       "      <td>30.36</td>\n",
       "      <td>90.97</td>\n",
       "      <td>16.85</td>\n",
       "      <td>1.93</td>\n",
       "    </tr>\n",
       "    <tr>\n",
       "      <th>2</th>\n",
       "      <td>2011-12-31</td>\n",
       "      <td>2012-03-27</td>\n",
       "      <td>SH600006</td>\n",
       "      <td>1.279813e+10</td>\n",
       "      <td>3.822474e+09</td>\n",
       "      <td>6.920415e+08</td>\n",
       "      <td>1.940876e+10</td>\n",
       "      <td>1.154877e+10</td>\n",
       "      <td>3.853494e+08</td>\n",
       "      <td>7.474647e+09</td>\n",
       "      <td>...</td>\n",
       "      <td>1.99</td>\n",
       "      <td>0.31</td>\n",
       "      <td>2.28</td>\n",
       "      <td>0.44</td>\n",
       "      <td>1.99</td>\n",
       "      <td>13.55</td>\n",
       "      <td>59.50</td>\n",
       "      <td>96.77</td>\n",
       "      <td>65.94</td>\n",
       "      <td>0.50</td>\n",
       "    </tr>\n",
       "  </tbody>\n",
       "</table>\n",
       "<p>3 rows × 106 columns</p>\n",
       "</div>"
      ],
      "text/plain": [
       "  date_report date_published    sec_id  current_asset   fixed_asset  \\\n",
       "0  2011-12-31     2012-03-16  SH600000            NaN  8.594000e+09   \n",
       "1  2011-12-31     2012-03-15  SH600004   1.792915e+09  8.512887e+09   \n",
       "2  2011-12-31     2012-03-27  SH600006   1.279813e+10  3.822474e+09   \n",
       "\n",
       "   intangible_asset         asset  current_liab  long_term_liab        equity  \\\n",
       "0      4.570000e+08  2.684694e+12           NaN             NaN  1.495420e+11   \n",
       "1      2.302901e+07  1.063946e+10  3.230252e+09    3.205866e+08  7.088626e+09   \n",
       "2      6.920415e+08  1.940876e+10  1.154877e+10    3.853494e+08  7.474647e+09   \n",
       "\n",
       "    ...     产权比率  股东权益比率  股东权益与固定资产比率  固定资产与股东权益比率  长期负债比例  固定资产比例  流动负债比  \\\n",
       "0   ...    17.03    0.06        18.30         0.05     NaN    0.30    NaN   \n",
       "1   ...     0.52    0.65         0.82         1.22    3.01   79.04  30.36   \n",
       "2   ...     1.99    0.31         2.28         0.44    1.99   13.55  59.50   \n",
       "\n",
       "   流动负债率  流动资产比例  权益负债比率  \n",
       "0    NaN     NaN    0.06  \n",
       "1  90.97   16.85    1.93  \n",
       "2  96.77   65.94    0.50  \n",
       "\n",
       "[3 rows x 106 columns]"
      ]
     },
     "execution_count": 53,
     "metadata": {},
     "output_type": "execute_result"
    }
   ],
   "source": [
    "fr_final.head(3)"
   ]
  },
  {
   "cell_type": "code",
   "execution_count": 54,
   "metadata": {
    "collapsed": true
   },
   "outputs": [],
   "source": [
    "query = \"SELECT date, sec_id, close, traded_days_until_now, is_trade, is_st, stock_float_shares \\\n",
    "FROM time_series_variables \\\n",
    "WHERE is_st=0 AND (date BETWEEN '2012-01-01' AND '2015-4-31') AND traded_days_until_now>400 AND is_trade=1 \\\n",
    ";\"\n"
   ]
  },
  {
   "cell_type": "code",
   "execution_count": 55,
   "metadata": {},
   "outputs": [
    {
     "name": "stdout",
     "output_type": "stream",
     "text": [
      "\u001b[34m[INFO] 2018-04-03 10:27:29 SELECT date, sec_id, close, traded_days_until_now, is_trade, is_st, stock_float_shares FROM time_series_variables WHERE is_st=0 AND (date BETWEEN '2012-01-01' AND '2015-4-31') AND traded_days_until_now>400 AND is_trade=1 ;\u001b[0m\n"
     ]
    }
   ],
   "source": [
    "close1 = conn.query_as_dataframe(query)"
   ]
  },
  {
   "cell_type": "code",
   "execution_count": 56,
   "metadata": {
    "collapsed": true
   },
   "outputs": [],
   "source": [
    "close1['date'] = close1.date.apply(lambda x: str(x))"
   ]
  },
  {
   "cell_type": "code",
   "execution_count": 57,
   "metadata": {},
   "outputs": [
    {
     "data": {
      "text/html": [
       "<div>\n",
       "<style>\n",
       "    .dataframe thead tr:only-child th {\n",
       "        text-align: right;\n",
       "    }\n",
       "\n",
       "    .dataframe thead th {\n",
       "        text-align: left;\n",
       "    }\n",
       "\n",
       "    .dataframe tbody tr th {\n",
       "        vertical-align: top;\n",
       "    }\n",
       "</style>\n",
       "<table border=\"1\" class=\"dataframe\">\n",
       "  <thead>\n",
       "    <tr style=\"text-align: right;\">\n",
       "      <th></th>\n",
       "      <th>date</th>\n",
       "      <th>sec_id</th>\n",
       "      <th>close</th>\n",
       "      <th>traded_days_until_now</th>\n",
       "      <th>is_trade</th>\n",
       "      <th>is_st</th>\n",
       "      <th>stock_float_shares</th>\n",
       "    </tr>\n",
       "  </thead>\n",
       "  <tbody>\n",
       "    <tr>\n",
       "      <th>0</th>\n",
       "      <td>2012-01-04</td>\n",
       "      <td>SH600000</td>\n",
       "      <td>4.59</td>\n",
       "      <td>2854</td>\n",
       "      <td>1</td>\n",
       "      <td>0</td>\n",
       "      <td>14922777132</td>\n",
       "    </tr>\n",
       "    <tr>\n",
       "      <th>1</th>\n",
       "      <td>2012-01-04</td>\n",
       "      <td>SH600004</td>\n",
       "      <td>3.46</td>\n",
       "      <td>2062</td>\n",
       "      <td>1</td>\n",
       "      <td>0</td>\n",
       "      <td>1150000000</td>\n",
       "    </tr>\n",
       "    <tr>\n",
       "      <th>2</th>\n",
       "      <td>2012-01-04</td>\n",
       "      <td>SH600006</td>\n",
       "      <td>3.00</td>\n",
       "      <td>2954</td>\n",
       "      <td>1</td>\n",
       "      <td>0</td>\n",
       "      <td>2000000000</td>\n",
       "    </tr>\n",
       "  </tbody>\n",
       "</table>\n",
       "</div>"
      ],
      "text/plain": [
       "         date    sec_id  close  traded_days_until_now  is_trade  is_st  \\\n",
       "0  2012-01-04  SH600000   4.59                   2854         1      0   \n",
       "1  2012-01-04  SH600004   3.46                   2062         1      0   \n",
       "2  2012-01-04  SH600006   3.00                   2954         1      0   \n",
       "\n",
       "   stock_float_shares  \n",
       "0         14922777132  \n",
       "1          1150000000  \n",
       "2          2000000000  "
      ]
     },
     "execution_count": 57,
     "metadata": {},
     "output_type": "execute_result"
    }
   ],
   "source": [
    "close1.head(3)"
   ]
  },
  {
   "cell_type": "code",
   "execution_count": 58,
   "metadata": {
    "collapsed": true
   },
   "outputs": [],
   "source": [
    "close2 = close1[['date', 'sec_id', 'close', 'stock_float_shares']]"
   ]
  },
  {
   "cell_type": "code",
   "execution_count": 59,
   "metadata": {
    "collapsed": true
   },
   "outputs": [],
   "source": [
    "temp1 = fr_final[['date_published','sec_id']].copy()"
   ]
  },
  {
   "cell_type": "code",
   "execution_count": 60,
   "metadata": {},
   "outputs": [
    {
     "data": {
      "text/html": [
       "<div>\n",
       "<style>\n",
       "    .dataframe thead tr:only-child th {\n",
       "        text-align: right;\n",
       "    }\n",
       "\n",
       "    .dataframe thead th {\n",
       "        text-align: left;\n",
       "    }\n",
       "\n",
       "    .dataframe tbody tr th {\n",
       "        vertical-align: top;\n",
       "    }\n",
       "</style>\n",
       "<table border=\"1\" class=\"dataframe\">\n",
       "  <thead>\n",
       "    <tr style=\"text-align: right;\">\n",
       "      <th></th>\n",
       "      <th>date_published</th>\n",
       "      <th>sec_id</th>\n",
       "    </tr>\n",
       "  </thead>\n",
       "  <tbody>\n",
       "    <tr>\n",
       "      <th>0</th>\n",
       "      <td>2012-03-16</td>\n",
       "      <td>SH600000</td>\n",
       "    </tr>\n",
       "    <tr>\n",
       "      <th>1</th>\n",
       "      <td>2012-03-15</td>\n",
       "      <td>SH600004</td>\n",
       "    </tr>\n",
       "    <tr>\n",
       "      <th>2</th>\n",
       "      <td>2012-03-27</td>\n",
       "      <td>SH600006</td>\n",
       "    </tr>\n",
       "  </tbody>\n",
       "</table>\n",
       "</div>"
      ],
      "text/plain": [
       "  date_published    sec_id\n",
       "0     2012-03-16  SH600000\n",
       "1     2012-03-15  SH600004\n",
       "2     2012-03-27  SH600006"
      ]
     },
     "execution_count": 60,
     "metadata": {},
     "output_type": "execute_result"
    }
   ],
   "source": [
    "temp1.head(3)"
   ]
  },
  {
   "cell_type": "code",
   "execution_count": 30,
   "metadata": {
    "collapsed": true
   },
   "outputs": [],
   "source": [
    "def get_close_price_on_published_day(df_fr, df_close):\n",
    "    \"\"\"\n",
    "    df_fr: <DataFrame>: columns = ['date_published','sec_id', 'date_benchmark']\n",
    "    df_close: <DataFrame>: columns = [date sec_id  close stock_float_shares]\n",
    "    type: <int>: close_beging 年报发布日当天或之后第一个交易日的股价 \n",
    "                 close_ending 报发布日一年后最接近的股价\n",
    "    \"\"\"\n",
    "    df_close['yearmonth'] = df_close.date.apply(lambda x: x[:7])\n",
    "    df_fr['yearmonth'] = df_fr['date_published'].apply(lambda x: x[:7])\n",
    "    df1=df_fr.merge(df_close, how='inner', on=['sec_id','yearmonth'])\n",
    "    df2 = df1.groupby(['sec_id', 'date_published'], as_index=False).apply(lambda x: x[x.date >= x.date_published].head(1))\n",
    "    df3 = df2.rename(columns={'close': 'close_begin','date':'date_beging'}).copy()\n",
    "    del df3['yearmonth']\n",
    "    return df3"
   ]
  },
  {
   "cell_type": "code",
   "execution_count": 61,
   "metadata": {
    "collapsed": true
   },
   "outputs": [],
   "source": [
    "def get_close_price_after_one_year_on_published_day(df_fr, df_close):\n",
    "    \"\"\"\n",
    "    df_fr: <DataFrame>: columns = ['date_published','sec_id']\n",
    "    df_close: <DataFrame>: columns = [date sec_id  close stock_float_shares]\n",
    "\n",
    "    \"\"\"\n",
    "    df_close['yearmonth'] = df_close.date.apply(lambda x: x[:7])\n",
    "    df_fr['date_one_year'] = df_fr.date_published.apply(lambda x: str(int(x[:4]) + 1) + x[4:])  # 1年后的价格\n",
    "    df_fr['yearmonth'] = df_fr['date_one_year'].apply(lambda x: x[:7])\n",
    "    df1 = df_fr.merge(df_close, how='inner', on=['sec_id', 'yearmonth'])\n",
    "    df2 = df1.groupby(['sec_id', 'date_published'], as_index=False).apply(lambda x: x[x.date <= x.date_one_year].tail(1))\n",
    "    df3 = df2.rename(columns={'close': 'close_ending', 'date':'date_ending'})\n",
    "    del df3['yearmonth']\n",
    "    del df3['date_one_year']\n",
    "    return df3"
   ]
  },
  {
   "cell_type": "code",
   "execution_count": 62,
   "metadata": {
    "collapsed": true
   },
   "outputs": [],
   "source": [
    "aaa = get_close_price_on_published_day(df_fr=temp1.copy(), df_close=close2.copy())"
   ]
  },
  {
   "cell_type": "code",
   "execution_count": 63,
   "metadata": {},
   "outputs": [],
   "source": [
    "bbb = get_close_price_after_one_year_on_published_day(df_fr = aaa.copy(), df_close=close2.copy())"
   ]
  },
  {
   "cell_type": "code",
   "execution_count": 65,
   "metadata": {
    "collapsed": true
   },
   "outputs": [],
   "source": [
    "ccc = bbb[['date_published', 'sec_id', 'date_beging', 'close_begin', 'date_ending', 'close_ending', 'stock_float_shares_x','stock_float_shares_y']].copy()"
   ]
  },
  {
   "cell_type": "code",
   "execution_count": 66,
   "metadata": {
    "collapsed": true
   },
   "outputs": [],
   "source": [
    "ccc['return_rate']  = ccc['close_ending'] / ccc['close_begin'] - 1"
   ]
  },
  {
   "cell_type": "code",
   "execution_count": 67,
   "metadata": {
    "collapsed": true
   },
   "outputs": [],
   "source": [
    "ccc[\"stock_float_shares_mean\"] = (ccc[\"stock_float_shares_x\"] + ccc[\"stock_float_shares_y\"]) / 2"
   ]
  },
  {
   "cell_type": "code",
   "execution_count": 96,
   "metadata": {
    "collapsed": true
   },
   "outputs": [],
   "source": [
    "df1 = fr_final.merge(ccc,how='inner',on=['date_published','sec_id'])"
   ]
  },
  {
   "cell_type": "code",
   "execution_count": null,
   "metadata": {
    "collapsed": true
   },
   "outputs": [],
   "source": [
    "df_final.to_csv(r\"E:\\99_daily\\TODAY\\df_final.csv\",encoding='utf-8')"
   ]
  },
  {
   "cell_type": "code",
   "execution_count": 8,
   "metadata": {
    "collapsed": true
   },
   "outputs": [],
   "source": [
    "df_final = pd.read_csv(r\"E:\\99_daily\\TODAY\\df_final.csv\",index_col=0)"
   ]
  },
  {
   "cell_type": "code",
   "execution_count": 88,
   "metadata": {},
   "outputs": [],
   "source": [
    "industry = pd.read_csv(r\"E:\\99_daily\\TODAY\\industry_sw.csv\")"
   ]
  },
  {
   "cell_type": "code",
   "execution_count": 90,
   "metadata": {},
   "outputs": [],
   "source": [
    "industry['sec_id'] = industry['sec_id'].apply(lambda x: x.split('.')[1]+x.split('.')[0] )"
   ]
  },
  {
   "cell_type": "code",
   "execution_count": 92,
   "metadata": {},
   "outputs": [],
   "source": [
    "industry_map = industry[['sec_id', 'industry_sw']]"
   ]
  },
  {
   "cell_type": "code",
   "execution_count": 93,
   "metadata": {},
   "outputs": [
    {
     "data": {
      "text/plain": [
       "(5323, 114)"
      ]
     },
     "execution_count": 93,
     "metadata": {},
     "output_type": "execute_result"
    }
   ],
   "source": [
    "df_final.shape"
   ]
  },
  {
   "cell_type": "code",
   "execution_count": 141,
   "metadata": {},
   "outputs": [],
   "source": [
    "df2 = df1.merge(industry_map, how='inner', on=['sec_id'])"
   ]
  },
  {
   "cell_type": "code",
   "execution_count": 144,
   "metadata": {},
   "outputs": [],
   "source": [
    "df3 = df2[~df2.industry_sw.isin(['银行', '非银金融'])].copy()"
   ]
  },
  {
   "cell_type": "code",
   "execution_count": 145,
   "metadata": {
    "collapsed": true
   },
   "outputs": [],
   "source": [
    "train_pre = df3.drop(['sec_id', 'date_report', 'date_published','date_beging','close_begin','date_ending','close_ending','stock_float_shares_x','stock_float_shares_y','stock_float_shares_mean','industry_sw'], axis=1)"
   ]
  },
  {
   "cell_type": "code",
   "execution_count": 146,
   "metadata": {},
   "outputs": [
    {
     "data": {
      "text/plain": [
       "(5172, 104)"
      ]
     },
     "execution_count": 146,
     "metadata": {},
     "output_type": "execute_result"
    }
   ],
   "source": [
    "train_pre.shape"
   ]
  },
  {
   "cell_type": "code",
   "execution_count": 160,
   "metadata": {},
   "outputs": [],
   "source": [
    "retained_vars=(train_pre.isnull().sum()==0)\n",
    "retained_vars=retained_vars[retained_vars].index.tolist()"
   ]
  },
  {
   "cell_type": "code",
   "execution_count": 162,
   "metadata": {},
   "outputs": [],
   "source": [
    "train_pre1 = train_pre.loc[:, retained_vars]"
   ]
  },
  {
   "cell_type": "code",
   "execution_count": 167,
   "metadata": {},
   "outputs": [],
   "source": [
    "train_pre1.to_csv(r\"E:\\99_daily\\TODAY\\train_pre1.csv\")"
   ]
  },
  {
   "cell_type": "code",
   "execution_count": 187,
   "metadata": {},
   "outputs": [],
   "source": [
    "train_pre1=pd.read_csv(r\"E:\\99_daily\\TODAY\\train_pre1.csv\", encoding='gbk')"
   ]
  },
  {
   "cell_type": "code",
   "execution_count": 200,
   "metadata": {
    "collapsed": true
   },
   "outputs": [],
   "source": [
    "train_pre2 = train_pre1.copy()"
   ]
  },
  {
   "cell_type": "code",
   "execution_count": 298,
   "metadata": {
    "collapsed": true
   },
   "outputs": [],
   "source": [
    "y = train_pre2.iloc[:, -1]\n",
    "X = train_pre2.iloc[:, :-1]"
   ]
  },
  {
   "cell_type": "code",
   "execution_count": 271,
   "metadata": {},
   "outputs": [
    {
     "data": {
      "text/plain": [
       "KernelPCA(alpha=1.0, coef0=1, copy_X=True, degree=3, eigen_solver='auto',\n",
       "     fit_inverse_transform=False, gamma=None, kernel='linear',\n",
       "     kernel_params=None, max_iter=None, n_components=None, n_jobs=1,\n",
       "     random_state=None, remove_zero_eig=False, tol=0)"
      ]
     },
     "execution_count": 271,
     "metadata": {},
     "output_type": "execute_result"
    }
   ],
   "source": [
    "kpca=KernelPCA()\n",
    "kpca.fit(X)"
   ]
  },
  {
   "cell_type": "code",
   "execution_count": 278,
   "metadata": {},
   "outputs": [
    {
     "data": {
      "text/plain": [
       "0.94302089398000088"
      ]
     },
     "execution_count": 278,
     "metadata": {},
     "output_type": "execute_result"
    }
   ],
   "source": [
    "get_we = lambda x: x / x.sum()\n",
    "get_we(kpca.lambdas_)[:16].sum()"
   ]
  },
  {
   "cell_type": "code",
   "execution_count": 276,
   "metadata": {
    "collapsed": true
   },
   "outputs": [],
   "source": [
    "X_transform = kpca.transform(X)[:, :16]"
   ]
  },
  {
   "cell_type": "code",
   "execution_count": null,
   "metadata": {},
   "outputs": [],
   "source": [
    "x_train, x_test, y_train, y_test = train_test_split(X, y, test_size=0.33)"
   ]
  },
  {
   "cell_type": "code",
   "execution_count": null,
   "metadata": {},
   "outputs": [],
   "source": [
    "svr_rbf = SVR(kernel='poly', C=1e3, gamma=0.1)\n",
    "svr_rbf.fit(x_train, y_train)"
   ]
  },
  {
   "cell_type": "code",
   "execution_count": 289,
   "metadata": {},
   "outputs": [
    {
     "name": "stdout",
     "output_type": "stream",
     "text": [
      "训练集R2=  0.556104375859\n",
      "测试集R2=  -1.59749080925\n"
     ]
    }
   ],
   "source": [
    "print(\"训练集R2= \", svr_rbf.score(x_train, y_train))\n",
    "print(\"测试集R2= \", svr_rbf.score(x_test, y_test))"
   ]
  },
  {
   "cell_type": "code",
   "execution_count": 301,
   "metadata": {},
   "outputs": [
    {
     "data": {
      "text/plain": [
       "DecisionTreeRegressor(criterion='mse', max_depth=None, max_features=None,\n",
       "           max_leaf_nodes=None, min_impurity_decrease=0.0,\n",
       "           min_impurity_split=None, min_samples_leaf=1,\n",
       "           min_samples_split=2, min_weight_fraction_leaf=0.0,\n",
       "           presort=False, random_state=None, splitter='best')"
      ]
     },
     "execution_count": 301,
     "metadata": {},
     "output_type": "execute_result"
    }
   ],
   "source": [
    "tree_regressor = DecisionTreeRegressor()\n",
    "tree_regressor.fit(x_train, y_train)"
   ]
  },
  {
   "cell_type": "code",
   "execution_count": 302,
   "metadata": {},
   "outputs": [
    {
     "name": "stdout",
     "output_type": "stream",
     "text": [
      "训练集R2=  0.999999999477\n",
      "测试集R2=  -0.741128851548\n"
     ]
    }
   ],
   "source": [
    "print(\"训练集R2= \", tree_regressor.score(x_train, y_train))\n",
    "print(\"测试集R2= \", tree_regressor.score(x_test, y_test))"
   ]
  },
  {
   "cell_type": "code",
   "execution_count": 300,
   "metadata": {},
   "outputs": [
    {
     "data": {
      "text/plain": [
       "(1707, 41)"
      ]
     },
     "execution_count": 300,
     "metadata": {},
     "output_type": "execute_result"
    }
   ],
   "source": [
    "x_test.shape"
   ]
  },
  {
   "cell_type": "code",
   "execution_count": 284,
   "metadata": {
    "collapsed": true
   },
   "outputs": [],
   "source": [
    "test_pred = svr_rbf.predict(x_test)"
   ]
  },
  {
   "cell_type": "code",
   "execution_count": 287,
   "metadata": {},
   "outputs": [
    {
     "data": {
      "text/plain": [
       "0.55610437585920447"
      ]
     },
     "execution_count": 287,
     "metadata": {},
     "output_type": "execute_result"
    }
   ],
   "source": [
    "svr_rbf.score(x_train, y_train)"
   ]
  },
  {
   "cell_type": "code",
   "execution_count": 288,
   "metadata": {},
   "outputs": [
    {
     "data": {
      "text/plain": [
       "-1.5974908092506177"
      ]
     },
     "execution_count": 288,
     "metadata": {},
     "output_type": "execute_result"
    }
   ],
   "source": [
    "svr_rbf.score(x_test, y_test)"
   ]
  },
  {
   "cell_type": "code",
   "execution_count": 266,
   "metadata": {},
   "outputs": [],
   "source": [
    "y_predict=svr_rbf.predict(x_test_new)"
   ]
  },
  {
   "cell_type": "code",
   "execution_count": 282,
   "metadata": {},
   "outputs": [
    {
     "data": {
      "text/plain": [
       "0.55610437585920447"
      ]
     },
     "execution_count": 282,
     "metadata": {},
     "output_type": "execute_result"
    }
   ],
   "source": [
    "r2_score(y_train, train_pred)"
   ]
  },
  {
   "cell_type": "code",
   "execution_count": 285,
   "metadata": {},
   "outputs": [
    {
     "data": {
      "text/plain": [
       "-1.5974908092506177"
      ]
     },
     "execution_count": 285,
     "metadata": {},
     "output_type": "execute_result"
    }
   ],
   "source": [
    "r2_score(y_test, test_pred)"
   ]
  },
  {
   "cell_type": "code",
   "execution_count": 226,
   "metadata": {},
   "outputs": [
    {
     "data": {
      "text/plain": [
       "0.51605465469597545"
      ]
     },
     "execution_count": 226,
     "metadata": {},
     "output_type": "execute_result"
    }
   ],
   "source": [
    "r2_score(y, y_predict)"
   ]
  },
  {
   "cell_type": "code",
   "execution_count": null,
   "metadata": {
    "collapsed": true
   },
   "outputs": [],
   "source": [
    "temp1['yearmonth'] = temp1.date_end.apply(lambda x: x[:7])"
   ]
  },
  {
   "cell_type": "code",
   "execution_count": null,
   "metadata": {},
   "outputs": [],
   "source": [
    "temp1.head(3)"
   ]
  },
  {
   "cell_type": "code",
   "execution_count": null,
   "metadata": {
    "collapsed": true
   },
   "outputs": [],
   "source": [
    "close2=temp1.merge(close1, how='inner', on=['sec_id','yearmonth'])"
   ]
  },
  {
   "cell_type": "code",
   "execution_count": null,
   "metadata": {
    "collapsed": true
   },
   "outputs": [],
   "source": [
    "close3=close2.groupby(['sec_id','date_published'],as_index=False).apply(lambda x: x[x.date <= x.date_end].tail(1))"
   ]
  },
  {
   "cell_type": "code",
   "execution_count": null,
   "metadata": {
    "collapsed": true
   },
   "outputs": [],
   "source": [
    "close3 = close3.rename(columns={'close': 'close_end'})"
   ]
  },
  {
   "cell_type": "code",
   "execution_count": null,
   "metadata": {
    "collapsed": true
   },
   "outputs": [],
   "source": [
    "del close3['yearmonth']"
   ]
  },
  {
   "cell_type": "code",
   "execution_count": null,
   "metadata": {
    "collapsed": true
   },
   "outputs": [],
   "source": [
    "close3['yearmonth'] = close3.date_published.apply(lambda x: x[:7])"
   ]
  },
  {
   "cell_type": "code",
   "execution_count": null,
   "metadata": {
    "collapsed": true
   },
   "outputs": [],
   "source": [
    "del close3['date_end']"
   ]
  },
  {
   "cell_type": "code",
   "execution_count": null,
   "metadata": {
    "collapsed": true
   },
   "outputs": [],
   "source": [
    "close3 = close3.rename(columns={'date': 'date_end'})"
   ]
  },
  {
   "cell_type": "code",
   "execution_count": null,
   "metadata": {
    "collapsed": true
   },
   "outputs": [],
   "source": [
    "close4=close3.merge(close1, how='inner', on=['sec_id','yearmonth'])"
   ]
  },
  {
   "cell_type": "code",
   "execution_count": null,
   "metadata": {
    "collapsed": true
   },
   "outputs": [],
   "source": [
    "close5=close4.groupby(['sec_id','date_published'],as_index=False).apply(lambda x: x[x.date >= x.date_published].head(1))"
   ]
  },
  {
   "cell_type": "code",
   "execution_count": null,
   "metadata": {
    "collapsed": true
   },
   "outputs": [],
   "source": [
    "close6 = close5.rename(columns={'date': 'date_beging','close':'close_begin'})"
   ]
  },
  {
   "cell_type": "code",
   "execution_count": null,
   "metadata": {
    "collapsed": true
   },
   "outputs": [],
   "source": [
    "close7 = close6[['date_published', 'sec_id', 'date_beging', 'close_begin', 'date_end', 'close_end', 'stock_float_shares_x','stock_float_shares_y']]"
   ]
  },
  {
   "cell_type": "code",
   "execution_count": null,
   "metadata": {},
   "outputs": [],
   "source": [
    "close7"
   ]
  },
  {
   "cell_type": "code",
   "execution_count": null,
   "metadata": {
    "collapsed": true
   },
   "outputs": [],
   "source": []
  }
 ],
 "metadata": {
  "kernelspec": {
   "display_name": "Python 3",
   "language": "python",
   "name": "python3"
  },
  "language_info": {
   "codemirror_mode": {
    "name": "ipython",
    "version": 3
   },
   "file_extension": ".py",
   "mimetype": "text/x-python",
   "name": "python",
   "nbconvert_exporter": "python",
   "pygments_lexer": "ipython3",
   "version": "3.6.3"
  },
  "toc": {
   "nav_menu": {},
   "number_sections": true,
   "sideBar": true,
   "skip_h1_title": false,
   "title_cell": "Table of Contents",
   "title_sidebar": "Contents",
   "toc_cell": false,
   "toc_position": {},
   "toc_section_display": true,
   "toc_window_display": false
  }
 },
 "nbformat": 4,
 "nbformat_minor": 2
}
