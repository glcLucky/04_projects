{
 "cells": [
  {
   "cell_type": "code",
   "execution_count": 25,
   "metadata": {},
   "outputs": [
    {
     "name": "stdout",
     "output_type": "stream",
     "text": [
      "Populating the interactive namespace from numpy and matplotlib\n"
     ]
    }
   ],
   "source": [
    "%pylab inline\n",
    "%load_ext autoreload\n",
    "%autoreload 2"
   ]
  },
  {
   "cell_type": "code",
   "execution_count": 26,
   "metadata": {
    "collapsed": true
   },
   "outputs": [],
   "source": [
    "import devkit.api as dk\n",
    "import pandas as pd\n",
    "import datetime\n",
    "import numpy as np"
   ]
  },
  {
   "cell_type": "code",
   "execution_count": 29,
   "metadata": {},
   "outputs": [
    {
     "name": "stdout",
     "output_type": "stream",
     "text": [
      "\u001b[32m[INFO] 2018-04-09 21:36:15 index is connected.\u001b[0m\n"
     ]
    }
   ],
   "source": [
    "conn = dk.MySQLProxy()\n",
    "conn.connect(\"root\", \"123888\", \"index\")"
   ]
  },
  {
   "cell_type": "code",
   "execution_count": 23,
   "metadata": {
    "collapsed": true
   },
   "outputs": [],
   "source": [
    "query = \"SELECT * FROM close \\\n",
    "WHERE is_st = 0 AND is_trade = 1 \\\n",
    ";\""
   ]
  },
  {
   "cell_type": "code",
   "execution_count": 30,
   "metadata": {},
   "outputs": [
    {
     "name": "stdout",
     "output_type": "stream",
     "text": [
      "\u001b[34m[INFO] 2018-04-09 21:37:14 SELECT * FROM close\u001b[0m\n"
     ]
    }
   ],
   "source": [
    "close = conn.query_as_dataframe(\"SELECT * FROM close\")"
   ]
  },
  {
   "cell_type": "code",
   "execution_count": 31,
   "metadata": {},
   "outputs": [
    {
     "data": {
      "text/html": [
       "<div>\n",
       "<style>\n",
       "    .dataframe thead tr:only-child th {\n",
       "        text-align: right;\n",
       "    }\n",
       "\n",
       "    .dataframe thead th {\n",
       "        text-align: left;\n",
       "    }\n",
       "\n",
       "    .dataframe tbody tr th {\n",
       "        vertical-align: top;\n",
       "    }\n",
       "</style>\n",
       "<table border=\"1\" class=\"dataframe\">\n",
       "  <thead>\n",
       "    <tr style=\"text-align: right;\">\n",
       "      <th></th>\n",
       "      <th>date</th>\n",
       "      <th>sec_id</th>\n",
       "      <th>close</th>\n",
       "    </tr>\n",
       "  </thead>\n",
       "  <tbody>\n",
       "    <tr>\n",
       "      <th>0</th>\n",
       "      <td>2005-01-04</td>\n",
       "      <td>600000.SH</td>\n",
       "      <td>0.88</td>\n",
       "    </tr>\n",
       "    <tr>\n",
       "      <th>1</th>\n",
       "      <td>2005-01-04</td>\n",
       "      <td>600004.SH</td>\n",
       "      <td>3.44</td>\n",
       "    </tr>\n",
       "    <tr>\n",
       "      <th>2</th>\n",
       "      <td>2005-01-04</td>\n",
       "      <td>600006.SH</td>\n",
       "      <td>1.93</td>\n",
       "    </tr>\n",
       "  </tbody>\n",
       "</table>\n",
       "</div>"
      ],
      "text/plain": [
       "         date     sec_id  close\n",
       "0  2005-01-04  600000.SH   0.88\n",
       "1  2005-01-04  600004.SH   3.44\n",
       "2  2005-01-04  600006.SH   1.93"
      ]
     },
     "execution_count": 31,
     "metadata": {},
     "output_type": "execute_result"
    }
   ],
   "source": [
    "close.head(3)"
   ]
  },
  {
   "cell_type": "code",
   "execution_count": 22,
   "metadata": {
    "collapsed": true
   },
   "outputs": [],
   "source": [
    "def cal_vol(df, date_num, cycle):\n",
    "    \"\"\"\n",
    "    给定价格和周期计算每只股票滞后周期个交易日的波动率\n",
    "    @df <dataFrame>: date<datetime.date> sec_id close\n",
    "    @date <datetime.date, %Y-%m-%d>: 要求波动率的日期\n",
    "    @cycle <int>: 周期 单位为天\n",
    "    \"\"\"\n",
    "    df1 = df[df.date.le(date_num)]\n",
    "\n",
    "    def func_vol(x, cycle):\n",
    "        num = x.count()  # 当前股票在基准日之前的交易日个数\n",
    "        if num < cycle:  # 如果历史交易天数小于要计算的周期 则返回空值\n",
    "            return np.nan\n",
    "        else:\n",
    "            return x.tail(cycle).std()\n",
    "    df2 = df1.groupby(['sec_id']).apply(lambda x: func_vol(x.close, cycle))\n",
    "    df2.name = 'vol_{}days'.format(str(cycle))\n",
    "    df3 = df2.to_frame()\n",
    "    df3['date'] = date_num\n",
    "    df4 = df3.dropna().reset_index()\n",
    "    return df4"
   ]
  },
  {
   "cell_type": "code",
   "execution_count": 27,
   "metadata": {},
   "outputs": [],
   "source": [
    "datelist = list(set(close.date.tolist()))\n",
    "datelist = sorted(datelist)\n",
    "output = pd.DataFrame()\n",
    "for date in datelist:\n",
    "    df = cal_vol(close.copy(), date, 5)\n",
    "    if len(df) != 0:\n",
    "        output = output.append(df)\n",
    "pd.to_csv(r\"E:\\99_daily\\TODAY\\formal_db\\vol_{}days.csv\".format(str(cycle)))"
   ]
  },
  {
   "cell_type": "code",
   "execution_count": 28,
   "metadata": {},
   "outputs": [
    {
     "name": "stdout",
     "output_type": "stream",
     "text": [
      "\u001b[32m[INFO] 2018-04-09 21:35:39 indicator is connected.\u001b[0m\n"
     ]
    }
   ],
   "source": []
  },
  {
   "cell_type": "code",
   "execution_count": 5,
   "metadata": {},
   "outputs": [
    {
     "name": "stdout",
     "output_type": "stream",
     "text": [
      "\u001b[34m[INFO] 2018-04-09 13:52:19 SELECT date, sec_id, close FROM time_series_variables WHERE is_trade=1\u001b[0m\n"
     ]
    }
   ],
   "source": [
    "close = conn.query_as_dataframe(\"SELECT date, sec_id, close FROM time_series_variables WHERE is_trade=1\")"
   ]
  },
  {
   "cell_type": "code",
   "execution_count": 7,
   "metadata": {
    "collapsed": true
   },
   "outputs": [],
   "source": [
    "close['sec_id'] = close['sec_id'].apply(lambda x: x[2:] + '.' + x[:2])"
   ]
  },
  {
   "cell_type": "code",
   "execution_count": 11,
   "metadata": {},
   "outputs": [
    {
     "name": "stderr",
     "output_type": "stream",
     "text": [
      "E:\\06_software\\Anoconda\\lib\\site-packages\\pymysql\\cursors.py:165: Warning: (1366, \"Incorrect string value: '\\\\xD6\\\\xD0\\\\xB9\\\\xFA\\\\xB1\\\\xEA...' for column 'VARIABLE_VALUE' at row 480\")\n",
      "  result = self._query(query)\n",
      "E:\\06_software\\Anoconda\\lib\\site-packages\\pymysql\\cursors.py:165: Warning: (1287, \"'@@tx_isolation' is deprecated and will be removed in a future release. Please use '@@transaction_isolation' instead\")\n",
      "  result = self._query(query)\n"
     ]
    }
   ],
   "source": [
    "dk.df2mysql('root','123888','index','close',close)"
   ]
  },
  {
   "cell_type": "code",
   "execution_count": 9,
   "metadata": {
    "collapsed": true
   },
   "outputs": [],
   "source": [
    "close.to_csv(r\"E:\\99_daily\\TODAY\\formal_db\\close.csv\", encoding='utf-8')"
   ]
  },
  {
   "cell_type": "code",
   "execution_count": 5,
   "metadata": {},
   "outputs": [
    {
     "name": "stdout",
     "output_type": "stream",
     "text": [
      "\u001b[34m[INFO] 2018-04-09 09:37:08 SELECT date, sec_id, is_trade, is_st,traded_days_until_now,stock_total_shares,stock_float_shares FROM time_series_variables WHERE YEAR(date) in (2005,2006)\u001b[0m\n"
     ]
    }
   ],
   "source": [
    "ts = conn.query_as_dataframe(\"SELECT date, sec_id, is_trade, is_st,traded_days_until_now,stock_total_shares,stock_float_shares FROM time_series_variables WHERE YEAR(date) in (2005,2006)\")"
   ]
  },
  {
   "cell_type": "code",
   "execution_count": 6,
   "metadata": {
    "collapsed": true
   },
   "outputs": [],
   "source": [
    "ts['sec_id'] = ts['sec_id'].apply(lambda x: x[2:] + '.' + x[:2])"
   ]
  },
  {
   "cell_type": "code",
   "execution_count": 7,
   "metadata": {
    "collapsed": true
   },
   "outputs": [],
   "source": [
    "ts['date'] = ts['date'].apply(lambda x: str(x))"
   ]
  },
  {
   "cell_type": "code",
   "execution_count": 11,
   "metadata": {},
   "outputs": [
    {
     "name": "stdout",
     "output_type": "stream",
     "text": [
      "\u001b[34m[INFO] 2018-04-09 09:56:57 SELECT * FROM a\u001b[0m\n"
     ]
    }
   ],
   "source": [
    "ic_2006=conn.query_as_dataframe(\"SELECT * FROM a\")"
   ]
  },
  {
   "cell_type": "code",
   "execution_count": 13,
   "metadata": {},
   "outputs": [
    {
     "name": "stdout",
     "output_type": "stream",
     "text": [
      "\u001b[34m[INFO] 2018-04-09 09:57:05 SELECT * FROM a\u001b[0m\n"
     ]
    }
   ],
   "source": [
    "ic_2005=conn.query_as_dataframe(\"SELECT * FROM a\")"
   ]
  },
  {
   "cell_type": "code",
   "execution_count": 14,
   "metadata": {
    "collapsed": true
   },
   "outputs": [],
   "source": [
    "ic_0506 = ic_2005.append(ic_2006)"
   ]
  },
  {
   "cell_type": "code",
   "execution_count": 32,
   "metadata": {},
   "outputs": [
    {
     "data": {
      "text/html": [
       "<div>\n",
       "<style>\n",
       "    .dataframe thead tr:only-child th {\n",
       "        text-align: right;\n",
       "    }\n",
       "\n",
       "    .dataframe thead th {\n",
       "        text-align: left;\n",
       "    }\n",
       "\n",
       "    .dataframe tbody tr th {\n",
       "        vertical-align: top;\n",
       "    }\n",
       "</style>\n",
       "<table border=\"1\" class=\"dataframe\">\n",
       "  <thead>\n",
       "    <tr style=\"text-align: right;\">\n",
       "      <th></th>\n",
       "      <th>date</th>\n",
       "      <th>sec_id</th>\n",
       "      <th>sec_name</th>\n",
       "    </tr>\n",
       "  </thead>\n",
       "  <tbody>\n",
       "    <tr>\n",
       "      <th>0</th>\n",
       "      <td>2005-01-11</td>\n",
       "      <td>000001.SZ</td>\n",
       "      <td>平安银行</td>\n",
       "    </tr>\n",
       "    <tr>\n",
       "      <th>1</th>\n",
       "      <td>2005-01-11</td>\n",
       "      <td>000002.SZ</td>\n",
       "      <td>万科A</td>\n",
       "    </tr>\n",
       "    <tr>\n",
       "      <th>2</th>\n",
       "      <td>2005-01-11</td>\n",
       "      <td>000004.SZ</td>\n",
       "      <td>国农科技</td>\n",
       "    </tr>\n",
       "  </tbody>\n",
       "</table>\n",
       "</div>"
      ],
      "text/plain": [
       "         date     sec_id sec_name\n",
       "0  2005-01-11  000001.SZ     平安银行\n",
       "1  2005-01-11  000002.SZ      万科A\n",
       "2  2005-01-11  000004.SZ     国农科技"
      ]
     },
     "execution_count": 32,
     "metadata": {},
     "output_type": "execute_result"
    }
   ],
   "source": [
    "ic_0506.head(3)"
   ]
  },
  {
   "cell_type": "code",
   "execution_count": 15,
   "metadata": {
    "collapsed": true
   },
   "outputs": [],
   "source": [
    "industry = pd.read_csv(r\"E:\\99_daily\\TODAY\\industry_sw.csv\")"
   ]
  },
  {
   "cell_type": "code",
   "execution_count": 37,
   "metadata": {},
   "outputs": [
    {
     "data": {
      "text/html": [
       "<div>\n",
       "<style>\n",
       "    .dataframe thead tr:only-child th {\n",
       "        text-align: right;\n",
       "    }\n",
       "\n",
       "    .dataframe thead th {\n",
       "        text-align: left;\n",
       "    }\n",
       "\n",
       "    .dataframe tbody tr th {\n",
       "        vertical-align: top;\n",
       "    }\n",
       "</style>\n",
       "<table border=\"1\" class=\"dataframe\">\n",
       "  <thead>\n",
       "    <tr style=\"text-align: right;\">\n",
       "      <th></th>\n",
       "      <th>date</th>\n",
       "      <th>sec_id</th>\n",
       "      <th>sec_name</th>\n",
       "      <th>industry_sw</th>\n",
       "    </tr>\n",
       "  </thead>\n",
       "  <tbody>\n",
       "    <tr>\n",
       "      <th>0</th>\n",
       "      <td>2005-01-11</td>\n",
       "      <td>000001.SZ</td>\n",
       "      <td>平安银行</td>\n",
       "      <td>银行</td>\n",
       "    </tr>\n",
       "    <tr>\n",
       "      <th>1</th>\n",
       "      <td>2005-01-04</td>\n",
       "      <td>000001.SZ</td>\n",
       "      <td>平安银行</td>\n",
       "      <td>银行</td>\n",
       "    </tr>\n",
       "    <tr>\n",
       "      <th>2</th>\n",
       "      <td>2005-01-05</td>\n",
       "      <td>000001.SZ</td>\n",
       "      <td>平安银行</td>\n",
       "      <td>银行</td>\n",
       "    </tr>\n",
       "  </tbody>\n",
       "</table>\n",
       "</div>"
      ],
      "text/plain": [
       "         date     sec_id sec_name industry_sw\n",
       "0  2005-01-11  000001.SZ     平安银行          银行\n",
       "1  2005-01-04  000001.SZ     平安银行          银行\n",
       "2  2005-01-05  000001.SZ     平安银行          银行"
      ]
     },
     "execution_count": 37,
     "metadata": {},
     "output_type": "execute_result"
    }
   ],
   "source": [
    "ic_0506_1.head(3)"
   ]
  },
  {
   "cell_type": "code",
   "execution_count": 36,
   "metadata": {
    "collapsed": true
   },
   "outputs": [],
   "source": [
    "ic_0506_1 = ic_0506.merge(industry, how='inner', on=['sec_id','sec_name'])"
   ]
  },
  {
   "cell_type": "code",
   "execution_count": 38,
   "metadata": {
    "collapsed": true
   },
   "outputs": [],
   "source": [
    "ic_0506_2 = ic_0506_1.merge(ts, how='inner', on=['date','sec_id'])"
   ]
  },
  {
   "cell_type": "code",
   "execution_count": 39,
   "metadata": {},
   "outputs": [
    {
     "data": {
      "text/html": [
       "<div>\n",
       "<style>\n",
       "    .dataframe thead tr:only-child th {\n",
       "        text-align: right;\n",
       "    }\n",
       "\n",
       "    .dataframe thead th {\n",
       "        text-align: left;\n",
       "    }\n",
       "\n",
       "    .dataframe tbody tr th {\n",
       "        vertical-align: top;\n",
       "    }\n",
       "</style>\n",
       "<table border=\"1\" class=\"dataframe\">\n",
       "  <thead>\n",
       "    <tr style=\"text-align: right;\">\n",
       "      <th></th>\n",
       "      <th>date</th>\n",
       "      <th>sec_id</th>\n",
       "      <th>sec_name</th>\n",
       "      <th>industry_sw</th>\n",
       "      <th>is_trade</th>\n",
       "      <th>is_st</th>\n",
       "      <th>traded_days_until_now</th>\n",
       "      <th>stock_total_shares</th>\n",
       "      <th>stock_float_shares</th>\n",
       "    </tr>\n",
       "  </thead>\n",
       "  <tbody>\n",
       "    <tr>\n",
       "      <th>0</th>\n",
       "      <td>2005-01-11</td>\n",
       "      <td>000001.SZ</td>\n",
       "      <td>平安银行</td>\n",
       "      <td>银行</td>\n",
       "      <td>0</td>\n",
       "      <td>0</td>\n",
       "      <td>3363</td>\n",
       "      <td>1945822149</td>\n",
       "      <td>1409361965</td>\n",
       "    </tr>\n",
       "    <tr>\n",
       "      <th>1</th>\n",
       "      <td>2005-01-04</td>\n",
       "      <td>000001.SZ</td>\n",
       "      <td>平安银行</td>\n",
       "      <td>银行</td>\n",
       "      <td>1</td>\n",
       "      <td>0</td>\n",
       "      <td>3359</td>\n",
       "      <td>1945822149</td>\n",
       "      <td>1409361965</td>\n",
       "    </tr>\n",
       "    <tr>\n",
       "      <th>2</th>\n",
       "      <td>2005-01-05</td>\n",
       "      <td>000001.SZ</td>\n",
       "      <td>平安银行</td>\n",
       "      <td>银行</td>\n",
       "      <td>1</td>\n",
       "      <td>0</td>\n",
       "      <td>3360</td>\n",
       "      <td>1945822149</td>\n",
       "      <td>1409361965</td>\n",
       "    </tr>\n",
       "  </tbody>\n",
       "</table>\n",
       "</div>"
      ],
      "text/plain": [
       "         date     sec_id sec_name industry_sw  is_trade  is_st  \\\n",
       "0  2005-01-11  000001.SZ     平安银行          银行         0      0   \n",
       "1  2005-01-04  000001.SZ     平安银行          银行         1      0   \n",
       "2  2005-01-05  000001.SZ     平安银行          银行         1      0   \n",
       "\n",
       "   traded_days_until_now  stock_total_shares  stock_float_shares  \n",
       "0                   3363          1945822149          1409361965  \n",
       "1                   3359          1945822149          1409361965  \n",
       "2                   3360          1945822149          1409361965  "
      ]
     },
     "execution_count": 39,
     "metadata": {},
     "output_type": "execute_result"
    }
   ],
   "source": [
    "ic_0506_2.head(3)"
   ]
  },
  {
   "cell_type": "code",
   "execution_count": 20,
   "metadata": {
    "collapsed": true
   },
   "outputs": [],
   "source": [
    "ic_part1 = pd.read_csv(r\"E:\\99_daily\\TODAY\\stocks_info2.csv\")\n",
    "del ic_part1['Unnamed: 0']"
   ]
  },
  {
   "cell_type": "code",
   "execution_count": 31,
   "metadata": {},
   "outputs": [
    {
     "data": {
      "text/html": [
       "<div>\n",
       "<style>\n",
       "    .dataframe thead tr:only-child th {\n",
       "        text-align: right;\n",
       "    }\n",
       "\n",
       "    .dataframe thead th {\n",
       "        text-align: left;\n",
       "    }\n",
       "\n",
       "    .dataframe tbody tr th {\n",
       "        vertical-align: top;\n",
       "    }\n",
       "</style>\n",
       "<table border=\"1\" class=\"dataframe\">\n",
       "  <thead>\n",
       "    <tr style=\"text-align: right;\">\n",
       "      <th></th>\n",
       "      <th>date</th>\n",
       "      <th>sec_id</th>\n",
       "      <th>sec_name</th>\n",
       "      <th>is_trade</th>\n",
       "      <th>is_st</th>\n",
       "      <th>traded_days_until_now</th>\n",
       "      <th>stock_total_shares</th>\n",
       "      <th>stock_float_shares</th>\n",
       "      <th>industry_sw</th>\n",
       "      <th>industry_swcode</th>\n",
       "    </tr>\n",
       "  </thead>\n",
       "  <tbody>\n",
       "    <tr>\n",
       "      <th>0</th>\n",
       "      <td>2005-01-04</td>\n",
       "      <td>SH600000</td>\n",
       "      <td>浦发银行</td>\n",
       "      <td>1</td>\n",
       "      <td>0</td>\n",
       "      <td>1221</td>\n",
       "      <td>3915000000</td>\n",
       "      <td>900000000</td>\n",
       "      <td>银行</td>\n",
       "      <td>1000012612000000</td>\n",
       "    </tr>\n",
       "    <tr>\n",
       "      <th>1</th>\n",
       "      <td>2005-01-05</td>\n",
       "      <td>SH600000</td>\n",
       "      <td>浦发银行</td>\n",
       "      <td>1</td>\n",
       "      <td>0</td>\n",
       "      <td>1222</td>\n",
       "      <td>3915000000</td>\n",
       "      <td>900000000</td>\n",
       "      <td>银行</td>\n",
       "      <td>1000012612000000</td>\n",
       "    </tr>\n",
       "    <tr>\n",
       "      <th>2</th>\n",
       "      <td>2005-01-06</td>\n",
       "      <td>SH600000</td>\n",
       "      <td>浦发银行</td>\n",
       "      <td>1</td>\n",
       "      <td>0</td>\n",
       "      <td>1223</td>\n",
       "      <td>3915000000</td>\n",
       "      <td>900000000</td>\n",
       "      <td>银行</td>\n",
       "      <td>1000012612000000</td>\n",
       "    </tr>\n",
       "  </tbody>\n",
       "</table>\n",
       "</div>"
      ],
      "text/plain": [
       "         date    sec_id sec_name  is_trade  is_st  traded_days_until_now  \\\n",
       "0  2005-01-04  SH600000     浦发银行         1      0                   1221   \n",
       "1  2005-01-05  SH600000     浦发银行         1      0                   1222   \n",
       "2  2005-01-06  SH600000     浦发银行         1      0                   1223   \n",
       "\n",
       "   stock_total_shares  stock_float_shares industry_sw   industry_swcode  \n",
       "0          3915000000           900000000          银行  1000012612000000  \n",
       "1          3915000000           900000000          银行  1000012612000000  \n",
       "2          3915000000           900000000          银行  1000012612000000  "
      ]
     },
     "execution_count": 31,
     "metadata": {},
     "output_type": "execute_result"
    }
   ],
   "source": [
    "ic_part1.head(3)"
   ]
  },
  {
   "cell_type": "code",
   "execution_count": 40,
   "metadata": {
    "collapsed": true
   },
   "outputs": [],
   "source": [
    "ic = ic_part1.append(ic_0506_2)\n",
    "del ic['industry_swcode']"
   ]
  },
  {
   "cell_type": "code",
   "execution_count": 46,
   "metadata": {
    "collapsed": true
   },
   "outputs": [],
   "source": [
    "ic.to_csv(r\"E:\\99_daily\\TODAY\\formal_db\\stocks_info.csv\", encoding='utf-8')"
   ]
  },
  {
   "cell_type": "code",
   "execution_count": 74,
   "metadata": {
    "collapsed": true
   },
   "outputs": [],
   "source": [
    "ic1 = ic[ic.date == '2015-09-07']"
   ]
  },
  {
   "cell_type": "code",
   "execution_count": 75,
   "metadata": {
    "collapsed": true
   },
   "outputs": [],
   "source": [
    "conds = (ic1.is_trade==1).multiply(ic1.is_st==0)"
   ]
  },
  {
   "cell_type": "code",
   "execution_count": 76,
   "metadata": {
    "collapsed": true
   },
   "outputs": [],
   "source": [
    "ic2 = ic1[conds]"
   ]
  },
  {
   "cell_type": "code",
   "execution_count": 77,
   "metadata": {
    "collapsed": true
   },
   "outputs": [],
   "source": [
    "sec_id = ic2.sec_id.tolist()"
   ]
  },
  {
   "cell_type": "code",
   "execution_count": 78,
   "metadata": {},
   "outputs": [
    {
     "data": {
      "text/plain": [
       "['SH600000',\n",
       " 'SH600004',\n",
       " 'SH600006',\n",
       " 'SH600007',\n",
       " 'SH600008',\n",
       " 'SH600009',\n",
       " 'SH600010',\n",
       " 'SH600011',\n",
       " 'SH600012',\n",
       " 'SH600015',\n",
       " 'SH600016',\n",
       " 'SH600019',\n",
       " 'SH600020',\n",
       " 'SH600021',\n",
       " 'SH600022',\n",
       " 'SH600028',\n",
       " 'SH600029',\n",
       " 'SH600030',\n",
       " 'SH600031',\n",
       " 'SH600033',\n",
       " 'SH600035',\n",
       " 'SH600036',\n",
       " 'SH600037',\n",
       " 'SH600038',\n",
       " 'SH600039',\n",
       " 'SH600050',\n",
       " 'SH600051',\n",
       " 'SH600052',\n",
       " 'SH600054',\n",
       " 'SH600055',\n",
       " 'SH600056',\n",
       " 'SH600057',\n",
       " 'SH600059',\n",
       " 'SH600060',\n",
       " 'SH600061',\n",
       " 'SH600062',\n",
       " 'SH600063',\n",
       " 'SH600064',\n",
       " 'SH600066',\n",
       " 'SH600067',\n",
       " 'SH600068',\n",
       " 'SH600070',\n",
       " 'SH600076',\n",
       " 'SH600077',\n",
       " 'SH600078',\n",
       " 'SH600079',\n",
       " 'SH600080',\n",
       " 'SH600081',\n",
       " 'SH600082',\n",
       " 'SH600083',\n",
       " 'SH600084',\n",
       " 'SH600085',\n",
       " 'SH600086',\n",
       " 'SH600088',\n",
       " 'SH600089',\n",
       " 'SH600090',\n",
       " 'SH600093',\n",
       " 'SH600094',\n",
       " 'SH600095',\n",
       " 'SH600096',\n",
       " 'SH600098',\n",
       " 'SH600100',\n",
       " 'SH600101',\n",
       " 'SH600103',\n",
       " 'SH600104',\n",
       " 'SH600105',\n",
       " 'SH600108',\n",
       " 'SH600109',\n",
       " 'SH600111',\n",
       " 'SH600112',\n",
       " 'SH600113',\n",
       " 'SH600114',\n",
       " 'SH600115',\n",
       " 'SH600116',\n",
       " 'SH600117',\n",
       " 'SH600118',\n",
       " 'SH600119',\n",
       " 'SH600120',\n",
       " 'SH600121',\n",
       " 'SH600122',\n",
       " 'SH600123',\n",
       " 'SH600125',\n",
       " 'SH600126',\n",
       " 'SH600127',\n",
       " 'SH600128',\n",
       " 'SH600129',\n",
       " 'SH600130',\n",
       " 'SH600131',\n",
       " 'SH600132',\n",
       " 'SH600133',\n",
       " 'SH600135',\n",
       " 'SH600136',\n",
       " 'SH600137',\n",
       " 'SH600138',\n",
       " 'SH600143',\n",
       " 'SH600148',\n",
       " 'SH600149',\n",
       " 'SH600150',\n",
       " 'SH600151',\n",
       " 'SH600152',\n",
       " 'SH600156',\n",
       " 'SH600157',\n",
       " 'SH600158',\n",
       " 'SH600159',\n",
       " 'SH600160',\n",
       " 'SH600161',\n",
       " 'SH600162',\n",
       " 'SH600166',\n",
       " 'SH600168',\n",
       " 'SH600169',\n",
       " 'SH600170',\n",
       " 'SH600171',\n",
       " 'SH600173',\n",
       " 'SH600175',\n",
       " 'SH600176',\n",
       " 'SH600177',\n",
       " 'SH600178',\n",
       " 'SH600179',\n",
       " 'SH600182',\n",
       " 'SH600183',\n",
       " 'SH600184',\n",
       " 'SH600185',\n",
       " 'SH600187',\n",
       " 'SH600188',\n",
       " 'SH600190',\n",
       " 'SH600192',\n",
       " 'SH600196',\n",
       " 'SH600197',\n",
       " 'SH600198',\n",
       " 'SH600199',\n",
       " 'SH600200',\n",
       " 'SH600201',\n",
       " 'SH600203',\n",
       " 'SH600206',\n",
       " 'SH600208',\n",
       " 'SH600210',\n",
       " 'SH600211',\n",
       " 'SH600213',\n",
       " 'SH600215',\n",
       " 'SH600216',\n",
       " 'SH600218',\n",
       " 'SH600219',\n",
       " 'SH600220',\n",
       " 'SH600221',\n",
       " 'SH600222',\n",
       " 'SH600223',\n",
       " 'SH600225',\n",
       " 'SH600227',\n",
       " 'SH600228',\n",
       " 'SH600229',\n",
       " 'SH600230',\n",
       " 'SH600231',\n",
       " 'SH600232',\n",
       " 'SH600233',\n",
       " 'SH600234',\n",
       " 'SH600235',\n",
       " 'SH600236',\n",
       " 'SH600237',\n",
       " 'SH600239',\n",
       " 'SH600240',\n",
       " 'SH600241',\n",
       " 'SH600246',\n",
       " 'SH600248',\n",
       " 'SH600249',\n",
       " 'SH600250',\n",
       " 'SH600251',\n",
       " 'SH600252',\n",
       " 'SH600255',\n",
       " 'SH600256',\n",
       " 'SH600257',\n",
       " 'SH600260',\n",
       " 'SH600261',\n",
       " 'SH600262',\n",
       " 'SH600266',\n",
       " 'SH600267',\n",
       " 'SH600268',\n",
       " 'SH600269',\n",
       " 'SH600270',\n",
       " 'SH600271',\n",
       " 'SH600272',\n",
       " 'SH600273',\n",
       " 'SH600275',\n",
       " 'SH600276',\n",
       " 'SH600278',\n",
       " 'SH600279',\n",
       " 'SH600281',\n",
       " 'SH600282',\n",
       " 'SH600283',\n",
       " 'SH600284',\n",
       " 'SH600285',\n",
       " 'SH600287',\n",
       " 'SH600288',\n",
       " 'SH600290',\n",
       " 'SH600292',\n",
       " 'SH600293',\n",
       " 'SH600295',\n",
       " 'SH600297',\n",
       " 'SH600298',\n",
       " 'SH600299',\n",
       " 'SH600300',\n",
       " 'SH600302',\n",
       " 'SH600303',\n",
       " 'SH600305',\n",
       " 'SH600307',\n",
       " 'SH600308',\n",
       " 'SH600309',\n",
       " 'SH600310',\n",
       " 'SH600311',\n",
       " 'SH600313',\n",
       " 'SH600315',\n",
       " 'SH600316',\n",
       " 'SH600317',\n",
       " 'SH600320',\n",
       " 'SH600321',\n",
       " 'SH600322',\n",
       " 'SH600323',\n",
       " 'SH600325',\n",
       " 'SH600326',\n",
       " 'SH600327',\n",
       " 'SH600328',\n",
       " 'SH600329',\n",
       " 'SH600330',\n",
       " 'SH600331',\n",
       " 'SH600332',\n",
       " 'SH600333',\n",
       " 'SH600335',\n",
       " 'SH600336',\n",
       " 'SH600337',\n",
       " 'SH600338',\n",
       " 'SH600339',\n",
       " 'SH600340',\n",
       " 'SH600343',\n",
       " 'SH600345',\n",
       " 'SH600348',\n",
       " 'SH600350',\n",
       " 'SH600351',\n",
       " 'SH600352',\n",
       " 'SH600353',\n",
       " 'SH600354',\n",
       " 'SH600358',\n",
       " 'SH600359',\n",
       " 'SH600360',\n",
       " 'SH600361',\n",
       " 'SH600362',\n",
       " 'SH600363',\n",
       " 'SH600366',\n",
       " 'SH600367',\n",
       " 'SH600368',\n",
       " 'SH600369',\n",
       " 'SH600370',\n",
       " 'SH600371',\n",
       " 'SH600372',\n",
       " 'SH600373',\n",
       " 'SH600375',\n",
       " 'SH600376',\n",
       " 'SH600377',\n",
       " 'SH600379',\n",
       " 'SH600380',\n",
       " 'SH600381',\n",
       " 'SH600382',\n",
       " 'SH600383',\n",
       " 'SH600386',\n",
       " 'SH600387',\n",
       " 'SH600388',\n",
       " 'SH600389',\n",
       " 'SH600390',\n",
       " 'SH600391',\n",
       " 'SH600395',\n",
       " 'SH600396',\n",
       " 'SH600397',\n",
       " 'SH600398',\n",
       " 'SH600399',\n",
       " 'SH600400',\n",
       " 'SH600403',\n",
       " 'SH600405',\n",
       " 'SH600406',\n",
       " 'SH600409',\n",
       " 'SH600410',\n",
       " 'SH600415',\n",
       " 'SH600416',\n",
       " 'SH600418',\n",
       " 'SH600419',\n",
       " 'SH600420',\n",
       " 'SH600421',\n",
       " 'SH600422',\n",
       " 'SH600423',\n",
       " 'SH600425',\n",
       " 'SH600426',\n",
       " 'SH600429',\n",
       " 'SH600433',\n",
       " 'SH600436',\n",
       " 'SH600438',\n",
       " 'SH600439',\n",
       " 'SH600449',\n",
       " 'SH600452',\n",
       " 'SH600455',\n",
       " 'SH600456',\n",
       " 'SH600458',\n",
       " 'SH600459',\n",
       " 'SH600460',\n",
       " 'SH600461',\n",
       " 'SH600463',\n",
       " 'SH600467',\n",
       " 'SH600468',\n",
       " 'SH600469',\n",
       " 'SH600470',\n",
       " 'SH600475',\n",
       " 'SH600477',\n",
       " 'SH600479',\n",
       " 'SH600480',\n",
       " 'SH600481',\n",
       " 'SH600483',\n",
       " 'SH600485',\n",
       " 'SH600486',\n",
       " 'SH600487',\n",
       " 'SH600488',\n",
       " 'SH600489',\n",
       " 'SH600491',\n",
       " 'SH600493',\n",
       " 'SH600495',\n",
       " 'SH600496',\n",
       " 'SH600498',\n",
       " 'SH600500',\n",
       " 'SH600501',\n",
       " 'SH600502',\n",
       " 'SH600503',\n",
       " 'SH600505',\n",
       " 'SH600506',\n",
       " 'SH600507',\n",
       " 'SH600508',\n",
       " 'SH600509',\n",
       " 'SH600510',\n",
       " 'SH600511',\n",
       " 'SH600512',\n",
       " 'SH600513',\n",
       " 'SH600516',\n",
       " 'SH600517',\n",
       " 'SH600518',\n",
       " 'SH600519',\n",
       " 'SH600520',\n",
       " 'SH600521',\n",
       " 'SH600522',\n",
       " 'SH600523',\n",
       " 'SH600526',\n",
       " 'SH600527',\n",
       " 'SH600528',\n",
       " 'SH600531',\n",
       " 'SH600535',\n",
       " 'SH600536',\n",
       " 'SH600537',\n",
       " 'SH600538',\n",
       " 'SH600540',\n",
       " 'SH600543',\n",
       " 'SH600545',\n",
       " 'SH600546',\n",
       " 'SH600547',\n",
       " 'SH600548',\n",
       " 'SH600549',\n",
       " 'SH600550',\n",
       " 'SH600551',\n",
       " 'SH600552',\n",
       " 'SH600556',\n",
       " 'SH600557',\n",
       " 'SH600558',\n",
       " 'SH600559',\n",
       " 'SH600560',\n",
       " 'SH600561',\n",
       " 'SH600562',\n",
       " 'SH600563',\n",
       " 'SH600566',\n",
       " 'SH600567',\n",
       " 'SH600569',\n",
       " 'SH600570',\n",
       " 'SH600571',\n",
       " 'SH600572',\n",
       " 'SH600573',\n",
       " 'SH600576',\n",
       " 'SH600577',\n",
       " 'SH600578',\n",
       " 'SH600579',\n",
       " 'SH600580',\n",
       " 'SH600581',\n",
       " 'SH600582',\n",
       " 'SH600583',\n",
       " 'SH600584',\n",
       " 'SH600585',\n",
       " 'SH600586',\n",
       " 'SH600587',\n",
       " 'SH600588',\n",
       " 'SH600589',\n",
       " 'SH600592',\n",
       " 'SH600594',\n",
       " 'SH600595',\n",
       " 'SH600596',\n",
       " 'SH600597',\n",
       " 'SH600598',\n",
       " 'SH600599',\n",
       " 'SH600600',\n",
       " 'SH600601',\n",
       " 'SH600602',\n",
       " 'SH600604',\n",
       " 'SH600605',\n",
       " 'SH600606',\n",
       " 'SH600611',\n",
       " 'SH600612',\n",
       " 'SH600613',\n",
       " 'SH600615',\n",
       " 'SH600616',\n",
       " 'SH600617',\n",
       " 'SH600618',\n",
       " 'SH600619',\n",
       " 'SH600621',\n",
       " 'SH600622',\n",
       " 'SH600623',\n",
       " 'SH600624',\n",
       " 'SH600626',\n",
       " 'SH600628',\n",
       " 'SH600629',\n",
       " 'SH600630',\n",
       " 'SH600635',\n",
       " 'SH600636',\n",
       " 'SH600637',\n",
       " 'SH600638',\n",
       " 'SH600639',\n",
       " 'SH600640',\n",
       " 'SH600642',\n",
       " 'SH600647',\n",
       " 'SH600648',\n",
       " 'SH600649',\n",
       " 'SH600650',\n",
       " 'SH600651',\n",
       " 'SH600653',\n",
       " 'SH600655',\n",
       " 'SH600657',\n",
       " 'SH600658',\n",
       " 'SH600660',\n",
       " 'SH600661',\n",
       " 'SH600662',\n",
       " 'SH600663',\n",
       " 'SH600664',\n",
       " 'SH600665',\n",
       " 'SH600667',\n",
       " 'SH600668',\n",
       " 'SH600673',\n",
       " 'SH600674',\n",
       " 'SH600675',\n",
       " 'SH600676',\n",
       " 'SH600677',\n",
       " 'SH600678',\n",
       " 'SH600679',\n",
       " 'SH600680',\n",
       " 'SH600681',\n",
       " 'SH600683',\n",
       " 'SH600684',\n",
       " 'SH600685',\n",
       " 'SH600686',\n",
       " 'SH600688',\n",
       " 'SH600690',\n",
       " 'SH600692',\n",
       " 'SH600693',\n",
       " 'SH600694',\n",
       " 'SH600695',\n",
       " 'SH600697',\n",
       " 'SH600698',\n",
       " 'SH600699',\n",
       " 'SH600701',\n",
       " 'SH600703',\n",
       " 'SH600704',\n",
       " 'SH600705',\n",
       " 'SH600706',\n",
       " 'SH600708',\n",
       " 'SH600711',\n",
       " 'SH600712',\n",
       " 'SH600713',\n",
       " 'SH600714',\n",
       " 'SH600716',\n",
       " 'SH600717',\n",
       " 'SH600718',\n",
       " 'SH600720',\n",
       " 'SH600723',\n",
       " 'SH600724',\n",
       " 'SH600725',\n",
       " 'SH600726',\n",
       " 'SH600727',\n",
       " 'SH600728',\n",
       " 'SH600730',\n",
       " 'SH600731',\n",
       " 'SH600734',\n",
       " 'SH600737',\n",
       " 'SH600738',\n",
       " 'SH600740',\n",
       " 'SH600741',\n",
       " 'SH600742',\n",
       " 'SH600743',\n",
       " 'SH600744',\n",
       " 'SH600746',\n",
       " 'SH600747',\n",
       " 'SH600748',\n",
       " 'SH600749',\n",
       " 'SH600750',\n",
       " 'SH600751',\n",
       " 'SH600753',\n",
       " 'SH600755',\n",
       " 'SH600756',\n",
       " 'SH600757',\n",
       " 'SH600758',\n",
       " 'SH600759',\n",
       " 'SH600760',\n",
       " 'SH600761',\n",
       " 'SH600765',\n",
       " 'SH600766',\n",
       " 'SH600768',\n",
       " 'SH600769',\n",
       " 'SH600770',\n",
       " 'SH600771',\n",
       " 'SH600773',\n",
       " 'SH600774',\n",
       " 'SH600775',\n",
       " 'SH600776',\n",
       " 'SH600780',\n",
       " 'SH600781',\n",
       " 'SH600782',\n",
       " 'SH600783',\n",
       " 'SH600784',\n",
       " 'SH600785',\n",
       " 'SH600787',\n",
       " 'SH600789',\n",
       " 'SH600790',\n",
       " 'SH600791',\n",
       " 'SH600792',\n",
       " 'SH600794',\n",
       " 'SH600795',\n",
       " 'SH600796',\n",
       " 'SH600797',\n",
       " 'SH600800',\n",
       " 'SH600801',\n",
       " 'SH600802',\n",
       " 'SH600803',\n",
       " 'SH600804',\n",
       " 'SH600805',\n",
       " 'SH600807',\n",
       " 'SH600808',\n",
       " 'SH600809',\n",
       " 'SH600810',\n",
       " 'SH600812',\n",
       " 'SH600814',\n",
       " 'SH600815',\n",
       " 'SH600816',\n",
       " 'SH600818',\n",
       " 'SH600819',\n",
       " 'SH600820',\n",
       " 'SH600821',\n",
       " 'SH600822',\n",
       " 'SH600823',\n",
       " 'SH600824',\n",
       " 'SH600825',\n",
       " 'SH600826',\n",
       " 'SH600827',\n",
       " 'SH600829',\n",
       " 'SH600830',\n",
       " 'SH600831',\n",
       " 'SH600833',\n",
       " 'SH600834',\n",
       " 'SH600835',\n",
       " 'SH600836',\n",
       " 'SH600837',\n",
       " 'SH600838',\n",
       " 'SH600839',\n",
       " 'SH600841',\n",
       " 'SH600843',\n",
       " 'SH600845',\n",
       " 'SH600846',\n",
       " 'SH600848',\n",
       " 'SH600850',\n",
       " 'SH600851',\n",
       " 'SH600854',\n",
       " 'SH600855',\n",
       " 'SH600857',\n",
       " 'SH600858',\n",
       " 'SH600859',\n",
       " 'SH600861',\n",
       " 'SH600862',\n",
       " 'SH600863',\n",
       " 'SH600864',\n",
       " 'SH600865',\n",
       " 'SH600867',\n",
       " 'SH600868',\n",
       " 'SH600869',\n",
       " 'SH600873',\n",
       " 'SH600874',\n",
       " 'SH600875',\n",
       " 'SH600876',\n",
       " 'SH600877',\n",
       " 'SH600880',\n",
       " 'SH600881',\n",
       " 'SH600883',\n",
       " 'SH600884',\n",
       " 'SH600885',\n",
       " 'SH600887',\n",
       " 'SH600888',\n",
       " 'SH600889',\n",
       " 'SH600890',\n",
       " 'SH600891',\n",
       " 'SH600892',\n",
       " 'SH600893',\n",
       " 'SH600894',\n",
       " 'SH600895',\n",
       " 'SH600896',\n",
       " 'SH600897',\n",
       " 'SH600898',\n",
       " 'SH600960',\n",
       " 'SH600961',\n",
       " 'SH600963',\n",
       " 'SH600965',\n",
       " 'SH600966',\n",
       " 'SH600969',\n",
       " 'SH600971',\n",
       " 'SH600973',\n",
       " 'SH600975',\n",
       " 'SH600976',\n",
       " 'SH600980',\n",
       " 'SH600981',\n",
       " 'SH600982',\n",
       " 'SH600985',\n",
       " 'SH600986',\n",
       " 'SH600987',\n",
       " 'SH600992',\n",
       " 'SH600993',\n",
       " 'SH600995',\n",
       " 'SH600997',\n",
       " 'SH601607',\n",
       " 'SZ000001',\n",
       " 'SZ000002',\n",
       " 'SZ000004',\n",
       " 'SZ000006',\n",
       " 'SZ000008',\n",
       " 'SZ000009',\n",
       " 'SZ000010',\n",
       " 'SZ000011',\n",
       " 'SZ000012',\n",
       " 'SZ000014',\n",
       " 'SZ000017',\n",
       " 'SZ000018',\n",
       " 'SZ000019',\n",
       " 'SZ000020',\n",
       " 'SZ000021',\n",
       " 'SZ000025',\n",
       " 'SZ000026',\n",
       " 'SZ000027',\n",
       " 'SZ000028',\n",
       " 'SZ000029',\n",
       " 'SZ000030',\n",
       " 'SZ000031',\n",
       " 'SZ000032',\n",
       " 'SZ000034',\n",
       " 'SZ000035',\n",
       " 'SZ000036',\n",
       " 'SZ000037',\n",
       " 'SZ000038',\n",
       " 'SZ000039',\n",
       " 'SZ000042',\n",
       " 'SZ000043',\n",
       " 'SZ000045',\n",
       " 'SZ000046',\n",
       " 'SZ000048',\n",
       " 'SZ000049',\n",
       " 'SZ000050',\n",
       " 'SZ000055',\n",
       " 'SZ000056',\n",
       " 'SZ000058',\n",
       " 'SZ000060',\n",
       " 'SZ000061',\n",
       " 'SZ000062',\n",
       " 'SZ000063',\n",
       " 'SZ000065',\n",
       " 'SZ000069',\n",
       " 'SZ000070',\n",
       " 'SZ000078',\n",
       " 'SZ000088',\n",
       " 'SZ000089',\n",
       " 'SZ000090',\n",
       " 'SZ000096',\n",
       " 'SZ000099',\n",
       " 'SZ000100',\n",
       " 'SZ000151',\n",
       " 'SZ000153',\n",
       " 'SZ000156',\n",
       " 'SZ000157',\n",
       " 'SZ000158',\n",
       " 'SZ000159',\n",
       " 'SZ000301',\n",
       " 'SZ000400',\n",
       " 'SZ000401',\n",
       " 'SZ000402',\n",
       " 'SZ000404',\n",
       " 'SZ000407',\n",
       " 'SZ000408',\n",
       " 'SZ000409',\n",
       " 'SZ000411',\n",
       " 'SZ000413',\n",
       " 'SZ000415',\n",
       " 'SZ000416',\n",
       " 'SZ000417',\n",
       " 'SZ000418',\n",
       " 'SZ000419',\n",
       " 'SZ000420',\n",
       " 'SZ000421',\n",
       " 'SZ000422',\n",
       " 'SZ000423',\n",
       " 'SZ000425',\n",
       " 'SZ000428',\n",
       " 'SZ000429',\n",
       " 'SZ000430',\n",
       " 'SZ000488',\n",
       " 'SZ000498',\n",
       " 'SZ000501',\n",
       " 'SZ000502',\n",
       " 'SZ000503',\n",
       " 'SZ000504',\n",
       " 'SZ000506',\n",
       " 'SZ000507',\n",
       " 'SZ000509',\n",
       " 'SZ000514',\n",
       " 'SZ000516',\n",
       " 'SZ000517',\n",
       " 'SZ000518',\n",
       " 'SZ000521',\n",
       " 'SZ000523',\n",
       " 'SZ000524',\n",
       " 'SZ000525',\n",
       " 'SZ000526',\n",
       " 'SZ000528',\n",
       " 'SZ000530',\n",
       " 'SZ000531',\n",
       " 'SZ000532',\n",
       " 'SZ000533',\n",
       " 'SZ000537',\n",
       " 'SZ000538',\n",
       " 'SZ000539',\n",
       " 'SZ000543',\n",
       " 'SZ000544',\n",
       " 'SZ000546',\n",
       " 'SZ000547',\n",
       " 'SZ000548',\n",
       " 'SZ000550',\n",
       " 'SZ000551',\n",
       " 'SZ000552',\n",
       " 'SZ000554',\n",
       " 'SZ000555',\n",
       " 'SZ000558',\n",
       " 'SZ000559',\n",
       " 'SZ000560',\n",
       " 'SZ000561',\n",
       " 'SZ000563',\n",
       " 'SZ000564',\n",
       " 'SZ000565',\n",
       " 'SZ000567',\n",
       " 'SZ000568',\n",
       " 'SZ000570',\n",
       " 'SZ000572',\n",
       " 'SZ000573',\n",
       " 'SZ000576',\n",
       " 'SZ000581',\n",
       " 'SZ000582',\n",
       " 'SZ000584',\n",
       " 'SZ000585',\n",
       " 'SZ000589',\n",
       " 'SZ000591',\n",
       " 'SZ000592',\n",
       " 'SZ000593',\n",
       " 'SZ000596',\n",
       " 'SZ000597',\n",
       " 'SZ000598',\n",
       " 'SZ000599',\n",
       " 'SZ000600',\n",
       " 'SZ000603',\n",
       " 'SZ000605',\n",
       " 'SZ000606',\n",
       " 'SZ000607',\n",
       " 'SZ000608',\n",
       " 'SZ000610',\n",
       " 'SZ000612',\n",
       " 'SZ000615',\n",
       " 'SZ000616',\n",
       " 'SZ000617',\n",
       " 'SZ000619',\n",
       " 'SZ000620',\n",
       " 'SZ000623',\n",
       " 'SZ000625',\n",
       " 'SZ000627',\n",
       " 'SZ000628',\n",
       " 'SZ000631',\n",
       " 'SZ000632',\n",
       " 'SZ000635',\n",
       " 'SZ000636',\n",
       " 'SZ000637',\n",
       " 'SZ000638',\n",
       " 'SZ000639',\n",
       " 'SZ000651',\n",
       " 'SZ000652',\n",
       " 'SZ000655',\n",
       " 'SZ000656',\n",
       " 'SZ000661',\n",
       " 'SZ000662',\n",
       " 'SZ000663',\n",
       " 'SZ000666',\n",
       " 'SZ000667',\n",
       " 'SZ000669',\n",
       " 'SZ000671',\n",
       " 'SZ000678',\n",
       " 'SZ000680',\n",
       " 'SZ000681',\n",
       " 'SZ000682',\n",
       " 'SZ000683',\n",
       " 'SZ000685',\n",
       " 'SZ000686',\n",
       " 'SZ000687',\n",
       " 'SZ000690',\n",
       " 'SZ000691',\n",
       " 'SZ000692',\n",
       " 'SZ000693',\n",
       " 'SZ000695',\n",
       " 'SZ000698',\n",
       " 'SZ000700',\n",
       " 'SZ000701',\n",
       " 'SZ000702',\n",
       " 'SZ000703',\n",
       " 'SZ000705',\n",
       " 'SZ000709',\n",
       " 'SZ000710',\n",
       " 'SZ000713',\n",
       " 'SZ000715',\n",
       " 'SZ000716',\n",
       " 'SZ000717',\n",
       " 'SZ000718',\n",
       " 'SZ000719',\n",
       " 'SZ000721',\n",
       " 'SZ000722',\n",
       " 'SZ000723',\n",
       " 'SZ000725',\n",
       " 'SZ000726',\n",
       " 'SZ000727',\n",
       " 'SZ000728',\n",
       " 'SZ000729',\n",
       " 'SZ000731',\n",
       " 'SZ000732',\n",
       " 'SZ000733',\n",
       " 'SZ000735',\n",
       " 'SZ000736',\n",
       " 'SZ000738',\n",
       " 'SZ000739',\n",
       " 'SZ000750',\n",
       " 'SZ000751',\n",
       " 'SZ000752',\n",
       " 'SZ000755',\n",
       " 'SZ000757',\n",
       " 'SZ000758',\n",
       " 'SZ000759',\n",
       " 'SZ000761',\n",
       " 'SZ000762',\n",
       " 'SZ000766',\n",
       " 'SZ000767',\n",
       " 'SZ000768',\n",
       " 'SZ000776',\n",
       " 'SZ000777',\n",
       " 'SZ000779',\n",
       " 'SZ000780',\n",
       " 'SZ000783',\n",
       " 'SZ000785',\n",
       " 'SZ000788',\n",
       " 'SZ000789',\n",
       " 'SZ000790',\n",
       " 'SZ000791',\n",
       " 'SZ000792',\n",
       " 'SZ000793',\n",
       " 'SZ000796',\n",
       " 'SZ000797',\n",
       " 'SZ000798',\n",
       " 'SZ000800',\n",
       " 'SZ000801',\n",
       " 'SZ000802',\n",
       " 'SZ000803',\n",
       " 'SZ000807',\n",
       " 'SZ000809',\n",
       " 'SZ000810',\n",
       " 'SZ000811',\n",
       " 'SZ000816',\n",
       " 'SZ000819',\n",
       " 'SZ000821',\n",
       " 'SZ000822',\n",
       " 'SZ000823',\n",
       " 'SZ000825',\n",
       " 'SZ000826',\n",
       " 'SZ000828',\n",
       " 'SZ000829',\n",
       " 'SZ000830',\n",
       " 'SZ000831',\n",
       " 'SZ000833',\n",
       " 'SZ000835',\n",
       " 'SZ000836',\n",
       " 'SZ000837',\n",
       " 'SZ000838',\n",
       " 'SZ000848',\n",
       " 'SZ000852',\n",
       " 'SZ000856',\n",
       " 'SZ000859',\n",
       " 'SZ000860',\n",
       " 'SZ000861',\n",
       " 'SZ000862',\n",
       " 'SZ000863',\n",
       " 'SZ000868',\n",
       " 'SZ000869',\n",
       " 'SZ000875',\n",
       " 'SZ000877',\n",
       " 'SZ000880',\n",
       " 'SZ000883',\n",
       " 'SZ000885',\n",
       " 'SZ000886',\n",
       " 'SZ000888',\n",
       " 'SZ000889',\n",
       " 'SZ000895',\n",
       " 'SZ000897',\n",
       " 'SZ000898',\n",
       " 'SZ000899',\n",
       " 'SZ000900',\n",
       " 'SZ000902',\n",
       " 'SZ000903',\n",
       " 'SZ000905',\n",
       " 'SZ000906',\n",
       " 'SZ000908',\n",
       " 'SZ000909',\n",
       " 'SZ000910',\n",
       " 'SZ000911',\n",
       " 'SZ000913',\n",
       " 'SZ000915',\n",
       " 'SZ000918',\n",
       " 'SZ000919',\n",
       " 'SZ000920',\n",
       " 'SZ000921',\n",
       " 'SZ000922',\n",
       " 'SZ000923',\n",
       " 'SZ000925',\n",
       " 'SZ000926',\n",
       " 'SZ000928',\n",
       " 'SZ000929',\n",
       " 'SZ000930',\n",
       " 'SZ000931',\n",
       " 'SZ000933',\n",
       " 'SZ000935',\n",
       " 'SZ000936',\n",
       " 'SZ000937',\n",
       " 'SZ000938',\n",
       " 'SZ000948',\n",
       " 'SZ000949',\n",
       " 'SZ000951',\n",
       " 'SZ000952',\n",
       " 'SZ000953',\n",
       " 'SZ000955',\n",
       " 'SZ000957',\n",
       " 'SZ000958',\n",
       " 'SZ000960',\n",
       " 'SZ000961',\n",
       " 'SZ000962',\n",
       " 'SZ000963',\n",
       " 'SZ000965',\n",
       " 'SZ000966',\n",
       " 'SZ000967',\n",
       " 'SZ000968',\n",
       " 'SZ000969',\n",
       " 'SZ000970',\n",
       " 'SZ000971',\n",
       " 'SZ000973',\n",
       " 'SZ000975',\n",
       " 'SZ000977',\n",
       " 'SZ000978',\n",
       " 'SZ000980',\n",
       " 'SZ000983',\n",
       " 'SZ000985',\n",
       " 'SZ000987',\n",
       " 'SZ000988',\n",
       " 'SZ000989',\n",
       " 'SZ000993',\n",
       " 'SZ000997',\n",
       " 'SZ000998',\n",
       " 'SZ000999',\n",
       " 'SZ001696',\n",
       " 'SZ002001',\n",
       " 'SZ002004',\n",
       " 'SZ002006',\n",
       " 'SZ002007',\n",
       " 'SZ002008',\n",
       " 'SZ002009',\n",
       " 'SZ002010',\n",
       " 'SZ002011',\n",
       " 'SZ002012',\n",
       " 'SZ002013',\n",
       " 'SZ002016',\n",
       " 'SZ002017',\n",
       " 'SZ002019',\n",
       " 'SZ002020',\n",
       " ...]"
      ]
     },
     "execution_count": 78,
     "metadata": {},
     "output_type": "execute_result"
    }
   ],
   "source": [
    "sec_id"
   ]
  },
  {
   "cell_type": "code",
   "execution_count": 49,
   "metadata": {},
   "outputs": [
    {
     "data": {
      "text/plain": [
       "487"
      ]
     },
     "execution_count": 49,
     "metadata": {},
     "output_type": "execute_result"
    }
   ],
   "source": [
    "conds = (ic.date=='2015-09-07').multiply(ic.is_trade==0).multiply(ic.is_st==1)"
   ]
  },
  {
   "cell_type": "code",
   "execution_count": 62,
   "metadata": {},
   "outputs": [
    {
     "data": {
      "text/html": [
       "<div>\n",
       "<style>\n",
       "    .dataframe thead tr:only-child th {\n",
       "        text-align: right;\n",
       "    }\n",
       "\n",
       "    .dataframe thead th {\n",
       "        text-align: left;\n",
       "    }\n",
       "\n",
       "    .dataframe tbody tr th {\n",
       "        vertical-align: top;\n",
       "    }\n",
       "</style>\n",
       "<table border=\"1\" class=\"dataframe\">\n",
       "  <thead>\n",
       "    <tr style=\"text-align: right;\">\n",
       "      <th></th>\n",
       "      <th>date</th>\n",
       "      <th>industry_sw</th>\n",
       "      <th>industry_swcode</th>\n",
       "      <th>is_st</th>\n",
       "      <th>is_trade</th>\n",
       "      <th>sec_id</th>\n",
       "      <th>sec_name</th>\n",
       "      <th>stock_float_shares</th>\n",
       "      <th>stock_total_shares</th>\n",
       "      <th>traded_days_until_now</th>\n",
       "    </tr>\n",
       "  </thead>\n",
       "  <tbody>\n",
       "    <tr>\n",
       "      <th>638570</th>\n",
       "      <td>2015-09-07</td>\n",
       "      <td>传媒</td>\n",
       "      <td>6.122010e+15</td>\n",
       "      <td>1</td>\n",
       "      <td>0</td>\n",
       "      <td>SH600242</td>\n",
       "      <td>中昌数据</td>\n",
       "      <td>267302844</td>\n",
       "      <td>273335353</td>\n",
       "      <td>3007</td>\n",
       "    </tr>\n",
       "    <tr>\n",
       "      <th>692919</th>\n",
       "      <td>2015-09-07</td>\n",
       "      <td>农林牧渔</td>\n",
       "      <td>6.101000e+15</td>\n",
       "      <td>1</td>\n",
       "      <td>0</td>\n",
       "      <td>SH600265</td>\n",
       "      <td>ST景谷</td>\n",
       "      <td>129800000</td>\n",
       "      <td>129800000</td>\n",
       "      <td>3538</td>\n",
       "    </tr>\n",
       "    <tr>\n",
       "      <th>1082841</th>\n",
       "      <td>2015-09-07</td>\n",
       "      <td>采掘</td>\n",
       "      <td>6.102000e+15</td>\n",
       "      <td>1</td>\n",
       "      <td>0</td>\n",
       "      <td>SH600408</td>\n",
       "      <td>安泰集团</td>\n",
       "      <td>1006800000</td>\n",
       "      <td>1006800000</td>\n",
       "      <td>2889</td>\n",
       "    </tr>\n",
       "    <tr>\n",
       "      <th>1931206</th>\n",
       "      <td>2015-09-07</td>\n",
       "      <td>房地产</td>\n",
       "      <td>6.118000e+15</td>\n",
       "      <td>1</td>\n",
       "      <td>0</td>\n",
       "      <td>SH600732</td>\n",
       "      <td>ST新梅</td>\n",
       "      <td>446383080</td>\n",
       "      <td>446383080</td>\n",
       "      <td>4345</td>\n",
       "    </tr>\n",
       "    <tr>\n",
       "      <th>2107736</th>\n",
       "      <td>2015-09-07</td>\n",
       "      <td>轻工制造</td>\n",
       "      <td>6.114000e+15</td>\n",
       "      <td>1</td>\n",
       "      <td>0</td>\n",
       "      <td>SH600793</td>\n",
       "      <td>宜宾纸业</td>\n",
       "      <td>105300000</td>\n",
       "      <td>105300000</td>\n",
       "      <td>4323</td>\n",
       "    </tr>\n",
       "    <tr>\n",
       "      <th>2174873</th>\n",
       "      <td>2015-09-07</td>\n",
       "      <td>综合</td>\n",
       "      <td>6.123000e+15</td>\n",
       "      <td>1</td>\n",
       "      <td>0</td>\n",
       "      <td>SH600817</td>\n",
       "      <td>*ST宏盛</td>\n",
       "      <td>147914879</td>\n",
       "      <td>160910082</td>\n",
       "      <td>4305</td>\n",
       "    </tr>\n",
       "    <tr>\n",
       "      <th>2327295</th>\n",
       "      <td>2015-09-07</td>\n",
       "      <td>家用电器</td>\n",
       "      <td>6.111000e+15</td>\n",
       "      <td>1</td>\n",
       "      <td>0</td>\n",
       "      <td>SH600870</td>\n",
       "      <td>厦华电子</td>\n",
       "      <td>370818715</td>\n",
       "      <td>523199665</td>\n",
       "      <td>4357</td>\n",
       "    </tr>\n",
       "    <tr>\n",
       "      <th>2746474</th>\n",
       "      <td>2015-09-07</td>\n",
       "      <td>医药生物</td>\n",
       "      <td>6.115000e+15</td>\n",
       "      <td>1</td>\n",
       "      <td>0</td>\n",
       "      <td>SZ000403</td>\n",
       "      <td>ST生化</td>\n",
       "      <td>181762968</td>\n",
       "      <td>272577599</td>\n",
       "      <td>2998</td>\n",
       "    </tr>\n",
       "    <tr>\n",
       "      <th>2845517</th>\n",
       "      <td>2015-09-07</td>\n",
       "      <td>化工</td>\n",
       "      <td>6.103000e+15</td>\n",
       "      <td>1</td>\n",
       "      <td>0</td>\n",
       "      <td>SZ000510</td>\n",
       "      <td>金路集团</td>\n",
       "      <td>609121251</td>\n",
       "      <td>609182254</td>\n",
       "      <td>5249</td>\n",
       "    </tr>\n",
       "    <tr>\n",
       "      <th>3040534</th>\n",
       "      <td>2015-09-07</td>\n",
       "      <td>医药生物</td>\n",
       "      <td>6.115000e+15</td>\n",
       "      <td>1</td>\n",
       "      <td>0</td>\n",
       "      <td>SZ000590</td>\n",
       "      <td>启迪古汉</td>\n",
       "      <td>223236227</td>\n",
       "      <td>223331267</td>\n",
       "      <td>4513</td>\n",
       "    </tr>\n",
       "    <tr>\n",
       "      <th>3187532</th>\n",
       "      <td>2015-09-07</td>\n",
       "      <td>轻工制造</td>\n",
       "      <td>6.114000e+15</td>\n",
       "      <td>1</td>\n",
       "      <td>0</td>\n",
       "      <td>SZ000659</td>\n",
       "      <td>*ST中富</td>\n",
       "      <td>1285702520</td>\n",
       "      <td>1285702520</td>\n",
       "      <td>4414</td>\n",
       "    </tr>\n",
       "    <tr>\n",
       "      <th>3232290</th>\n",
       "      <td>2015-09-07</td>\n",
       "      <td>化工</td>\n",
       "      <td>6.103000e+15</td>\n",
       "      <td>1</td>\n",
       "      <td>0</td>\n",
       "      <td>SZ000677</td>\n",
       "      <td>恒天海龙</td>\n",
       "      <td>863947048</td>\n",
       "      <td>863977948</td>\n",
       "      <td>3986</td>\n",
       "    </tr>\n",
       "    <tr>\n",
       "      <th>3318609</th>\n",
       "      <td>2015-09-07</td>\n",
       "      <td>综合</td>\n",
       "      <td>6.123000e+15</td>\n",
       "      <td>1</td>\n",
       "      <td>0</td>\n",
       "      <td>SZ000711</td>\n",
       "      <td>京蓝科技</td>\n",
       "      <td>160898400</td>\n",
       "      <td>160898400</td>\n",
       "      <td>4262</td>\n",
       "    </tr>\n",
       "    <tr>\n",
       "      <th>3505745</th>\n",
       "      <td>2015-09-07</td>\n",
       "      <td>食品饮料</td>\n",
       "      <td>6.112000e+15</td>\n",
       "      <td>1</td>\n",
       "      <td>0</td>\n",
       "      <td>SZ000799</td>\n",
       "      <td>酒鬼酒</td>\n",
       "      <td>224201689</td>\n",
       "      <td>324928980</td>\n",
       "      <td>4184</td>\n",
       "    </tr>\n",
       "    <tr>\n",
       "      <th>3694368</th>\n",
       "      <td>2015-09-07</td>\n",
       "      <td>传媒</td>\n",
       "      <td>6.122010e+15</td>\n",
       "      <td>1</td>\n",
       "      <td>0</td>\n",
       "      <td>SZ000892</td>\n",
       "      <td>欢瑞世纪</td>\n",
       "      <td>306937690</td>\n",
       "      <td>413876880</td>\n",
       "      <td>3267</td>\n",
       "    </tr>\n",
       "    <tr>\n",
       "      <th>4005582</th>\n",
       "      <td>2015-09-07</td>\n",
       "      <td>化工</td>\n",
       "      <td>6.103000e+15</td>\n",
       "      <td>1</td>\n",
       "      <td>0</td>\n",
       "      <td>SZ002015</td>\n",
       "      <td>霞客环保</td>\n",
       "      <td>382364955</td>\n",
       "      <td>400703825</td>\n",
       "      <td>2324</td>\n",
       "    </tr>\n",
       "    <tr>\n",
       "      <th>4941781</th>\n",
       "      <td>2015-09-07</td>\n",
       "      <td>休闲服务</td>\n",
       "      <td>6.121000e+15</td>\n",
       "      <td>1</td>\n",
       "      <td>0</td>\n",
       "      <td>SZ002306</td>\n",
       "      <td>*ST云网</td>\n",
       "      <td>612516750</td>\n",
       "      <td>800000000</td>\n",
       "      <td>1200</td>\n",
       "    </tr>\n",
       "    <tr>\n",
       "      <th>5976131</th>\n",
       "      <td>2015-09-07</td>\n",
       "      <td>国防军工</td>\n",
       "      <td>1.000013e+15</td>\n",
       "      <td>1</td>\n",
       "      <td>0</td>\n",
       "      <td>SZ002608</td>\n",
       "      <td>江苏国信</td>\n",
       "      <td>322814063</td>\n",
       "      <td>374850000</td>\n",
       "      <td>899</td>\n",
       "    </tr>\n",
       "  </tbody>\n",
       "</table>\n",
       "</div>"
      ],
      "text/plain": [
       "               date industry_sw  industry_swcode  is_st  is_trade    sec_id  \\\n",
       "638570   2015-09-07          传媒     6.122010e+15      1         0  SH600242   \n",
       "692919   2015-09-07        农林牧渔     6.101000e+15      1         0  SH600265   \n",
       "1082841  2015-09-07          采掘     6.102000e+15      1         0  SH600408   \n",
       "1931206  2015-09-07         房地产     6.118000e+15      1         0  SH600732   \n",
       "2107736  2015-09-07        轻工制造     6.114000e+15      1         0  SH600793   \n",
       "2174873  2015-09-07          综合     6.123000e+15      1         0  SH600817   \n",
       "2327295  2015-09-07        家用电器     6.111000e+15      1         0  SH600870   \n",
       "2746474  2015-09-07        医药生物     6.115000e+15      1         0  SZ000403   \n",
       "2845517  2015-09-07          化工     6.103000e+15      1         0  SZ000510   \n",
       "3040534  2015-09-07        医药生物     6.115000e+15      1         0  SZ000590   \n",
       "3187532  2015-09-07        轻工制造     6.114000e+15      1         0  SZ000659   \n",
       "3232290  2015-09-07          化工     6.103000e+15      1         0  SZ000677   \n",
       "3318609  2015-09-07          综合     6.123000e+15      1         0  SZ000711   \n",
       "3505745  2015-09-07        食品饮料     6.112000e+15      1         0  SZ000799   \n",
       "3694368  2015-09-07          传媒     6.122010e+15      1         0  SZ000892   \n",
       "4005582  2015-09-07          化工     6.103000e+15      1         0  SZ002015   \n",
       "4941781  2015-09-07        休闲服务     6.121000e+15      1         0  SZ002306   \n",
       "5976131  2015-09-07        国防军工     1.000013e+15      1         0  SZ002608   \n",
       "\n",
       "        sec_name  stock_float_shares  stock_total_shares  \\\n",
       "638570      中昌数据           267302844           273335353   \n",
       "692919      ST景谷           129800000           129800000   \n",
       "1082841     安泰集团          1006800000          1006800000   \n",
       "1931206     ST新梅           446383080           446383080   \n",
       "2107736     宜宾纸业           105300000           105300000   \n",
       "2174873    *ST宏盛           147914879           160910082   \n",
       "2327295     厦华电子           370818715           523199665   \n",
       "2746474     ST生化           181762968           272577599   \n",
       "2845517     金路集团           609121251           609182254   \n",
       "3040534     启迪古汉           223236227           223331267   \n",
       "3187532    *ST中富          1285702520          1285702520   \n",
       "3232290     恒天海龙           863947048           863977948   \n",
       "3318609     京蓝科技           160898400           160898400   \n",
       "3505745      酒鬼酒           224201689           324928980   \n",
       "3694368     欢瑞世纪           306937690           413876880   \n",
       "4005582     霞客环保           382364955           400703825   \n",
       "4941781    *ST云网           612516750           800000000   \n",
       "5976131     江苏国信           322814063           374850000   \n",
       "\n",
       "         traded_days_until_now  \n",
       "638570                    3007  \n",
       "692919                    3538  \n",
       "1082841                   2889  \n",
       "1931206                   4345  \n",
       "2107736                   4323  \n",
       "2174873                   4305  \n",
       "2327295                   4357  \n",
       "2746474                   2998  \n",
       "2845517                   5249  \n",
       "3040534                   4513  \n",
       "3187532                   4414  \n",
       "3232290                   3986  \n",
       "3318609                   4262  \n",
       "3505745                   4184  \n",
       "3694368                   3267  \n",
       "4005582                   2324  \n",
       "4941781                   1200  \n",
       "5976131                    899  "
      ]
     },
     "execution_count": 62,
     "metadata": {},
     "output_type": "execute_result"
    }
   ],
   "source": [
    "ic[(ic.date=='2015-09-07').multiply(ic.is_trade==0).multiply(ic.is_st==1)]"
   ]
  },
  {
   "cell_type": "code",
   "execution_count": 58,
   "metadata": {},
   "outputs": [
    {
     "data": {
      "text/plain": [
       "0         False\n",
       "1         False\n",
       "2         False\n",
       "3         False\n",
       "4         False\n",
       "5         False\n",
       "6         False\n",
       "7         False\n",
       "8         False\n",
       "9         False\n",
       "10        False\n",
       "11        False\n",
       "12        False\n",
       "13        False\n",
       "14        False\n",
       "15        False\n",
       "16        False\n",
       "17        False\n",
       "18        False\n",
       "19        False\n",
       "20        False\n",
       "21        False\n",
       "22        False\n",
       "23        False\n",
       "24        False\n",
       "25        False\n",
       "26        False\n",
       "27        False\n",
       "28        False\n",
       "29        False\n",
       "          ...  \n",
       "628956    False\n",
       "628957    False\n",
       "628958    False\n",
       "628959    False\n",
       "628960    False\n",
       "628961    False\n",
       "628962    False\n",
       "628963    False\n",
       "628964    False\n",
       "628965    False\n",
       "628966    False\n",
       "628967    False\n",
       "628968    False\n",
       "628969    False\n",
       "628970    False\n",
       "628971    False\n",
       "628972    False\n",
       "628973    False\n",
       "628974    False\n",
       "628975    False\n",
       "628976    False\n",
       "628977    False\n",
       "628978    False\n",
       "628979    False\n",
       "628980    False\n",
       "628981    False\n",
       "628982    False\n",
       "628983    False\n",
       "628984    False\n",
       "628985    False\n",
       "Length: 7373877, dtype: bool"
      ]
     },
     "execution_count": 58,
     "metadata": {},
     "output_type": "execute_result"
    }
   ],
   "source": [
    "(ic.date=='2015-09-07').multiply(ic.is_trade==0)"
   ]
  },
  {
   "cell_type": "code",
   "execution_count": null,
   "metadata": {
    "collapsed": true,
    "scrolled": true
   },
   "outputs": [],
   "source": [
    "dk.df2mysql('root','123888','index','stocks_info',ic)"
   ]
  },
  {
   "cell_type": "code",
   "execution_count": null,
   "metadata": {
    "collapsed": true
   },
   "outputs": [],
   "source": [
    "query = \"SELECT date, sec_id, close \\\n",
    "FROM vol_5days \\\n",
    "WHERE date in {} \\\n",
    ";\".format(tuple(['2005-01-10']))"
   ]
  },
  {
   "cell_type": "code",
   "execution_count": null,
   "metadata": {
    "collapsed": true
   },
   "outputs": [],
   "source": [
    "test=conn.query_as_dataframe(query)"
   ]
  },
  {
   "cell_type": "code",
   "execution_count": null,
   "metadata": {
    "collapsed": true
   },
   "outputs": [],
   "source": [
    "close=conn.query_as_dataframe(query)"
   ]
  },
  {
   "cell_type": "code",
   "execution_count": null,
   "metadata": {
    "collapsed": true
   },
   "outputs": [],
   "source": [
    "close1 = close[close.close != 0]"
   ]
  },
  {
   "cell_type": "code",
   "execution_count": null,
   "metadata": {
    "collapsed": true
   },
   "outputs": [],
   "source": [
    "close2 = close1.sort_values(['sec_id','date'])"
   ]
  },
  {
   "cell_type": "code",
   "execution_count": null,
   "metadata": {
    "collapsed": true
   },
   "outputs": [],
   "source": [
    "close2['date'] = close2.date.apply(lambda x: str(x))"
   ]
  },
  {
   "cell_type": "code",
   "execution_count": null,
   "metadata": {
    "collapsed": true
   },
   "outputs": [],
   "source": [
    "def cal_vol(df, date_num, cycle):\n",
    "    \"\"\"\n",
    "    给定价格和周期计算每只股票滞后周期个交易日的波动率\n",
    "    @df <dataFrame>: date sec_id close\n",
    "    @date <str,%Y-%m-%d>: 要求波动率的日期\n",
    "    @cycle <int>: 周期 单位为天\n",
    "    \"\"\"\n",
    "    df1 = df[df.date.le(date_num)]\n",
    "    \n",
    "    def func_vol(x, cycle):\n",
    "        num = x.count()  # 当前股票在基准日之前的交易日个数\n",
    "        if num < cycle:  # 如果历史交易天数小于要计算的周期 则返回空值\n",
    "            return np.nan\n",
    "        else:\n",
    "            return x.tail(cycle).std()\n",
    "    df2 = df1.groupby(['sec_id']).apply(lambda x: func_vol(x.close, cycle))\n",
    "    df2.name = 'vol_{}days'.format(str(cycle))\n",
    "    df3 = df2.to_frame()\n",
    "    df3['date'] = date_num\n",
    "    df4 = df3.dropna().reset_index()\n",
    "    return df4"
   ]
  },
  {
   "cell_type": "code",
   "execution_count": null,
   "metadata": {
    "collapsed": true
   },
   "outputs": [],
   "source": [
    "datelist = list(set(close2.date.tolist()))\n",
    "datelist = sorted(datelist)"
   ]
  },
  {
   "cell_type": "code",
   "execution_count": null,
   "metadata": {
    "collapsed": true
   },
   "outputs": [],
   "source": [
    "output = pd.DataFrame()\n",
    "for date in datelist:\n",
    "    df = cal_vol(close2.copy(), date, 5)\n",
    "    if len(df) != 0:\n",
    "        output = output.append(df)"
   ]
  },
  {
   "cell_type": "code",
   "execution_count": null,
   "metadata": {
    "collapsed": true
   },
   "outputs": [],
   "source": [
    "output.to_csv(r\"E:\\99_daily\\TODAY\\vol_5days.csv\", encoding='utf-8')"
   ]
  },
  {
   "cell_type": "code",
   "execution_count": null,
   "metadata": {
    "collapsed": true
   },
   "outputs": [],
   "source": [
    "cal_vol(close2.copy(), datetime.date(2005,2,18), 5).date[0]"
   ]
  },
  {
   "cell_type": "code",
   "execution_count": null,
   "metadata": {
    "collapsed": true
   },
   "outputs": [],
   "source": [
    "output.shape"
   ]
  },
  {
   "cell_type": "code",
   "execution_count": null,
   "metadata": {
    "collapsed": true
   },
   "outputs": [],
   "source": [
    "output['sec_id'] = output['sec_id'].apply(lambda x: x[2:] + '.' + x[:2])"
   ]
  },
  {
   "cell_type": "code",
   "execution_count": null,
   "metadata": {
    "collapsed": true
   },
   "outputs": [],
   "source": [
    "output.head(3)"
   ]
  },
  {
   "cell_type": "code",
   "execution_count": null,
   "metadata": {
    "collapsed": true
   },
   "outputs": [],
   "source": [
    "dk.df2mysql('root', '123888', 'index', 'vol_5days', output)"
   ]
  },
  {
   "cell_type": "code",
   "execution_count": null,
   "metadata": {
    "collapsed": true
   },
   "outputs": [],
   "source": []
  },
  {
   "cell_type": "code",
   "execution_count": null,
   "metadata": {
    "collapsed": true
   },
   "outputs": [],
   "source": [
    "a=close[close.sec_id=='SH601318']"
   ]
  },
  {
   "cell_type": "code",
   "execution_count": null,
   "metadata": {
    "collapsed": true
   },
   "outputs": [],
   "source": [
    "a[a.date.between(datetime.date(2016,5,9), datetime.date(2016,5,15))]"
   ]
  },
  {
   "cell_type": "code",
   "execution_count": null,
   "metadata": {
    "collapsed": true
   },
   "outputs": [],
   "source": [
    "a[a.date.between(datetime.date(2016,5,9), datetime.date(2016,5,15))]['close'].std()"
   ]
  },
  {
   "cell_type": "code",
   "execution_count": null,
   "metadata": {
    "collapsed": true
   },
   "outputs": [],
   "source": [
    "output['date'].iloc[0]"
   ]
  },
  {
   "cell_type": "code",
   "execution_count": null,
   "metadata": {
    "collapsed": true
   },
   "outputs": [],
   "source": [
    "cc=output[output.date==datetime.date(2016,5,13)]"
   ]
  },
  {
   "cell_type": "code",
   "execution_count": null,
   "metadata": {
    "collapsed": true
   },
   "outputs": [],
   "source": [
    "cc[cc.sec_id=='SH601318']"
   ]
  },
  {
   "cell_type": "code",
   "execution_count": null,
   "metadata": {
    "collapsed": true
   },
   "outputs": [],
   "source": [
    "cal_vol(close2.copy(), datetime.date(2007,2,1),21)"
   ]
  },
  {
   "cell_type": "code",
   "execution_count": null,
   "metadata": {
    "collapsed": true
   },
   "outputs": [],
   "source": [
    "query1=\"SELECT date, sec_id, close FROM time_series_variables WHERE date BETWEEN '2007-01-01' AND '2007-02-01';\""
   ]
  },
  {
   "cell_type": "code",
   "execution_count": null,
   "metadata": {
    "collapsed": true
   },
   "outputs": [],
   "source": [
    "close1=conn.query_as_dataframe(query1)"
   ]
  },
  {
   "cell_type": "code",
   "execution_count": null,
   "metadata": {
    "collapsed": true
   },
   "outputs": [],
   "source": [
    "close111 = close1.sort_values(['sec_id', 'date'])"
   ]
  },
  {
   "cell_type": "code",
   "execution_count": null,
   "metadata": {
    "collapsed": true
   },
   "outputs": [],
   "source": [
    "close1.head(3)"
   ]
  },
  {
   "cell_type": "code",
   "execution_count": null,
   "metadata": {
    "collapsed": true
   },
   "outputs": [],
   "source": [
    "def cal_vol(x,cycle):\n",
    "    num = x.count()\n",
    "    if num<cycle:\n",
    "        return np.nan\n",
    "    else:\n",
    "        return x.tail(21).std()\n",
    "            "
   ]
  },
  {
   "cell_type": "code",
   "execution_count": null,
   "metadata": {
    "collapsed": true
   },
   "outputs": [],
   "source": [
    "cycle=21"
   ]
  },
  {
   "cell_type": "code",
   "execution_count": null,
   "metadata": {
    "collapsed": true
   },
   "outputs": [],
   "source": [
    "close_5days = close2.groupby(['sec_id']).apply(lambda x: cal_vol(x.close,cycle))"
   ]
  },
  {
   "cell_type": "code",
   "execution_count": null,
   "metadata": {
    "collapsed": true
   },
   "outputs": [],
   "source": [
    "close_5days.loc['SZ300708']"
   ]
  },
  {
   "cell_type": "code",
   "execution_count": null,
   "metadata": {
    "collapsed": true
   },
   "outputs": [],
   "source": [
    "import datetime\n",
    "benchmark = datetime.date(2007,1,15)"
   ]
  },
  {
   "cell_type": "code",
   "execution_count": null,
   "metadata": {
    "collapsed": true
   },
   "outputs": [],
   "source": [
    "benchmark"
   ]
  },
  {
   "cell_type": "code",
   "execution_count": null,
   "metadata": {
    "collapsed": true
   },
   "outputs": [],
   "source": [
    "close['date'] = close.date.apply(lambda x: str(x))"
   ]
  },
  {
   "cell_type": "code",
   "execution_count": null,
   "metadata": {
    "collapsed": true
   },
   "outputs": [],
   "source": [
    "close.date[0]"
   ]
  },
  {
   "cell_type": "code",
   "execution_count": null,
   "metadata": {
    "collapsed": true
   },
   "outputs": [],
   "source": [
    "close1 = close"
   ]
  },
  {
   "cell_type": "code",
   "execution_count": null,
   "metadata": {
    "collapsed": true
   },
   "outputs": [],
   "source": [
    "close_5days = close.groupby(['sec_id'], as_index=False).apply(lambda x: x.tail(5))"
   ]
  },
  {
   "cell_type": "code",
   "execution_count": null,
   "metadata": {
    "collapsed": true
   },
   "outputs": [],
   "source": [
    "close_5days.name='vol_5days'"
   ]
  },
  {
   "cell_type": "code",
   "execution_count": null,
   "metadata": {
    "collapsed": true
   },
   "outputs": [],
   "source": [
    "def cal_vol(df_close,date,cycle):  \n",
    "    \"\"\"\n",
    "    @date <datetime,%Y-%m-%d>: 要求波动率的日期\n",
    "    \"\"\"\n",
    "    df1 = df_close[df_close.date.le(benchmark)]\n",
    "    def func_vol(x, cycle):\n",
    "        num = x.count()  # 当前股票在基准日之前的交易日个数\n",
    "        if num < cycle:  # 如果历史交易天数小于要计算的周期 则返回空值\n",
    "            return np.nan\n",
    "        else:\n",
    "            return x.tail(cycle).std()\n",
    "    df2 = df1.groupby(['sec_id']).apply(lambda x: func_vol(x.close, cycle))\n",
    "    df2.name = 'vol_{}days'.format(str(cycle))\n",
    "    df3 = df2.to_frame()\n",
    "    df3['date'] = date\n",
    "    return df3"
   ]
  },
  {
   "cell_type": "code",
   "execution_count": null,
   "metadata": {
    "collapsed": true
   },
   "outputs": [],
   "source": [
    "benchmark = datetime.date(2007,1,12)\n",
    "cal_vol(close2.copy(), benchmark,21)"
   ]
  },
  {
   "cell_type": "code",
   "execution_count": null,
   "metadata": {
    "collapsed": true
   },
   "outputs": [],
   "source": []
  },
  {
   "cell_type": "code",
   "execution_count": null,
   "metadata": {
    "collapsed": true
   },
   "outputs": [],
   "source": []
  },
  {
   "cell_type": "code",
   "execution_count": null,
   "metadata": {
    "collapsed": true
   },
   "outputs": [],
   "source": [
    "def cal_rev(x):\n",
    "    df = x.head(1).merge(x.tail(1), on =['sec_id'])\n",
    "    return (df['close_y'] / df['close_x'] -1)/5*365"
   ]
  },
  {
   "cell_type": "code",
   "execution_count": null,
   "metadata": {
    "collapsed": true
   },
   "outputs": [],
   "source": [
    "rev = close_5days.groupby(['sec_id']).apply(lambda x: cal_rev(x)).rename(columns={0:'ret_5days'})"
   ]
  },
  {
   "cell_type": "code",
   "execution_count": null,
   "metadata": {
    "collapsed": true
   },
   "outputs": [],
   "source": [
    "caldar = pd.read_csv(r\"E:\\99_daily\\TODAY\\datelist.csv\")"
   ]
  },
  {
   "cell_type": "code",
   "execution_count": null,
   "metadata": {
    "collapsed": true
   },
   "outputs": [],
   "source": [
    "datelist = conn.query_as_dataframe(query)"
   ]
  },
  {
   "cell_type": "code",
   "execution_count": null,
   "metadata": {
    "collapsed": true
   },
   "outputs": [],
   "source": [
    "datelist['is_trading_day']=1"
   ]
  },
  {
   "cell_type": "code",
   "execution_count": null,
   "metadata": {
    "collapsed": true
   },
   "outputs": [],
   "source": [
    "datelist['date'] = datelist['date'].apply(lambda x: str(x))"
   ]
  },
  {
   "cell_type": "code",
   "execution_count": null,
   "metadata": {
    "collapsed": true
   },
   "outputs": [],
   "source": [
    "date2 = caldar.merge(datelist,how='left',on=['date'])"
   ]
  },
  {
   "cell_type": "code",
   "execution_count": null,
   "metadata": {
    "collapsed": true
   },
   "outputs": [],
   "source": [
    "date2.loc[:, 'is_weekly_last_trading_day'] = np.nan\n",
    "date2.loc[:, 'is_report_day'] = np.nan\n",
    "date2.loc[:, 'is_monthly_last_trading_day'] = np.nan"
   ]
  },
  {
   "cell_type": "code",
   "execution_count": null,
   "metadata": {
    "collapsed": true
   },
   "outputs": [],
   "source": [
    "week_id=date2.columns.tolist().index('is_weekly_last_trading_day')\n",
    "report_id = date2.columns.tolist().index('is_report_day')\n",
    "month_id = date2.columns.tolist().index('is_monthly_last_trading_day')"
   ]
  },
  {
   "cell_type": "code",
   "execution_count": null,
   "metadata": {
    "collapsed": true
   },
   "outputs": [],
   "source": [
    "date2.iloc[0,1]"
   ]
  },
  {
   "cell_type": "code",
   "execution_count": null,
   "metadata": {
    "collapsed": true
   },
   "outputs": [],
   "source": [
    "for row in range(date2.shape[0]):\n",
    "    if date2.iloc[row, 0][5:] in ['03-31', '06-30','09-30','12-31']:\n",
    "        date2.iloc[row,report_id] = 1\n",
    "    else:\n",
    "        date2.iloc[row,report_id] = 0\n",
    "    if date2.iloc[row, 1] in ['星期五']:\n",
    "        date2.iloc[row,week_id] = 1\n",
    "    else:\n",
    "        date2.iloc[row,week_id] = 0\n",
    "                   \n",
    "    if date2.iloc[row, 1][5:] in ['01-01','02-28','03-31','04-30','05-31','06-30','07-31','08-31','09-30','10-31','11-31','12-31']:\n",
    "        date2.iloc[row,month_id] = 1\n",
    "    else:\n",
    "        date2.iloc[row,month_id] = 0"
   ]
  },
  {
   "cell_type": "code",
   "execution_count": null,
   "metadata": {
    "collapsed": true
   },
   "outputs": [],
   "source": [
    "date2=date2.replace({NaN:0})"
   ]
  },
  {
   "cell_type": "code",
   "execution_count": null,
   "metadata": {
    "collapsed": true
   },
   "outputs": [],
   "source": [
    "del date2['week']"
   ]
  },
  {
   "cell_type": "code",
   "execution_count": null,
   "metadata": {
    "collapsed": true
   },
   "outputs": [],
   "source": [
    "sql=dk.SqliteProxy()"
   ]
  },
  {
   "cell_type": "code",
   "execution_count": null,
   "metadata": {
    "collapsed": true
   },
   "outputs": [],
   "source": [
    "sql.connect(r\"E:\\04_project\\finkit\\static files\\calendar.db\")"
   ]
  },
  {
   "cell_type": "code",
   "execution_count": null,
   "metadata": {
    "collapsed": true
   },
   "outputs": [],
   "source": [
    "sql.write_from_dataframe(date2,'calendar')"
   ]
  },
  {
   "cell_type": "code",
   "execution_count": null,
   "metadata": {
    "collapsed": true
   },
   "outputs": [],
   "source": [
    "query = \"SELECT date_report, date_published, sec_id, 资产负债率, 现金流动负债比率,\\\n",
    "速动比率, 流动比率, 利息保障倍数, 总资产周转率, 存货周转率, 营业收入增长率, \\\n",
    "净利润增长率, 总资产增长率, 净资产收益率,销售毛利率,销售净利率, 总资产净利率 FROM report_variables1;\""
   ]
  },
  {
   "cell_type": "code",
   "execution_count": null,
   "metadata": {
    "collapsed": true
   },
   "outputs": [],
   "source": [
    "fr = conn.query_as_dataframe(query)"
   ]
  },
  {
   "cell_type": "code",
   "execution_count": null,
   "metadata": {
    "collapsed": true,
    "scrolled": true
   },
   "outputs": [],
   "source": [
    "fr.to_csv(r\"E:\\99_daily\\TODAY\\fr.csv\")"
   ]
  },
  {
   "cell_type": "code",
   "execution_count": null,
   "metadata": {
    "collapsed": true
   },
   "outputs": [],
   "source": [
    "stocks_info = conn.query_as_dataframe(query)"
   ]
  },
  {
   "cell_type": "code",
   "execution_count": null,
   "metadata": {
    "collapsed": true
   },
   "outputs": [],
   "source": [
    "stocks_info = stocks_info.is_st==0 and stocks_info.is_trade==1 and stocks_info.industry_sw.isin([\"银行\",\"非银金融\"])'"
   ]
  },
  {
   "cell_type": "code",
   "execution_count": null,
   "metadata": {
    "collapsed": true
   },
   "outputs": [],
   "source": [
    "stocks_info1 = stocks_info[stocks_info.is_trade==1]# 剔除停牌股"
   ]
  },
  {
   "cell_type": "code",
   "execution_count": null,
   "metadata": {
    "collapsed": true
   },
   "outputs": [],
   "source": [
    "stocks_info2 = stocks_info1[stocks_info1.is_st==0] # 剔除st股"
   ]
  },
  {
   "cell_type": "code",
   "execution_count": null,
   "metadata": {
    "collapsed": true
   },
   "outputs": [],
   "source": [
    "stocks_info3 = stocks_info2[~stocks_info2.industry_sw.isin([\"银行\",\"非银金融\"])] # 剔除金融股"
   ]
  },
  {
   "cell_type": "code",
   "execution_count": null,
   "metadata": {
    "collapsed": true
   },
   "outputs": [],
   "source": [
    "stocks_info4 = stocks_info3[stocks_info3.traded_days_until_now>400] # 剔除次新股"
   ]
  },
  {
   "cell_type": "code",
   "execution_count": null,
   "metadata": {
    "collapsed": true
   },
   "outputs": [],
   "source": [
    "stocks_info4 = stocks_info4.sort_values(['date','industry_sw','stock_float_shares'], ascending=[True,True, False])"
   ]
  },
  {
   "cell_type": "code",
   "execution_count": null,
   "metadata": {
    "collapsed": true
   },
   "outputs": [],
   "source": [
    "stocks_info4['date'] = stocks_info4['date'].apply(lambda x: str(x))"
   ]
  },
  {
   "cell_type": "code",
   "execution_count": null,
   "metadata": {
    "collapsed": true
   },
   "outputs": [],
   "source": [
    "stocks_info5 = stocks_info4.groupby(['date','industry_sw'], as_index=False).apply(lambda x: x.head(30))"
   ]
  },
  {
   "cell_type": "code",
   "execution_count": null,
   "metadata": {
    "collapsed": true
   },
   "outputs": [],
   "source": [
    "fr = conn.query_as_dataframe(\"SELECT * FROM report_variables1 WHERE (Year(date_report) BETWEEN 2010 AND 2014) AND MONTH(date_report) =12\")"
   ]
  },
  {
   "cell_type": "code",
   "execution_count": null,
   "metadata": {
    "collapsed": true
   },
   "outputs": [],
   "source": [
    "stocks_info5.to_csv(r\"E:\\99_daily\\TODAY\\stocks_info5.csv\")"
   ]
  },
  {
   "cell_type": "code",
   "execution_count": null,
   "metadata": {
    "collapsed": true
   },
   "outputs": [],
   "source": [
    "stocks_info5 = pd.read_csv(r\"E:\\99_daily\\TODAY\\stocks_info5.csv\",encoding='gbk')"
   ]
  },
  {
   "cell_type": "code",
   "execution_count": null,
   "metadata": {
    "collapsed": true
   },
   "outputs": [],
   "source": [
    "stocks_info5['date'] = stocks_info5['date'].apply(lambda x: x.split('/')[0]+'-'+x.split('/')[1]+'-'+x.split('/')[2])"
   ]
  },
  {
   "cell_type": "code",
   "execution_count": null,
   "metadata": {
    "collapsed": true
   },
   "outputs": [],
   "source": [
    "stocks_info6=stocks_info5[stocks_info5.date.between('2010-01-01','2015-12-31')]"
   ]
  },
  {
   "cell_type": "code",
   "execution_count": null,
   "metadata": {
    "collapsed": true
   },
   "outputs": [],
   "source": [
    "stocks_info6"
   ]
  },
  {
   "cell_type": "code",
   "execution_count": null,
   "metadata": {
    "collapsed": true
   },
   "outputs": [],
   "source": [
    "stocks_info6['year'] = stocks_info6.date.apply(lambda x: x.split('-')[0])"
   ]
  },
  {
   "cell_type": "code",
   "execution_count": null,
   "metadata": {
    "collapsed": true
   },
   "outputs": [],
   "source": [
    "stocks_info6.head(3)"
   ]
  },
  {
   "cell_type": "code",
   "execution_count": null,
   "metadata": {
    "collapsed": true
   },
   "outputs": [],
   "source": [
    "flag= stocks_info6[['sec_id','year']]"
   ]
  },
  {
   "cell_type": "code",
   "execution_count": null,
   "metadata": {
    "collapsed": true
   },
   "outputs": [],
   "source": [
    "stocks_info5[stocks_info5.date.between(start_time=)]"
   ]
  },
  {
   "cell_type": "code",
   "execution_count": null,
   "metadata": {
    "collapsed": true
   },
   "outputs": [],
   "source": [
    "fr1 = fr.merge(sec_ids, how='inner', left_on=['sec_id'], right_on=['sec_id'])"
   ]
  },
  {
   "cell_type": "code",
   "execution_count": null,
   "metadata": {
    "collapsed": true
   },
   "outputs": [],
   "source": [
    "stocks_info5.shape"
   ]
  },
  {
   "cell_type": "code",
   "execution_count": null,
   "metadata": {
    "collapsed": true
   },
   "outputs": [],
   "source": [
    "stocks_info4.shape"
   ]
  },
  {
   "cell_type": "code",
   "execution_count": null,
   "metadata": {
    "collapsed": true
   },
   "outputs": [],
   "source": [
    "a = conn.query_as_dataframe(\"SELECT * FROM a\")"
   ]
  },
  {
   "cell_type": "code",
   "execution_count": null,
   "metadata": {
    "collapsed": true
   },
   "outputs": [],
   "source": [
    "a.head(3)"
   ]
  },
  {
   "cell_type": "code",
   "execution_count": null,
   "metadata": {
    "collapsed": true
   },
   "outputs": [],
   "source": [
    "from devkit.api import SqliteProxy\n",
    "sql = dk.SqliteProxy()\n",
    "sql.connect(r\"E:\\02_work\\sw\\db\\index_contents\\2006.db\")\n",
    "table_name = \"A\"\n",
    "df2=sql.query_as_dataframe(\"SELECT * from {}\".format(table_name))\n",
    "# print(sql.describe_table(table_name))\n",
    "#print(sql.query_as_dataframe(\"SELECT * from {}\".format(table_name)))\n",
    "#print(sql.describe_table(table_name))\n",
    "sql.close()"
   ]
  },
  {
   "cell_type": "code",
   "execution_count": null,
   "metadata": {
    "collapsed": true
   },
   "outputs": [],
   "source": [
    "df = df1.append(df2)"
   ]
  },
  {
   "cell_type": "code",
   "execution_count": null,
   "metadata": {
    "collapsed": true
   },
   "outputs": [],
   "source": [
    "df['sec_id'] = df['sec_id'].apply(lambda x: x.split('.')[1] + x.split('.')[0])"
   ]
  },
  {
   "cell_type": "code",
   "execution_count": null,
   "metadata": {
    "collapsed": true
   },
   "outputs": [],
   "source": [
    "df.head(3)"
   ]
  },
  {
   "cell_type": "code",
   "execution_count": null,
   "metadata": {
    "collapsed": true
   },
   "outputs": [],
   "source": [
    "ic = a.append(df)"
   ]
  },
  {
   "cell_type": "code",
   "execution_count": null,
   "metadata": {
    "collapsed": true
   },
   "outputs": [],
   "source": [
    "b['date'] = b['date'].apply(lambda x: str(x))"
   ]
  },
  {
   "cell_type": "code",
   "execution_count": null,
   "metadata": {
    "collapsed": true
   },
   "outputs": [],
   "source": [
    "a.date.tolist()"
   ]
  },
  {
   "cell_type": "code",
   "execution_count": null,
   "metadata": {
    "collapsed": true
   },
   "outputs": [],
   "source": [
    "b = conn.query_as_dataframe(\"SELECT date, sec_id, is_trade, is_st, traded_days_until_now, stock_total_shares, stock_float_shares FROM time_series_variables\")"
   ]
  },
  {
   "cell_type": "code",
   "execution_count": null,
   "metadata": {
    "collapsed": true
   },
   "outputs": [],
   "source": [
    "b.shape"
   ]
  },
  {
   "cell_type": "code",
   "execution_count": null,
   "metadata": {
    "collapsed": true
   },
   "outputs": [],
   "source": [
    "c=ic.merge(b, how='inner',left_on=['sec_id','date'],right_on=['sec_id','date'])"
   ]
  },
  {
   "cell_type": "code",
   "execution_count": null,
   "metadata": {
    "collapsed": true
   },
   "outputs": [],
   "source": [
    "c = c.sort_values(by=['date','sec_id'])"
   ]
  },
  {
   "cell_type": "code",
   "execution_count": null,
   "metadata": {
    "collapsed": true
   },
   "outputs": [],
   "source": [
    "c.head(3)"
   ]
  },
  {
   "cell_type": "code",
   "execution_count": null,
   "metadata": {
    "collapsed": true
   },
   "outputs": [],
   "source": [
    "industry=pd.read_csv(r\"E:\\99_daily\\TODAY\\industry_sw.csv\")"
   ]
  },
  {
   "cell_type": "code",
   "execution_count": null,
   "metadata": {
    "collapsed": true
   },
   "outputs": [],
   "source": [
    "industry['sec_id'] = industry['sec_id'].apply(lambda x: x.split('.')[1] + x.split('.')[0])"
   ]
  },
  {
   "cell_type": "code",
   "execution_count": null,
   "metadata": {
    "collapsed": true
   },
   "outputs": [],
   "source": [
    "industry = industry.dropna()"
   ]
  },
  {
   "cell_type": "code",
   "execution_count": null,
   "metadata": {
    "collapsed": true
   },
   "outputs": [],
   "source": [
    "industry[industry['industry_swcode'].isnull()]"
   ]
  },
  {
   "cell_type": "code",
   "execution_count": null,
   "metadata": {
    "collapsed": true
   },
   "outputs": [],
   "source": [
    "industry['industry_swcode'] = industry['industry_swcode'].apply(lambda x: int(x))"
   ]
  },
  {
   "cell_type": "code",
   "execution_count": null,
   "metadata": {
    "collapsed": true
   },
   "outputs": [],
   "source": [
    "df5 = c.merge(industry,how='inner', left_on=['sec_id','sec_name'], right_on=['sec_id', 'sec_name'])"
   ]
  },
  {
   "cell_type": "code",
   "execution_count": null,
   "metadata": {
    "collapsed": true
   },
   "outputs": [],
   "source": [
    "temp=df5[2000000:]"
   ]
  },
  {
   "cell_type": "code",
   "execution_count": null,
   "metadata": {
    "collapsed": true
   },
   "outputs": [],
   "source": [
    "temp"
   ]
  },
  {
   "cell_type": "code",
   "execution_count": null,
   "metadata": {
    "collapsed": true
   },
   "outputs": [],
   "source": [
    "dk.df2mysql('root', '123888', 'indicator', 'stocks_infos', temp, index=False,  index_label=False)"
   ]
  },
  {
   "cell_type": "code",
   "execution_count": null,
   "metadata": {
    "collapsed": true
   },
   "outputs": [],
   "source": [
    "temp = df5[['industry_sw','industry_swcode']]"
   ]
  },
  {
   "cell_type": "code",
   "execution_count": null,
   "metadata": {
    "collapsed": true
   },
   "outputs": [],
   "source": [
    "temp['industry_swcode']=temp['industry_swcode'].apply(lambda x: str(x))"
   ]
  },
  {
   "cell_type": "code",
   "execution_count": null,
   "metadata": {
    "collapsed": true
   },
   "outputs": [],
   "source": [
    "temp =temp.drop_duplicates()"
   ]
  },
  {
   "cell_type": "code",
   "execution_count": null,
   "metadata": {
    "collapsed": true
   },
   "outputs": [],
   "source": [
    "temp = temp.set_index('industry_swcode')"
   ]
  },
  {
   "cell_type": "code",
   "execution_count": null,
   "metadata": {
    "collapsed": true
   },
   "outputs": [],
   "source": [
    "dk.dict2json(temp.to_dict()['industry_sw'],r\"E:\\99_daily\\TODAY\\code2sw.json\")"
   ]
  },
  {
   "cell_type": "code",
   "execution_count": null,
   "metadata": {
    "collapsed": true
   },
   "outputs": [],
   "source": [
    "df5.to_csv(r\"E:\\99_daily\\TODAY\\stocks_info2.csv\",encoding='utf-8')"
   ]
  },
  {
   "cell_type": "code",
   "execution_count": null,
   "metadata": {
    "collapsed": true
   },
   "outputs": [],
   "source": [
    "df5 = pd.read_csv(r\"E:\\99_daily\\TODAY\\stocks_info2.csv\",encoding='utf-8',index_col=0)"
   ]
  },
  {
   "cell_type": "code",
   "execution_count": null,
   "metadata": {
    "collapsed": true
   },
   "outputs": [],
   "source": [
    "df5.head(3)"
   ]
  },
  {
   "cell_type": "code",
   "execution_count": null,
   "metadata": {
    "collapsed": true
   },
   "outputs": [],
   "source": [
    "df5.shape"
   ]
  },
  {
   "cell_type": "code",
   "execution_count": null,
   "metadata": {
    "collapsed": true
   },
   "outputs": [],
   "source": [
    "df6 =df5.dropna(how='any')"
   ]
  },
  {
   "cell_type": "code",
   "execution_count": null,
   "metadata": {
    "collapsed": true
   },
   "outputs": [],
   "source": [
    "df6.shape"
   ]
  },
  {
   "cell_type": "code",
   "execution_count": null,
   "metadata": {
    "collapsed": true
   },
   "outputs": [],
   "source": [
    "close_info = conn.query_as_dataframe(\"SELECT Year(date) as year, date, sec_id, close FROM time_series_variables WHERE Year(date) BETWEEN 2010 AND 2015\")"
   ]
  },
  {
   "cell_type": "code",
   "execution_count": null,
   "metadata": {
    "collapsed": true
   },
   "outputs": [],
   "source": [
    "close_info.head(3)"
   ]
  },
  {
   "cell_type": "code",
   "execution_count": null,
   "metadata": {
    "collapsed": true
   },
   "outputs": [],
   "source": [
    "close_begin=close_info.groupby(['sec_id','year'], as_index=False).apply(lambda x: x[x.date == x.date.min()])"
   ]
  },
  {
   "cell_type": "code",
   "execution_count": null,
   "metadata": {
    "collapsed": true
   },
   "outputs": [],
   "source": [
    "close_begin = close_begin.rename(columns={'close': 'close_begin'})"
   ]
  },
  {
   "cell_type": "code",
   "execution_count": null,
   "metadata": {
    "collapsed": true
   },
   "outputs": [],
   "source": [
    "close_ending=close_info.groupby(['sec_id','year'], as_index=False).apply(lambda x: x[x.date == x.date.max()])"
   ]
  },
  {
   "cell_type": "code",
   "execution_count": null,
   "metadata": {
    "collapsed": true
   },
   "outputs": [],
   "source": [
    "close_ending = close_ending.rename(columns={'close': 'close_ending'})"
   ]
  },
  {
   "cell_type": "code",
   "execution_count": null,
   "metadata": {
    "collapsed": true
   },
   "outputs": [],
   "source": [
    "close = close_begin.merge(close_ending,how='inner',left_on=['year','sec_id'], right_on=['year','sec_id'])[['year','sec_id','close_begin','close_ending']]"
   ]
  },
  {
   "cell_type": "code",
   "execution_count": null,
   "metadata": {
    "collapsed": true
   },
   "outputs": [],
   "source": [
    "close=close.replace({0:np.nan})"
   ]
  },
  {
   "cell_type": "code",
   "execution_count": null,
   "metadata": {
    "collapsed": true
   },
   "outputs": [],
   "source": [
    "close = close.dropna()"
   ]
  },
  {
   "cell_type": "code",
   "execution_count": null,
   "metadata": {
    "collapsed": true
   },
   "outputs": [],
   "source": [
    "close['return_rate_annual'] = close['close_ending'] / close['close_begin'] -1"
   ]
  },
  {
   "cell_type": "code",
   "execution_count": null,
   "metadata": {
    "collapsed": true
   },
   "outputs": [],
   "source": [
    "close['year'] = close['year'].apply(lambda x: str(x))"
   ]
  },
  {
   "cell_type": "code",
   "execution_count": null,
   "metadata": {
    "collapsed": true
   },
   "outputs": [],
   "source": [
    "flag.iloc[0,1]"
   ]
  },
  {
   "cell_type": "code",
   "execution_count": null,
   "metadata": {
    "collapsed": true
   },
   "outputs": [],
   "source": [
    "close1=close.merge(flag,how='inner',left_on=['year','sec_id'],right_on=['year','sec_id'])"
   ]
  },
  {
   "cell_type": "code",
   "execution_count": null,
   "metadata": {
    "collapsed": true
   },
   "outputs": [],
   "source": [
    "close1.head(3)"
   ]
  },
  {
   "cell_type": "code",
   "execution_count": null,
   "metadata": {
    "collapsed": true
   },
   "outputs": [],
   "source": [
    "query=\"SELECT * \\\n",
    "FROM report_variables1 \\\n",
    "WHERE (date_report BETWEEN '2010-01-01' AND '2015-12-31') AND Month(date_report)=12 \\\n",
    "ORDER BY sec_id, date_report\" \\"
   ]
  },
  {
   "cell_type": "code",
   "execution_count": null,
   "metadata": {
    "collapsed": true
   },
   "outputs": [],
   "source": [
    "fr = conn.query_as_dataframe(query)"
   ]
  },
  {
   "cell_type": "code",
   "execution_count": null,
   "metadata": {
    "collapsed": true
   },
   "outputs": [],
   "source": [
    "fr['year'] = fr['date_report'].apply(lambda x: str(x).split('-')[0])"
   ]
  },
  {
   "cell_type": "code",
   "execution_count": null,
   "metadata": {
    "collapsed": true
   },
   "outputs": [],
   "source": [
    "fr.shape"
   ]
  },
  {
   "cell_type": "code",
   "execution_count": null,
   "metadata": {
    "collapsed": true
   },
   "outputs": [],
   "source": [
    "fr1 = fr.merge(close1,how='inner',on=['year','sec_id'])"
   ]
  },
  {
   "cell_type": "code",
   "execution_count": null,
   "metadata": {
    "collapsed": true
   },
   "outputs": [],
   "source": [
    "fr1.shape[0]"
   ]
  },
  {
   "cell_type": "code",
   "execution_count": null,
   "metadata": {
    "collapsed": true
   },
   "outputs": [],
   "source": [
    "a=fr1.isnull().sum() / fr1.shape[0] # 缺失比例"
   ]
  },
  {
   "cell_type": "code",
   "execution_count": null,
   "metadata": {
    "collapsed": true
   },
   "outputs": [],
   "source": [
    "a.sort_values(ascending=False)"
   ]
  },
  {
   "cell_type": "code",
   "execution_count": null,
   "metadata": {
    "collapsed": true
   },
   "outputs": [],
   "source": [
    "retain_vars=a[a==0].index.tolist()"
   ]
  },
  {
   "cell_type": "code",
   "execution_count": null,
   "metadata": {
    "collapsed": true
   },
   "outputs": [],
   "source": [
    "fr2=fr1[retain_vars]"
   ]
  },
  {
   "cell_type": "code",
   "execution_count": null,
   "metadata": {
    "collapsed": true
   },
   "outputs": [],
   "source": [
    "del fr2[['']]"
   ]
  },
  {
   "cell_type": "code",
   "execution_count": null,
   "metadata": {
    "collapsed": true
   },
   "outputs": [],
   "source": []
  },
  {
   "cell_type": "code",
   "execution_count": null,
   "metadata": {
    "collapsed": true
   },
   "outputs": [],
   "source": [
    "fr2.shape"
   ]
  },
  {
   "cell_type": "code",
   "execution_count": null,
   "metadata": {
    "collapsed": true
   },
   "outputs": [],
   "source": [
    "close1.shape"
   ]
  },
  {
   "cell_type": "code",
   "execution_count": null,
   "metadata": {
    "collapsed": true
   },
   "outputs": [],
   "source": [
    "df = pd.read_csv(r\"E:\\99_daily\\TODAY\\post_process.csv\", encoding='gbk')"
   ]
  },
  {
   "cell_type": "code",
   "execution_count": null,
   "metadata": {
    "collapsed": true
   },
   "outputs": [],
   "source": [
    "df.head(3)"
   ]
  },
  {
   "cell_type": "code",
   "execution_count": null,
   "metadata": {
    "collapsed": true
   },
   "outputs": [],
   "source": [
    "df1 = df.merge(close[['year', 'sec_id', 'return_rate_annual']], how='inner', left_on=['year','sec_id'], right_on=['year','sec_id'])"
   ]
  },
  {
   "cell_type": "code",
   "execution_count": null,
   "metadata": {
    "collapsed": true
   },
   "outputs": [],
   "source": [
    "df1"
   ]
  },
  {
   "cell_type": "code",
   "execution_count": null,
   "metadata": {
    "collapsed": true
   },
   "outputs": [],
   "source": [
    "a=(df1.isnull().sum()==0)"
   ]
  },
  {
   "cell_type": "code",
   "execution_count": null,
   "metadata": {
    "collapsed": true
   },
   "outputs": [],
   "source": [
    "df2 = df1[a[a].index.tolist()]"
   ]
  },
  {
   "cell_type": "code",
   "execution_count": null,
   "metadata": {
    "collapsed": true
   },
   "outputs": [],
   "source": [
    "ana_vars=df2.columns.drop(['market.1','year.1','Unnamed: 2','year','stock_float_shares_avg','market'])"
   ]
  },
  {
   "cell_type": "code",
   "execution_count": null,
   "metadata": {
    "collapsed": true
   },
   "outputs": [],
   "source": [
    "df2 = df2[ana_vars]"
   ]
  },
  {
   "cell_type": "code",
   "execution_count": null,
   "metadata": {
    "collapsed": true
   },
   "outputs": [],
   "source": [
    "df2.to_csv(r\"E:\\99_daily\\TODAY\\post_process1.csv\")"
   ]
  },
  {
   "cell_type": "code",
   "execution_count": null,
   "metadata": {
    "collapsed": true
   },
   "outputs": [],
   "source": [
    "df2=pd.read_csv(r\"E:\\99_daily\\TODAY\\post_process1.csv\",encoding='gbk')"
   ]
  },
  {
   "cell_type": "code",
   "execution_count": null,
   "metadata": {
    "collapsed": true
   },
   "outputs": [],
   "source": [
    "df2.head(3)"
   ]
  },
  {
   "cell_type": "code",
   "execution_count": null,
   "metadata": {
    "collapsed": true
   },
   "outputs": [],
   "source": [
    "import numpy as np\n",
    "from sklearn.decomposition import KernelPCA\n",
    "from sklearn.svm import SVR\n",
    "import matplotlib.pyplot as plt"
   ]
  },
  {
   "cell_type": "code",
   "execution_count": null,
   "metadata": {
    "collapsed": true
   },
   "outputs": [],
   "source": [
    "y=df2['return_rate_annual']"
   ]
  },
  {
   "cell_type": "code",
   "execution_count": null,
   "metadata": {
    "collapsed": true
   },
   "outputs": [],
   "source": [
    "len(y)"
   ]
  },
  {
   "cell_type": "code",
   "execution_count": null,
   "metadata": {
    "collapsed": true
   },
   "outputs": [],
   "source": [
    "X=df2.iloc[:,4:-1]"
   ]
  },
  {
   "cell_type": "code",
   "execution_count": null,
   "metadata": {
    "collapsed": true
   },
   "outputs": [],
   "source": [
    "X.shape"
   ]
  },
  {
   "cell_type": "code",
   "execution_count": null,
   "metadata": {
    "collapsed": true
   },
   "outputs": [],
   "source": [
    "kpca=KernelPCA()"
   ]
  },
  {
   "cell_type": "code",
   "execution_count": null,
   "metadata": {
    "collapsed": true
   },
   "outputs": [],
   "source": [
    "X = X.apply(lambda x: (x-x.mean())/x.std())"
   ]
  },
  {
   "cell_type": "code",
   "execution_count": null,
   "metadata": {
    "collapsed": true
   },
   "outputs": [],
   "source": [
    "kpca.fit(X)"
   ]
  },
  {
   "cell_type": "code",
   "execution_count": null,
   "metadata": {
    "collapsed": true
   },
   "outputs": [],
   "source": [
    "kpca.lambdas_[:10].round(2)"
   ]
  },
  {
   "cell_type": "code",
   "execution_count": null,
   "metadata": {
    "collapsed": true
   },
   "outputs": [],
   "source": [
    "get_we = lambda x: x / x.sum()"
   ]
  },
  {
   "cell_type": "code",
   "execution_count": null,
   "metadata": {
    "collapsed": true
   },
   "outputs": [],
   "source": [
    "get_we(kpca.lambdas_)[:15].sum()"
   ]
  },
  {
   "cell_type": "code",
   "execution_count": null,
   "metadata": {
    "collapsed": true
   },
   "outputs": [],
   "source": [
    "kpca.transform(X).iloc[:,:16]"
   ]
  },
  {
   "cell_type": "code",
   "execution_count": null,
   "metadata": {
    "collapsed": true
   },
   "outputs": [],
   "source": [
    "b=pd.DataFrame(kpca.transform(X))"
   ]
  },
  {
   "cell_type": "code",
   "execution_count": null,
   "metadata": {
    "collapsed": true
   },
   "outputs": [],
   "source": [
    "X_new=b.iloc[:,:16]"
   ]
  },
  {
   "cell_type": "code",
   "execution_count": null,
   "metadata": {
    "collapsed": true
   },
   "outputs": [],
   "source": [
    "comp[:16].shape"
   ]
  },
  {
   "cell_type": "code",
   "execution_count": null,
   "metadata": {
    "collapsed": true
   },
   "outputs": [],
   "source": [
    "svr_rbf = SVR(kernel='rbf', C=1e3, gamma=0.1)"
   ]
  },
  {
   "cell_type": "code",
   "execution_count": null,
   "metadata": {
    "collapsed": true
   },
   "outputs": [],
   "source": [
    "svr_rbf.fit(X_new,y)"
   ]
  },
  {
   "cell_type": "code",
   "execution_count": null,
   "metadata": {
    "collapsed": true
   },
   "outputs": [],
   "source": [
    "svr_lin = SVR(kernel='linear', C=1e3)"
   ]
  },
  {
   "cell_type": "code",
   "execution_count": null,
   "metadata": {
    "collapsed": true
   },
   "outputs": [],
   "source": [
    "svr_lin.fit(X,y)"
   ]
  },
  {
   "cell_type": "code",
   "execution_count": null,
   "metadata": {
    "collapsed": true
   },
   "outputs": [],
   "source": [
    "from sklearn.metrics import r2_score"
   ]
  },
  {
   "cell_type": "code",
   "execution_count": null,
   "metadata": {
    "collapsed": true
   },
   "outputs": [],
   "source": [
    "y_predict=svr_lin.predict(X)"
   ]
  },
  {
   "cell_type": "code",
   "execution_count": null,
   "metadata": {
    "collapsed": true
   },
   "outputs": [],
   "source": [
    "y_predict=svr_rbf.predict(X_new)"
   ]
  },
  {
   "cell_type": "code",
   "execution_count": null,
   "metadata": {
    "collapsed": true
   },
   "outputs": [],
   "source": [
    "r2_score(y, y_predict)"
   ]
  },
  {
   "cell_type": "code",
   "execution_count": null,
   "metadata": {
    "collapsed": true
   },
   "outputs": [],
   "source": [
    "r2_score(y, y_predict)"
   ]
  },
  {
   "cell_type": "code",
   "execution_count": null,
   "metadata": {
    "collapsed": true
   },
   "outputs": [],
   "source": [
    "r2_score(y, y_predict)"
   ]
  },
  {
   "cell_type": "code",
   "execution_count": null,
   "metadata": {
    "collapsed": true
   },
   "outputs": [],
   "source": [
    "svr_rbf = SVR(kernel='rbf', C=1e3, gamma=0.1)\n",
    "svr_lin = SVR(kernel='linear', C=1e3)\n",
    "svr_poly = SVR(kernel='poly', C=1e3, degree=2)\n",
    "y_rbf = svr_rbf.fit(X, y).predict(X)\n",
    "y_lin = svr_lin.fit(X, y).predict(X)\n",
    "y_poly = svr_poly.fit(X, y).predict(X)"
   ]
  },
  {
   "cell_type": "code",
   "execution_count": null,
   "metadata": {
    "collapsed": true
   },
   "outputs": [],
   "source": [
    "lw = 2\n",
    "plt.scatter(X, y, color='darkorange', label='data')\n",
    "plt.hold('on')\n",
    "# plt.plot(X, y_lin, color='c', lw=lw, label='Linear model')\n",
    "plt.plot(X, y_rbf, color='navy', lw=lw, label='RBF model')\n",
    "# plt.plot(X, y_poly, color='cornflowerblue', lw=lw, label='Polynomial model')\n",
    "plt.xlabel('data')\n",
    "plt.ylabel('target')\n",
    "plt.title('Support Vector Regression')\n",
    "plt.legend()\n",
    "plt.show()"
   ]
  },
  {
   "cell_type": "code",
   "execution_count": null,
   "metadata": {
    "collapsed": true
   },
   "outputs": [],
   "source": [
    "cols_to_retain"
   ]
  },
  {
   "cell_type": "code",
   "execution_count": null,
   "metadata": {
    "collapsed": true
   },
   "outputs": [],
   "source": [
    "close_info['year'] = close_info['date'].apply(lambda x: datetime.datetime.year(x))"
   ]
  },
  {
   "cell_type": "code",
   "execution_count": null,
   "metadata": {
    "collapsed": true
   },
   "outputs": [],
   "source": [
    "flag = conn.query_as_dataframe(\"SELECT Year(date) as year, sec_id, AVG(stock_total_shares) as stock_float_shares_avg,FROM time_series_variables GROUP BY Year(date), sec_id;\")"
   ]
  },
  {
   "cell_type": "code",
   "execution_count": null,
   "metadata": {
    "collapsed": true
   },
   "outputs": [],
   "source": [
    "fr = conn.query_as_dataframe(\"SELECT *, YEAR(date_report) as year FROM report_variables1 WHERE (Year(date_report) BETWEEN '2005' and '2015') and  MONTH(date_report) = 12;\")"
   ]
  },
  {
   "cell_type": "code",
   "execution_count": null,
   "metadata": {
    "collapsed": true
   },
   "outputs": [],
   "source": [
    "df = fr.merge(flag, how='inner',right_on=['sec_id','year'],left_on=['sec_id','year'])"
   ]
  },
  {
   "cell_type": "code",
   "execution_count": null,
   "metadata": {
    "collapsed": true
   },
   "outputs": [],
   "source": [
    "df['market'] = df['sec_id'].apply(lambda x: \"上交所\" if x[:2]=='SH' else \"深交所\")"
   ]
  },
  {
   "cell_type": "code",
   "execution_count": null,
   "metadata": {
    "collapsed": true
   },
   "outputs": [],
   "source": [
    "df"
   ]
  },
  {
   "cell_type": "code",
   "execution_count": null,
   "metadata": {
    "collapsed": true
   },
   "outputs": [],
   "source": [
    "df=df.sort_values(by=['year','market','stock_float_shares_avg'], ascending=[True, True,False])"
   ]
  },
  {
   "cell_type": "code",
   "execution_count": null,
   "metadata": {
    "collapsed": true
   },
   "outputs": [],
   "source": [
    "df1=df.groupby(by=['year','market']).apply(lambda x: x.head(150))"
   ]
  },
  {
   "cell_type": "code",
   "execution_count": null,
   "metadata": {
    "collapsed": true
   },
   "outputs": [],
   "source": [
    "cols_to_retain=(df1.isnull().sum()/df1.shape[0] < 0.05).index.tolist()"
   ]
  },
  {
   "cell_type": "code",
   "execution_count": null,
   "metadata": {
    "collapsed": true
   },
   "outputs": [],
   "source": [
    "df2=df1.copy()"
   ]
  },
  {
   "cell_type": "code",
   "execution_count": null,
   "metadata": {
    "collapsed": true
   },
   "outputs": [],
   "source": [
    "ana_vars=df2.columns.drop(['sec_id','date_report','date_published','year','stock_float_shares_avg','market'])"
   ]
  },
  {
   "cell_type": "code",
   "execution_count": null,
   "metadata": {
    "collapsed": true
   },
   "outputs": [],
   "source": [
    "df2 = df1[ana_vars]"
   ]
  },
  {
   "cell_type": "code",
   "execution_count": null,
   "metadata": {
    "collapsed": true
   },
   "outputs": [],
   "source": [
    "df2[ana_vars] = (df2[ana_vars] - df2[ana_vars].min())/ (df2[ana_vars].max() - df2[ana_vars].min())"
   ]
  },
  {
   "cell_type": "code",
   "execution_count": null,
   "metadata": {
    "collapsed": true
   },
   "outputs": [],
   "source": [
    "df2.to_csv(r\"C:\\Users\\youlin\\Desktop\\post_process.csv\")"
   ]
  },
  {
   "cell_type": "code",
   "execution_count": null,
   "metadata": {
    "collapsed": true
   },
   "outputs": [],
   "source": [
    "flag = conn.query_as_dataframe(\"SELECT Year(date) as year, sec_id, AVG(stock_total_shares) as stock_float_shares_avg,FROM time_series_variables GROUP BY Year(date), sec_id;\")"
   ]
  },
  {
   "cell_type": "code",
   "execution_count": null,
   "metadata": {
    "collapsed": true
   },
   "outputs": [],
   "source": [
    "output=pd.DataFrame()\n",
    "for year in df.year.drop_duplicates().tolist():\n",
    "    output=output.append(df[df.year.isin([year])].head(150))"
   ]
  },
  {
   "cell_type": "code",
   "execution_count": null,
   "metadata": {
    "collapsed": true
   },
   "outputs": [],
   "source": [
    "output.shape"
   ]
  },
  {
   "cell_type": "code",
   "execution_count": null,
   "metadata": {
    "collapsed": true
   },
   "outputs": [],
   "source": [
    "df.shape"
   ]
  },
  {
   "cell_type": "code",
   "execution_count": null,
   "metadata": {
    "collapsed": true
   },
   "outputs": [],
   "source": [
    "4\n",
    "\n",
    "A2B3D\n",
    "\n",
    "A4C2E\n",
    "\n",
    "A5D\n",
    "\n",
    "C3B"
   ]
  },
  {
   "cell_type": "code",
   "execution_count": null,
   "metadata": {
    "collapsed": true
   },
   "outputs": [],
   "source": [
    "all={'A':{'B':0,'C':0,'D':0,'E':0},'B':{'A':0,'C':0,'D':0,'E':0},'C':{'B':0,'A':0,'D':0,'E':0},'D':{'B':0,'C':0,'A':0,'E':0},'E':{'B':0,'C':0,'D':0,'A':0}}"
   ]
  },
  {
   "cell_type": "code",
   "execution_count": null,
   "metadata": {
    "collapsed": true
   },
   "outputs": [],
   "source": [
    "all"
   ]
  },
  {
   "cell_type": "code",
   "execution_count": null,
   "metadata": {
    "collapsed": true
   },
   "outputs": [],
   "source": [
    "for str in ['A2B3D','A4C2E']:\n",
    "    alpha = re.findall(r'([a-zA-Z]+)',str)\n",
    "    dist =  re.findall(r'([0-9]+)',str)\n",
    "    for index,value in enumerate(alpha):\n",
    "        if index > len(alpha) -2 :\n",
    "            break\n",
    "        all[value][alpha[index+1]]=dist[index]"
   ]
  },
  {
   "cell_type": "code",
   "execution_count": null,
   "metadata": {
    "collapsed": true
   },
   "outputs": [],
   "source": [
    "import copy\n",
    "all2=copy.deepcopy(all)"
   ]
  },
  {
   "cell_type": "code",
   "execution_count": null,
   "metadata": {
    "collapsed": true
   },
   "outputs": [],
   "source": [
    "for key1 in all:\n",
    "    for key2 in all[key1]:\n",
    "        if all[key1][key2] ==0:\n",
    "            del all2[key1][key2]"
   ]
  },
  {
   "cell_type": "code",
   "execution_count": null,
   "metadata": {
    "collapsed": true
   },
   "outputs": [],
   "source": [
    "all2"
   ]
  },
  {
   "cell_type": "code",
   "execution_count": null,
   "metadata": {
    "collapsed": true
   },
   "outputs": [],
   "source": [
    "a={'a':1,'b':2}"
   ]
  },
  {
   "cell_type": "code",
   "execution_count": null,
   "metadata": {
    "collapsed": true
   },
   "outputs": [],
   "source": [
    "del a['a']"
   ]
  },
  {
   "cell_type": "code",
   "execution_count": null,
   "metadata": {
    "collapsed": true
   },
   "outputs": [],
   "source": [
    "a"
   ]
  },
  {
   "cell_type": "code",
   "execution_count": null,
   "metadata": {
    "collapsed": true
   },
   "outputs": [],
   "source": [
    "for key in all:\n",
    "    for sub_key in all[key]:\n",
    "        if sub_key in all:\n",
    "            for sub_sub_key in all[sub_key]\n",
    "            max_root[key]=all[key][sub_key]+"
   ]
  },
  {
   "cell_type": "code",
   "execution_count": null,
   "metadata": {
    "collapsed": true
   },
   "outputs": [],
   "source": [
    "a=re.findall('[0-9]*','s2d23e')"
   ]
  },
  {
   "cell_type": "code",
   "execution_count": null,
   "metadata": {
    "collapsed": true
   },
   "outputs": [],
   "source": [
    "def search(site):\n",
    "    for sub in all2[site]:\n",
    "        if sub in all2:\n",
    "            root=search(site)\n",
    "        else:\n",
    "            root={site:sub}"
   ]
  },
  {
   "cell_type": "code",
   "execution_count": null,
   "metadata": {
    "collapsed": true
   },
   "outputs": [],
   "source": [
    "search('A')"
   ]
  },
  {
   "cell_type": "code",
   "execution_count": null,
   "metadata": {
    "collapsed": true
   },
   "outputs": [],
   "source": [
    " re.findall(r'([0-9]+)','A4C2E')"
   ]
  },
  {
   "cell_type": "code",
   "execution_count": null,
   "metadata": {
    "collapsed": true
   },
   "outputs": [],
   "source": [
    " re.findall(r'([a-zA-Z]+)','A4C2E')"
   ]
  },
  {
   "cell_type": "code",
   "execution_count": null,
   "metadata": {
    "collapsed": true
   },
   "outputs": [],
   "source": [
    "df = pd.DataFrame({'Sp':['a','b','c','d','e','f'], 'Mt':['s1', 's1', 's2','s2','s2','s3'], 'Value':[1,2,3,4,5,6], 'Count':[3,2,5,10,10,6]})"
   ]
  },
  {
   "cell_type": "code",
   "execution_count": null,
   "metadata": {
    "collapsed": true
   },
   "outputs": [],
   "source": [
    "df"
   ]
  },
  {
   "cell_type": "code",
   "execution_count": null,
   "metadata": {
    "collapsed": true
   },
   "outputs": [],
   "source": [
    "df.groupby(by=['Mt']).apply(lambda x: x[x.Count==x.Count.max()])"
   ]
  },
  {
   "cell_type": "code",
   "execution_count": null,
   "metadata": {
    "collapsed": true
   },
   "outputs": [],
   "source": [
    "df.groupby(by=['Mt']).agg(max)"
   ]
  },
  {
   "cell_type": "code",
   "execution_count": null,
   "metadata": {
    "collapsed": true
   },
   "outputs": [],
   "source": [
    "df"
   ]
  },
  {
   "cell_type": "code",
   "execution_count": null,
   "metadata": {
    "collapsed": true
   },
   "outputs": [],
   "source": [
    "df.groupby(by=['Mt'])['Count'].transform(max)"
   ]
  },
  {
   "cell_type": "code",
   "execution_count": null,
   "metadata": {
    "collapsed": true
   },
   "outputs": [],
   "source": [
    "idx=df.groupby(by=['Mt'])['Count'].transform(max)"
   ]
  },
  {
   "cell_type": "code",
   "execution_count": null,
   "metadata": {
    "collapsed": true
   },
   "outputs": [],
   "source": [
    "idx"
   ]
  },
  {
   "cell_type": "code",
   "execution_count": null,
   "metadata": {
    "collapsed": true
   },
   "outputs": [],
   "source": [
    "df['Count'] == idx"
   ]
  },
  {
   "cell_type": "code",
   "execution_count": null,
   "metadata": {
    "collapsed": true
   },
   "outputs": [],
   "source": []
  }
 ],
 "metadata": {
  "kernelspec": {
   "display_name": "Python 3",
   "language": "python",
   "name": "python3"
  },
  "language_info": {
   "codemirror_mode": {
    "name": "ipython",
    "version": 3
   },
   "file_extension": ".py",
   "mimetype": "text/x-python",
   "name": "python",
   "nbconvert_exporter": "python",
   "pygments_lexer": "ipython3",
   "version": "3.6.3"
  },
  "toc": {
   "nav_menu": {},
   "number_sections": true,
   "sideBar": true,
   "skip_h1_title": false,
   "title_cell": "Table of Contents",
   "title_sidebar": "Contents",
   "toc_cell": false,
   "toc_position": {},
   "toc_section_display": true,
   "toc_window_display": false
  }
 },
 "nbformat": 4,
 "nbformat_minor": 2
}
