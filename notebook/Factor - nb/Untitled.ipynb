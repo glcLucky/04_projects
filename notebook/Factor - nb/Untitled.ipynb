{
 "cells": [
  {
   "cell_type": "code",
   "execution_count": 1,
   "metadata": {},
   "outputs": [
    {
     "name": "stdout",
     "output_type": "stream",
     "text": [
      "Populating the interactive namespace from numpy and matplotlib\n"
     ]
    }
   ],
   "source": [
    "%pylab inline\n",
    "%load_ext autoreload\n",
    "%autoreload 2"
   ]
  },
  {
   "cell_type": "code",
   "execution_count": 14,
   "metadata": {
    "collapsed": true
   },
   "outputs": [],
   "source": [
    "import alpha.api as alpha\n",
    "import Factor.api as factor\n",
    "import pandas as pd"
   ]
  },
  {
   "cell_type": "code",
   "execution_count": 8,
   "metadata": {},
   "outputs": [
    {
     "name": "stdout",
     "output_type": "stream",
     "text": [
      "\u001b[31m[ERROR] 2018-04-20 15:32:09 sec_ids must be list!\u001b[0m\n"
     ]
    },
    {
     "ename": "ValueError",
     "evalue": "",
     "output_type": "error",
     "traceback": [
      "\u001b[1;31m---------------------------------------------------------------------------\u001b[0m",
      "\u001b[1;31mValueError\u001b[0m                                Traceback (most recent call last)",
      "\u001b[1;32m<ipython-input-8-2159331942c6>\u001b[0m in \u001b[0;36m<module>\u001b[1;34m()\u001b[0m\n\u001b[1;32m----> 1\u001b[1;33m \u001b[0malpha\u001b[0m\u001b[1;33m.\u001b[0m\u001b[0mback_test_on_given_model\u001b[0m\u001b[1;33m(\u001b[0m\u001b[1;34m'2010-01-04'\u001b[0m\u001b[1;33m,\u001b[0m\u001b[1;34m'2015-05-05'\u001b[0m\u001b[1;33m,\u001b[0m \u001b[1;36m30\u001b[0m\u001b[1;33m,\u001b[0m\u001b[1;36m200\u001b[0m\u001b[1;33m,\u001b[0m \u001b[1;36m20\u001b[0m\u001b[1;33m,\u001b[0m \u001b[0malpha\u001b[0m\u001b[1;33m.\u001b[0m\u001b[0mmfs_by_score\u001b[0m\u001b[1;33m)\u001b[0m\u001b[1;33m\u001b[0m\u001b[0m\n\u001b[0m",
      "\u001b[1;32mE:\\04_project\\alpha\\backtest\\mfs_backtest.py\u001b[0m in \u001b[0;36mback_test_on_given_model\u001b[1;34m(start_date, end_date, cycle, windows, num, model, benchmark)\u001b[0m\n\u001b[0;32m     51\u001b[0m         \u001b[0mselected_stocks\u001b[0m \u001b[1;33m=\u001b[0m \u001b[0mmodel\u001b[0m\u001b[1;33m(\u001b[0m\u001b[0mstart\u001b[0m\u001b[1;33m,\u001b[0m \u001b[0mwindows\u001b[0m\u001b[1;33m,\u001b[0m \u001b[0mnum\u001b[0m\u001b[1;33m)\u001b[0m\u001b[1;33m\u001b[0m\u001b[0m\n\u001b[0;32m     52\u001b[0m         \u001b[1;31m# 获取开始日期和结束日期的收盘价\u001b[0m\u001b[1;33m\u001b[0m\u001b[1;33m\u001b[0m\u001b[0m\n\u001b[1;32m---> 53\u001b[1;33m         \u001b[0mmodel_return\u001b[0m \u001b[1;33m=\u001b[0m \u001b[0mcalculate_period_return\u001b[0m\u001b[1;33m(\u001b[0m\u001b[0mstart\u001b[0m\u001b[1;33m,\u001b[0m \u001b[0mend\u001b[0m\u001b[1;33m,\u001b[0m \u001b[0mselected_stocks\u001b[0m\u001b[1;33m)\u001b[0m\u001b[1;33m\u001b[0m\u001b[0m\n\u001b[0m\u001b[0;32m     54\u001b[0m         \u001b[0mbench_return\u001b[0m \u001b[1;33m=\u001b[0m \u001b[0mcalculate_period_return\u001b[0m\u001b[1;33m(\u001b[0m\u001b[0mstart\u001b[0m\u001b[1;33m,\u001b[0m \u001b[0mend\u001b[0m\u001b[1;33m,\u001b[0m \u001b[1;33m[\u001b[0m\u001b[0mbenchmark\u001b[0m\u001b[1;33m]\u001b[0m\u001b[1;33m)\u001b[0m\u001b[1;33m\u001b[0m\u001b[0m\n\u001b[0;32m     55\u001b[0m         \u001b[0moutput\u001b[0m\u001b[1;33m[\u001b[0m\u001b[0mstart\u001b[0m\u001b[1;33m]\u001b[0m \u001b[1;33m=\u001b[0m \u001b[1;33m{\u001b[0m\u001b[1;34m\"model_return\"\u001b[0m\u001b[1;33m:\u001b[0m \u001b[0mmodel_return\u001b[0m\u001b[1;33m,\u001b[0m \u001b[1;34m\"hs_300_return\"\u001b[0m\u001b[1;33m:\u001b[0m \u001b[0mbench_return\u001b[0m\u001b[1;33m}\u001b[0m\u001b[1;33m\u001b[0m\u001b[0m\n",
      "\u001b[1;32mE:\\04_project\\alpha\\backtest\\mfs_backtest.py\u001b[0m in \u001b[0;36mcalculate_period_return\u001b[1;34m(start, end, sec_id, price_type)\u001b[0m\n\u001b[0;32m     23\u001b[0m     \u001b[1;33m@\u001b[0m\u001b[0mprice_type\u001b[0m \u001b[1;33m<\u001b[0m\u001b[0mstr\u001b[0m\u001b[1;33m>\u001b[0m\u001b[1;33m:\u001b[0m \u001b[0m价格类型\u001b[0m \u001b[0mclose\u001b[0m \u001b[0mopen\u001b[0m \u001b[0mhigh\u001b[0m \u001b[0mlow\u001b[0m\u001b[1;33m\u001b[0m\u001b[0m\n\u001b[0;32m     24\u001b[0m     \"\"\"\n\u001b[1;32m---> 25\u001b[1;33m     \u001b[0ma\u001b[0m \u001b[1;33m=\u001b[0m \u001b[0mget_secs_index\u001b[0m\u001b[1;33m(\u001b[0m\u001b[0mindex\u001b[0m\u001b[1;33m=\u001b[0m\u001b[0mprice_type\u001b[0m\u001b[1;33m,\u001b[0m \u001b[0msec_ids\u001b[0m\u001b[1;33m=\u001b[0m\u001b[0msec_id\u001b[0m\u001b[1;33m,\u001b[0m \u001b[0mtrading_days\u001b[0m\u001b[1;33m=\u001b[0m\u001b[1;33m[\u001b[0m\u001b[0mstart\u001b[0m\u001b[1;33m]\u001b[0m\u001b[1;33m)\u001b[0m\u001b[1;33m\u001b[0m\u001b[0m\n\u001b[0m\u001b[0;32m     26\u001b[0m     \u001b[0ma\u001b[0m \u001b[1;33m=\u001b[0m \u001b[0ma\u001b[0m\u001b[1;33m[\u001b[0m\u001b[1;33m[\u001b[0m\u001b[1;34m'sec_id'\u001b[0m\u001b[1;33m,\u001b[0m \u001b[0mprice_type\u001b[0m\u001b[1;33m]\u001b[0m\u001b[1;33m]\u001b[0m\u001b[1;33m.\u001b[0m\u001b[0mrename\u001b[0m\u001b[1;33m(\u001b[0m\u001b[0mcolumns\u001b[0m\u001b[1;33m=\u001b[0m\u001b[1;33m{\u001b[0m\u001b[0mprice_type\u001b[0m\u001b[1;33m:\u001b[0m \u001b[0mprice_type\u001b[0m \u001b[1;33m+\u001b[0m \u001b[1;34m'_start'\u001b[0m\u001b[1;33m}\u001b[0m\u001b[1;33m)\u001b[0m\u001b[1;33m\u001b[0m\u001b[0m\n\u001b[0;32m     27\u001b[0m     \u001b[0mb\u001b[0m \u001b[1;33m=\u001b[0m \u001b[0mget_secs_index\u001b[0m\u001b[1;33m(\u001b[0m\u001b[0mindex\u001b[0m\u001b[1;33m=\u001b[0m\u001b[0mprice_type\u001b[0m\u001b[1;33m,\u001b[0m \u001b[0msec_ids\u001b[0m\u001b[1;33m=\u001b[0m\u001b[0msec_id\u001b[0m\u001b[1;33m,\u001b[0m \u001b[0mtrading_days\u001b[0m\u001b[1;33m=\u001b[0m\u001b[1;33m[\u001b[0m\u001b[0mend\u001b[0m\u001b[1;33m]\u001b[0m\u001b[1;33m)\u001b[0m\u001b[1;33m\u001b[0m\u001b[0m\n",
      "\u001b[1;32mE:\\04_project\\Factor\\read\\index.py\u001b[0m in \u001b[0;36mget_secs_index\u001b[1;34m(index, sec_ids, trading_days, log)\u001b[0m\n\u001b[0;32m     48\u001b[0m     \u001b[1;32mif\u001b[0m \u001b[1;32mnot\u001b[0m \u001b[0misinstance\u001b[0m\u001b[1;33m(\u001b[0m\u001b[0msec_ids\u001b[0m\u001b[1;33m,\u001b[0m \u001b[0mlist\u001b[0m\u001b[1;33m)\u001b[0m\u001b[1;33m:\u001b[0m\u001b[1;33m\u001b[0m\u001b[0m\n\u001b[0;32m     49\u001b[0m         \u001b[0mLogger\u001b[0m\u001b[1;33m.\u001b[0m\u001b[0merror\u001b[0m\u001b[1;33m(\u001b[0m\u001b[1;34m\"sec_ids must be list!\"\u001b[0m\u001b[1;33m)\u001b[0m\u001b[1;33m\u001b[0m\u001b[0m\n\u001b[1;32m---> 50\u001b[1;33m         \u001b[1;32mraise\u001b[0m \u001b[0mValueError\u001b[0m\u001b[1;33m\u001b[0m\u001b[0m\n\u001b[0m\u001b[0;32m     51\u001b[0m \u001b[1;33m\u001b[0m\u001b[0m\n\u001b[0;32m     52\u001b[0m     \u001b[1;32mif\u001b[0m \u001b[1;32mnot\u001b[0m \u001b[0mtrading_days\u001b[0m\u001b[1;33m:\u001b[0m\u001b[1;33m\u001b[0m\u001b[0m\n",
      "\u001b[1;31mValueError\u001b[0m: "
     ]
    }
   ],
   "source": [
    "alpha.back_test_on_given_model('2010-01-04','2015-05-05', 30,200, 20, alpha.mfs_by_score)"
   ]
  },
  {
   "cell_type": "code",
   "execution_count": 12,
   "metadata": {},
   "outputs": [
    {
     "data": {
      "text/plain": [
       "['growth_rate_of_opt_revenue_std', 'turnover_of_total_asset_std']"
      ]
     },
     "execution_count": 12,
     "metadata": {},
     "output_type": "execute_result"
    }
   ],
   "source": [
    "alpha.mfs_by_score('2010-01-04',200, 20)"
   ]
  },
  {
   "cell_type": "code",
   "execution_count": 2,
   "metadata": {
    "collapsed": true
   },
   "outputs": [],
   "source": [
    "df = pd.read_csv(r\"E:\\07_data\\02_factor\\daily_return\\debt_to_asset_std_cycle_30_daily.csv\")"
   ]
  },
  {
   "cell_type": "code",
   "execution_count": 5,
   "metadata": {},
   "outputs": [
    {
     "data": {
      "text/html": [
       "<div>\n",
       "<style>\n",
       "    .dataframe thead tr:only-child th {\n",
       "        text-align: right;\n",
       "    }\n",
       "\n",
       "    .dataframe thead th {\n",
       "        text-align: left;\n",
       "    }\n",
       "\n",
       "    .dataframe tbody tr th {\n",
       "        vertical-align: top;\n",
       "    }\n",
       "</style>\n",
       "<table border=\"1\" class=\"dataframe\">\n",
       "  <thead>\n",
       "    <tr style=\"text-align: right;\">\n",
       "      <th></th>\n",
       "      <th>group01</th>\n",
       "      <th>group02</th>\n",
       "      <th>group03</th>\n",
       "      <th>group04</th>\n",
       "      <th>group05</th>\n",
       "      <th>group06</th>\n",
       "      <th>group07</th>\n",
       "      <th>group08</th>\n",
       "      <th>group09</th>\n",
       "      <th>group10</th>\n",
       "      <th>date</th>\n",
       "      <th>diff</th>\n",
       "    </tr>\n",
       "  </thead>\n",
       "  <tbody>\n",
       "    <tr>\n",
       "      <th>27</th>\n",
       "      <td>0.141883</td>\n",
       "      <td>0.136298</td>\n",
       "      <td>0.154370</td>\n",
       "      <td>0.186896</td>\n",
       "      <td>0.213916</td>\n",
       "      <td>0.192205</td>\n",
       "      <td>0.201385</td>\n",
       "      <td>0.203190</td>\n",
       "      <td>0.236472</td>\n",
       "      <td>0.175089</td>\n",
       "      <td>2009-01-13</td>\n",
       "      <td>0.033206</td>\n",
       "    </tr>\n",
       "    <tr>\n",
       "      <th>28</th>\n",
       "      <td>0.277068</td>\n",
       "      <td>0.280032</td>\n",
       "      <td>0.262747</td>\n",
       "      <td>0.267735</td>\n",
       "      <td>0.304151</td>\n",
       "      <td>0.260594</td>\n",
       "      <td>0.268766</td>\n",
       "      <td>0.279685</td>\n",
       "      <td>0.241555</td>\n",
       "      <td>0.267068</td>\n",
       "      <td>2009-03-03</td>\n",
       "      <td>-0.010000</td>\n",
       "    </tr>\n",
       "    <tr>\n",
       "      <th>29</th>\n",
       "      <td>0.005170</td>\n",
       "      <td>0.039321</td>\n",
       "      <td>0.034284</td>\n",
       "      <td>0.052141</td>\n",
       "      <td>0.062758</td>\n",
       "      <td>0.007533</td>\n",
       "      <td>0.047826</td>\n",
       "      <td>0.068678</td>\n",
       "      <td>0.053502</td>\n",
       "      <td>0.063084</td>\n",
       "      <td>2009-04-15</td>\n",
       "      <td>0.057915</td>\n",
       "    </tr>\n",
       "    <tr>\n",
       "      <th>30</th>\n",
       "      <td>0.134686</td>\n",
       "      <td>0.120495</td>\n",
       "      <td>0.101990</td>\n",
       "      <td>0.103279</td>\n",
       "      <td>0.133070</td>\n",
       "      <td>0.107930</td>\n",
       "      <td>0.118790</td>\n",
       "      <td>0.103183</td>\n",
       "      <td>0.144059</td>\n",
       "      <td>0.147603</td>\n",
       "      <td>2009-06-01</td>\n",
       "      <td>0.012917</td>\n",
       "    </tr>\n",
       "    <tr>\n",
       "      <th>31</th>\n",
       "      <td>-0.058009</td>\n",
       "      <td>-0.025943</td>\n",
       "      <td>-0.035977</td>\n",
       "      <td>-0.065116</td>\n",
       "      <td>-0.034816</td>\n",
       "      <td>-0.036120</td>\n",
       "      <td>-0.070052</td>\n",
       "      <td>-0.044736</td>\n",
       "      <td>-0.030772</td>\n",
       "      <td>-0.029529</td>\n",
       "      <td>2009-07-13</td>\n",
       "      <td>0.028480</td>\n",
       "    </tr>\n",
       "    <tr>\n",
       "      <th>32</th>\n",
       "      <td>0.055660</td>\n",
       "      <td>0.038977</td>\n",
       "      <td>0.031877</td>\n",
       "      <td>0.026508</td>\n",
       "      <td>0.039675</td>\n",
       "      <td>0.002366</td>\n",
       "      <td>0.019965</td>\n",
       "      <td>0.028620</td>\n",
       "      <td>0.003721</td>\n",
       "      <td>0.010697</td>\n",
       "      <td>2009-08-24</td>\n",
       "      <td>-0.044964</td>\n",
       "    </tr>\n",
       "    <tr>\n",
       "      <th>33</th>\n",
       "      <td>0.145358</td>\n",
       "      <td>0.159650</td>\n",
       "      <td>0.160849</td>\n",
       "      <td>0.169377</td>\n",
       "      <td>0.200138</td>\n",
       "      <td>0.172209</td>\n",
       "      <td>0.169120</td>\n",
       "      <td>0.177921</td>\n",
       "      <td>0.161608</td>\n",
       "      <td>0.139072</td>\n",
       "      <td>2009-10-13</td>\n",
       "      <td>-0.006286</td>\n",
       "    </tr>\n",
       "    <tr>\n",
       "      <th>34</th>\n",
       "      <td>0.050126</td>\n",
       "      <td>0.044252</td>\n",
       "      <td>0.058416</td>\n",
       "      <td>0.042556</td>\n",
       "      <td>0.056462</td>\n",
       "      <td>0.050825</td>\n",
       "      <td>0.038225</td>\n",
       "      <td>0.032009</td>\n",
       "      <td>0.008081</td>\n",
       "      <td>0.017648</td>\n",
       "      <td>2009-11-24</td>\n",
       "      <td>-0.032478</td>\n",
       "    </tr>\n",
       "    <tr>\n",
       "      <th>35</th>\n",
       "      <td>0.006472</td>\n",
       "      <td>-0.000999</td>\n",
       "      <td>-0.001902</td>\n",
       "      <td>-0.022531</td>\n",
       "      <td>-0.012605</td>\n",
       "      <td>-0.019966</td>\n",
       "      <td>-0.009139</td>\n",
       "      <td>-0.028971</td>\n",
       "      <td>-0.014550</td>\n",
       "      <td>-0.043323</td>\n",
       "      <td>2010-01-06</td>\n",
       "      <td>-0.049795</td>\n",
       "    </tr>\n",
       "    <tr>\n",
       "      <th>36</th>\n",
       "      <td>0.075751</td>\n",
       "      <td>0.054448</td>\n",
       "      <td>0.085581</td>\n",
       "      <td>0.077877</td>\n",
       "      <td>0.084499</td>\n",
       "      <td>0.086443</td>\n",
       "      <td>0.062504</td>\n",
       "      <td>0.056219</td>\n",
       "      <td>0.070770</td>\n",
       "      <td>0.071018</td>\n",
       "      <td>2010-02-24</td>\n",
       "      <td>-0.004733</td>\n",
       "    </tr>\n",
       "    <tr>\n",
       "      <th>37</th>\n",
       "      <td>-0.171306</td>\n",
       "      <td>-0.172856</td>\n",
       "      <td>-0.164227</td>\n",
       "      <td>-0.182524</td>\n",
       "      <td>-0.175530</td>\n",
       "      <td>-0.177143</td>\n",
       "      <td>-0.188247</td>\n",
       "      <td>-0.193621</td>\n",
       "      <td>-0.196002</td>\n",
       "      <td>-0.217402</td>\n",
       "      <td>2010-04-08</td>\n",
       "      <td>-0.046096</td>\n",
       "    </tr>\n",
       "    <tr>\n",
       "      <th>38</th>\n",
       "      <td>-0.037065</td>\n",
       "      <td>-0.050793</td>\n",
       "      <td>-0.079702</td>\n",
       "      <td>-0.046099</td>\n",
       "      <td>-0.051953</td>\n",
       "      <td>-0.051590</td>\n",
       "      <td>-0.094408</td>\n",
       "      <td>-0.065920</td>\n",
       "      <td>-0.062867</td>\n",
       "      <td>-0.052720</td>\n",
       "      <td>2010-05-21</td>\n",
       "      <td>-0.015655</td>\n",
       "    </tr>\n",
       "    <tr>\n",
       "      <th>39</th>\n",
       "      <td>0.183629</td>\n",
       "      <td>0.196662</td>\n",
       "      <td>0.201626</td>\n",
       "      <td>0.205192</td>\n",
       "      <td>0.207267</td>\n",
       "      <td>0.207136</td>\n",
       "      <td>0.206533</td>\n",
       "      <td>0.202111</td>\n",
       "      <td>0.212129</td>\n",
       "      <td>0.187941</td>\n",
       "      <td>2010-07-07</td>\n",
       "      <td>0.004312</td>\n",
       "    </tr>\n",
       "    <tr>\n",
       "      <th>40</th>\n",
       "      <td>-0.001920</td>\n",
       "      <td>0.067991</td>\n",
       "      <td>0.054738</td>\n",
       "      <td>0.084452</td>\n",
       "      <td>0.077654</td>\n",
       "      <td>0.077307</td>\n",
       "      <td>0.073560</td>\n",
       "      <td>0.090442</td>\n",
       "      <td>0.088165</td>\n",
       "      <td>0.104346</td>\n",
       "      <td>2010-08-18</td>\n",
       "      <td>0.106265</td>\n",
       "    </tr>\n",
       "  </tbody>\n",
       "</table>\n",
       "</div>"
      ],
      "text/plain": [
       "     group01   group02   group03   group04   group05   group06   group07  \\\n",
       "27  0.141883  0.136298  0.154370  0.186896  0.213916  0.192205  0.201385   \n",
       "28  0.277068  0.280032  0.262747  0.267735  0.304151  0.260594  0.268766   \n",
       "29  0.005170  0.039321  0.034284  0.052141  0.062758  0.007533  0.047826   \n",
       "30  0.134686  0.120495  0.101990  0.103279  0.133070  0.107930  0.118790   \n",
       "31 -0.058009 -0.025943 -0.035977 -0.065116 -0.034816 -0.036120 -0.070052   \n",
       "32  0.055660  0.038977  0.031877  0.026508  0.039675  0.002366  0.019965   \n",
       "33  0.145358  0.159650  0.160849  0.169377  0.200138  0.172209  0.169120   \n",
       "34  0.050126  0.044252  0.058416  0.042556  0.056462  0.050825  0.038225   \n",
       "35  0.006472 -0.000999 -0.001902 -0.022531 -0.012605 -0.019966 -0.009139   \n",
       "36  0.075751  0.054448  0.085581  0.077877  0.084499  0.086443  0.062504   \n",
       "37 -0.171306 -0.172856 -0.164227 -0.182524 -0.175530 -0.177143 -0.188247   \n",
       "38 -0.037065 -0.050793 -0.079702 -0.046099 -0.051953 -0.051590 -0.094408   \n",
       "39  0.183629  0.196662  0.201626  0.205192  0.207267  0.207136  0.206533   \n",
       "40 -0.001920  0.067991  0.054738  0.084452  0.077654  0.077307  0.073560   \n",
       "\n",
       "     group08   group09   group10        date      diff  \n",
       "27  0.203190  0.236472  0.175089  2009-01-13  0.033206  \n",
       "28  0.279685  0.241555  0.267068  2009-03-03 -0.010000  \n",
       "29  0.068678  0.053502  0.063084  2009-04-15  0.057915  \n",
       "30  0.103183  0.144059  0.147603  2009-06-01  0.012917  \n",
       "31 -0.044736 -0.030772 -0.029529  2009-07-13  0.028480  \n",
       "32  0.028620  0.003721  0.010697  2009-08-24 -0.044964  \n",
       "33  0.177921  0.161608  0.139072  2009-10-13 -0.006286  \n",
       "34  0.032009  0.008081  0.017648  2009-11-24 -0.032478  \n",
       "35 -0.028971 -0.014550 -0.043323  2010-01-06 -0.049795  \n",
       "36  0.056219  0.070770  0.071018  2010-02-24 -0.004733  \n",
       "37 -0.193621 -0.196002 -0.217402  2010-04-08 -0.046096  \n",
       "38 -0.065920 -0.062867 -0.052720  2010-05-21 -0.015655  \n",
       "39  0.202111  0.212129  0.187941  2010-07-07  0.004312  \n",
       "40  0.090442  0.088165  0.104346  2010-08-18  0.106265  "
      ]
     },
     "execution_count": 5,
     "metadata": {},
     "output_type": "execute_result"
    }
   ],
   "source": [
    "df[df.date.between('2009-01-01', '2010-09-01')]"
   ]
  },
  {
   "cell_type": "code",
   "execution_count": 45,
   "metadata": {
    "collapsed": true
   },
   "outputs": [],
   "source": [
    "df = pd.read_csv(r\"E:\\07_data\\02_factor\\daily_return\\return_rate_90days_std_cycle_30_daily.csv\")\n",
    "df = df.set_index(['date'])"
   ]
  },
  {
   "cell_type": "code",
   "execution_count": 22,
   "metadata": {},
   "outputs": [],
   "source": [
    "df = df[['group01', 'group10']]"
   ]
  },
  {
   "cell_type": "code",
   "execution_count": 24,
   "metadata": {},
   "outputs": [
    {
     "data": {
      "text/plain": [
       "Ttest_relResult(statistic=1.6852591420973921, pvalue=0.094995762080695545)"
      ]
     },
     "execution_count": 24,
     "metadata": {},
     "output_type": "execute_result"
    }
   ],
   "source": [
    "factor.paired_ttest(df)"
   ]
  },
  {
   "cell_type": "code",
   "execution_count": 31,
   "metadata": {},
   "outputs": [
    {
     "data": {
      "text/plain": [
       "Ttest_relResult(statistic=2.6883942896491813, pvalue=0.02756512058120051)"
      ]
     },
     "execution_count": 31,
     "metadata": {},
     "output_type": "execute_result"
    }
   ],
   "source": [
    "factor.paired_ttest(df.loc['2015-01-01':'2016-01-01'])"
   ]
  },
  {
   "cell_type": "code",
   "execution_count": 32,
   "metadata": {
    "collapsed": true
   },
   "outputs": [],
   "source": [
    "from scipy import stats"
   ]
  },
  {
   "cell_type": "code",
   "execution_count": 37,
   "metadata": {},
   "outputs": [
    {
     "data": {
      "text/plain": [
       "group01    1.049139\n",
       "group10    0.358082\n",
       "dtype: float64"
      ]
     },
     "execution_count": 37,
     "metadata": {},
     "output_type": "execute_result"
    }
   ],
   "source": [
    "df.loc['2015-01-01':'2016-01-01'].sum()"
   ]
  },
  {
   "cell_type": "code",
   "execution_count": 39,
   "metadata": {},
   "outputs": [],
   "source": [
    "a={'d':{'a':1}}"
   ]
  },
  {
   "cell_type": "code",
   "execution_count": 48,
   "metadata": {},
   "outputs": [
    {
     "data": {
      "text/plain": [
       "3.422973936051987"
      ]
     },
     "execution_count": 48,
     "metadata": {},
     "output_type": "execute_result"
    }
   ],
   "source": [
    "df['group01'].sum()"
   ]
  },
  {
   "cell_type": "code",
   "execution_count": 43,
   "metadata": {},
   "outputs": [],
   "source": [
    "a['d']['b']=2"
   ]
  },
  {
   "cell_type": "code",
   "execution_count": 44,
   "metadata": {},
   "outputs": [
    {
     "data": {
      "text/plain": [
       "{'d': {'a': 1, 'b': 2}}"
      ]
     },
     "execution_count": 44,
     "metadata": {},
     "output_type": "execute_result"
    }
   ],
   "source": [
    "a"
   ]
  },
  {
   "cell_type": "code",
   "execution_count": null,
   "metadata": {
    "collapsed": true
   },
   "outputs": [],
   "source": []
  }
 ],
 "metadata": {
  "kernelspec": {
   "display_name": "Python 3",
   "language": "python",
   "name": "python3"
  },
  "language_info": {
   "codemirror_mode": {
    "name": "ipython",
    "version": 3
   },
   "file_extension": ".py",
   "mimetype": "text/x-python",
   "name": "python",
   "nbconvert_exporter": "python",
   "pygments_lexer": "ipython3",
   "version": "3.6.3"
  },
  "toc": {
   "nav_menu": {},
   "number_sections": true,
   "sideBar": true,
   "skip_h1_title": false,
   "title_cell": "Table of Contents",
   "title_sidebar": "Contents",
   "toc_cell": false,
   "toc_position": {},
   "toc_section_display": true,
   "toc_window_display": false
  }
 },
 "nbformat": 4,
 "nbformat_minor": 2
}
