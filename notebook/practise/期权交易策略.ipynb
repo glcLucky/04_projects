{
 "cells": [
  {
   "cell_type": "code",
   "execution_count": 1,
   "metadata": {
    "collapsed": true
   },
   "outputs": [],
   "source": [
    "import pandas as pd\n",
    "import devkit.api as dk\n",
    "import numpy as np\n",
    "%matplotlib inline"
   ]
  },
  {
   "cell_type": "code",
   "execution_count": 111,
   "metadata": {
    "collapsed": true
   },
   "outputs": [],
   "source": [
    "# options = pd.read_csv(r\"C:\\Users\\youlin\\Desktop\\option_data\\option.csv\")\n",
    "options = pd.read_csv(r\"C:\\Users\\youlin\\Desktop\\option_data\\Out-of-sample_options.csv\")"
   ]
  },
  {
   "cell_type": "code",
   "execution_count": 112,
   "metadata": {
    "collapsed": true
   },
   "outputs": [],
   "source": [
    "options = options[['date', 'exdate', 'cp_flag', 'strike_price', 'best_bid', 'best_offer', 'volume', 'open_interest','impl_volatility', 'delta',\n",
    "       'gamma', 'vega', 'theta']].copy()"
   ]
  },
  {
   "cell_type": "code",
   "execution_count": 113,
   "metadata": {
    "collapsed": true
   },
   "outputs": [],
   "source": [
    "options = options.dropna().drop(['volume'], axis=1)"
   ]
  },
  {
   "cell_type": "code",
   "execution_count": 114,
   "metadata": {
    "collapsed": true
   },
   "outputs": [],
   "source": [
    "# underlying = pd.read_csv(r\"C:\\Users\\youlin\\Desktop\\option_data\\underlying.csv\")\n",
    "underlying = pd.read_csv(r\"C:\\Users\\youlin\\Desktop\\option_data\\Out-of-sample_underlying.csv\")\n",
    "underlying = underlying[['date', 'low', 'high', 'open', 'close', 'volume', 'return']].copy()"
   ]
  },
  {
   "cell_type": "code",
   "execution_count": 115,
   "metadata": {
    "collapsed": true
   },
   "outputs": [],
   "source": [
    "options = options.merge(underlying, how='inner', on=['date'])\n",
    "options['date'] = options['date'].apply(lambda x: dk.char2datetime(str(x),format=\"%Y%m%d\"))\n",
    "options['exdate'] = options['exdate'].apply(lambda x: dk.char2datetime(str(x),format=\"%Y%m%d\"))\n",
    "options['strike_price'] = options['strike_price'].apply(lambda x: x / 1000)\n",
    "options['days_to_maturity'] = options['exdate'] - options['date']\n",
    "options['atm'] = np.abs(options['close'] / options['strike_price'] - 1) # 平值率 该值越小 越接近平值期权\n",
    "# 对于某一天存在多个相同类型的期权 选择到期日最长、平值率最小的期权\n",
    "options = options.sort_values(['date', 'cp_flag', 'days_to_maturity', 'atm'], ascending=[True, True, False, True])\n",
    "options = options.drop_duplicates(['date', 'cp_flag'], keep='first') "
   ]
  },
  {
   "cell_type": "code",
   "execution_count": 116,
   "metadata": {
    "collapsed": true
   },
   "outputs": [],
   "source": [
    "close = options[['date', 'close']].copy().drop_duplicates().reset_index().drop('index', axis=1)\n",
    "for  i in close.index:\n",
    "    if i >= 20:\n",
    "        close.loc[i, 'std'] = close.loc[i-20 : i, 'close'].std()\n",
    "        close.loc[i, 'mean'] = close.loc[i-20 : i, 'close'].mean()\n",
    "        close.loc[i, 'upper'] = close.loc[i, 'mean'] + 2.5 * close.loc[i, 'std']\n",
    "        close.loc[i, 'lower'] = close.loc[i, 'mean'] - 2.5 * close.loc[i, 'std'] \n",
    "close = close.dropna().reset_index().drop(['index'], axis=1)"
   ]
  },
  {
   "cell_type": "code",
   "execution_count": 117,
   "metadata": {
    "collapsed": true
   },
   "outputs": [],
   "source": [
    "options1 = options.set_index(['date', 'cp_flag'])"
   ]
  },
  {
   "cell_type": "code",
   "execution_count": 118,
   "metadata": {
    "collapsed": true
   },
   "outputs": [],
   "source": [
    "margin = 0.4\n",
    "close1 = close.copy()\n",
    "end_id = len(close1) - 1\n",
    "for i in close1.index:\n",
    "    date = close1.loc[i, 'date']\n",
    "    if i == 0: # 初始持仓\n",
    "        close1.loc[i, 'balance'] = 100 # 账户余额 初始为100\n",
    "        close1.loc[i, 'position'] = 0 # 初始头寸\n",
    "        if close1.loc[i, 'close'] > close1.loc[i, 'upper']: # 多头信号 卖出看跌期权\n",
    "            option_price = options1.loc[str(date), 'P']['best_offer']\n",
    "            close1.loc[i, 'signal'] = \"-p\"\n",
    "            close1.loc[i, 'position'] = np.floor(close1.loc[i, 'balance'] / (margin * close1.loc[i, 'close']))\n",
    "            close1.loc[i, 'amount'] = option_price * close1.loc[i, 'position']\n",
    "            close1.loc[i, 'balance'] = close1.loc[i, 'balance'] + close1.loc[i, 'amount']\n",
    "        elif close1.loc[i, 'close'] < close1.loc[i, 'lower']: # 空头信号 卖出看涨期权\n",
    "            option_price = options1.loc[str(date), 'C']['best_offer']\n",
    "            close1.loc[i, 'signal'] = \"-c\"\n",
    "            close1.loc[i, 'amount'] = option_price\n",
    "            close1.loc[i, 'position'] = np.floor(close1.loc[i, 'balance'] / (margin * close1.loc[i, 'close']))\n",
    "            close1.loc[i, 'amount'] = option_price * close1.loc[i, 'position']\n",
    "            close1.loc[i, 'balance'] = close1.loc[i, 'balance'] + close1.loc[i, 'amount']\n",
    "        else:\n",
    "            close1.loc[i, 'signal'] = \"No signal\"\n",
    "            close1.loc[i, 'amount'] = 0\n",
    "            close1.loc[i, 'position'] = 0\n",
    "    else:\n",
    "        if close1.loc[i-1, 'position'] == 0: # 空仓时\n",
    "            if close1.loc[i, 'close'] > close1.loc[i, 'upper']: # 多头信号 卖出看跌期权\n",
    "                option_price = options1.loc[str(date), 'P']['best_offer']\n",
    "                close1.loc[i, 'signal'] = \"-p\"\n",
    "                close1.loc[i, 'position'] = np.floor(close1.loc[i-1, 'balance'] / (margin * close1.loc[i, 'close']))\n",
    "                close1.loc[i, 'amount'] = option_price * close1.loc[i, 'position']\n",
    "                close1.loc[i, 'balance'] = close1.loc[i-1, 'balance'] + close1.loc[i, 'amount']\n",
    "            elif  close1.loc[i, 'close'] < close1.loc[i, 'lower']: # 空头信号 卖出看涨期权\n",
    "                option_price = options1.loc[str(date), 'C']['best_offer']\n",
    "                close1.loc[i, 'signal'] = \"-c\"\n",
    "                close1.loc[i, 'amount'] = option_price\n",
    "                close1.loc[i, 'position'] = np.floor(close1.loc[i-1, 'balance'] / (margin * close1.loc[i, 'close']))\n",
    "                close1.loc[i, 'amount'] = option_price * close1.loc[i, 'position']\n",
    "                close1.loc[i, 'balance'] = close1.loc[i-1, 'balance'] + close1.loc[i, 'amount']\n",
    "            else: # 没有出现任何信号\n",
    "                close1.loc[i, 'signal'] = \"No signal\"\n",
    "                close1.loc[i, 'position'] = 0\n",
    "                close1.loc[i, 'amount'] = 0\n",
    "                close1.loc[i, 'balance'] = close1.loc[i-1, 'balance'] \n",
    "        else: # 已经有持仓时\n",
    "            if close1.loc[i-1, 'signal'] == \"-p\":\n",
    "                if close1.loc[i, 'close'] <= close1.loc[i, 'mean'] or i == end_id: # 价格回落至中轨线触发卖出信号\n",
    "                    option_price = options1.loc[str(date), 'P']['best_bid']\n",
    "                    close1.loc[i, 'signal'] = \"p\"\n",
    "                    close1.loc[i, 'amount'] = -close1.loc[i-1, 'position'] * option_price\n",
    "                    close1.loc[i, 'position'] = 0\n",
    "                    close1.loc[i, 'balance'] = close1.loc[i-1, 'balance'] + close1.loc[i, 'amount']\n",
    "                else:\n",
    "                    close1.loc[i, 'signal'] = close1.loc[i-1, 'signal']\n",
    "                    close1.loc[i, 'position'] = close1.loc[i-1, 'position']\n",
    "                    close1.loc[i, 'amount'] = close1.loc[i-1, 'amount'] \n",
    "                    close1.loc[i, 'balance'] = close1.loc[i-1, 'balance'] \n",
    "            if close1.loc[i-1, 'signal'] == \"-c\":\n",
    "                if close1.loc[i-1, 'close'] >= close1.loc[i, 'mean'] or i == end_id: # 价格上升至中轨线触发卖出信号\n",
    "                    option_price = options1.loc[str(date), 'C']['best_bid']\n",
    "                    close1.loc[i, 'signal'] = \"c\"\n",
    "                    close1.loc[i, 'amount'] = -close1.loc[i-1, 'position'] * option_price\n",
    "                    close1.loc[i, 'position'] = 0\n",
    "                    close1.loc[i, 'balance'] = close1.loc[i-1, 'balance'] + close1.loc[i, 'amount']\n",
    "                else:\n",
    "                    close1.loc[i, 'signal'] = close1.loc[i-1, 'signal']\n",
    "                    close1.loc[i, 'position'] = close1.loc[i-1, 'position']\n",
    "                    close1.loc[i, 'amount'] = close1.loc[i-1, 'amount'] \n",
    "                    close1.loc[i, 'balance'] = close1.loc[i-1, 'balance'] "
   ]
  },
  {
   "cell_type": "code",
   "execution_count": 119,
   "metadata": {
    "collapsed": true
   },
   "outputs": [],
   "source": [
    "# 提升杠杆\n",
    "margin = 0.45\n",
    "close3 = close.copy()\n",
    "end_id = len(close3) - 1\n",
    "for i in close3.index:\n",
    "    date = close3.loc[i, 'date']\n",
    "    if i == 0: # 初始持仓\n",
    "        close3.loc[i, 'balance'] = 100 # 账户余额 初始为100\n",
    "        close3.loc[i, 'position'] = 0 # 初始头寸\n",
    "        if close3.loc[i, 'close'] > close3.loc[i, 'upper']: # 多头信号 卖出看跌期权\n",
    "            option_price = options1.loc[str(date), 'P']['best_offer']\n",
    "            close3.loc[i, 'signal'] = \"-p\"\n",
    "            close3.loc[i, 'position'] = np.floor(close3.loc[i, 'balance'] / (margin * close3.loc[i, 'close']))\n",
    "            close3.loc[i, 'amount'] = option_price * close3.loc[i, 'position']\n",
    "            close3.loc[i, 'balance'] = close3.loc[i, 'balance'] + close3.loc[i, 'amount']\n",
    "        elif close3.loc[i, 'close'] < close3.loc[i, 'lower']: # 空头信号 卖出看涨期权\n",
    "            option_price = options1.loc[str(date), 'C']['best_offer']\n",
    "            close3.loc[i, 'signal'] = \"-c\"\n",
    "            close3.loc[i, 'amount'] = option_price\n",
    "            close3.loc[i, 'position'] = np.floor(close3.loc[i, 'balance'] / (margin * close3.loc[i, 'close']))\n",
    "            close3.loc[i, 'amount'] = option_price * close3.loc[i, 'position']\n",
    "            close3.loc[i, 'balance'] = close3.loc[i, 'balance'] + close3.loc[i, 'amount']\n",
    "        else:\n",
    "            close3.loc[i, 'signal'] = \"No signal\"\n",
    "            close3.loc[i, 'amount'] = 0\n",
    "            close3.loc[i, 'position'] = 0\n",
    "    else:\n",
    "        if close3.loc[i-1, 'position'] == 0: # 空仓时\n",
    "            if close3.loc[i, 'close'] > close3.loc[i, 'upper']: # 多头信号 卖出看跌期权\n",
    "                option_price = options1.loc[str(date), 'P']['best_offer']\n",
    "                close3.loc[i, 'signal'] = \"-p\"\n",
    "                close3.loc[i, 'position'] = np.floor(close3.loc[i-1, 'balance'] / (margin * close3.loc[i, 'close']))\n",
    "                close3.loc[i, 'amount'] = option_price * close3.loc[i, 'position']\n",
    "                close3.loc[i, 'balance'] = close3.loc[i-1, 'balance'] + close3.loc[i, 'amount']\n",
    "            elif  close3.loc[i, 'close'] < close3.loc[i, 'lower']: # 空头信号 卖出看涨期权\n",
    "                option_price = options1.loc[str(date), 'C']['best_offer']\n",
    "                close3.loc[i, 'signal'] = \"-c\"\n",
    "                close3.loc[i, 'amount'] = option_price\n",
    "                close3.loc[i, 'position'] = np.floor(close3.loc[i-1, 'balance'] / (margin * close3.loc[i, 'close']))\n",
    "                close3.loc[i, 'amount'] = option_price * close3.loc[i, 'position']\n",
    "                close3.loc[i, 'balance'] = close3.loc[i-1, 'balance'] + close3.loc[i, 'amount']\n",
    "            else: # 没有出现任何信号\n",
    "                close3.loc[i, 'signal'] = \"No signal\"\n",
    "                close3.loc[i, 'position'] = 0\n",
    "                close3.loc[i, 'amount'] = 0\n",
    "                close3.loc[i, 'balance'] = close3.loc[i-1, 'balance'] \n",
    "        else: # 已经有持仓时\n",
    "            if close3.loc[i-1, 'signal'] == \"-p\":\n",
    "                if close3.loc[i, 'close'] <= close3.loc[i, 'mean'] or i == end_id: # 价格回落至中轨线触发卖出信号\n",
    "                    option_price = options1.loc[str(date), 'P']['best_bid']\n",
    "                    close3.loc[i, 'signal'] = \"p\"\n",
    "                    close3.loc[i, 'amount'] = -close3.loc[i-1, 'position'] * option_price\n",
    "                    close3.loc[i, 'position'] = 0\n",
    "                    close3.loc[i, 'balance'] = close3.loc[i-1, 'balance'] + close3.loc[i, 'amount']\n",
    "                else:\n",
    "                    close3.loc[i, 'signal'] = close3.loc[i-1, 'signal']\n",
    "                    close3.loc[i, 'position'] = close3.loc[i-1, 'position']\n",
    "                    close3.loc[i, 'amount'] = close3.loc[i-1, 'amount'] \n",
    "                    close3.loc[i, 'balance'] = close3.loc[i-1, 'balance'] \n",
    "            if close3.loc[i-1, 'signal'] == \"-c\":\n",
    "                if close3.loc[i-1, 'close'] >= close3.loc[i, 'mean'] or i == end_id: # 价格上升至中轨线触发卖出信号\n",
    "                    option_price = options1.loc[str(date), 'C']['best_bid']\n",
    "                    close3.loc[i, 'signal'] = \"c\"\n",
    "                    close3.loc[i, 'amount'] = -close3.loc[i-1, 'position'] * option_price\n",
    "                    close3.loc[i, 'position'] = 0\n",
    "                    close3.loc[i, 'balance'] = close3.loc[i-1, 'balance'] + close3.loc[i, 'amount']\n",
    "                else:\n",
    "                    close3.loc[i, 'signal'] = close3.loc[i-1, 'signal']\n",
    "                    close3.loc[i, 'position'] = close3.loc[i-1, 'position']\n",
    "                    close3.loc[i, 'amount'] = close3.loc[i-1, 'amount'] \n",
    "                    close3.loc[i, 'balance'] = close3.loc[i-1, 'balance'] "
   ]
  },
  {
   "cell_type": "code",
   "execution_count": 84,
   "metadata": {},
   "outputs": [],
   "source": [
    "margin = 0.2\n",
    "close2 = close.copy()\n",
    "for i in close2.index:\n",
    "    date = close2.loc[i, 'date']\n",
    "    if i == 0: # 初始持仓\n",
    "        close2.loc[i, 'balance'] = 100 # 账户余额 初始为100\n",
    "        close2.loc[i, 'position'] = 0 # 初始头寸\n",
    "        if close2.loc[i, 'close'] > close2.loc[i, 'upper']: # 多头信号 卖出看跌期权\n",
    "            option_price = options1.loc[str(date), 'P']['best_offer']\n",
    "            close2.loc[i, 'signal'] = \"-p\"\n",
    "            close2.loc[i, 'position'] = np.floor(close2.loc[i, 'balance'] / (margin * close2.loc[i, 'close']))\n",
    "            close2.loc[i, 'amount'] = option_price * close2.loc[i, 'position']\n",
    "            close2.loc[i, 'balance'] = close2.loc[i-1, 'balance'] + close2.loc[i, 'amount']\n",
    "        elif close2.loc[i, 'close'] < close2.loc[i, 'lower']: # 空头信号 卖出看涨期权\n",
    "            option_price = options1.loc[str(date), 'C']['best_offer']\n",
    "            close2.loc[i, 'signal'] = \"-c\"\n",
    "            close2.loc[i, 'amount'] = option_price\n",
    "            close2.loc[i, 'position'] = np.floor(close2.loc[i, 'balance'] / (margin * close2.loc[i, 'close']))\n",
    "            close2.loc[i, 'amount'] = option_price * close2.loc[i, 'position']\n",
    "            close2.loc[i, 'balance'] = close2.loc[i-1, 'balance'] + close2.loc[i, 'amount']\n",
    "        else: # 震荡市场 跨式空头\n",
    "            close2.loc[i, 'signal'] = \"Short Straddle\"\n",
    "            option_price_p = options1.loc[str(date), 'P']['best_offer']\n",
    "            option_price_c = options1.loc[str(date), 'C']['best_offer']\n",
    "            close2.loc[i, 'position'] = np.floor(close2.loc[i, 'balance'] / (margin * close2.loc[i, 'close']) / 2)\n",
    "            close2.loc[i, 'amount'] = (option_price_p + option_price_c) * close2.loc[i, 'position']\n",
    "            close2.loc[i, 'balance'] = close2.loc[i, 'balance'] + close2.loc[i, 'amount']\n",
    "    else:\n",
    "        if close2.loc[i-1, 'position'] == 0: # 空仓时\n",
    "            if close2.loc[i, 'close'] > close2.loc[i, 'upper']: # 多头信号 卖出看跌期权\n",
    "                option_price = options1.loc[str(date), 'P']['best_offer']\n",
    "                close2.loc[i, 'signal'] = \"-p\"\n",
    "                close2.loc[i, 'position'] = np.floor(close2.loc[i-1, 'balance'] / (margin * close2.loc[i, 'close']))\n",
    "                close2.loc[i, 'amount'] = option_price * close2.loc[i, 'position']\n",
    "                close2.loc[i, 'balance'] = close2.loc[i-1, 'balance'] + close2.loc[i, 'amount']\n",
    "            elif  close2.loc[i, 'close'] < close2.loc[i, 'lower']: # 空头信号 卖出看涨期权\n",
    "                option_price = options1.loc[str(date), 'C']['best_offer']\n",
    "                close2.loc[i, 'signal'] = \"-c\"\n",
    "                close2.loc[i, 'amount'] = option_price\n",
    "                close2.loc[i, 'position'] = np.floor(close2.loc[i-1, 'balance'] / (margin * close2.loc[i, 'close']))\n",
    "                close2.loc[i, 'amount'] = option_price * close2.loc[i, 'position']\n",
    "                close2.loc[i, 'balance'] = close2.loc[i-1, 'balance'] + close2.loc[i, 'amount']\n",
    "            else: # 震荡市场 跨式空头\n",
    "                close2.loc[i, 'signal'] = \"Short Straddle\"\n",
    "                option_price_p = options1.loc[str(date), 'P']['best_offer']\n",
    "                option_price_c = options1.loc[str(date), 'C']['best_offer']\n",
    "                close2.loc[i, 'position'] = np.floor(close2.loc[i-1, 'balance'] / (margin * close2.loc[i, 'close']) / 2)\n",
    "                close2.loc[i, 'amount'] = (option_price_p + option_price_c) * close2.loc[i, 'position']\n",
    "                close2.loc[i, 'balance'] = close2.loc[i-1, 'balance'] + close2.loc[i, 'amount']\n",
    "        else: # 已经有持仓时\n",
    "            if close2.loc[i-1, 'signal'] == \"-p\":\n",
    "                if close2.loc[i, 'close'] <= close2.loc[i, 'mean']: # 价格回落至中轨线触发卖出信号\n",
    "                    option_price = options1.loc[str(date), 'P']['best_bid']\n",
    "                    close2.loc[i, 'signal'] = \"p\"\n",
    "                    close2.loc[i, 'amount'] = -close2.loc[i-1, 'position'] * option_price\n",
    "                    close2.loc[i, 'position'] = 0\n",
    "                    close2.loc[i, 'balance'] = close2.loc[i-1, 'balance'] + close2.loc[i, 'amount']\n",
    "                else:\n",
    "                    close2.loc[i, 'signal'] = close2.loc[i-1, 'signal']\n",
    "                    close2.loc[i, 'position'] = close2.loc[i-1, 'position']\n",
    "                    close2.loc[i, 'amount'] = close2.loc[i-1, 'amount'] \n",
    "                    close2.loc[i, 'balance'] = close2.loc[i-1, 'balance'] \n",
    "            if close2.loc[i-1, 'signal'] == \"-c\":\n",
    "                if close2.loc[i-1, 'close'] >= close2.loc[i, 'mean']: # 价格上升至中轨线触发卖出信号\n",
    "                    option_price = options1.loc[str(date), 'C']['best_bid']\n",
    "                    close2.loc[i, 'signal'] = \"c\"\n",
    "                    close2.loc[i, 'amount'] = -close2.loc[i-1, 'position'] * option_price\n",
    "                    close2.loc[i, 'position'] = 0\n",
    "                    close2.loc[i, 'balance'] = close2.loc[i-1, 'balance'] + close2.loc[i, 'amount']\n",
    "                else:\n",
    "                    close2.loc[i, 'signal'] = close2.loc[i-1, 'signal']\n",
    "                    close2.loc[i, 'position'] = close2.loc[i-1, 'position']\n",
    "                    close2.loc[i, 'amount'] = close2.loc[i-1, 'amount'] \n",
    "                    close2.loc[i, 'balance'] = close2.loc[i-1, 'balance'] \n",
    "\n",
    "            if close2.loc[i-1, 'signal'] == \"Short Straddle\":\n",
    "                if (close2.loc[i, 'close'] <= close2.loc[i, 'lower']) or (close2.loc[i-1, 'close'] >= close2.loc[i, 'upper']): # 价格突破上轨线或跌破下轨线\n",
    "                    option_price_p = options1.loc[str(date), 'P']['best_offer']\n",
    "                    option_price_c = options1.loc[str(date), 'C']['best_offer']\n",
    "                    close2.loc[i, 'signal'] = \"Long Straddle\"\n",
    "                    close2.loc[i, 'amount'] = -close2.loc[i-1, 'position'] * (option_price_p + option_price_c)\n",
    "                    close2.loc[i, 'position'] = 0\n",
    "                    close2.loc[i, 'balance'] = close2.loc[i-1, 'balance'] + close2.loc[i, 'amount']\n",
    "                else:\n",
    "                    close2.loc[i, 'signal'] = close2.loc[i-1, 'signal']\n",
    "                    close2.loc[i, 'position'] = close2.loc[i-1, 'position']\n",
    "                    close2.loc[i, 'amount'] = close2.loc[i-1, 'amount'] \n",
    "                    close2.loc[i, 'balance'] = close2.loc[i-1, 'balance']"
   ]
  },
  {
   "cell_type": "code",
   "execution_count": 85,
   "metadata": {},
   "outputs": [
    {
     "data": {
      "text/plain": [
       "<matplotlib.axes._subplots.AxesSubplot at 0x24888fa07f0>"
      ]
     },
     "execution_count": 85,
     "metadata": {},
     "output_type": "execute_result"
    },
    {
     "data": {
      "image/png": "[encoded data removed]",
      "text/plain": [
       "<matplotlib.figure.Figure at 0x24888fa05f8>"
      ]
     },
     "metadata": {},
     "output_type": "display_data"
    }
   ],
   "source": [
    "close1.to_csv(r\"E:\\99_daily\\TODAY\\close1.csv\")\n",
    "a=close1[['date', 'balance']]\n",
    "a.set_index(['date']).plot(title=\"布林带策略下基于训练集(不考虑震荡市)累计收益变化图\")"
   ]
  },
  {
   "cell_type": "code",
   "execution_count": 74,
   "metadata": {},
   "outputs": [
    {
     "data": {
      "text/plain": [
       "<matplotlib.axes._subplots.AxesSubplot at 0x248852a69e8>"
      ]
     },
     "execution_count": 74,
     "metadata": {},
     "output_type": "execute_result"
    },
    {
     "data": {
      "image/png": "[encoded data removed]",
      "text/plain": [
       "<matplotlib.figure.Figure at 0x248852a6898>"
      ]
     },
     "metadata": {},
     "output_type": "display_data"
    }
   ],
   "source": [
    "close3.to_csv(r\"E:\\99_daily\\TODAY\\close3.csv\")\n",
    "a=close3[['date', 'balance']]\n",
    "a.set_index(['date']).plot(title=\"布林带策略下基于训练集(不考虑震荡市且使用最不利价格)累计收益变化图\")"
   ]
  },
  {
   "cell_type": "code",
   "execution_count": 27,
   "metadata": {},
   "outputs": [
    {
     "data": {
      "text/plain": [
       "<matplotlib.axes._subplots.AxesSubplot at 0x248831a6a20>"
      ]
     },
     "execution_count": 27,
     "metadata": {},
     "output_type": "execute_result"
    },
    {
     "data": {
      "image/png": "[encoded data removed]",
      "text/plain": [
       "<matplotlib.figure.Figure at 0x2488320c160>"
      ]
     },
     "metadata": {},
     "output_type": "display_data"
    }
   ],
   "source": [
    "close3.to_csv(r\"E:\\99_daily\\TODAY\\close3.csv\")\n",
    "a=close3[['date', 'balance']]\n",
    "a.set_index(['date']).plot(title=\"布林带策略下基于训练集(不考虑震荡市)累计收益变化图\")"
   ]
  },
  {
   "cell_type": "code",
   "execution_count": 25,
   "metadata": {},
   "outputs": [
    {
     "data": {
      "text/plain": [
       "<matplotlib.axes._subplots.AxesSubplot at 0x248848a6e10>"
      ]
     },
     "execution_count": 25,
     "metadata": {},
     "output_type": "execute_result"
    },
    {
     "data": {
      "image/png": "[encoded data removed]",
      "text/plain": [
       "<matplotlib.figure.Figure at 0x2488321d470>"
      ]
     },
     "metadata": {},
     "output_type": "display_data"
    }
   ],
   "source": [
    "close2.to_csv(r\"E:\\99_daily\\TODAY\\close2.csv\")\n",
    "a=close2[['date', 'balance']]\n",
    "a.set_index(['date']).plot(title=\"布林带策略下基于训练集(考虑震荡市)累计收益变化图\")"
   ]
  },
  {
   "cell_type": "code",
   "execution_count": 22,
   "metadata": {},
   "outputs": [
    {
     "name": "stderr",
     "output_type": "stream",
     "text": [
      "E:\\06_software\\Anoconda\\lib\\site-packages\\ipykernel_launcher.py:1: SettingWithCopyWarning: \n",
      "A value is trying to be set on a copy of a slice from a DataFrame.\n",
      "Try using .loc[row_indexer,col_indexer] = value instead\n",
      "\n",
      "See the caveats in the documentation: http://pandas.pydata.org/pandas-docs/stable/indexing.html#indexing-view-versus-copy\n",
      "  \"\"\"Entry point for launching an IPython kernel.\n"
     ]
    }
   ],
   "source": [
    "a['rr'] = a['balance'] / 100 -1"
   ]
  },
  {
   "cell_type": "code",
   "execution_count": 86,
   "metadata": {},
   "outputs": [
    {
     "data": {
      "text/html": [
       "<div>\n",
       "<style>\n",
       "    .dataframe thead tr:only-child th {\n",
       "        text-align: right;\n",
       "    }\n",
       "\n",
       "    .dataframe thead th {\n",
       "        text-align: left;\n",
       "    }\n",
       "\n",
       "    .dataframe tbody tr th {\n",
       "        vertical-align: top;\n",
       "    }\n",
       "</style>\n",
       "<table border=\"1\" class=\"dataframe\">\n",
       "  <thead>\n",
       "    <tr style=\"text-align: right;\">\n",
       "      <th></th>\n",
       "      <th>date</th>\n",
       "      <th>close</th>\n",
       "      <th>std</th>\n",
       "      <th>mean</th>\n",
       "      <th>upper</th>\n",
       "      <th>lower</th>\n",
       "      <th>balance</th>\n",
       "      <th>position</th>\n",
       "      <th>signal</th>\n",
       "      <th>amount</th>\n",
       "    </tr>\n",
       "  </thead>\n",
       "  <tbody>\n",
       "    <tr>\n",
       "      <th>46</th>\n",
       "      <td>2013-12-05</td>\n",
       "      <td>69.14</td>\n",
       "      <td>1.163699</td>\n",
       "      <td>69.275714</td>\n",
       "      <td>72.184962</td>\n",
       "      <td>66.366466</td>\n",
       "      <td>101.2</td>\n",
       "      <td>0.0</td>\n",
       "      <td>p</td>\n",
       "      <td>-12.9</td>\n",
       "    </tr>\n",
       "    <tr>\n",
       "      <th>94</th>\n",
       "      <td>2014-02-14</td>\n",
       "      <td>68.00</td>\n",
       "      <td>1.817753</td>\n",
       "      <td>67.619524</td>\n",
       "      <td>72.163905</td>\n",
       "      <td>63.075142</td>\n",
       "      <td>102.1</td>\n",
       "      <td>0.0</td>\n",
       "      <td>c</td>\n",
       "      <td>-12.0</td>\n",
       "    </tr>\n",
       "    <tr>\n",
       "      <th>137</th>\n",
       "      <td>2014-04-17</td>\n",
       "      <td>64.68</td>\n",
       "      <td>0.677263</td>\n",
       "      <td>64.924286</td>\n",
       "      <td>66.617444</td>\n",
       "      <td>63.231127</td>\n",
       "      <td>100.9</td>\n",
       "      <td>0.0</td>\n",
       "      <td>c</td>\n",
       "      <td>-11.1</td>\n",
       "    </tr>\n",
       "    <tr>\n",
       "      <th>146</th>\n",
       "      <td>2014-05-01</td>\n",
       "      <td>64.87</td>\n",
       "      <td>0.709229</td>\n",
       "      <td>64.641905</td>\n",
       "      <td>66.414978</td>\n",
       "      <td>62.868832</td>\n",
       "      <td>104.1</td>\n",
       "      <td>0.0</td>\n",
       "      <td>c</td>\n",
       "      <td>-13.6</td>\n",
       "    </tr>\n",
       "    <tr>\n",
       "      <th>166</th>\n",
       "      <td>2014-05-30</td>\n",
       "      <td>73.18</td>\n",
       "      <td>3.226434</td>\n",
       "      <td>68.314762</td>\n",
       "      <td>76.380847</td>\n",
       "      <td>60.248677</td>\n",
       "      <td>108.6</td>\n",
       "      <td>0.0</td>\n",
       "      <td>p</td>\n",
       "      <td>-10.2</td>\n",
       "    </tr>\n",
       "  </tbody>\n",
       "</table>\n",
       "</div>"
      ],
      "text/plain": [
       "           date  close       std       mean      upper      lower  balance  \\\n",
       "46   2013-12-05  69.14  1.163699  69.275714  72.184962  66.366466    101.2   \n",
       "94   2014-02-14  68.00  1.817753  67.619524  72.163905  63.075142    102.1   \n",
       "137  2014-04-17  64.68  0.677263  64.924286  66.617444  63.231127    100.9   \n",
       "146  2014-05-01  64.87  0.709229  64.641905  66.414978  62.868832    104.1   \n",
       "166  2014-05-30  73.18  3.226434  68.314762  76.380847  60.248677    108.6   \n",
       "\n",
       "     position signal  amount  \n",
       "46        0.0      p   -12.9  \n",
       "94        0.0      c   -12.0  \n",
       "137       0.0      c   -11.1  \n",
       "146       0.0      c   -13.6  \n",
       "166       0.0      p   -10.2  "
      ]
     },
     "execution_count": 86,
     "metadata": {},
     "output_type": "execute_result"
    }
   ],
   "source": [
    "close1[(close1.position==0) & (close1.signal != 'No signal')]"
   ]
  },
  {
   "cell_type": "code",
   "execution_count": 87,
   "metadata": {},
   "outputs": [
    {
     "data": {
      "text/html": [
       "<div>\n",
       "<style>\n",
       "    .dataframe thead tr:only-child th {\n",
       "        text-align: right;\n",
       "    }\n",
       "\n",
       "    .dataframe thead th {\n",
       "        text-align: left;\n",
       "    }\n",
       "\n",
       "    .dataframe tbody tr th {\n",
       "        vertical-align: top;\n",
       "    }\n",
       "</style>\n",
       "<table border=\"1\" class=\"dataframe\">\n",
       "  <thead>\n",
       "    <tr style=\"text-align: right;\">\n",
       "      <th></th>\n",
       "      <th>date</th>\n",
       "      <th>close</th>\n",
       "      <th>std</th>\n",
       "      <th>mean</th>\n",
       "      <th>upper</th>\n",
       "      <th>lower</th>\n",
       "      <th>balance</th>\n",
       "      <th>position</th>\n",
       "      <th>signal</th>\n",
       "      <th>amount</th>\n",
       "    </tr>\n",
       "  </thead>\n",
       "  <tbody>\n",
       "    <tr>\n",
       "      <th>79</th>\n",
       "      <td>2014-01-24</td>\n",
       "      <td>67.25</td>\n",
       "      <td>0.829400</td>\n",
       "      <td>70.266190</td>\n",
       "      <td>72.339691</td>\n",
       "      <td>68.192690</td>\n",
       "      <td>100.0</td>\n",
       "      <td>0.0</td>\n",
       "      <td>Long Straddle</td>\n",
       "      <td>-35.6</td>\n",
       "    </tr>\n",
       "    <tr>\n",
       "      <th>94</th>\n",
       "      <td>2014-02-14</td>\n",
       "      <td>68.00</td>\n",
       "      <td>1.817753</td>\n",
       "      <td>67.619524</td>\n",
       "      <td>72.163905</td>\n",
       "      <td>63.075142</td>\n",
       "      <td>99.3</td>\n",
       "      <td>0.0</td>\n",
       "      <td>c</td>\n",
       "      <td>-28.0</td>\n",
       "    </tr>\n",
       "    <tr>\n",
       "      <th>118</th>\n",
       "      <td>2014-03-21</td>\n",
       "      <td>64.82</td>\n",
       "      <td>0.988152</td>\n",
       "      <td>67.963810</td>\n",
       "      <td>70.434190</td>\n",
       "      <td>65.493429</td>\n",
       "      <td>102.6</td>\n",
       "      <td>0.0</td>\n",
       "      <td>Long Straddle</td>\n",
       "      <td>-21.3</td>\n",
       "    </tr>\n",
       "    <tr>\n",
       "      <th>137</th>\n",
       "      <td>2014-04-17</td>\n",
       "      <td>64.68</td>\n",
       "      <td>0.677263</td>\n",
       "      <td>64.924286</td>\n",
       "      <td>66.617444</td>\n",
       "      <td>63.231127</td>\n",
       "      <td>108.2</td>\n",
       "      <td>0.0</td>\n",
       "      <td>c</td>\n",
       "      <td>-25.9</td>\n",
       "    </tr>\n",
       "    <tr>\n",
       "      <th>142</th>\n",
       "      <td>2014-04-25</td>\n",
       "      <td>62.83</td>\n",
       "      <td>0.717040</td>\n",
       "      <td>64.781905</td>\n",
       "      <td>66.574504</td>\n",
       "      <td>62.989305</td>\n",
       "      <td>108.6</td>\n",
       "      <td>0.0</td>\n",
       "      <td>Long Straddle</td>\n",
       "      <td>-34.4</td>\n",
       "    </tr>\n",
       "  </tbody>\n",
       "</table>\n",
       "</div>"
      ],
      "text/plain": [
       "           date  close       std       mean      upper      lower  balance  \\\n",
       "79   2014-01-24  67.25  0.829400  70.266190  72.339691  68.192690    100.0   \n",
       "94   2014-02-14  68.00  1.817753  67.619524  72.163905  63.075142     99.3   \n",
       "118  2014-03-21  64.82  0.988152  67.963810  70.434190  65.493429    102.6   \n",
       "137  2014-04-17  64.68  0.677263  64.924286  66.617444  63.231127    108.2   \n",
       "142  2014-04-25  62.83  0.717040  64.781905  66.574504  62.989305    108.6   \n",
       "\n",
       "     position         signal  amount  \n",
       "79        0.0  Long Straddle   -35.6  \n",
       "94        0.0              c   -28.0  \n",
       "118       0.0  Long Straddle   -21.3  \n",
       "137       0.0              c   -25.9  \n",
       "142       0.0  Long Straddle   -34.4  "
      ]
     },
     "execution_count": 87,
     "metadata": {},
     "output_type": "execute_result"
    }
   ],
   "source": [
    "close2[(close2.position==0) & (close2.signal != 'No signal')]"
   ]
  },
  {
   "cell_type": "code",
   "execution_count": 88,
   "metadata": {},
   "outputs": [
    {
     "data": {
      "text/html": [
       "<div>\n",
       "<style>\n",
       "    .dataframe thead tr:only-child th {\n",
       "        text-align: right;\n",
       "    }\n",
       "\n",
       "    .dataframe thead th {\n",
       "        text-align: left;\n",
       "    }\n",
       "\n",
       "    .dataframe tbody tr th {\n",
       "        vertical-align: top;\n",
       "    }\n",
       "</style>\n",
       "<table border=\"1\" class=\"dataframe\">\n",
       "  <thead>\n",
       "    <tr style=\"text-align: right;\">\n",
       "      <th></th>\n",
       "      <th>date</th>\n",
       "      <th>close</th>\n",
       "      <th>std</th>\n",
       "      <th>mean</th>\n",
       "      <th>upper</th>\n",
       "      <th>lower</th>\n",
       "      <th>balance</th>\n",
       "      <th>position</th>\n",
       "      <th>signal</th>\n",
       "      <th>amount</th>\n",
       "    </tr>\n",
       "  </thead>\n",
       "  <tbody>\n",
       "    <tr>\n",
       "      <th>46</th>\n",
       "      <td>2013-12-05</td>\n",
       "      <td>69.14</td>\n",
       "      <td>1.163699</td>\n",
       "      <td>69.275714</td>\n",
       "      <td>72.184962</td>\n",
       "      <td>66.366466</td>\n",
       "      <td>101.2</td>\n",
       "      <td>0.0</td>\n",
       "      <td>p</td>\n",
       "      <td>-12.9</td>\n",
       "    </tr>\n",
       "    <tr>\n",
       "      <th>94</th>\n",
       "      <td>2014-02-14</td>\n",
       "      <td>68.00</td>\n",
       "      <td>1.817753</td>\n",
       "      <td>67.619524</td>\n",
       "      <td>72.163905</td>\n",
       "      <td>63.075142</td>\n",
       "      <td>102.1</td>\n",
       "      <td>0.0</td>\n",
       "      <td>c</td>\n",
       "      <td>-12.0</td>\n",
       "    </tr>\n",
       "    <tr>\n",
       "      <th>137</th>\n",
       "      <td>2014-04-17</td>\n",
       "      <td>64.68</td>\n",
       "      <td>0.677263</td>\n",
       "      <td>64.924286</td>\n",
       "      <td>66.617444</td>\n",
       "      <td>63.231127</td>\n",
       "      <td>100.9</td>\n",
       "      <td>0.0</td>\n",
       "      <td>c</td>\n",
       "      <td>-11.1</td>\n",
       "    </tr>\n",
       "    <tr>\n",
       "      <th>146</th>\n",
       "      <td>2014-05-01</td>\n",
       "      <td>64.87</td>\n",
       "      <td>0.709229</td>\n",
       "      <td>64.641905</td>\n",
       "      <td>66.414978</td>\n",
       "      <td>62.868832</td>\n",
       "      <td>103.3</td>\n",
       "      <td>0.0</td>\n",
       "      <td>c</td>\n",
       "      <td>-10.2</td>\n",
       "    </tr>\n",
       "    <tr>\n",
       "      <th>166</th>\n",
       "      <td>2014-05-30</td>\n",
       "      <td>73.18</td>\n",
       "      <td>3.226434</td>\n",
       "      <td>68.314762</td>\n",
       "      <td>76.380847</td>\n",
       "      <td>60.248677</td>\n",
       "      <td>107.8</td>\n",
       "      <td>0.0</td>\n",
       "      <td>p</td>\n",
       "      <td>-10.2</td>\n",
       "    </tr>\n",
       "  </tbody>\n",
       "</table>\n",
       "</div>"
      ],
      "text/plain": [
       "           date  close       std       mean      upper      lower  balance  \\\n",
       "46   2013-12-05  69.14  1.163699  69.275714  72.184962  66.366466    101.2   \n",
       "94   2014-02-14  68.00  1.817753  67.619524  72.163905  63.075142    102.1   \n",
       "137  2014-04-17  64.68  0.677263  64.924286  66.617444  63.231127    100.9   \n",
       "146  2014-05-01  64.87  0.709229  64.641905  66.414978  62.868832    103.3   \n",
       "166  2014-05-30  73.18  3.226434  68.314762  76.380847  60.248677    107.8   \n",
       "\n",
       "     position signal  amount  \n",
       "46        0.0      p   -12.9  \n",
       "94        0.0      c   -12.0  \n",
       "137       0.0      c   -11.1  \n",
       "146       0.0      c   -10.2  \n",
       "166       0.0      p   -10.2  "
      ]
     },
     "execution_count": 88,
     "metadata": {},
     "output_type": "execute_result"
    }
   ],
   "source": [
    "close3[(close3.position==0) & (close3.signal != 'No signal')]"
   ]
  },
  {
   "cell_type": "code",
   "execution_count": 285,
   "metadata": {},
   "outputs": [
    {
     "data": {
      "text/plain": [
       "0.0"
      ]
     },
     "execution_count": 285,
     "metadata": {},
     "output_type": "execute_result"
    }
   ],
   "source": [
    "(a>0).sum() / len(a)"
   ]
  },
  {
   "cell_type": "code",
   "execution_count": 124,
   "metadata": {},
   "outputs": [],
   "source": [
    "a = close1[['date', 'balance', 'signal']].set_index('date')"
   ]
  },
  {
   "cell_type": "code",
   "execution_count": 125,
   "metadata": {},
   "outputs": [],
   "source": [
    "b=a.drop_duplicates()"
   ]
  },
  {
   "cell_type": "code",
   "execution_count": 126,
   "metadata": {},
   "outputs": [
    {
     "data": {
      "text/plain": [
       "15"
      ]
     },
     "execution_count": 126,
     "metadata": {},
     "output_type": "execute_result"
    }
   ],
   "source": [
    "len(b)"
   ]
  },
  {
   "cell_type": "code",
   "execution_count": 123,
   "metadata": {},
   "outputs": [
    {
     "data": {
      "text/html": [
       "<div>\n",
       "<style>\n",
       "    .dataframe thead tr:only-child th {\n",
       "        text-align: right;\n",
       "    }\n",
       "\n",
       "    .dataframe thead th {\n",
       "        text-align: left;\n",
       "    }\n",
       "\n",
       "    .dataframe tbody tr th {\n",
       "        vertical-align: top;\n",
       "    }\n",
       "</style>\n",
       "<table border=\"1\" class=\"dataframe\">\n",
       "  <thead>\n",
       "    <tr style=\"text-align: right;\">\n",
       "      <th></th>\n",
       "      <th>balance</th>\n",
       "      <th>signal</th>\n",
       "    </tr>\n",
       "    <tr>\n",
       "      <th>date</th>\n",
       "      <th></th>\n",
       "      <th></th>\n",
       "    </tr>\n",
       "  </thead>\n",
       "  <tbody>\n",
       "    <tr>\n",
       "      <th>2013-10-01</th>\n",
       "      <td>100.0</td>\n",
       "      <td>No signal</td>\n",
       "    </tr>\n",
       "    <tr>\n",
       "      <th>2013-10-17</th>\n",
       "      <td>114.1</td>\n",
       "      <td>-p</td>\n",
       "    </tr>\n",
       "    <tr>\n",
       "      <th>2013-12-05</th>\n",
       "      <td>101.2</td>\n",
       "      <td>p</td>\n",
       "    </tr>\n",
       "    <tr>\n",
       "      <th>2013-12-06</th>\n",
       "      <td>101.2</td>\n",
       "      <td>No signal</td>\n",
       "    </tr>\n",
       "    <tr>\n",
       "      <th>2014-01-24</th>\n",
       "      <td>114.1</td>\n",
       "      <td>-c</td>\n",
       "    </tr>\n",
       "    <tr>\n",
       "      <th>2014-02-14</th>\n",
       "      <td>102.1</td>\n",
       "      <td>c</td>\n",
       "    </tr>\n",
       "    <tr>\n",
       "      <th>2014-02-18</th>\n",
       "      <td>102.1</td>\n",
       "      <td>No signal</td>\n",
       "    </tr>\n",
       "    <tr>\n",
       "      <th>2014-03-21</th>\n",
       "      <td>112.0</td>\n",
       "      <td>-c</td>\n",
       "    </tr>\n",
       "    <tr>\n",
       "      <th>2014-04-17</th>\n",
       "      <td>100.9</td>\n",
       "      <td>c</td>\n",
       "    </tr>\n",
       "    <tr>\n",
       "      <th>2014-04-21</th>\n",
       "      <td>100.9</td>\n",
       "      <td>No signal</td>\n",
       "    </tr>\n",
       "    <tr>\n",
       "      <th>2014-04-25</th>\n",
       "      <td>113.5</td>\n",
       "      <td>-c</td>\n",
       "    </tr>\n",
       "    <tr>\n",
       "      <th>2014-05-01</th>\n",
       "      <td>103.3</td>\n",
       "      <td>c</td>\n",
       "    </tr>\n",
       "    <tr>\n",
       "      <th>2014-05-02</th>\n",
       "      <td>103.3</td>\n",
       "      <td>No signal</td>\n",
       "    </tr>\n",
       "    <tr>\n",
       "      <th>2014-05-12</th>\n",
       "      <td>118.0</td>\n",
       "      <td>-p</td>\n",
       "    </tr>\n",
       "    <tr>\n",
       "      <th>2014-05-30</th>\n",
       "      <td>107.8</td>\n",
       "      <td>p</td>\n",
       "    </tr>\n",
       "  </tbody>\n",
       "</table>\n",
       "</div>"
      ],
      "text/plain": [
       "            balance     signal\n",
       "date                          \n",
       "2013-10-01    100.0  No signal\n",
       "2013-10-17    114.1         -p\n",
       "2013-12-05    101.2          p\n",
       "2013-12-06    101.2  No signal\n",
       "2014-01-24    114.1         -c\n",
       "2014-02-14    102.1          c\n",
       "2014-02-18    102.1  No signal\n",
       "2014-03-21    112.0         -c\n",
       "2014-04-17    100.9          c\n",
       "2014-04-21    100.9  No signal\n",
       "2014-04-25    113.5         -c\n",
       "2014-05-01    103.3          c\n",
       "2014-05-02    103.3  No signal\n",
       "2014-05-12    118.0         -p\n",
       "2014-05-30    107.8          p"
      ]
     },
     "execution_count": 123,
     "metadata": {},
     "output_type": "execute_result"
    }
   ],
   "source": [
    "b"
   ]
  },
  {
   "cell_type": "code",
   "execution_count": 127,
   "metadata": {},
   "outputs": [
    {
     "data": {
      "text/html": [
       "<div>\n",
       "<style>\n",
       "    .dataframe thead tr:only-child th {\n",
       "        text-align: right;\n",
       "    }\n",
       "\n",
       "    .dataframe thead th {\n",
       "        text-align: left;\n",
       "    }\n",
       "\n",
       "    .dataframe tbody tr th {\n",
       "        vertical-align: top;\n",
       "    }\n",
       "</style>\n",
       "<table border=\"1\" class=\"dataframe\">\n",
       "  <thead>\n",
       "    <tr style=\"text-align: right;\">\n",
       "      <th></th>\n",
       "      <th>balance</th>\n",
       "      <th>signal</th>\n",
       "    </tr>\n",
       "    <tr>\n",
       "      <th>date</th>\n",
       "      <th></th>\n",
       "      <th></th>\n",
       "    </tr>\n",
       "  </thead>\n",
       "  <tbody>\n",
       "    <tr>\n",
       "      <th>2013-10-01</th>\n",
       "      <td>100.0</td>\n",
       "      <td>No signal</td>\n",
       "    </tr>\n",
       "    <tr>\n",
       "      <th>2013-10-17</th>\n",
       "      <td>114.1</td>\n",
       "      <td>-p</td>\n",
       "    </tr>\n",
       "    <tr>\n",
       "      <th>2013-12-05</th>\n",
       "      <td>101.2</td>\n",
       "      <td>p</td>\n",
       "    </tr>\n",
       "    <tr>\n",
       "      <th>2013-12-06</th>\n",
       "      <td>101.2</td>\n",
       "      <td>No signal</td>\n",
       "    </tr>\n",
       "    <tr>\n",
       "      <th>2014-01-24</th>\n",
       "      <td>114.1</td>\n",
       "      <td>-c</td>\n",
       "    </tr>\n",
       "    <tr>\n",
       "      <th>2014-02-14</th>\n",
       "      <td>102.1</td>\n",
       "      <td>c</td>\n",
       "    </tr>\n",
       "    <tr>\n",
       "      <th>2014-02-18</th>\n",
       "      <td>102.1</td>\n",
       "      <td>No signal</td>\n",
       "    </tr>\n",
       "    <tr>\n",
       "      <th>2014-03-21</th>\n",
       "      <td>112.0</td>\n",
       "      <td>-c</td>\n",
       "    </tr>\n",
       "    <tr>\n",
       "      <th>2014-04-17</th>\n",
       "      <td>100.9</td>\n",
       "      <td>c</td>\n",
       "    </tr>\n",
       "    <tr>\n",
       "      <th>2014-04-21</th>\n",
       "      <td>100.9</td>\n",
       "      <td>No signal</td>\n",
       "    </tr>\n",
       "    <tr>\n",
       "      <th>2014-04-25</th>\n",
       "      <td>117.7</td>\n",
       "      <td>-c</td>\n",
       "    </tr>\n",
       "    <tr>\n",
       "      <th>2014-05-01</th>\n",
       "      <td>104.1</td>\n",
       "      <td>c</td>\n",
       "    </tr>\n",
       "    <tr>\n",
       "      <th>2014-05-02</th>\n",
       "      <td>104.1</td>\n",
       "      <td>No signal</td>\n",
       "    </tr>\n",
       "    <tr>\n",
       "      <th>2014-05-12</th>\n",
       "      <td>118.8</td>\n",
       "      <td>-p</td>\n",
       "    </tr>\n",
       "    <tr>\n",
       "      <th>2014-05-30</th>\n",
       "      <td>108.6</td>\n",
       "      <td>p</td>\n",
       "    </tr>\n",
       "  </tbody>\n",
       "</table>\n",
       "</div>"
      ],
      "text/plain": [
       "            balance     signal\n",
       "date                          \n",
       "2013-10-01    100.0  No signal\n",
       "2013-10-17    114.1         -p\n",
       "2013-12-05    101.2          p\n",
       "2013-12-06    101.2  No signal\n",
       "2014-01-24    114.1         -c\n",
       "2014-02-14    102.1          c\n",
       "2014-02-18    102.1  No signal\n",
       "2014-03-21    112.0         -c\n",
       "2014-04-17    100.9          c\n",
       "2014-04-21    100.9  No signal\n",
       "2014-04-25    117.7         -c\n",
       "2014-05-01    104.1          c\n",
       "2014-05-02    104.1  No signal\n",
       "2014-05-12    118.8         -p\n",
       "2014-05-30    108.6          p"
      ]
     },
     "execution_count": 127,
     "metadata": {},
     "output_type": "execute_result"
    }
   ],
   "source": [
    "b"
   ]
  },
  {
   "cell_type": "code",
   "execution_count": null,
   "metadata": {
    "collapsed": true
   },
   "outputs": [],
   "source": []
  }
 ],
 "metadata": {
  "kernelspec": {
   "display_name": "Python 3",
   "language": "python",
   "name": "python3"
  },
  "language_info": {
   "codemirror_mode": {
    "name": "ipython",
    "version": 3
   },
   "file_extension": ".py",
   "mimetype": "text/x-python",
   "name": "python",
   "nbconvert_exporter": "python",
   "pygments_lexer": "ipython3",
   "version": "3.6.3"
  },
  "toc": {
   "nav_menu": {},
   "number_sections": true,
   "sideBar": true,
   "skip_h1_title": false,
   "title_cell": "Table of Contents",
   "title_sidebar": "Contents",
   "toc_cell": false,
   "toc_position": {},
   "toc_section_display": true,
   "toc_window_display": false
  }
 },
 "nbformat": 4,
 "nbformat_minor": 2
}
