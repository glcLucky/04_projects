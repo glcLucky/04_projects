{
 "cells": [
  {
   "cell_type": "code",
   "execution_count": 16,
   "metadata": {},
   "outputs": [
    {
     "name": "stderr",
     "output_type": "stream",
     "text": [
      "E:\\06_software\\Anoconda\\lib\\site-packages\\h5py\\__init__.py:34: FutureWarning: Conversion of the second argument of issubdtype from `float` to `np.floating` is deprecated. In future, it will be treated as `np.float64 == np.dtype(float).type`.\n",
      "  from ._conv import register_converters as _register_converters\n"
     ]
    }
   ],
   "source": [
    "from captcha.image import ImageCaptcha  # pip install captcha\n",
    "import numpy as np\n",
    "from PIL import Image\n",
    "import random\n",
    "# import matplotlib.pyplot as plt\n",
    "import os\n",
    "from random import choice\n",
    "import tensorflow as tf"
   ]
  },
  {
   "cell_type": "markdown",
   "metadata": {},
   "source": [
    "# 随机读取训练集"
   ]
  },
  {
   "cell_type": "code",
   "execution_count": 15,
   "metadata": {
    "collapsed": true
   },
   "outputs": [],
   "source": [
    "# 验证码中的字符, 就不用汉字了\n",
    "number = ['0', '1', '2', '3', '4', '5', '6', '7', '8', '9']\n",
    "alphabet = ['a', 'b', 'c', 'd', 'e', 'f', 'g', 'h', 'i', 'j', 'k', 'l', 'm', 'n', 'o', 'p', 'q', 'r', 's', 't', 'u',\n",
    "            'v', 'w', 'x', 'y', 'z']\n",
    "# ALPHABET = ['A', 'B', 'C', 'D', 'E', 'F', 'G', 'H', 'I', 'J', 'K', 'L', 'M', 'N', 'O', 'P', 'Q', 'R', 'S', 'T', 'U',\n",
    "#             'V', 'W', 'X', 'Y', 'Z']\n",
    "\n",
    "root_dir = r\"E:\\07_data\\00_practise\\verification_code\\train\"\n",
    "\n",
    "# 验证码一般都无视大小写；验证码长度4个字符\n",
    "def random_captcha_text(char_set=number, captcha_size=4):\n",
    "    captcha_text = []\n",
    "    for i in range(captcha_size):\n",
    "        c = random.choice(char_set)\n",
    "        captcha_text.append(c)\n",
    "    return captcha_text\n",
    "\n",
    "\n",
    "# 生成字符对应的验证码\n",
    "def gen_captcha_text_and_image():\n",
    "    image = ImageCaptcha()\n",
    "\n",
    "    captcha_text = random_captcha_text()\n",
    "    captcha_text = ''.join(captcha_text)\n",
    "\n",
    "    captcha = image.generate(captcha_text)\n",
    "    # image.write(captcha_text, captcha_text + '.jpg')  # 写到文件\n",
    "\n",
    "    captcha_image = Image.open(captcha)\n",
    "    captcha_image = np.array(captcha_image)\n",
    "    return captcha_text, captcha_image\n",
    "\n",
    "\n",
    "\n",
    "def gen_list():\n",
    "    img_list = []\n",
    "    for parent, dirnames, filenames in os.walk(root_dir):  # 三个参数：分别返回1.父目录 2.所有文件夹名字（不含路径） 3.所有文件名字\n",
    "        for filename in filenames:  # 输出文件信息\n",
    "            img_list.append(filename.replace(\".jpg\", \"\"))\n",
    "            # print(\"parent is:\" + parent)\n",
    "            # print(\"filename is:\" + filename)\n",
    "            # print(\"the full name of the file is:\" + os.path.join(parent, filename))  # 输出文件路径信息\n",
    "    return img_list\n",
    "\n",
    "img_list = gen_list()\n",
    "\n",
    "def gen_captcha_text_and_image_new():\n",
    "    img = choice(img_list)\n",
    "    captcha_image = Image.open(root_dir + \"\\\\\" + img + \".jpg\")\n",
    "    # captcha_image = captcha_image.resize((90, 30))\n",
    "    captcha_image = np.array(captcha_image)\n",
    "    return img, captcha_image"
   ]
  },
  {
   "cell_type": "markdown",
   "metadata": {},
   "source": [
    "# 读取测试集"
   ]
  },
  {
   "cell_type": "code",
   "execution_count": null,
   "metadata": {
    "collapsed": true
   },
   "outputs": [],
   "source": [
    "root_dir = r\"E:\\07_data\\00_practise\\verification_code\\test\"\n",
    "img_list = []\n",
    "\n",
    "def gen_list():\n",
    "\n",
    "    for parent, dirnames, filenames in os.walk(root_dir):  # 三个参数：分别返回1.父目录 2.所有文件夹名字（不含路径） 3.所有文件名字\n",
    "        for filename in filenames:  # 输出文件信息\n",
    "            img_list.append(filename.replace(\".jpg\", \"\"))\n",
    "            # print(\"parent is:\" + parent)\n",
    "            # print(\"filename is:\" + filename)\n",
    "            # print(\"the full name of the file is:\" + os.path.join(parent, filename))  # 输出文件路径信息\n",
    "    return img_list\n",
    "\n",
    "img_list = gen_list()\n",
    "def get_test_captcha_text_and_image(i=None):\n",
    "    img = img_list[i]\n",
    "    captcha_image = Image.open(root_dir + \"\\\\\" + img + \".jpg\")\n",
    "    # captcha_image = captcha_image.resize((160, 60))\n",
    "    captcha_image = np.array(captcha_image)\n",
    "    return img, captcha_image\n",
    "\n",
    "def get_test_sets_length():\n",
    "    return len(img_list)"
   ]
  },
  {
   "cell_type": "markdown",
   "metadata": {},
   "source": [
    "# 设计神经网络"
   ]
  },
  {
   "cell_type": "code",
   "execution_count": 18,
   "metadata": {},
   "outputs": [
    {
     "name": "stdout",
     "output_type": "stream",
     "text": [
      "验证码图像channel: (60, 180, 3)\n",
      "验证码文本最长字符数 4\n"
     ]
    }
   ],
   "source": [
    "text, image = gen_captcha_text_and_image_new()\n",
    "print(\"验证码图像channel:\", image.shape)  # (60, 160, 3)\n",
    "# 图像大小\n",
    "IMAGE_HEIGHT = image.shape[0]\n",
    "IMAGE_WIDTH = image.shape[1]\n",
    "image_shape = image.shape\n",
    "MAX_CAPTCHA = len(text)\n",
    "print(\"验证码文本最长字符数\", MAX_CAPTCHA)  # 验证码最长4字符; 我全部固定为4,可以不固定. 如果验证码长度小于4，用'_'补齐\n",
    "\n",
    "# 把彩色图像转为灰度图像（色彩对识别验证码没有什么用）\n",
    "# 度化是将三分量转化成一样数值的过程\n",
    "def convert2gray(img):\n",
    "    if len(img.shape) > 2:\n",
    "        gray = np.mean(img, -1)\n",
    "        # 上面的转法较快，正规转法如下\n",
    "        # r, g, b = img[:,:,0], img[:,:,1], img[:,:,2]\n",
    "        # gray = 0.2989 * r + 0.5870 * g + 0.1140 * b\n",
    "        # int gray = (int) (0.3 * r + 0.59 * g + 0.11 * b);\n",
    "        return gray\n",
    "    else:\n",
    "        return img\n",
    "\n",
    "\n",
    "\"\"\" \n",
    "cnn在图像大小是2的倍数时性能最高, 如果你用的图像大小不是2的倍数，可以在图像边缘补无用像素。 \n",
    "np.pad(image,((2,3),(2,2)), 'constant', constant_values=(255,))  # 在图像上补2行，下补3行，左补2行，右补2行 \n",
    "\"\"\"\n",
    "\n",
    "\n",
    "char_set = number + alphabet   # 如果验证码长度小于4, '_'用来补齐\n",
    "CHAR_SET_LEN = len(char_set)\n",
    "\n",
    "# 文本转向量\n",
    "def text2vec(text):\n",
    "    text_len = len(text)\n",
    "    if text_len > MAX_CAPTCHA:\n",
    "        raise ValueError('验证码最长4个字符')\n",
    "\n",
    "    vector = np.zeros(MAX_CAPTCHA * CHAR_SET_LEN)\n",
    "\n",
    "    def char2pos(c):\n",
    "        try:\n",
    "            if ord(c) <= ord('9'):\n",
    "                k = ord(c)-ord('0')\n",
    "            else:\n",
    "                k = ord(c)-ord('a') + 10\n",
    "        except:\n",
    "            raise ValueError('No Map')\n",
    "        return k\n",
    "\n",
    "    for i, c in enumerate(text):\n",
    "        idx = i * CHAR_SET_LEN + char2pos(c)\n",
    "        vector[idx] = 1\n",
    "    return vector\n",
    "\n",
    "\n",
    "# 向量转回文本\n",
    "def vec2text(vec):\n",
    "    char_pos = vec.nonzero()[0]\n",
    "    text = []\n",
    "    for i, c in enumerate(char_pos):\n",
    "        char_at_pos = i  # c/63\n",
    "        char_idx = c % CHAR_SET_LEN\n",
    "        if char_idx < 10:\n",
    "            char_code = char_idx + ord('0')\n",
    "        elif char_idx < 36:\n",
    "            char_code = char_idx - 10 + ord('A')\n",
    "        elif char_idx < 62:\n",
    "            char_code = char_idx - 36 + ord('a')\n",
    "        elif char_idx == 62:\n",
    "            char_code = ord('_')\n",
    "        else:\n",
    "            raise ValueError('error')\n",
    "        text.append(chr(char_code))\n",
    "    return \"\".join(text)\n",
    "\n",
    "\n",
    "# 生成一个训练batch\n",
    "def get_next_batch(batch_size=128):\n",
    "    batch_x = np.zeros([batch_size, IMAGE_HEIGHT * IMAGE_WIDTH])\n",
    "    batch_y = np.zeros([batch_size, MAX_CAPTCHA * CHAR_SET_LEN])\n",
    "\n",
    "    # 有时生成图像大小不是(60, 160, 3)\n",
    "    def wrap_gen_captcha_text_and_image():\n",
    "        while True:\n",
    "            text, image = gen_captcha_text_and_image_new()\n",
    "            if image.shape == image_shape:\n",
    "                return text, image\n",
    "\n",
    "    for i in range(batch_size):\n",
    "        text, image = wrap_gen_captcha_text_and_image()\n",
    "        image = convert2gray(image)\n",
    "\n",
    "\n",
    "        batch_x[i, :] = image.flatten() / 255  # (image.flatten()-128)/128  mean为0\n",
    "        batch_y[i, :] = text2vec(text)\n",
    "\n",
    "    return batch_x, batch_y\n",
    "\n"
   ]
  },
  {
   "cell_type": "code",
   "execution_count": 19,
   "metadata": {
    "collapsed": true
   },
   "outputs": [],
   "source": [
    "X = tf.placeholder(tf.float32, [None, IMAGE_HEIGHT * IMAGE_WIDTH])\n",
    "Y = tf.placeholder(tf.float32, [None, MAX_CAPTCHA * CHAR_SET_LEN])\n",
    "keep_prob = tf.placeholder(tf.float32)  # dropout"
   ]
  },
  {
   "cell_type": "code",
   "execution_count": 20,
   "metadata": {
    "collapsed": true
   },
   "outputs": [],
   "source": [
    "# 定义CNN\n",
    "def crack_captcha_cnn(w_alpha=0.01, b_alpha=0.1):\n",
    "    x = tf.reshape(X, shape=[-1, IMAGE_HEIGHT, IMAGE_WIDTH, 1])\n",
    "\n",
    "    # w_c1_alpha = np.sqrt(2.0/(IMAGE_HEIGHT*IMAGE_WIDTH)) #\n",
    "    # w_c2_alpha = np.sqrt(2.0/(3*3*32))\n",
    "    # w_c3_alpha = np.sqrt(2.0/(3*3*64))\n",
    "    # w_d1_alpha = np.sqrt(2.0/(8*32*64))\n",
    "    # out_alpha = np.sqrt(2.0/1024)\n",
    "\n",
    "    # 定义三层的卷积神经网络\n",
    "\n",
    "    # 定义第一层的卷积神经网络\n",
    "    # 定义第一层权重\n",
    "    w_c1 = tf.Variable(w_alpha * tf.random_normal([3, 3, 1, 32]))\n",
    "    # 定义第一层的偏置\n",
    "    b_c1 = tf.Variable(b_alpha * tf.random_normal([32]))\n",
    "    # 定义第一层的激励函数\n",
    "    conv1 = tf.nn.relu(tf.nn.bias_add(tf.nn.conv2d(x, w_c1, strides=[1, 1, 1, 1], padding='SAME'), b_c1))\n",
    "    # conv1 为输入  ksize 表示使用2*2池化，即将2*2的色块转化成1*1的色块\n",
    "    conv1 = tf.nn.max_pool(conv1, ksize=[1, 2, 2, 1], strides=[1, 2, 2, 1], padding='SAME')\n",
    "    # dropout防止过拟合。\n",
    "    conv1 = tf.nn.dropout(conv1, keep_prob)\n",
    "\n",
    "    # 定义第二层的卷积神经网络\n",
    "    w_c2 = tf.Variable(w_alpha * tf.random_normal([3, 3, 32, 64]))\n",
    "    b_c2 = tf.Variable(b_alpha * tf.random_normal([64]))\n",
    "    conv2 = tf.nn.relu(tf.nn.bias_add(tf.nn.conv2d(conv1, w_c2, strides=[1, 1, 1, 1], padding='SAME'), b_c2))\n",
    "    conv2 = tf.nn.max_pool(conv2, ksize=[1, 2, 2, 1], strides=[1, 2, 2, 1], padding='SAME')\n",
    "    conv2 = tf.nn.dropout(conv2, keep_prob)\n",
    "\n",
    "    # 定义第三层的卷积神经网络\n",
    "    w_c3 = tf.Variable(w_alpha * tf.random_normal([3, 3, 64, 64]))\n",
    "    b_c3 = tf.Variable(b_alpha * tf.random_normal([64]))\n",
    "    conv3 = tf.nn.relu(tf.nn.bias_add(tf.nn.conv2d(conv2, w_c3, strides=[1, 1, 1, 1], padding='SAME'), b_c3))\n",
    "    conv3 = tf.nn.max_pool(conv3, ksize=[1, 2, 2, 1], strides=[1, 2, 2, 1], padding='SAME')\n",
    "    conv3 = tf.nn.dropout(conv3, keep_prob)\n",
    "\n",
    "    # Fully connected layer\n",
    "    # 随机生成权重\n",
    "    w_d = tf.Variable(w_alpha * tf.random_normal([11776, 2048]))\n",
    "    # 随机生成偏置\n",
    "    b_d = tf.Variable(b_alpha * tf.random_normal([2048]))\n",
    "    dense = tf.reshape(conv3, [-1, w_d.get_shape().as_list()[0]])\n",
    "    dense = tf.nn.relu(tf.add(tf.matmul(dense, w_d), b_d))\n",
    "    dense = tf.nn.dropout(dense, keep_prob)\n",
    "\n",
    "    w_out = tf.Variable(w_alpha * tf.random_normal([2048, MAX_CAPTCHA * CHAR_SET_LEN]))\n",
    "    b_out = tf.Variable(b_alpha * tf.random_normal([MAX_CAPTCHA * CHAR_SET_LEN]))\n",
    "    out = tf.add(tf.matmul(dense, w_out), b_out)\n",
    "    # out = tf.nn.softmax(out)\n",
    "    return out\n",
    "\n",
    "\n",
    "# 训练\n",
    "def train_crack_captcha_cnn():\n",
    "    # X = tf.placeholder(tf.float32, [None, IMAGE_HEIGHT * IMAGE_WIDTH])\n",
    "    # Y = tf.placeholder(tf.float32, [None, MAX_CAPTCHA * CHAR_SET_LEN])\n",
    "    # keep_prob = tf.placeholder(tf.float32)  # dropout\n",
    "    output = crack_captcha_cnn()\n",
    "    # loss\n",
    "    # loss = tf.reduce_mean(tf.nn.softmax_cross_entropy_with_logits(output, Y))\n",
    "    loss = tf.reduce_mean(tf.nn.sigmoid_cross_entropy_with_logits(logits=output, labels=Y))\n",
    "    # 最后一层用来分类的softmax和sigmoid有什么不同？\n",
    "    # optimizer 为了加快训练 learning_rate应该开始大，然后慢慢衰\n",
    "    optimizer = tf.train.AdamOptimizer(learning_rate=0.001).minimize(loss)\n",
    "\n",
    "    predict = tf.reshape(output, [-1, MAX_CAPTCHA, CHAR_SET_LEN])\n",
    "    max_idx_p = tf.argmax(predict, 2)\n",
    "    max_idx_l = tf.argmax(tf.reshape(Y, [-1, MAX_CAPTCHA, CHAR_SET_LEN]), 2)\n",
    "    correct_pred = tf.equal(max_idx_p, max_idx_l)\n",
    "    accuracy = tf.reduce_mean(tf.cast(correct_pred, tf.float32))\n",
    "\n",
    "    saver = tf.train.Saver()\n",
    "    with tf.Session() as sess:\n",
    "            sess.run(tf.global_variables_initializer())\n",
    "\n",
    "            step = 0\n",
    "            while True:\n",
    "                batch_x, batch_y = get_next_batch(64)\n",
    "                _, loss_ = sess.run([optimizer, loss], feed_dict={X: batch_x, Y: batch_y, keep_prob: 0.75})\n",
    "                print(step, loss_)\n",
    "\n",
    "                # 每100 step计算一次准确率\n",
    "                if step % 100 == 0:\n",
    "                    batch_x_test, batch_y_test = get_next_batch(1600)\n",
    "                    acc = sess.run(accuracy, feed_dict={X: batch_x_test, Y: batch_y_test, keep_prob: 1.})\n",
    "                    print(step, acc)\n",
    "                    # 如果准确率大于50%,保存模型,完成训练\n",
    "                    if (acc > 0.9999999999) & (step > 20000):\n",
    "                        saver.save(sess, \"./crack_capcha.model\", global_step=step)\n",
    "                        break\n",
    "                step += 1"
   ]
  },
  {
   "cell_type": "code",
   "execution_count": null,
   "metadata": {
    "collapsed": true
   },
   "outputs": [],
   "source": [
    "1+1"
   ]
  },
  {
   "cell_type": "code",
   "execution_count": null,
   "metadata": {},
   "outputs": [
    {
     "ename": "KeyboardInterrupt",
     "evalue": "",
     "output_type": "error",
     "traceback": [
      "\u001b[1;31m---------------------------------------------------------------------------\u001b[0m",
      "\u001b[1;31mKeyboardInterrupt\u001b[0m                         Traceback (most recent call last)",
      "\u001b[1;32m<ipython-input-21-e0c79131e5ef>\u001b[0m in \u001b[0;36m<module>\u001b[1;34m()\u001b[0m\n\u001b[0;32m      1\u001b[0m \u001b[1;31m## 训练(如果要训练则去掉下面一行的注释)\u001b[0m\u001b[1;33m\u001b[0m\u001b[1;33m\u001b[0m\u001b[0m\n\u001b[1;32m----> 2\u001b[1;33m \u001b[0mtrain_crack_captcha_cnn\u001b[0m\u001b[1;33m(\u001b[0m\u001b[1;33m)\u001b[0m\u001b[1;33m\u001b[0m\u001b[0m\n\u001b[0m",
      "\u001b[1;32m<ipython-input-20-f4fe621ef147>\u001b[0m in \u001b[0;36mtrain_crack_captcha_cnn\u001b[1;34m()\u001b[0m\n\u001b[0;32m     78\u001b[0m             \u001b[0mstep\u001b[0m \u001b[1;33m=\u001b[0m \u001b[1;36m0\u001b[0m\u001b[1;33m\u001b[0m\u001b[0m\n\u001b[0;32m     79\u001b[0m             \u001b[1;32mwhile\u001b[0m \u001b[1;32mTrue\u001b[0m\u001b[1;33m:\u001b[0m\u001b[1;33m\u001b[0m\u001b[0m\n\u001b[1;32m---> 80\u001b[1;33m                 \u001b[0mbatch_x\u001b[0m\u001b[1;33m,\u001b[0m \u001b[0mbatch_y\u001b[0m \u001b[1;33m=\u001b[0m \u001b[0mget_next_batch\u001b[0m\u001b[1;33m(\u001b[0m\u001b[1;36m64\u001b[0m\u001b[1;33m)\u001b[0m\u001b[1;33m\u001b[0m\u001b[0m\n\u001b[0m\u001b[0;32m     81\u001b[0m                 \u001b[0m_\u001b[0m\u001b[1;33m,\u001b[0m \u001b[0mloss_\u001b[0m \u001b[1;33m=\u001b[0m \u001b[0msess\u001b[0m\u001b[1;33m.\u001b[0m\u001b[0mrun\u001b[0m\u001b[1;33m(\u001b[0m\u001b[1;33m[\u001b[0m\u001b[0moptimizer\u001b[0m\u001b[1;33m,\u001b[0m \u001b[0mloss\u001b[0m\u001b[1;33m]\u001b[0m\u001b[1;33m,\u001b[0m \u001b[0mfeed_dict\u001b[0m\u001b[1;33m=\u001b[0m\u001b[1;33m{\u001b[0m\u001b[0mX\u001b[0m\u001b[1;33m:\u001b[0m \u001b[0mbatch_x\u001b[0m\u001b[1;33m,\u001b[0m \u001b[0mY\u001b[0m\u001b[1;33m:\u001b[0m \u001b[0mbatch_y\u001b[0m\u001b[1;33m,\u001b[0m \u001b[0mkeep_prob\u001b[0m\u001b[1;33m:\u001b[0m \u001b[1;36m0.75\u001b[0m\u001b[1;33m}\u001b[0m\u001b[1;33m)\u001b[0m\u001b[1;33m\u001b[0m\u001b[0m\n\u001b[0;32m     82\u001b[0m                 \u001b[0mprint\u001b[0m\u001b[1;33m(\u001b[0m\u001b[0mstep\u001b[0m\u001b[1;33m,\u001b[0m \u001b[0mloss_\u001b[0m\u001b[1;33m)\u001b[0m\u001b[1;33m\u001b[0m\u001b[0m\n",
      "\u001b[1;32m<ipython-input-18-925300cd1f58>\u001b[0m in \u001b[0;36mget_next_batch\u001b[1;34m(batch_size)\u001b[0m\n\u001b[0;32m     90\u001b[0m     \u001b[1;32mfor\u001b[0m \u001b[0mi\u001b[0m \u001b[1;32min\u001b[0m \u001b[0mrange\u001b[0m\u001b[1;33m(\u001b[0m\u001b[0mbatch_size\u001b[0m\u001b[1;33m)\u001b[0m\u001b[1;33m:\u001b[0m\u001b[1;33m\u001b[0m\u001b[0m\n\u001b[0;32m     91\u001b[0m         \u001b[0mtext\u001b[0m\u001b[1;33m,\u001b[0m \u001b[0mimage\u001b[0m \u001b[1;33m=\u001b[0m \u001b[0mwrap_gen_captcha_text_and_image\u001b[0m\u001b[1;33m(\u001b[0m\u001b[1;33m)\u001b[0m\u001b[1;33m\u001b[0m\u001b[0m\n\u001b[1;32m---> 92\u001b[1;33m         \u001b[0mimage\u001b[0m \u001b[1;33m=\u001b[0m \u001b[0mconvert2gray\u001b[0m\u001b[1;33m(\u001b[0m\u001b[0mimage\u001b[0m\u001b[1;33m)\u001b[0m\u001b[1;33m\u001b[0m\u001b[0m\n\u001b[0m\u001b[0;32m     93\u001b[0m \u001b[1;33m\u001b[0m\u001b[0m\n\u001b[0;32m     94\u001b[0m \u001b[1;33m\u001b[0m\u001b[0m\n",
      "\u001b[1;32m<ipython-input-18-925300cd1f58>\u001b[0m in \u001b[0;36mconvert2gray\u001b[1;34m(img)\u001b[0m\n\u001b[0;32m     12\u001b[0m \u001b[1;32mdef\u001b[0m \u001b[0mconvert2gray\u001b[0m\u001b[1;33m(\u001b[0m\u001b[0mimg\u001b[0m\u001b[1;33m)\u001b[0m\u001b[1;33m:\u001b[0m\u001b[1;33m\u001b[0m\u001b[0m\n\u001b[0;32m     13\u001b[0m     \u001b[1;32mif\u001b[0m \u001b[0mlen\u001b[0m\u001b[1;33m(\u001b[0m\u001b[0mimg\u001b[0m\u001b[1;33m.\u001b[0m\u001b[0mshape\u001b[0m\u001b[1;33m)\u001b[0m \u001b[1;33m>\u001b[0m \u001b[1;36m2\u001b[0m\u001b[1;33m:\u001b[0m\u001b[1;33m\u001b[0m\u001b[0m\n\u001b[1;32m---> 14\u001b[1;33m         \u001b[0mgray\u001b[0m \u001b[1;33m=\u001b[0m \u001b[0mnp\u001b[0m\u001b[1;33m.\u001b[0m\u001b[0mmean\u001b[0m\u001b[1;33m(\u001b[0m\u001b[0mimg\u001b[0m\u001b[1;33m,\u001b[0m \u001b[1;33m-\u001b[0m\u001b[1;36m1\u001b[0m\u001b[1;33m)\u001b[0m\u001b[1;33m\u001b[0m\u001b[0m\n\u001b[0m\u001b[0;32m     15\u001b[0m         \u001b[1;31m# 上面的转法较快，正规转法如下\u001b[0m\u001b[1;33m\u001b[0m\u001b[1;33m\u001b[0m\u001b[0m\n\u001b[0;32m     16\u001b[0m         \u001b[1;31m# r, g, b = img[:,:,0], img[:,:,1], img[:,:,2]\u001b[0m\u001b[1;33m\u001b[0m\u001b[1;33m\u001b[0m\u001b[0m\n",
      "\u001b[1;32mE:\\06_software\\Anoconda\\lib\\site-packages\\numpy\\core\\fromnumeric.py\u001b[0m in \u001b[0;36mmean\u001b[1;34m(a, axis, dtype, out, keepdims)\u001b[0m\n\u001b[0;32m   2918\u001b[0m \u001b[1;33m\u001b[0m\u001b[0m\n\u001b[0;32m   2919\u001b[0m     return _methods._mean(a, axis=axis, dtype=dtype,\n\u001b[1;32m-> 2920\u001b[1;33m                           out=out, **kwargs)\n\u001b[0m\u001b[0;32m   2921\u001b[0m \u001b[1;33m\u001b[0m\u001b[0m\n\u001b[0;32m   2922\u001b[0m \u001b[1;33m\u001b[0m\u001b[0m\n",
      "\u001b[1;32mE:\\06_software\\Anoconda\\lib\\site-packages\\numpy\\core\\_methods.py\u001b[0m in \u001b[0;36m_mean\u001b[1;34m(a, axis, dtype, out, keepdims)\u001b[0m\n\u001b[0;32m     73\u001b[0m             \u001b[0mis_float16_result\u001b[0m \u001b[1;33m=\u001b[0m \u001b[1;32mTrue\u001b[0m\u001b[1;33m\u001b[0m\u001b[0m\n\u001b[0;32m     74\u001b[0m \u001b[1;33m\u001b[0m\u001b[0m\n\u001b[1;32m---> 75\u001b[1;33m     \u001b[0mret\u001b[0m \u001b[1;33m=\u001b[0m \u001b[0mumr_sum\u001b[0m\u001b[1;33m(\u001b[0m\u001b[0marr\u001b[0m\u001b[1;33m,\u001b[0m \u001b[0maxis\u001b[0m\u001b[1;33m,\u001b[0m \u001b[0mdtype\u001b[0m\u001b[1;33m,\u001b[0m \u001b[0mout\u001b[0m\u001b[1;33m,\u001b[0m \u001b[0mkeepdims\u001b[0m\u001b[1;33m)\u001b[0m\u001b[1;33m\u001b[0m\u001b[0m\n\u001b[0m\u001b[0;32m     76\u001b[0m     \u001b[1;32mif\u001b[0m \u001b[0misinstance\u001b[0m\u001b[1;33m(\u001b[0m\u001b[0mret\u001b[0m\u001b[1;33m,\u001b[0m \u001b[0mmu\u001b[0m\u001b[1;33m.\u001b[0m\u001b[0mndarray\u001b[0m\u001b[1;33m)\u001b[0m\u001b[1;33m:\u001b[0m\u001b[1;33m\u001b[0m\u001b[0m\n\u001b[0;32m     77\u001b[0m         ret = um.true_divide(\n",
      "\u001b[1;31mKeyboardInterrupt\u001b[0m: "
     ]
    }
   ],
   "source": [
    "## 训练(如果要训练则去掉下面一行的注释)\n",
    "train_crack_captcha_cnn()"
   ]
  },
  {
   "cell_type": "code",
   "execution_count": null,
   "metadata": {
    "collapsed": true
   },
   "outputs": [],
   "source": [
    "\n",
    "\n",
    "## 训练(如果要训练则去掉下面一行的注释)\n",
    "train_crack_captcha_cnn()\n",
    "\n",
    "\n",
    "\n",
    "def crack_captcha():\n",
    "    output = crack_captcha_cnn()\n",
    "\n",
    "    saver = tf.train.Saver()\n",
    "    with tf.Session() as sess:\n",
    "        saver.restore(sess, tf.train.latest_checkpoint('.'))\n",
    "\n",
    "        predict = tf.argmax(tf.reshape(output, [-1, MAX_CAPTCHA, CHAR_SET_LEN]), 2)\n",
    "        count = 0\n",
    "\n",
    "\n",
    "        # print(\"正确率:\" + str(count) + \"/1324\")\n",
    "        for i in range(get_test_sets_length()):\n",
    "            text, image = get_test_captcha_text_and_image(i)\n",
    "            image = convert2gray(image)\n",
    "            captcha_image = image.flatten() / 255\n",
    "            text_list = sess.run(predict, feed_dict={X: [captcha_image], keep_prob: 1})\n",
    "            predict_text = text_list[0].tolist()\n",
    "            # predict_text = str(predict_text)\n",
    "            # predict_text = predict_text.replace(\"[\", \"\").replace(\"]\", \"\").replace(\",\", \"\").replace(\" \",\"\")\n",
    "            tmp = ''\n",
    "            for char_idx in predict_text:\n",
    "                if char_idx < 10:\n",
    "                    char_code = char_idx + ord('0')\n",
    "                elif char_idx < 36:\n",
    "                    char_code = char_idx - 10 + ord('a')\n",
    "                tmp = tmp + chr(char_code)\n",
    "            predict_text = tmp\n",
    "\n",
    "            if text == predict_text:\n",
    "                count += 1\n",
    "                check_result = \",预测结果正确\"\n",
    "            else:\n",
    "                check_result = \",预测结果不正确\"\n",
    "            print(str(i) + ':' + predict_text + check_result)\n",
    "\n",
    "        print(\"正确率:\" + str(count) + \"/\" + str(get_test_sets_length()))"
   ]
  },
  {
   "cell_type": "code",
   "execution_count": null,
   "metadata": {
    "collapsed": true
   },
   "outputs": [],
   "source": []
  }
 ],
 "metadata": {
  "kernelspec": {
   "display_name": "Python 3",
   "language": "python",
   "name": "python3"
  },
  "language_info": {
   "codemirror_mode": {
    "name": "ipython",
    "version": 3
   },
   "file_extension": ".py",
   "mimetype": "text/x-python",
   "name": "python",
   "nbconvert_exporter": "python",
   "pygments_lexer": "ipython3",
   "version": "3.6.3"
  },
  "toc": {
   "nav_menu": {},
   "number_sections": true,
   "sideBar": true,
   "skip_h1_title": false,
   "title_cell": "Table of Contents",
   "title_sidebar": "Contents",
   "toc_cell": false,
   "toc_position": {},
   "toc_section_display": true,
   "toc_window_display": false
  },
  "varInspector": {
   "cols": {
    "lenName": 16,
    "lenType": 16,
    "lenVar": 40
   },
   "kernels_config": {
    "python": {
     "delete_cmd_postfix": "",
     "delete_cmd_prefix": "del ",
     "library": "var_list.py",
     "varRefreshCmd": "print(var_dic_list())"
    },
    "r": {
     "delete_cmd_postfix": ") ",
     "delete_cmd_prefix": "rm(",
     "library": "var_list.r",
     "varRefreshCmd": "cat(var_dic_list()) "
    }
   },
   "types_to_exclude": [
    "module",
    "function",
    "builtin_function_or_method",
    "instance",
    "_Feature"
   ],
   "window_display": false
  }
 },
 "nbformat": 4,
 "nbformat_minor": 2
}
