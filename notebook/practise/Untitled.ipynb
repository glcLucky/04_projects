{
 "cells": [
  {
   "cell_type": "code",
   "execution_count": 1,
   "metadata": {
    "collapsed": true
   },
   "outputs": [],
   "source": [
    "import pandas as pd"
   ]
  },
  {
   "cell_type": "code",
   "execution_count": 43,
   "metadata": {
    "collapsed": true
   },
   "outputs": [],
   "source": [
    "a = pd.read_csv(r\"C:\\Users\\youlin\\Desktop\\temp.csv\", index_col=0)"
   ]
  },
  {
   "cell_type": "code",
   "execution_count": 88,
   "metadata": {},
   "outputs": [],
   "source": [
    "b1 = a.iloc[:, :6].rank(axis=1, ascending=False)\n",
    "b2 = a.iloc[:, 6:].rank(axis=1, ascending=True)"
   ]
  },
  {
   "cell_type": "code",
   "execution_count": 77,
   "metadata": {},
   "outputs": [],
   "source": [
    "b = b1.merge(b2, left_index=True, right_index=True)"
   ]
  },
  {
   "cell_type": "code",
   "execution_count": 87,
   "metadata": {},
   "outputs": [
    {
     "data": {
      "text/plain": [
       "rev_5     12.0\n",
       "rev_6     19.0\n",
       "rev_7     21.0\n",
       "rev_8     26.5\n",
       "rev_9     33.5\n",
       "rev_10    35.0\n",
       "dtype: float64"
      ]
     },
     "execution_count": 87,
     "metadata": {},
     "output_type": "execute_result"
    }
   ],
   "source": [
    "b1.sum()"
   ]
  },
  {
   "cell_type": "code",
   "execution_count": 92,
   "metadata": {},
   "outputs": [
    {
     "data": {
      "text/plain": [
       "back_5     28.0\n",
       "back_6     29.0\n",
       "back_7     28.0\n",
       "back_8     22.0\n",
       "back_9     15.0\n",
       "back_10    25.0\n",
       "dtype: float64"
      ]
     },
     "execution_count": 92,
     "metadata": {},
     "output_type": "execute_result"
    }
   ],
   "source": [
    "b2.sum()"
   ]
  },
  {
   "cell_type": "code",
   "execution_count": 74,
   "metadata": {},
   "outputs": [
    {
     "data": {
      "text/html": [
       "<div>\n",
       "<style>\n",
       "    .dataframe thead tr:only-child th {\n",
       "        text-align: right;\n",
       "    }\n",
       "\n",
       "    .dataframe thead th {\n",
       "        text-align: left;\n",
       "    }\n",
       "\n",
       "    .dataframe tbody tr th {\n",
       "        vertical-align: top;\n",
       "    }\n",
       "</style>\n",
       "<table border=\"1\" class=\"dataframe\">\n",
       "  <thead>\n",
       "    <tr style=\"text-align: right;\">\n",
       "      <th></th>\n",
       "      <th>rev_5</th>\n",
       "      <th>rev_6</th>\n",
       "      <th>rev_7</th>\n",
       "      <th>rev_8</th>\n",
       "      <th>rev_9</th>\n",
       "      <th>rev_10</th>\n",
       "      <th>back_5</th>\n",
       "      <th>back_6</th>\n",
       "      <th>back_7</th>\n",
       "      <th>back_8</th>\n",
       "      <th>back_9</th>\n",
       "      <th>back_10</th>\n",
       "    </tr>\n",
       "  </thead>\n",
       "  <tbody>\n",
       "    <tr>\n",
       "      <th>2011</th>\n",
       "      <td>0.2021</td>\n",
       "      <td>0.2234</td>\n",
       "      <td>0.1923</td>\n",
       "      <td>0.2122</td>\n",
       "      <td>0.2122</td>\n",
       "      <td>0.2932</td>\n",
       "      <td>0.2157</td>\n",
       "      <td>0.2034</td>\n",
       "      <td>0.1923</td>\n",
       "      <td>0.1234</td>\n",
       "      <td>0.1721</td>\n",
       "      <td>0.2221</td>\n",
       "    </tr>\n",
       "    <tr>\n",
       "      <th>2012</th>\n",
       "      <td>0.4965</td>\n",
       "      <td>0.3754</td>\n",
       "      <td>0.4823</td>\n",
       "      <td>0.4034</td>\n",
       "      <td>0.3958</td>\n",
       "      <td>0.3723</td>\n",
       "      <td>0.0540</td>\n",
       "      <td>0.0723</td>\n",
       "      <td>0.0912</td>\n",
       "      <td>0.0689</td>\n",
       "      <td>0.0792</td>\n",
       "      <td>0.1121</td>\n",
       "    </tr>\n",
       "    <tr>\n",
       "      <th>2013</th>\n",
       "      <td>0.3220</td>\n",
       "      <td>0.2943</td>\n",
       "      <td>0.3012</td>\n",
       "      <td>0.2734</td>\n",
       "      <td>0.2712</td>\n",
       "      <td>0.2214</td>\n",
       "      <td>0.2751</td>\n",
       "      <td>0.2212</td>\n",
       "      <td>0.2421</td>\n",
       "      <td>0.1234</td>\n",
       "      <td>0.2119</td>\n",
       "      <td>0.2940</td>\n",
       "    </tr>\n",
       "    <tr>\n",
       "      <th>2014</th>\n",
       "      <td>0.4145</td>\n",
       "      <td>0.3923</td>\n",
       "      <td>0.4012</td>\n",
       "      <td>0.3823</td>\n",
       "      <td>0.2921</td>\n",
       "      <td>0.2745</td>\n",
       "      <td>0.1567</td>\n",
       "      <td>0.1123</td>\n",
       "      <td>0.1423</td>\n",
       "      <td>0.1019</td>\n",
       "      <td>0.0895</td>\n",
       "      <td>0.0763</td>\n",
       "    </tr>\n",
       "    <tr>\n",
       "      <th>2015</th>\n",
       "      <td>1.2935</td>\n",
       "      <td>1.0223</td>\n",
       "      <td>0.9034</td>\n",
       "      <td>0.7212</td>\n",
       "      <td>0.6734</td>\n",
       "      <td>0.5123</td>\n",
       "      <td>0.2866</td>\n",
       "      <td>0.2712</td>\n",
       "      <td>0.2534</td>\n",
       "      <td>0.2612</td>\n",
       "      <td>0.1923</td>\n",
       "      <td>0.2376</td>\n",
       "    </tr>\n",
       "    <tr>\n",
       "      <th>2016</th>\n",
       "      <td>0.1848</td>\n",
       "      <td>0.2225</td>\n",
       "      <td>0.1023</td>\n",
       "      <td>0.1234</td>\n",
       "      <td>0.0912</td>\n",
       "      <td>0.0875</td>\n",
       "      <td>0.1920</td>\n",
       "      <td>0.2119</td>\n",
       "      <td>0.1823</td>\n",
       "      <td>0.2019</td>\n",
       "      <td>0.1432</td>\n",
       "      <td>0.1732</td>\n",
       "    </tr>\n",
       "    <tr>\n",
       "      <th>2017</th>\n",
       "      <td>-0.0199</td>\n",
       "      <td>-0.0430</td>\n",
       "      <td>-0.0234</td>\n",
       "      <td>-0.1025</td>\n",
       "      <td>-0.1220</td>\n",
       "      <td>-0.0923</td>\n",
       "      <td>0.0698</td>\n",
       "      <td>0.1123</td>\n",
       "      <td>0.1323</td>\n",
       "      <td>0.1434</td>\n",
       "      <td>0.0935</td>\n",
       "      <td>0.0823</td>\n",
       "    </tr>\n",
       "  </tbody>\n",
       "</table>\n",
       "</div>"
      ],
      "text/plain": [
       "       rev_5   rev_6   rev_7   rev_8   rev_9  rev_10  back_5  back_6  back_7  \\\n",
       "2011  0.2021  0.2234  0.1923  0.2122  0.2122  0.2932  0.2157  0.2034  0.1923   \n",
       "2012  0.4965  0.3754  0.4823  0.4034  0.3958  0.3723  0.0540  0.0723  0.0912   \n",
       "2013  0.3220  0.2943  0.3012  0.2734  0.2712  0.2214  0.2751  0.2212  0.2421   \n",
       "2014  0.4145  0.3923  0.4012  0.3823  0.2921  0.2745  0.1567  0.1123  0.1423   \n",
       "2015  1.2935  1.0223  0.9034  0.7212  0.6734  0.5123  0.2866  0.2712  0.2534   \n",
       "2016  0.1848  0.2225  0.1023  0.1234  0.0912  0.0875  0.1920  0.2119  0.1823   \n",
       "2017 -0.0199 -0.0430 -0.0234 -0.1025 -0.1220 -0.0923  0.0698  0.1123  0.1323   \n",
       "\n",
       "      back_8  back_9  back_10  \n",
       "2011  0.1234  0.1721   0.2221  \n",
       "2012  0.0689  0.0792   0.1121  \n",
       "2013  0.1234  0.2119   0.2940  \n",
       "2014  0.1019  0.0895   0.0763  \n",
       "2015  0.2612  0.1923   0.2376  \n",
       "2016  0.2019  0.1432   0.1732  \n",
       "2017  0.1434  0.0935   0.0823  "
      ]
     },
     "execution_count": 74,
     "metadata": {},
     "output_type": "execute_result"
    }
   ],
   "source": [
    "a"
   ]
  },
  {
   "cell_type": "code",
   "execution_count": 78,
   "metadata": {},
   "outputs": [
    {
     "data": {
      "text/html": [
       "<div>\n",
       "<style>\n",
       "    .dataframe thead tr:only-child th {\n",
       "        text-align: right;\n",
       "    }\n",
       "\n",
       "    .dataframe thead th {\n",
       "        text-align: left;\n",
       "    }\n",
       "\n",
       "    .dataframe tbody tr th {\n",
       "        vertical-align: top;\n",
       "    }\n",
       "</style>\n",
       "<table border=\"1\" class=\"dataframe\">\n",
       "  <thead>\n",
       "    <tr style=\"text-align: right;\">\n",
       "      <th></th>\n",
       "      <th>2011_x</th>\n",
       "      <th>2012_x</th>\n",
       "      <th>2013_x</th>\n",
       "      <th>2014_x</th>\n",
       "      <th>2015_x</th>\n",
       "      <th>2016_x</th>\n",
       "      <th>2017_x</th>\n",
       "      <th>2011_y</th>\n",
       "      <th>2012_y</th>\n",
       "      <th>2013_y</th>\n",
       "      <th>2014_y</th>\n",
       "      <th>2015_y</th>\n",
       "      <th>2016_y</th>\n",
       "      <th>2017_y</th>\n",
       "    </tr>\n",
       "  </thead>\n",
       "  <tbody>\n",
       "  </tbody>\n",
       "</table>\n",
       "</div>"
      ],
      "text/plain": [
       "Empty DataFrame\n",
       "Columns: [2011_x, 2012_x, 2013_x, 2014_x, 2015_x, 2016_x, 2017_x, 2011_y, 2012_y, 2013_y, 2014_y, 2015_y, 2016_y, 2017_y]\n",
       "Index: []"
      ]
     },
     "execution_count": 78,
     "metadata": {},
     "output_type": "execute_result"
    }
   ],
   "source": [
    "b"
   ]
  },
  {
   "cell_type": "code",
   "execution_count": 15,
   "metadata": {},
   "outputs": [],
   "source": [
    "b['rev_rank'] = b.iloc[:, :6].sum(axis=1)"
   ]
  },
  {
   "cell_type": "code",
   "execution_count": 16,
   "metadata": {},
   "outputs": [
    {
     "data": {
      "text/html": [
       "<div>\n",
       "<style>\n",
       "    .dataframe thead tr:only-child th {\n",
       "        text-align: right;\n",
       "    }\n",
       "\n",
       "    .dataframe thead th {\n",
       "        text-align: left;\n",
       "    }\n",
       "\n",
       "    .dataframe tbody tr th {\n",
       "        vertical-align: top;\n",
       "    }\n",
       "</style>\n",
       "<table border=\"1\" class=\"dataframe\">\n",
       "  <thead>\n",
       "    <tr style=\"text-align: right;\">\n",
       "      <th></th>\n",
       "      <th>rev_5</th>\n",
       "      <th>rev_6</th>\n",
       "      <th>rev_7</th>\n",
       "      <th>rev_8</th>\n",
       "      <th>rev_9</th>\n",
       "      <th>rev_10</th>\n",
       "      <th>back_5</th>\n",
       "      <th>back_6</th>\n",
       "      <th>back_7</th>\n",
       "      <th>back_8</th>\n",
       "      <th>back_9</th>\n",
       "      <th>back_10</th>\n",
       "      <th>rev_rank</th>\n",
       "    </tr>\n",
       "  </thead>\n",
       "  <tbody>\n",
       "    <tr>\n",
       "      <th>2011</th>\n",
       "      <td>4.0</td>\n",
       "      <td>4.0</td>\n",
       "      <td>3.0</td>\n",
       "      <td>3.0</td>\n",
       "      <td>2.0</td>\n",
       "      <td>4.0</td>\n",
       "      <td>3.0</td>\n",
       "      <td>3.0</td>\n",
       "      <td>4.0</td>\n",
       "      <td>2.5</td>\n",
       "      <td>2.0</td>\n",
       "      <td>3.0</td>\n",
       "      <td>20.0</td>\n",
       "    </tr>\n",
       "    <tr>\n",
       "      <th>2012</th>\n",
       "      <td>7.0</td>\n",
       "      <td>6.0</td>\n",
       "      <td>6.0</td>\n",
       "      <td>6.0</td>\n",
       "      <td>5.0</td>\n",
       "      <td>5.0</td>\n",
       "      <td>6.0</td>\n",
       "      <td>7.0</td>\n",
       "      <td>7.0</td>\n",
       "      <td>7.0</td>\n",
       "      <td>5.0</td>\n",
       "      <td>1.0</td>\n",
       "      <td>35.0</td>\n",
       "    </tr>\n",
       "    <tr>\n",
       "      <th>2013</th>\n",
       "      <td>5.0</td>\n",
       "      <td>5.0</td>\n",
       "      <td>4.0</td>\n",
       "      <td>4.0</td>\n",
       "      <td>3.0</td>\n",
       "      <td>2.0</td>\n",
       "      <td>4.0</td>\n",
       "      <td>5.0</td>\n",
       "      <td>5.0</td>\n",
       "      <td>2.5</td>\n",
       "      <td>4.0</td>\n",
       "      <td>5.0</td>\n",
       "      <td>23.0</td>\n",
       "    </tr>\n",
       "    <tr>\n",
       "      <th>2014</th>\n",
       "      <td>6.0</td>\n",
       "      <td>7.0</td>\n",
       "      <td>5.0</td>\n",
       "      <td>5.0</td>\n",
       "      <td>4.0</td>\n",
       "      <td>3.0</td>\n",
       "      <td>1.0</td>\n",
       "      <td>1.5</td>\n",
       "      <td>2.0</td>\n",
       "      <td>1.0</td>\n",
       "      <td>6.0</td>\n",
       "      <td>6.0</td>\n",
       "      <td>30.0</td>\n",
       "    </tr>\n",
       "    <tr>\n",
       "      <th>2015</th>\n",
       "      <td>2.0</td>\n",
       "      <td>2.0</td>\n",
       "      <td>7.0</td>\n",
       "      <td>7.0</td>\n",
       "      <td>6.0</td>\n",
       "      <td>6.0</td>\n",
       "      <td>5.0</td>\n",
       "      <td>6.0</td>\n",
       "      <td>6.0</td>\n",
       "      <td>6.0</td>\n",
       "      <td>3.0</td>\n",
       "      <td>4.0</td>\n",
       "      <td>30.0</td>\n",
       "    </tr>\n",
       "    <tr>\n",
       "      <th>2016</th>\n",
       "      <td>3.0</td>\n",
       "      <td>3.0</td>\n",
       "      <td>2.0</td>\n",
       "      <td>2.0</td>\n",
       "      <td>7.0</td>\n",
       "      <td>7.0</td>\n",
       "      <td>2.0</td>\n",
       "      <td>4.0</td>\n",
       "      <td>3.0</td>\n",
       "      <td>5.0</td>\n",
       "      <td>1.0</td>\n",
       "      <td>2.0</td>\n",
       "      <td>24.0</td>\n",
       "    </tr>\n",
       "    <tr>\n",
       "      <th>2017</th>\n",
       "      <td>1.0</td>\n",
       "      <td>1.0</td>\n",
       "      <td>1.0</td>\n",
       "      <td>1.0</td>\n",
       "      <td>1.0</td>\n",
       "      <td>1.0</td>\n",
       "      <td>7.0</td>\n",
       "      <td>1.5</td>\n",
       "      <td>1.0</td>\n",
       "      <td>4.0</td>\n",
       "      <td>7.0</td>\n",
       "      <td>7.0</td>\n",
       "      <td>6.0</td>\n",
       "    </tr>\n",
       "  </tbody>\n",
       "</table>\n",
       "</div>"
      ],
      "text/plain": [
       "      rev_5  rev_6  rev_7  rev_8  rev_9  rev_10  back_5  back_6  back_7  \\\n",
       "2011    4.0    4.0    3.0    3.0    2.0     4.0     3.0     3.0     4.0   \n",
       "2012    7.0    6.0    6.0    6.0    5.0     5.0     6.0     7.0     7.0   \n",
       "2013    5.0    5.0    4.0    4.0    3.0     2.0     4.0     5.0     5.0   \n",
       "2014    6.0    7.0    5.0    5.0    4.0     3.0     1.0     1.5     2.0   \n",
       "2015    2.0    2.0    7.0    7.0    6.0     6.0     5.0     6.0     6.0   \n",
       "2016    3.0    3.0    2.0    2.0    7.0     7.0     2.0     4.0     3.0   \n",
       "2017    1.0    1.0    1.0    1.0    1.0     1.0     7.0     1.5     1.0   \n",
       "\n",
       "      back_8  back_9  back_10  rev_rank  \n",
       "2011     2.5     2.0      3.0      20.0  \n",
       "2012     7.0     5.0      1.0      35.0  \n",
       "2013     2.5     4.0      5.0      23.0  \n",
       "2014     1.0     6.0      6.0      30.0  \n",
       "2015     6.0     3.0      4.0      30.0  \n",
       "2016     5.0     1.0      2.0      24.0  \n",
       "2017     4.0     7.0      7.0       6.0  "
      ]
     },
     "execution_count": 16,
     "metadata": {},
     "output_type": "execute_result"
    }
   ],
   "source": [
    "b"
   ]
  },
  {
   "cell_type": "code",
   "execution_count": null,
   "metadata": {
    "collapsed": true
   },
   "outputs": [],
   "source": []
  }
 ],
 "metadata": {
  "kernelspec": {
   "display_name": "Python 3",
   "language": "python",
   "name": "python3"
  },
  "language_info": {
   "codemirror_mode": {
    "name": "ipython",
    "version": 3
   },
   "file_extension": ".py",
   "mimetype": "text/x-python",
   "name": "python",
   "nbconvert_exporter": "python",
   "pygments_lexer": "ipython3",
   "version": "3.6.3"
  },
  "toc": {
   "nav_menu": {},
   "number_sections": true,
   "sideBar": true,
   "skip_h1_title": false,
   "title_cell": "Table of Contents",
   "title_sidebar": "Contents",
   "toc_cell": false,
   "toc_position": {},
   "toc_section_display": true,
   "toc_window_display": false
  },
  "varInspector": {
   "cols": {
    "lenName": 16,
    "lenType": 16,
    "lenVar": 40
   },
   "kernels_config": {
    "python": {
     "delete_cmd_postfix": "",
     "delete_cmd_prefix": "del ",
     "library": "var_list.py",
     "varRefreshCmd": "print(var_dic_list())"
    },
    "r": {
     "delete_cmd_postfix": ") ",
     "delete_cmd_prefix": "rm(",
     "library": "var_list.r",
     "varRefreshCmd": "cat(var_dic_list()) "
    }
   },
   "types_to_exclude": [
    "module",
    "function",
    "builtin_function_or_method",
    "instance",
    "_Feature"
   ],
   "window_display": false
  }
 },
 "nbformat": 4,
 "nbformat_minor": 2
}
