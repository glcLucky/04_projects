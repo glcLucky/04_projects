{
 "cells": [
  {
   "cell_type": "code",
   "execution_count": 1,
   "metadata": {},
   "outputs": [
    {
     "name": "stdout",
     "output_type": "stream",
     "text": [
      "Populating the interactive namespace from numpy and matplotlib\n"
     ]
    }
   ],
   "source": [
    "%pylab inline\n",
    "%load_ext autoreload\n",
    "%autoreload 2\n",
    "\n",
    "import os   \n",
    "import numpy as np\n",
    "import pandas as pd\n",
    "\n",
    "import devkit.api as dk\n",
    "from finkit import api as fk\n",
    "import DataAPI \n",
    "import WindAPI"
   ]
  },
  {
   "cell_type": "markdown",
   "metadata": {},
   "source": [
    "# 建立calendar\n",
    "- 原始数据：给定的自然日csv文件 （['date', 'week'(星期一 星期二 ...)]  交易日csv文件 ['trading_dat']\n",
    "- 生成 is_trading_day is_weekly_last_trading_day is_monthly_last_trading_day is_report_day"
   ]
  },
  {
   "cell_type": "markdown",
   "metadata": {},
   "source": [
    "## 初始化"
   ]
  },
  {
   "cell_type": "code",
   "execution_count": null,
   "metadata": {
    "collapsed": true
   },
   "outputs": [],
   "source": [
    "calendar_days = pd.read_csv(r\"E:\\99_daily\\TODAY\\calendar.csv\") \n",
    "calendar_days['date'] = calendar_days['date'].apply(lambda x: dk.date2char(dk.char2datetime(x, \"%Y/%m/%d\"), \"%Y-%m-%d\"))\n",
    "calendar_days = calendar_days.set_index(['date'])\n",
    "i = 1\n",
    "j = 0\n",
    "for date in calendar_days.index:\n",
    "    if calendar_days.loc[date, 'week'] == '星期一':\n",
    "        i = i+1\n",
    "    if date[-2:] == '01':\n",
    "        j = j+1\n",
    "    if date[5:] in ['03-31', '06-30', '09-30', '12-31']:\n",
    "        calendar_days.loc[date, 'is_report_day'] = 1\n",
    "    else:\n",
    "        calendar_days.loc[date, 'is_report_day'] = 0\n",
    "    calendar_days.loc[date, 'week_id'] = i\n",
    "    calendar_days.loc[date, 'month_id'] = j"
   ]
  },
  {
   "cell_type": "markdown",
   "metadata": {},
   "source": [
    "## is_trading_day"
   ]
  },
  {
   "cell_type": "code",
   "execution_count": null,
   "metadata": {
    "collapsed": true
   },
   "outputs": [],
   "source": [
    "trading_days = pd.read_csv(r\"E:\\99_daily\\TODAY\\trading_day.csv\")\n",
    "trading_days['is_trading_day'] = 1\n",
    "trading_days = trading_days.set_index(['trading_day'])\n",
    "calendar_days = calendar_days.merge(trading_days, how='outer', left_index=True, right_index=True).replace({NaN: 0})"
   ]
  },
  {
   "cell_type": "code",
   "execution_count": null,
   "metadata": {
    "collapsed": true
   },
   "outputs": [],
   "source": [
    "trading_days =  calendar_days[calendar_days.is_trading_day == 1].reset_index().rename(columns={'index': 'date'})"
   ]
  },
  {
   "cell_type": "markdown",
   "metadata": {},
   "source": [
    "## is_weekly_last_trading_day"
   ]
  },
  {
   "cell_type": "code",
   "execution_count": null,
   "metadata": {
    "collapsed": true
   },
   "outputs": [],
   "source": [
    "weekly_last_trading_day = trading_days.groupby(['week_id'], as_index=False).apply(lambda x: x.tail(1)).set_index('date')\n",
    "weekly_last_trading_day['is_weekly_last_trading_day'] = 1\n",
    "weekly_last_trading_day = weekly_last_trading_day[['is_weekly_last_trading_day']].copy()\n",
    "calendar_days = calendar_days.merge(weekly_last_trading_day, how='outer', left_index=True, right_index=True).replace({NaN: 0})"
   ]
  },
  {
   "cell_type": "markdown",
   "metadata": {},
   "source": [
    "## is_monthly_last_trading_day"
   ]
  },
  {
   "cell_type": "code",
   "execution_count": null,
   "metadata": {
    "collapsed": true
   },
   "outputs": [],
   "source": [
    "monthly_last_trading_day = trading_days.groupby(['month_id'], as_index=False).apply(lambda x: x.tail(1)).set_index('date')\n",
    "monthly_last_trading_day['is_monthly_last_trading_day'] = 1\n",
    "monthly_last_trading_day = monthly_last_trading_day[['is_monthly_last_trading_day']].copy()\n",
    "calendar_days = calendar_days.merge(monthly_last_trading_day, how='outer', left_index=True, right_index=True).replace({NaN: 0})"
   ]
  },
  {
   "cell_type": "markdown",
   "metadata": {},
   "source": [
    "## 完结"
   ]
  },
  {
   "cell_type": "code",
   "execution_count": null,
   "metadata": {
    "collapsed": true
   },
   "outputs": [],
   "source": [
    "del calendar_days['week']\n",
    "del calendar_days['week_id']\n",
    "del calendar_days['month_id']\n",
    "calendar_days =  calendar_days.reset_index().rename(columns={'index': 'date'})\n",
    "calendar_days\n",
    "calendar_days.to_csv(r\"E:\\99_daily\\TODAY\\calendar_days_final.csv\")\n",
    "sql = dk.SqliteProxy()\n",
    "sql.connect(r\"E:\\04_projects\\finkit\\static files\\calendar.db\")\n",
    "sql.write_from_dataframe(new, \"calendar\")"
   ]
  },
  {
   "cell_type": "markdown",
   "metadata": {},
   "source": [
    "# 删除按年分的sqlite表的某个因子"
   ]
  },
  {
   "cell_type": "code",
   "execution_count": 16,
   "metadata": {},
   "outputs": [
    {
     "name": "stdout",
     "output_type": "stream",
     "text": [
      "\u001b[32m[INFO] 2018-07-22 12:29:10 E:\\02_work\\sw\\db\\indicator\\2018.db is disconnected.\u001b[0m\n",
      "\u001b[32m[INFO] 2018-07-22 12:29:10 E:\\02_work\\sw\\db\\indicator\\2005.db is connected.\u001b[0m\n",
      "DROP TABLE [AVG_TURN_ND];\n",
      "\u001b[31m[WARN] 2018-07-22 12:29:10 TABLE AVG_TURN_ND is deleted from E:\\02_work\\sw\\db\\indicator\\2005.db.\u001b[0m\n",
      "\u001b[32m[INFO] 2018-07-22 12:29:10 E:\\02_work\\sw\\db\\indicator\\2005.db is disconnected.\u001b[0m\n",
      "\u001b[32m[INFO] 2018-07-22 12:29:10 E:\\02_work\\sw\\db\\indicator\\2006.db is connected.\u001b[0m\n",
      "DROP TABLE [AVG_TURN_ND];\n",
      "\u001b[31m[WARN] 2018-07-22 12:29:10 TABLE AVG_TURN_ND is deleted from E:\\02_work\\sw\\db\\indicator\\2006.db.\u001b[0m\n",
      "\u001b[32m[INFO] 2018-07-22 12:29:10 E:\\02_work\\sw\\db\\indicator\\2006.db is disconnected.\u001b[0m\n",
      "\u001b[32m[INFO] 2018-07-22 12:29:10 E:\\02_work\\sw\\db\\indicator\\2007.db is connected.\u001b[0m\n",
      "DROP TABLE [AVG_TURN_ND];\n",
      "\u001b[31m[WARN] 2018-07-22 12:29:11 TABLE AVG_TURN_ND is deleted from E:\\02_work\\sw\\db\\indicator\\2007.db.\u001b[0m\n",
      "\u001b[32m[INFO] 2018-07-22 12:29:11 E:\\02_work\\sw\\db\\indicator\\2007.db is disconnected.\u001b[0m\n",
      "\u001b[32m[INFO] 2018-07-22 12:29:11 E:\\02_work\\sw\\db\\indicator\\2008.db is connected.\u001b[0m\n",
      "DROP TABLE [AVG_TURN_ND];\n",
      "\u001b[31m[WARN] 2018-07-22 12:29:11 TABLE AVG_TURN_ND is deleted from E:\\02_work\\sw\\db\\indicator\\2008.db.\u001b[0m\n",
      "\u001b[32m[INFO] 2018-07-22 12:29:11 E:\\02_work\\sw\\db\\indicator\\2008.db is disconnected.\u001b[0m\n",
      "\u001b[32m[INFO] 2018-07-22 12:29:11 E:\\02_work\\sw\\db\\indicator\\2009.db is connected.\u001b[0m\n",
      "DROP TABLE [AVG_TURN_ND];\n",
      "\u001b[31m[WARN] 2018-07-22 12:29:11 TABLE AVG_TURN_ND is deleted from E:\\02_work\\sw\\db\\indicator\\2009.db.\u001b[0m\n",
      "\u001b[32m[INFO] 2018-07-22 12:29:11 E:\\02_work\\sw\\db\\indicator\\2009.db is disconnected.\u001b[0m\n",
      "\u001b[32m[INFO] 2018-07-22 12:29:11 E:\\02_work\\sw\\db\\indicator\\2010.db is connected.\u001b[0m\n",
      "DROP TABLE [AVG_TURN_ND];\n",
      "\u001b[31m[WARN] 2018-07-22 12:29:12 TABLE AVG_TURN_ND is deleted from E:\\02_work\\sw\\db\\indicator\\2010.db.\u001b[0m\n",
      "\u001b[32m[INFO] 2018-07-22 12:29:12 E:\\02_work\\sw\\db\\indicator\\2010.db is disconnected.\u001b[0m\n",
      "\u001b[32m[INFO] 2018-07-22 12:29:12 E:\\02_work\\sw\\db\\indicator\\2011.db is connected.\u001b[0m\n",
      "DROP TABLE [AVG_TURN_ND];\n",
      "\u001b[31m[WARN] 2018-07-22 12:29:14 TABLE AVG_TURN_ND is deleted from E:\\02_work\\sw\\db\\indicator\\2011.db.\u001b[0m\n",
      "\u001b[32m[INFO] 2018-07-22 12:29:14 E:\\02_work\\sw\\db\\indicator\\2011.db is disconnected.\u001b[0m\n",
      "\u001b[32m[INFO] 2018-07-22 12:29:14 E:\\02_work\\sw\\db\\indicator\\2012.db is connected.\u001b[0m\n",
      "DROP TABLE [AVG_TURN_ND];\n",
      "\u001b[31m[WARN] 2018-07-22 12:29:16 TABLE AVG_TURN_ND is deleted from E:\\02_work\\sw\\db\\indicator\\2012.db.\u001b[0m\n",
      "\u001b[32m[INFO] 2018-07-22 12:29:16 E:\\02_work\\sw\\db\\indicator\\2012.db is disconnected.\u001b[0m\n",
      "\u001b[32m[INFO] 2018-07-22 12:29:16 E:\\02_work\\sw\\db\\indicator\\2013.db is connected.\u001b[0m\n",
      "DROP TABLE [AVG_TURN_ND];\n",
      "\u001b[31m[WARN] 2018-07-22 12:29:18 TABLE AVG_TURN_ND is deleted from E:\\02_work\\sw\\db\\indicator\\2013.db.\u001b[0m\n",
      "\u001b[32m[INFO] 2018-07-22 12:29:18 E:\\02_work\\sw\\db\\indicator\\2013.db is disconnected.\u001b[0m\n",
      "\u001b[32m[INFO] 2018-07-22 12:29:18 E:\\02_work\\sw\\db\\indicator\\2014.db is connected.\u001b[0m\n",
      "DROP TABLE [AVG_TURN_ND];\n",
      "\u001b[31m[WARN] 2018-07-22 12:29:20 TABLE AVG_TURN_ND is deleted from E:\\02_work\\sw\\db\\indicator\\2014.db.\u001b[0m\n",
      "\u001b[32m[INFO] 2018-07-22 12:29:20 E:\\02_work\\sw\\db\\indicator\\2014.db is disconnected.\u001b[0m\n",
      "\u001b[32m[INFO] 2018-07-22 12:29:20 E:\\02_work\\sw\\db\\indicator\\2015.db is connected.\u001b[0m\n",
      "DROP TABLE [AVG_TURN_ND];\n",
      "\u001b[31m[WARN] 2018-07-22 12:29:22 TABLE AVG_TURN_ND is deleted from E:\\02_work\\sw\\db\\indicator\\2015.db.\u001b[0m\n",
      "\u001b[32m[INFO] 2018-07-22 12:29:22 E:\\02_work\\sw\\db\\indicator\\2015.db is disconnected.\u001b[0m\n",
      "\u001b[32m[INFO] 2018-07-22 12:29:22 E:\\02_work\\sw\\db\\indicator\\2016.db is connected.\u001b[0m\n",
      "DROP TABLE [AVG_TURN_ND];\n",
      "\u001b[31m[WARN] 2018-07-22 12:29:24 TABLE AVG_TURN_ND is deleted from E:\\02_work\\sw\\db\\indicator\\2016.db.\u001b[0m\n",
      "\u001b[32m[INFO] 2018-07-22 12:29:24 E:\\02_work\\sw\\db\\indicator\\2016.db is disconnected.\u001b[0m\n",
      "\u001b[32m[INFO] 2018-07-22 12:29:24 E:\\02_work\\sw\\db\\indicator\\2017.db is connected.\u001b[0m\n",
      "DROP TABLE [AVG_TURN_ND];\n",
      "\u001b[31m[WARN] 2018-07-22 12:29:26 TABLE AVG_TURN_ND is deleted from E:\\02_work\\sw\\db\\indicator\\2017.db.\u001b[0m\n",
      "\u001b[32m[INFO] 2018-07-22 12:29:26 E:\\02_work\\sw\\db\\indicator\\2017.db is disconnected.\u001b[0m\n",
      "\u001b[32m[INFO] 2018-07-22 12:29:26 E:\\02_work\\sw\\db\\indicator\\2018.db is connected.\u001b[0m\n",
      "DROP TABLE [AVG_TURN_ND];\n",
      "\u001b[31m[WARN] 2018-07-22 12:29:27 TABLE AVG_TURN_ND is deleted from E:\\02_work\\sw\\db\\indicator\\2018.db.\u001b[0m\n"
     ]
    }
   ],
   "source": [
    "inds = [\"AVG_TURN_ND\"]\n",
    "for year in dk.listdir_advanced(r\"E:\\02_work\\sw\\db\\indicator\", suffix=\"db\", strip=True):\n",
    "    conn.connect(db_file=r\"E:\\02_work\\sw\\db\\indicator\\{}.db\".format(year))\n",
    "    for ind in inds:\n",
    "        if ind in conn.list_tables:\n",
    "            conn.delete_table(ind)"
   ]
  },
  {
   "cell_type": "markdown",
   "metadata": {},
   "source": [
    "# 整理schema到csv文件"
   ]
  },
  {
   "cell_type": "code",
   "execution_count": 2,
   "metadata": {
    "collapsed": true
   },
   "outputs": [],
   "source": [
    "schema = dk.json2dict(r\"E:\\02_work\\sw\\db\\indicator\\schema\")\n",
    "a = pd.DataFrame(schema).T\n",
    "col_names = ['aspect', 'type', 'explanation', 'begin date', 'end date',  'last update', 'col_names', 'field', 'kwargs']\n",
    "b = a.reindex(columns=col_names).reset_index().rename(columns={'index': 'indicator'}).sort_values(['type','aspect'])\n",
    "b.to_csv(r\"E:\\02_work\\sw\\db\\indicator\\schema.csv\", index=False)"
   ]
  },
  {
   "cell_type": "code",
   "execution_count": 3,
   "metadata": {
    "collapsed": true
   },
   "outputs": [],
   "source": []
  },
  {
   "cell_type": "code",
   "execution_count": 5,
   "metadata": {
    "collapsed": true
   },
   "outputs": [],
   "source": []
  },
  {
   "cell_type": "code",
   "execution_count": 6,
   "metadata": {
    "collapsed": true
   },
   "outputs": [],
   "source": []
  },
  {
   "cell_type": "code",
   "execution_count": 7,
   "metadata": {
    "collapsed": true
   },
   "outputs": [],
   "source": []
  },
  {
   "cell_type": "code",
   "execution_count": null,
   "metadata": {
    "collapsed": true
   },
   "outputs": [],
   "source": []
  }
 ],
 "metadata": {
  "kernelspec": {
   "display_name": "Python 3",
   "language": "python",
   "name": "python3"
  },
  "language_info": {
   "codemirror_mode": {
    "name": "ipython",
    "version": 3
   },
   "file_extension": ".py",
   "mimetype": "text/x-python",
   "name": "python",
   "nbconvert_exporter": "python",
   "pygments_lexer": "ipython3",
   "version": "3.6.3"
  },
  "toc": {
   "nav_menu": {},
   "number_sections": true,
   "sideBar": true,
   "skip_h1_title": false,
   "title_cell": "Table of Contents",
   "title_sidebar": "Contents",
   "toc_cell": false,
   "toc_position": {},
   "toc_section_display": true,
   "toc_window_display": false
  }
 },
 "nbformat": 4,
 "nbformat_minor": 2
}
